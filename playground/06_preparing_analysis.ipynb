{
 "cells": [
  {
   "attachments": {},
   "cell_type": "markdown",
   "metadata": {},
   "source": [
    "# 06_preparing_tweet_analysis\n",
    "In order for us to be able to properly conduct our tweet-level analysis, we have to do some preparation. This includes: \n",
    "- re-ordering tweet jsons where the 'youngest' tweets are first and 'oldest' tweets are last\n",
    "\n",
    "NL, 22/12/22"
   ]
  },
  {
   "attachments": {},
   "cell_type": "markdown",
   "metadata": {},
   "source": [
    "## IMPORTS"
   ]
  },
  {
   "cell_type": "code",
   "execution_count": 26,
   "metadata": {},
   "outputs": [],
   "source": [
    "import os"
   ]
  },
  {
   "attachments": {},
   "cell_type": "markdown",
   "metadata": {},
   "source": [
    "## PATHS & CONSTANTS"
   ]
  },
  {
   "cell_type": "code",
   "execution_count": 27,
   "metadata": {},
   "outputs": [],
   "source": [
    "TWEETS_PATH = '/home/nikloynes/projects/world_cup_misinfo_tracking/data/tweets/'\n",
    "AFFECTED_DATES = ['2022_12_04', '2022_12_18']\n",
    "\n",
    "OUT_PATH = '/home/nikloynes/projects/world_cup_misinfo_tracking/data/tweets_clean/'"
   ]
  },
  {
   "attachments": {},
   "cell_type": "markdown",
   "metadata": {},
   "source": [
    "## THE THING!"
   ]
  },
  {
   "cell_type": "code",
   "execution_count": 28,
   "metadata": {},
   "outputs": [],
   "source": [
    "target_files = os.listdir(TWEETS_PATH)"
   ]
  },
  {
   "cell_type": "code",
   "execution_count": 29,
   "metadata": {},
   "outputs": [],
   "source": [
    "for file in target_files:\n",
    "    # full path\n",
    "    old = TWEETS_PATH+file\n",
    "    new = OUT_PATH+file\n",
    "\n",
    "    if any(i in file for i in AFFECTED_DATES):        \n",
    "        # cmd for re-ordering the text file\n",
    "        cmd = f'tac {old} > {new}'\n",
    "\n",
    "        # run sys cmd\n",
    "        res = os.system(cmd)\n",
    "        if res!=0:\n",
    "            raise ValueError(f'the `tac` call in the shell was not successful. output: {res}')\n",
    "\n",
    "    else:\n",
    "        # sys cd for copying\n",
    "        cmd = f'cp {old} {new}'\n",
    "        res = os.system(cmd)\n",
    "        if res !=0:\n",
    "            raise ValueError(f'the `cp` cal in the shell was not successful. output: {res}')"
   ]
  }
 ],
 "metadata": {
  "kernelspec": {
   "display_name": ".venv",
   "language": "python",
   "name": "python3"
  },
  "language_info": {
   "codemirror_mode": {
    "name": "ipython",
    "version": 3
   },
   "file_extension": ".py",
   "mimetype": "text/x-python",
   "name": "python",
   "nbconvert_exporter": "python",
   "pygments_lexer": "ipython3",
   "version": "3.10.6"
  },
  "orig_nbformat": 4,
  "vscode": {
   "interpreter": {
    "hash": "c9d1feaa8e9cddc59f1ae355950f3806cb42c4260f42587cbc52f3c11be4e1e3"
   }
  }
 },
 "nbformat": 4,
 "nbformat_minor": 2
}
