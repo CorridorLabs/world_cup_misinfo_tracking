{
 "cells": [
  {
   "cell_type": "markdown",
   "metadata": {},
   "source": [
    "# 01_developing_tweepy_strategy\n",
    "In order to stream in relevant tweets for the world cup, we need to figure out how we can: \n",
    "- enable streaming using V2 with tweepy\n",
    "- figure out how we can get the correct fields we need from tweepy\n",
    "- figure out how we can efficiently write this out. one option to investigate could be: mongoDB. but, we will focus on writing this out to json rather than mongodb. \n",
    "\n",
    "NL, 23/11/22"
   ]
  },
  {
   "cell_type": "code",
   "execution_count": null,
   "metadata": {},
   "outputs": [],
   "source": []
  },
  {
   "cell_type": "code",
   "execution_count": null,
   "metadata": {},
   "outputs": [],
   "source": []
  },
  {
   "cell_type": "markdown",
   "metadata": {},
   "source": [
    "below is some code which streams tweets and automatically writes them to a mongodb. this is something we might want to pursue. "
   ]
  },
  {
   "cell_type": "markdown",
   "metadata": {},
   "source": []
  },
  {
   "cell_type": "code",
   "execution_count": null,
   "metadata": {},
   "outputs": [],
   "source": [
    "# ===============================================\n",
    "# twitter-to-mongo.py v1.0 Created by Nacho Gaona\n",
    "# ===============================================\n",
    "import pymongo\n",
    "import json\n",
    "from tweepy.streaming import Stream\n",
    "from tweepy import OAuthHandler\n",
    "import datetime\n",
    "import tweepy\n",
    "\n",
    "\n",
    "# The MongoDB connection info. This assumes your database name is TwitterStream, and your collection name is tweets.\n",
    "connection =  pymongo.MongoClient('localhost', 27017)\n",
    "db = connection.TwitterStream  #youshould have a DB created with name TwitterStream\n",
    "\n",
    "\n",
    "collection = db.tweets      #youshould have a collection created with name tweets\n",
    "\n",
    "\n",
    "# Optional - Only grab tweets of specific language\n",
    "language = ['en']\n",
    "\n",
    "# You need to replace these with your own values that you get after creating an app on Twitter's developer portal.\n",
    "consumer_key = \"XX\"\n",
    "consumer_secret = \"XX\"\n",
    "access_token = \"XX-XX\"\n",
    "access_token_secret = \"XX\"\n",
    "\n",
    "\n",
    "\n",
    "# The below code will get Tweets from the stream and store only the important fields to your database\n",
    "class MyStreamListener(Stream):\n",
    "\n",
    "    def on_data(self, data):\n",
    "\n",
    "        # Load the Tweet into the variable \"t\"\n",
    "        t = json.loads(data)\n",
    "\n",
    "        # Pull important data from the tweet to store in the database.\n",
    "        tweet_id = t['id_str']  # The Tweet ID from Twitter in string format\n",
    "        username = t['user']['screen_name']  # The username of the Tweet author\n",
    "        followers = t['user']['followers_count']  # The number of followers the Tweet author has\n",
    "        text = t['text']  # The entire body of the Tweet\n",
    "        hashtags = t['entities']['hashtags']  # Any hashtags used in the Tweet\n",
    "        dt = t['created_at']  # The timestamp of when the Tweet was created\n",
    "        language = t['lang']  # The language of the Tweet\n",
    "\n",
    "        # Convert the timestamp string given by Twitter to a date object called \"created\". This is more easily manipulated in MongoDB.\n",
    "        created = datetime.datetime.strptime(dt, '%a %b %d %H:%M:%S +0000 %Y')\n",
    "\n",
    "        # Load all of the extracted Tweet data into the variable \"tweet\" that will be stored into the database\n",
    "        tweet = {'id':tweet_id, 'username':username, 'followers':followers, 'text':text, 'hashtags':hashtags, 'language':language, 'created':created}\n",
    "\n",
    "        # Save the refined Tweet data to MongoDB\n",
    "        collection.insert_one(tweet)\n",
    "\n",
    "        # Optional - Print the username and text of each Tweet to your console in realtime as they are pulled from the stream\n",
    "        print(username + ':' + ' ' + text)\n",
    "        return True\n",
    "\n",
    "    # Prints the reason for an error to your console\n",
    "    def on_error(self, status):\n",
    "        print (status)\n",
    "\n",
    "# Some Tweepy code that can be left alone. It pulls from variables at the top of the script\n",
    "if __name__ == '__main__':\n",
    "\n",
    "\n",
    "  \n",
    "    myStreamListener_new = MyStreamListener(consumer_key,consumer_secret,access_token,access_token_secret)\n",
    "    myStreamListener_new.filter(track=['Pique'])\n",
    "\n",
    "\n",
    "\n",
    "    ###########################\n",
    "    #in case you want check updates from twitter timeline\n",
    "    #auth = tweepy.OAuthHandler(consumer_key, consumer_secret)\n",
    "    #auth.set_access_token(access_token, access_token_secret)\n",
    "\n",
    "    #api = tweepy.API(auth)\n",
    "    #public_tweets = api.home_timeline()\n",
    "    #for tweete in public_tweets:  #this is another example to check the timeline from twits\n",
    "    #    print (tweete.text)"
   ]
  }
 ],
 "metadata": {
  "kernelspec": {
   "display_name": "Python 3.10.6 ('.venv': venv)",
   "language": "python",
   "name": "python3"
  },
  "language_info": {
   "name": "python",
   "version": "3.10.6"
  },
  "orig_nbformat": 4,
  "vscode": {
   "interpreter": {
    "hash": "c9d1feaa8e9cddc59f1ae355950f3806cb42c4260f42587cbc52f3c11be4e1e3"
   }
  }
 },
 "nbformat": 4,
 "nbformat_minor": 2
}
