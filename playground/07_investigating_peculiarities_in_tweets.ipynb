{
 "cells": [
  {
   "attachments": {},
   "cell_type": "markdown",
   "metadata": {},
   "source": [
    "# 07_investigating_peculiarities_in_tweets\n",
    "Following the analysis conducted on the overall set of tweets collected in the context of this project (see `../analysis/02_tweet_analysis.ipynb`), JT has identified a bunch of tweets/peculiarities in tweets which deserve more attention. \n",
    "\n",
    "We will have a look at this stuff in a bit more depth here. \n",
    "\n",
    "NL, 04/01/23"
   ]
  },
  {
   "attachments": {},
   "cell_type": "markdown",
   "metadata": {},
   "source": [
    "## IMPORTS"
   ]
  },
  {
   "cell_type": "code",
   "execution_count": 1,
   "metadata": {},
   "outputs": [],
   "source": [
    "from dotenv import load_dotenv\n",
    "import tweepy\n",
    "import pandas as pd\n",
    "from time import sleep"
   ]
  },
  {
   "attachments": {},
   "cell_type": "markdown",
   "metadata": {},
   "source": [
    "## PATHS & CONSTANTS"
   ]
  },
  {
   "cell_type": "code",
   "execution_count": 2,
   "metadata": {},
   "outputs": [],
   "source": [
    "TWEETS_PATH = '/home/nikloynes/projects/world_cup_misinfo_tracking/data/tweets_clean/'\n",
    "EXPORT_PATH = '/home/nikloynes/projects/world_cup_misinfo_tracking/data/exports/'"
   ]
  },
  {
   "cell_type": "code",
   "execution_count": 3,
   "metadata": {},
   "outputs": [],
   "source": [
    "USER_FIELDS = ['id', 'name', 'username', 'created_at', 'description', 'location', 'public_metrics']"
   ]
  },
  {
   "attachments": {},
   "cell_type": "markdown",
   "metadata": {},
   "source": [
    "## INIT"
   ]
  },
  {
   "cell_type": "code",
   "execution_count": 4,
   "metadata": {},
   "outputs": [],
   "source": [
    "pd.set_option('display.max_rows', 100)\n",
    "pd.set_option('display.max_columns', 50)"
   ]
  },
  {
   "cell_type": "code",
   "execution_count": 5,
   "metadata": {},
   "outputs": [
    {
     "data": {
      "text/plain": [
       "True"
      ]
     },
     "execution_count": 5,
     "metadata": {},
     "output_type": "execute_result"
    }
   ],
   "source": [
    "load_dotenv()"
   ]
  },
  {
   "cell_type": "code",
   "execution_count": 6,
   "metadata": {},
   "outputs": [],
   "source": [
    "BEARER_TOKEN = os.getenv('TWITTER_BEARER_TOKEN')"
   ]
  },
  {
   "cell_type": "code",
   "execution_count": 7,
   "metadata": {},
   "outputs": [],
   "source": [
    "client = tweepy.Client(bearer_token=BEARER_TOKEN)"
   ]
  },
  {
   "attachments": {},
   "cell_type": "markdown",
   "metadata": {},
   "source": [
    "## THE THING!"
   ]
  },
  {
   "attachments": {},
   "cell_type": "markdown",
   "metadata": {},
   "source": [
    "### 1. Tweet with id `1604520962959020032`\n",
    "\n",
    "Text: `anya taylor-joy and timothee chalamet when they get cast in a movie together after this world cup`  \n",
    "Also: a vid containing a meme-y clip of ben stiller and the blonde guy.\n",
    "\n",
    "We are surprised at the impact of this tweet, given the *modest* follower/following numbers of its author (412 following / 787 followers). In order to go a bit deeper with this, let's do the following:\n",
    "\n",
    "- get the users' followers\n",
    "- get all the interactions to this tweet, and see how many of the interactees are actually followers. \n",
    "- likelihood is that someone RTd their tweet and this led to big interactions. but, we will find out.   "
   ]
  },
  {
   "cell_type": "code",
   "execution_count": 9,
   "metadata": {},
   "outputs": [],
   "source": [
    "target_user_id = '1269288366954237952'\n",
    "target_tweet_id = '1604520962959020032'"
   ]
  },
  {
   "attachments": {},
   "cell_type": "markdown",
   "metadata": {},
   "source": [
    "1. get followers"
   ]
  },
  {
   "cell_type": "code",
   "execution_count": 17,
   "metadata": {},
   "outputs": [],
   "source": [
    "followers = []\n",
    "\n",
    "for response in tweepy.Paginator(client.get_users_followers, \n",
    "                                 id=target_user_id,\n",
    "                                 user_fields=USER_FIELDS,\n",
    "                                 max_results=1000, \n",
    "                                 limit=10):\n",
    "    for item in response[0]:\n",
    "        followers.append(item.data)"
   ]
  },
  {
   "cell_type": "code",
   "execution_count": 18,
   "metadata": {},
   "outputs": [
    {
     "name": "stdout",
     "output_type": "stream",
     "text": [
      "We have retrieved info for 790 followers\n"
     ]
    }
   ],
   "source": [
    "print(f'We have retrieved info for {len(followers)} followers')"
   ]
  },
  {
   "attachments": {},
   "cell_type": "markdown",
   "metadata": {},
   "source": [
    "let's have a look at followers by 'clout'"
   ]
  },
  {
   "cell_type": "code",
   "execution_count": 19,
   "metadata": {},
   "outputs": [],
   "source": [
    "followers_df = pd.DataFrame(followers)\n",
    "followers_df = pd.concat([followers_df.drop(['public_metrics'], axis=1), followers_df['public_metrics'].apply(pd.Series)], axis=1)"
   ]
  },
  {
   "cell_type": "code",
   "execution_count": 20,
   "metadata": {},
   "outputs": [
    {
     "data": {
      "text/html": [
       "<div>\n",
       "<style scoped>\n",
       "    .dataframe tbody tr th:only-of-type {\n",
       "        vertical-align: middle;\n",
       "    }\n",
       "\n",
       "    .dataframe tbody tr th {\n",
       "        vertical-align: top;\n",
       "    }\n",
       "\n",
       "    .dataframe thead th {\n",
       "        text-align: right;\n",
       "    }\n",
       "</style>\n",
       "<table border=\"1\" class=\"dataframe\">\n",
       "  <thead>\n",
       "    <tr style=\"text-align: right;\">\n",
       "      <th></th>\n",
       "      <th>description</th>\n",
       "      <th>created_at</th>\n",
       "      <th>username</th>\n",
       "      <th>id</th>\n",
       "      <th>location</th>\n",
       "      <th>name</th>\n",
       "      <th>followers_count</th>\n",
       "      <th>following_count</th>\n",
       "      <th>tweet_count</th>\n",
       "      <th>listed_count</th>\n",
       "    </tr>\n",
       "  </thead>\n",
       "  <tbody>\n",
       "    <tr>\n",
       "      <th>442</th>\n",
       "      <td>friendly Black hottie ✰ films ✰ he/him ✰ swift...</td>\n",
       "      <td>2010-04-17T16:58:27.000Z</td>\n",
       "      <td>nothnghppens</td>\n",
       "      <td>134171362</td>\n",
       "      <td>New York</td>\n",
       "      <td>alex 💭 ⁷</td>\n",
       "      <td>45112</td>\n",
       "      <td>8054</td>\n",
       "      <td>362465</td>\n",
       "      <td>728</td>\n",
       "    </tr>\n",
       "    <tr>\n",
       "      <th>477</th>\n",
       "      <td>fan account | studying</td>\n",
       "      <td>2016-10-02T18:13:37.000Z</td>\n",
       "      <td>civiIswar</td>\n",
       "      <td>782644724322578432</td>\n",
       "      <td>NaN</td>\n",
       "      <td>zach</td>\n",
       "      <td>33831</td>\n",
       "      <td>1984</td>\n",
       "      <td>30717</td>\n",
       "      <td>233</td>\n",
       "    </tr>\n",
       "    <tr>\n",
       "      <th>226</th>\n",
       "      <td>@flolikethis &amp; @sza stan | ratioed by many, ha...</td>\n",
       "      <td>2022-07-08T18:07:13.000Z</td>\n",
       "      <td>SUMMERTlMEFLO</td>\n",
       "      <td>1545468746411950080</td>\n",
       "      <td>fan account\\n\\n4/4 flo follow\\n\\nhe/him</td>\n",
       "      <td>ben. | fan account</td>\n",
       "      <td>19299</td>\n",
       "      <td>7930</td>\n",
       "      <td>16621</td>\n",
       "      <td>0</td>\n",
       "    </tr>\n",
       "    <tr>\n",
       "      <th>365</th>\n",
       "      <td>andrew garfield 🫶</td>\n",
       "      <td>2013-08-27T19:57:31.000Z</td>\n",
       "      <td>dickgrayscn</td>\n",
       "      <td>1705463874</td>\n",
       "      <td>she/her</td>\n",
       "      <td>han</td>\n",
       "      <td>18143</td>\n",
       "      <td>300</td>\n",
       "      <td>21976</td>\n",
       "      <td>82</td>\n",
       "    </tr>\n",
       "    <tr>\n",
       "      <th>298</th>\n",
       "      <td>that one girl who doesn’t play about imogen te...</td>\n",
       "      <td>2013-09-16T16:18:07.000Z</td>\n",
       "      <td>temuIts</td>\n",
       "      <td>1872174966</td>\n",
       "      <td>she/her lesbian 23</td>\n",
       "      <td>boob ross</td>\n",
       "      <td>17877</td>\n",
       "      <td>1330</td>\n",
       "      <td>72658</td>\n",
       "      <td>76</td>\n",
       "    </tr>\n",
       "    <tr>\n",
       "      <th>619</th>\n",
       "      <td>🏳️‍🌈 🫧❤️‍🔥🫀🩸tv &amp; film, horror enthusiast / kir...</td>\n",
       "      <td>2014-11-22T13:47:01.000Z</td>\n",
       "      <td>mcumagik</td>\n",
       "      <td>2887836579</td>\n",
       "      <td>he/him</td>\n",
       "      <td>joe ❄️</td>\n",
       "      <td>12062</td>\n",
       "      <td>6279</td>\n",
       "      <td>208869</td>\n",
       "      <td>64</td>\n",
       "    </tr>\n",
       "    <tr>\n",
       "      <th>630</th>\n",
       "      <td>fan account. @poisonivynews</td>\n",
       "      <td>2016-07-19T18:33:18.000Z</td>\n",
       "      <td>dcsivy</td>\n",
       "      <td>755470587334684672</td>\n",
       "      <td>she/her • 24</td>\n",
       "      <td>rose</td>\n",
       "      <td>11696</td>\n",
       "      <td>1368</td>\n",
       "      <td>3107</td>\n",
       "      <td>57</td>\n",
       "    </tr>\n",
       "    <tr>\n",
       "      <th>2</th>\n",
       "      <td>hot chocolate and nijiro murakami 🫶</td>\n",
       "      <td>2011-03-24T19:29:38.000Z</td>\n",
       "      <td>deppchapel</td>\n",
       "      <td>271565543</td>\n",
       "      <td>25 / she/her / sisterwives</td>\n",
       "      <td>laura 🏹</td>\n",
       "      <td>10623</td>\n",
       "      <td>5991</td>\n",
       "      <td>41743</td>\n",
       "      <td>65</td>\n",
       "    </tr>\n",
       "    <tr>\n",
       "      <th>358</th>\n",
       "      <td>riri williams over morals.</td>\n",
       "      <td>2022-03-04T05:51:54.000Z</td>\n",
       "      <td>GEMINISVERSE</td>\n",
       "      <td>1499623614877999109</td>\n",
       "      <td>hispanic she/them</td>\n",
       "      <td>TARARIRI HOMECOMING THIS YEAR.</td>\n",
       "      <td>10560</td>\n",
       "      <td>1917</td>\n",
       "      <td>7208</td>\n",
       "      <td>17</td>\n",
       "    </tr>\n",
       "    <tr>\n",
       "      <th>636</th>\n",
       "      <td>unfortunately in love with annoying old men | ...</td>\n",
       "      <td>2013-02-01T22:24:17.000Z</td>\n",
       "      <td>poeskys</td>\n",
       "      <td>1140870296</td>\n",
       "      <td>br ☾ she/her</td>\n",
       "      <td>bea bond</td>\n",
       "      <td>10244</td>\n",
       "      <td>9201</td>\n",
       "      <td>56813</td>\n",
       "      <td>43</td>\n",
       "    </tr>\n",
       "    <tr>\n",
       "      <th>550</th>\n",
       "      <td>ghasra w tet3ada (law student side effects)</td>\n",
       "      <td>2019-06-02T16:02:06.000Z</td>\n",
       "      <td>nrjght</td>\n",
       "      <td>1135215017824010241</td>\n",
       "      <td>Carthage, TN</td>\n",
       "      <td>I HATE LAW SCHOOL</td>\n",
       "      <td>7951</td>\n",
       "      <td>1535</td>\n",
       "      <td>16428</td>\n",
       "      <td>5</td>\n",
       "    </tr>\n",
       "    <tr>\n",
       "      <th>601</th>\n",
       "      <td>rhaenicent &amp; mbappe state-affiliated media</td>\n",
       "      <td>2021-09-01T18:36:34.000Z</td>\n",
       "      <td>suricidal</td>\n",
       "      <td>1433136669117517830</td>\n",
       "      <td>south asian • 19 • ☭</td>\n",
       "      <td>suri</td>\n",
       "      <td>7345</td>\n",
       "      <td>1779</td>\n",
       "      <td>47057</td>\n",
       "      <td>47</td>\n",
       "    </tr>\n",
       "    <tr>\n",
       "      <th>598</th>\n",
       "      <td>— superheroes, star wars, and start-ups</td>\n",
       "      <td>2013-04-14T10:40:50.000Z</td>\n",
       "      <td>SERKARISM</td>\n",
       "      <td>1351581169</td>\n",
       "      <td>she/they • 22 • bisexual</td>\n",
       "      <td>day</td>\n",
       "      <td>7247</td>\n",
       "      <td>7268</td>\n",
       "      <td>110156</td>\n",
       "      <td>67</td>\n",
       "    </tr>\n",
       "    <tr>\n",
       "      <th>454</th>\n",
       "      <td>comics || art || shitposts || just stuff I like</td>\n",
       "      <td>2016-08-19T09:22:55.000Z</td>\n",
       "      <td>LENNIEC0N</td>\n",
       "      <td>766566101475954692</td>\n",
       "      <td>they/any || 20</td>\n",
       "      <td>Len ☾ ⏳</td>\n",
       "      <td>6965</td>\n",
       "      <td>850</td>\n",
       "      <td>8460</td>\n",
       "      <td>29</td>\n",
       "    </tr>\n",
       "    <tr>\n",
       "      <th>682</th>\n",
       "      <td>ia 👍</td>\n",
       "      <td>2019-01-01T01:42:05.000Z</td>\n",
       "      <td>sunuskyu</td>\n",
       "      <td>1079915633473671175</td>\n",
       "      <td>She Her</td>\n",
       "      <td>🖇</td>\n",
       "      <td>6902</td>\n",
       "      <td>5790</td>\n",
       "      <td>46707</td>\n",
       "      <td>67</td>\n",
       "    </tr>\n",
       "    <tr>\n",
       "      <th>599</th>\n",
       "      <td>lewis hamilton’s pr manager</td>\n",
       "      <td>2019-09-16T16:15:46.000Z</td>\n",
       "      <td>kyIiqns</td>\n",
       "      <td>1173631319605227523</td>\n",
       "      <td>she/her 16 african seasian</td>\n",
       "      <td>han</td>\n",
       "      <td>6718</td>\n",
       "      <td>5598</td>\n",
       "      <td>54994</td>\n",
       "      <td>84</td>\n",
       "    </tr>\n",
       "    <tr>\n",
       "      <th>537</th>\n",
       "      <td>crying won today. https://t.co/8uATJbjBLF</td>\n",
       "      <td>2020-10-30T09:24:38.000Z</td>\n",
       "      <td>cinedruig</td>\n",
       "      <td>1322107095907401728</td>\n",
       "      <td>she/her • 18 • asian</td>\n",
       "      <td>tabitha</td>\n",
       "      <td>6526</td>\n",
       "      <td>1224</td>\n",
       "      <td>34868</td>\n",
       "      <td>56</td>\n",
       "    </tr>\n",
       "    <tr>\n",
       "      <th>301</th>\n",
       "      <td>jake gyllenhaal oscar loser</td>\n",
       "      <td>2021-05-14T14:38:48.000Z</td>\n",
       "      <td>RPATZLEDGER</td>\n",
       "      <td>1393214181650862084</td>\n",
       "      <td>she / her ➳ 19</td>\n",
       "      <td>liv ♌︎</td>\n",
       "      <td>6458</td>\n",
       "      <td>2338</td>\n",
       "      <td>5960</td>\n",
       "      <td>37</td>\n",
       "    </tr>\n",
       "    <tr>\n",
       "      <th>654</th>\n",
       "      <td>#ERIC: have you okay okay okay 우린 멀리 왔어 high n...</td>\n",
       "      <td>2014-03-17T01:30:54.000Z</td>\n",
       "      <td>jumilsric</td>\n",
       "      <td>2416520265</td>\n",
       "      <td>20 they/them rcbyf</td>\n",
       "      <td>.</td>\n",
       "      <td>5891</td>\n",
       "      <td>1717</td>\n",
       "      <td>85044</td>\n",
       "      <td>80</td>\n",
       "    </tr>\n",
       "    <tr>\n",
       "      <th>408</th>\n",
       "      <td>all live live 🤍</td>\n",
       "      <td>2022-04-12T12:58:44.000Z</td>\n",
       "      <td>bvcxz3218</td>\n",
       "      <td>1513864115458031622</td>\n",
       "      <td>🇵🇸🌙</td>\n",
       "      <td>lia🇵🇷</td>\n",
       "      <td>5748</td>\n",
       "      <td>6324</td>\n",
       "      <td>317</td>\n",
       "      <td>3</td>\n",
       "    </tr>\n",
       "    <tr>\n",
       "      <th>508</th>\n",
       "      <td>Frank Castle &amp; Maya Lopez's Defense Attorney</td>\n",
       "      <td>2021-08-30T12:18:31.000Z</td>\n",
       "      <td>ZeroYear97</td>\n",
       "      <td>1432316684694695936</td>\n",
       "      <td>NaN</td>\n",
       "      <td>Matt Murdock</td>\n",
       "      <td>5597</td>\n",
       "      <td>3290</td>\n",
       "      <td>31967</td>\n",
       "      <td>22</td>\n",
       "    </tr>\n",
       "    <tr>\n",
       "      <th>729</th>\n",
       "      <td>archived</td>\n",
       "      <td>2018-04-27T18:24:11.000Z</td>\n",
       "      <td>dreamcores</td>\n",
       "      <td>989933240633847808</td>\n",
       "      <td>repost 🚫 filtered notifs</td>\n",
       "      <td>moved to @babyoid</td>\n",
       "      <td>5585</td>\n",
       "      <td>316</td>\n",
       "      <td>40904</td>\n",
       "      <td>65</td>\n",
       "    </tr>\n",
       "    <tr>\n",
       "      <th>33</th>\n",
       "      <td>Palestinian Gaza-based activist. learnt Englis...</td>\n",
       "      <td>2019-09-17T06:55:04.000Z</td>\n",
       "      <td>MAboAhmed95</td>\n",
       "      <td>1173852792299110400</td>\n",
       "      <td>Palestine</td>\n",
       "      <td>M.D Abo Ahmed</td>\n",
       "      <td>5256</td>\n",
       "      <td>5246</td>\n",
       "      <td>173</td>\n",
       "      <td>7</td>\n",
       "    </tr>\n",
       "    <tr>\n",
       "      <th>558</th>\n",
       "      <td>films ☥ comics</td>\n",
       "      <td>2014-11-10T01:41:45.000Z</td>\n",
       "      <td>cinecomical</td>\n",
       "      <td>2869924283</td>\n",
       "      <td>🇬🇭 | he/they</td>\n",
       "      <td>.</td>\n",
       "      <td>5242</td>\n",
       "      <td>994</td>\n",
       "      <td>108521</td>\n",
       "      <td>35</td>\n",
       "    </tr>\n",
       "    <tr>\n",
       "      <th>400</th>\n",
       "      <td></td>\n",
       "      <td>2020-09-20T15:08:31.000Z</td>\n",
       "      <td>AESOKATANO</td>\n",
       "      <td>1307698120344518657</td>\n",
       "      <td>Any pronouns💚</td>\n",
       "      <td>æsoka</td>\n",
       "      <td>5203</td>\n",
       "      <td>1077</td>\n",
       "      <td>42295</td>\n",
       "      <td>19</td>\n",
       "    </tr>\n",
       "  </tbody>\n",
       "</table>\n",
       "</div>"
      ],
      "text/plain": [
       "                                           description  \\\n",
       "442  friendly Black hottie ✰ films ✰ he/him ✰ swift...   \n",
       "477                             fan account | studying   \n",
       "226  @flolikethis & @sza stan | ratioed by many, ha...   \n",
       "365                                  andrew garfield 🫶   \n",
       "298  that one girl who doesn’t play about imogen te...   \n",
       "619  🏳️‍🌈 🫧❤️‍🔥🫀🩸tv & film, horror enthusiast / kir...   \n",
       "630                        fan account. @poisonivynews   \n",
       "2                  hot chocolate and nijiro murakami 🫶   \n",
       "358                         riri williams over morals.   \n",
       "636  unfortunately in love with annoying old men | ...   \n",
       "550        ghasra w tet3ada (law student side effects)   \n",
       "601         rhaenicent & mbappe state-affiliated media   \n",
       "598            — superheroes, star wars, and start-ups   \n",
       "454    comics || art || shitposts || just stuff I like   \n",
       "682                                               ia 👍   \n",
       "599                        lewis hamilton’s pr manager   \n",
       "537          crying won today. https://t.co/8uATJbjBLF   \n",
       "301                        jake gyllenhaal oscar loser   \n",
       "654  #ERIC: have you okay okay okay 우린 멀리 왔어 high n...   \n",
       "408                                    all live live 🤍   \n",
       "508       Frank Castle & Maya Lopez's Defense Attorney   \n",
       "729                                           archived   \n",
       "33   Palestinian Gaza-based activist. learnt Englis...   \n",
       "558                                     films ☥ comics   \n",
       "400                                                      \n",
       "\n",
       "                   created_at       username                   id  \\\n",
       "442  2010-04-17T16:58:27.000Z   nothnghppens            134171362   \n",
       "477  2016-10-02T18:13:37.000Z      civiIswar   782644724322578432   \n",
       "226  2022-07-08T18:07:13.000Z  SUMMERTlMEFLO  1545468746411950080   \n",
       "365  2013-08-27T19:57:31.000Z    dickgrayscn           1705463874   \n",
       "298  2013-09-16T16:18:07.000Z        temuIts           1872174966   \n",
       "619  2014-11-22T13:47:01.000Z       mcumagik           2887836579   \n",
       "630  2016-07-19T18:33:18.000Z         dcsivy   755470587334684672   \n",
       "2    2011-03-24T19:29:38.000Z     deppchapel            271565543   \n",
       "358  2022-03-04T05:51:54.000Z   GEMINISVERSE  1499623614877999109   \n",
       "636  2013-02-01T22:24:17.000Z        poeskys           1140870296   \n",
       "550  2019-06-02T16:02:06.000Z         nrjght  1135215017824010241   \n",
       "601  2021-09-01T18:36:34.000Z      suricidal  1433136669117517830   \n",
       "598  2013-04-14T10:40:50.000Z      SERKARISM           1351581169   \n",
       "454  2016-08-19T09:22:55.000Z      LENNIEC0N   766566101475954692   \n",
       "682  2019-01-01T01:42:05.000Z       sunuskyu  1079915633473671175   \n",
       "599  2019-09-16T16:15:46.000Z        kyIiqns  1173631319605227523   \n",
       "537  2020-10-30T09:24:38.000Z      cinedruig  1322107095907401728   \n",
       "301  2021-05-14T14:38:48.000Z    RPATZLEDGER  1393214181650862084   \n",
       "654  2014-03-17T01:30:54.000Z      jumilsric           2416520265   \n",
       "408  2022-04-12T12:58:44.000Z      bvcxz3218  1513864115458031622   \n",
       "508  2021-08-30T12:18:31.000Z     ZeroYear97  1432316684694695936   \n",
       "729  2018-04-27T18:24:11.000Z     dreamcores   989933240633847808   \n",
       "33   2019-09-17T06:55:04.000Z    MAboAhmed95  1173852792299110400   \n",
       "558  2014-11-10T01:41:45.000Z    cinecomical           2869924283   \n",
       "400  2020-09-20T15:08:31.000Z     AESOKATANO  1307698120344518657   \n",
       "\n",
       "                                    location                            name  \\\n",
       "442                                New York                         alex 💭 ⁷   \n",
       "477                                      NaN                            zach   \n",
       "226  fan account\\n\\n4/4 flo follow\\n\\nhe/him              ben. | fan account   \n",
       "365                                  she/her                             han   \n",
       "298                       she/her lesbian 23                       boob ross   \n",
       "619                                   he/him                          joe ❄️   \n",
       "630                             she/her • 24                            rose   \n",
       "2                 25 / she/her / sisterwives                         laura 🏹   \n",
       "358                       hispanic she/them   TARARIRI HOMECOMING THIS YEAR.   \n",
       "636                             br ☾ she/her                        bea bond   \n",
       "550                             Carthage, TN               I HATE LAW SCHOOL   \n",
       "601                     south asian • 19 • ☭                            suri   \n",
       "598                 she/they • 22 • bisexual                             day   \n",
       "454                          they/any || 20                          Len ☾ ⏳   \n",
       "682                                 She Her                                🖇   \n",
       "599               she/her 16 african seasian                             han   \n",
       "537                    she/her • 18 • asian                          tabitha   \n",
       "301                           she / her ➳ 19                          liv ♌︎   \n",
       "654                       20 they/them rcbyf                               .   \n",
       "408                                      🇵🇸🌙                           lia🇵🇷   \n",
       "508                                      NaN                    Matt Murdock   \n",
       "729                 repost 🚫 filtered notifs               moved to @babyoid   \n",
       "33                                 Palestine                   M.D Abo Ahmed   \n",
       "558                             🇬🇭 | he/they                               .   \n",
       "400                            Any pronouns💚                           æsoka   \n",
       "\n",
       "     followers_count  following_count  tweet_count  listed_count  \n",
       "442            45112             8054       362465           728  \n",
       "477            33831             1984        30717           233  \n",
       "226            19299             7930        16621             0  \n",
       "365            18143              300        21976            82  \n",
       "298            17877             1330        72658            76  \n",
       "619            12062             6279       208869            64  \n",
       "630            11696             1368         3107            57  \n",
       "2              10623             5991        41743            65  \n",
       "358            10560             1917         7208            17  \n",
       "636            10244             9201        56813            43  \n",
       "550             7951             1535        16428             5  \n",
       "601             7345             1779        47057            47  \n",
       "598             7247             7268       110156            67  \n",
       "454             6965              850         8460            29  \n",
       "682             6902             5790        46707            67  \n",
       "599             6718             5598        54994            84  \n",
       "537             6526             1224        34868            56  \n",
       "301             6458             2338         5960            37  \n",
       "654             5891             1717        85044            80  \n",
       "408             5748             6324          317             3  \n",
       "508             5597             3290        31967            22  \n",
       "729             5585              316        40904            65  \n",
       "33              5256             5246          173             7  \n",
       "558             5242              994       108521            35  \n",
       "400             5203             1077        42295            19  "
      ]
     },
     "execution_count": 20,
     "metadata": {},
     "output_type": "execute_result"
    }
   ],
   "source": [
    "followers_df.sort_values('followers_count', ascending=False)[0:25]"
   ]
  },
  {
   "attachments": {},
   "cell_type": "markdown",
   "metadata": {},
   "source": [
    "Some takeaways:\n",
    "- some users with pretty decent clout. Even the 100th-most followed of our target user's followers has over 1700 followers.\n",
    "- these users strike me as being real people. seem to be fairly young/woke/alternative. "
   ]
  },
  {
   "attachments": {},
   "cell_type": "markdown",
   "metadata": {},
   "source": [
    "2. get retweeters of target tweet"
   ]
  },
  {
   "cell_type": "code",
   "execution_count": 10,
   "metadata": {},
   "outputs": [
    {
     "name": "stdout",
     "output_type": "stream",
     "text": [
      "there was a typeError for some reason... \n"
     ]
    }
   ],
   "source": [
    "retweeters = []\n",
    "\n",
    "for response in tweepy.Paginator(client.get_retweeters, \n",
    "                                 id=target_tweet_id,\n",
    "                                 user_fields=USER_FIELDS,\n",
    "                                 max_results=100, \n",
    "                                 limit=100):\n",
    "    try:\n",
    "        for item in response[0]:\n",
    "            retweeters.append(item.data)\n",
    "            sleep(0.5) # to handle rate limit error\n",
    "    except TypeError:\n",
    "        print('there was a typeError for some reason... ')\n",
    "        continue"
   ]
  },
  {
   "cell_type": "code",
   "execution_count": 13,
   "metadata": {},
   "outputs": [
    {
     "data": {
      "text/plain": [
       "5175"
      ]
     },
     "execution_count": 13,
     "metadata": {},
     "output_type": "execute_result"
    }
   ],
   "source": [
    "len(retweeters)"
   ]
  },
  {
   "attachments": {},
   "cell_type": "markdown",
   "metadata": {},
   "source": [
    "We have a total of 5175 retweeter user objects. This is significantly fewer than shown on the web frontend. The likeliest reason is that several of the retweeters of this particular tweet have their **profile set to private**, meaning that we can't pull their user info."
   ]
  },
  {
   "attachments": {},
   "cell_type": "markdown",
   "metadata": {},
   "source": [
    "One thing we're interested in now however, is how many of these retweeters actually follow our target user."
   ]
  },
  {
   "cell_type": "code",
   "execution_count": 24,
   "metadata": {},
   "outputs": [
    {
     "data": {
      "text/plain": [
       "28"
      ]
     },
     "execution_count": 24,
     "metadata": {},
     "output_type": "execute_result"
    }
   ],
   "source": [
    "len([x['id'] for x in retweeters if x['id'] in [y['id'] for y in followers]])"
   ]
  },
  {
   "attachments": {},
   "cell_type": "markdown",
   "metadata": {},
   "source": [
    "Wow! only **28** of the accounts that retweeted our target user's tweet also follow them. This is a weirdly, weirdly low ratio. "
   ]
  },
  {
   "attachments": {},
   "cell_type": "markdown",
   "metadata": {},
   "source": [
    "Obviously, there can be a myriad of reasons why non-followers may be retweeting something... but you'd expect a higher ratio of followers to retweet this tweet once it appears at the top of their feeds, given how successful it is being.\n",
    "\n",
    "The obvious conjecture would be to think of bots, or other somehow organised actors?? Something worth discussing."
   ]
  },
  {
   "attachments": {},
   "cell_type": "markdown",
   "metadata": {},
   "source": [
    "#### EXPORTS"
   ]
  },
  {
   "cell_type": "code",
   "execution_count": 14,
   "metadata": {},
   "outputs": [],
   "source": [
    "retweeters_df = pd.DataFrame(retweeters)\n",
    "retweeters_df = pd.concat([retweeters_df.drop(['public_metrics'], axis=1), retweeters_df['public_metrics'].apply(pd.Series)], axis=1)"
   ]
  },
  {
   "cell_type": "code",
   "execution_count": 25,
   "metadata": {},
   "outputs": [],
   "source": [
    "followers_df.to_csv(EXPORT_PATH+'mocnknights_followers.csv', index=False)\n",
    "retweeters_df.to_csv(EXPORT_PATH+'mocnknights_tweet_1604520962959020032_retweeters.csv', index=False)"
   ]
  },
  {
   "cell_type": "markdown",
   "metadata": {},
   "source": []
  }
 ],
 "metadata": {
  "kernelspec": {
   "display_name": ".venv",
   "language": "python",
   "name": "python3"
  },
  "language_info": {
   "codemirror_mode": {
    "name": "ipython",
    "version": 3
   },
   "file_extension": ".py",
   "mimetype": "text/x-python",
   "name": "python",
   "nbconvert_exporter": "python",
   "pygments_lexer": "ipython3",
   "version": "3.10.6"
  },
  "orig_nbformat": 4,
  "vscode": {
   "interpreter": {
    "hash": "c9d1feaa8e9cddc59f1ae355950f3806cb42c4260f42587cbc52f3c11be4e1e3"
   }
  }
 },
 "nbformat": 4,
 "nbformat_minor": 2
}
