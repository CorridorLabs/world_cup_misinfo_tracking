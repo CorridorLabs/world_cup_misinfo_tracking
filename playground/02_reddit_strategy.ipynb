{
 "cells": [
  {
   "cell_type": "markdown",
   "metadata": {},
   "source": [
    "# 02_reddit_strategy\n",
    "We now look at how we can get reddit data. This is a bit more complex, as the flow of information on reddit isn't quite as clean and one-directional as on Twitter.  \n",
    "Hence, for now, we will focus solely on subreddits, and collecting new posts to these subreddits, along with some author info, any text associated with it, and crucially, a url of a given post in that subreddit. If we then feel the need to collect comments on that post, we can do this at a later stage, when required.  \n",
    "For now, we will use the `PRAW` module, although it might also make sense to investigate `pushshift`.\n",
    "\n",
    "NL, 29/11/22"
   ]
  },
  {
   "cell_type": "markdown",
   "metadata": {},
   "source": [
    "## IMPORTS"
   ]
  },
  {
   "cell_type": "code",
   "execution_count": 198,
   "metadata": {},
   "outputs": [],
   "source": [
    "import os\n",
    "from dotenv import load_dotenv\n",
    "import praw\n",
    "from psaw import PushshiftAPI\n",
    "import datetime as dt\n",
    "from dateutil import parser as date_parser\n",
    "from prawcore.exceptions import NotFound\n",
    "import json"
   ]
  },
  {
   "cell_type": "markdown",
   "metadata": {},
   "source": [
    "## FUNCTIONS"
   ]
  },
  {
   "cell_type": "code",
   "execution_count": 190,
   "metadata": {},
   "outputs": [],
   "source": [
    "def reddit_post_to_dict(post:praw.models.reddit.submission.Submission,\n",
    "                        custom_fields:list=None,\n",
    "                        overwrite_core_fields:bool=False,\n",
    "                        convert_timestamp:bool=True) -> dict:\n",
    "    '''\n",
    "    function that converts an object of the praw.submission type\n",
    "    into a dict. this is useful primarily in order to serialise this\n",
    "    to json and write out to file.\n",
    "\n",
    "    args:\n",
    "        - post, a submission ('post') in a subreddit retrieved via praw\n",
    "        - custom_fields, a list of strings containing additional fields returned by \n",
    "          praw which are to be retained\n",
    "        - overwrite_core_fields, bool, indicates whether core (standard) fields\n",
    "          of the output dict are to be retained, or whether they should be replaced\n",
    "          entirely by 'custom_fields'\n",
    "    '''    \n",
    "    if not isinstance(post, praw.models.reddit.submission.Submission):\n",
    "        raise TypeError('post must be a praw submission object')\n",
    "\n",
    "    if overwrite_core_fields:\n",
    "        if not custom_fields:\n",
    "            raise ValueError('custom_fields is not defined')\n",
    "\n",
    "    core_fields = ['id', 'created_utc', 'title', 'selftext', 'domain', 'url', 'num_comments', 'score', 'ups', 'downs', 'author']\n",
    "    if overwrite_core_fields:\n",
    "        core_fields = custom_fields\n",
    "    elif isinstance(custom_fields, list) and len(custom_fields)>0:\n",
    "        core_fields += custom_fields\n",
    "\n",
    "    core_user_fields = ['name', 'id', 'total_karma', 'verified', 'created_utc']\n",
    "    #user_field_names_out = ['user_'+x for x in core_user_fields]\n",
    "\n",
    "    tmp_dict = vars(post)\n",
    "    out = {field:tmp_dict[field] for field in core_fields if field in tmp_dict.keys()}\n",
    "\n",
    "    if 'created_utc' in out.keys():\n",
    "        if convert_timestamp:\n",
    "            out['created_utc'] = dt.datetime.fromtimestamp(out['created_utc']).strftime('%Y/%m/%d %H:%M:%S')\n",
    "\n",
    "    if 'author' in out.keys():\n",
    "        # we will now process the author object and append to our out object\n",
    "        # tmp_dict = vars(post.author)\n",
    "        # user_dict = {'user_'+field:tmp_dict[field] for field in core_user_fields if field in tmp_dict.keys()}\n",
    "        # try:\n",
    "        #     user_name = post.author.name\n",
    "        # except AttributeError:\n",
    "        #     user_name = None\n",
    "\n",
    "        # try:\n",
    "        #     user_id = post.author.id\n",
    "        # except AttributeError:\n",
    "        #     user_id = None\n",
    "\n",
    "        # try: \n",
    "        #     user_total_karma = post.author.total_karma\n",
    "        # except AttributeError:\n",
    "        #     user_total_karma = None\n",
    "\n",
    "        # try:\n",
    "        #     user_verified = post.author.verified\n",
    "        # except AttributeError:\n",
    "        #     user_verified = None\n",
    "\n",
    "        # try:\n",
    "        #     user_created_utc = post.author.created_utc\n",
    "        # except AttributeError:\n",
    "        #     user_created_utc = None\n",
    "\n",
    "        user_dict = {'user_'+field:get_user_attribute(user=post.author, attribute=field) for field in core_user_fields}\n",
    "\n",
    "        # user_dict = {\n",
    "        #     'user_name' : user_name,\n",
    "        #     'user_id' : user_id,\n",
    "        #     'user_total_karma' : user_total_karma,\n",
    "        #     'user_verified' : user_verified,\n",
    "        #     'user_created_utc' : user_created_utc\n",
    "        # }\n",
    "        \n",
    "        del out['author']\n",
    "\n",
    "        out.update(user_dict)\n",
    "\n",
    "        if convert_timestamp:\n",
    "            if 'user_created_utc' in out.keys() and isinstance(out['user_created_utc'], float):\n",
    "                out['user_created_utc'] = dt.datetime.fromtimestamp(out['user_created_utc']).strftime('%Y/%m/%d %H:%M:%S')\n",
    "\n",
    "    return out"
   ]
  },
  {
   "cell_type": "code",
   "execution_count": 183,
   "metadata": {},
   "outputs": [],
   "source": [
    "def get_user_attribute(user:praw.models.reddit.redditor.Redditor,\n",
    "                       attribute:str):\n",
    "    '''  \n",
    "    helper function for getting user-level attributes from a praw\n",
    "    redditor object. this function avoids breaking code due to \n",
    "    missing attributes when throwing an attribute error\n",
    "    '''\n",
    "    try:\n",
    "        val = getattr(user, attribute, None)\n",
    "    except NotFound:\n",
    "        val = None\n",
    "        \n",
    "    return val"
   ]
  },
  {
   "cell_type": "code",
   "execution_count": 212,
   "metadata": {},
   "outputs": [],
   "source": [
    "def extract_newest_date_from_json(reddit_post_json:str):\n",
    "    ''' \n",
    "    when we re-start collecting reddit post data, \n",
    "    we want to make sure we don't collect any posts we've already\n",
    "    retrieved. so, we'll get the date/time of when the most recently\n",
    "    collected post was published.\n",
    "\n",
    "    args:  \n",
    "        - reddit_post_json: full filepath to the json we want to \n",
    "          extract a date from.  \n",
    "    '''\n",
    "    if not os.path.isfile(reddit_post_json):\n",
    "        raise ValueError(f'{reddit_post_json} is not a valid file. Please supply a valid reddit json file')\n",
    "\n",
    "    with open(reddit_post_json, 'r') as infile:\n",
    "        for line in infile:\n",
    "            tmp = json.loads(line)\n",
    "            break\n",
    "\n",
    "    date = date_parser.parse(tmp['created_utc'])\n",
    "\n",
    "    return date\n"
   ]
  },
  {
   "cell_type": "markdown",
   "metadata": {},
   "source": [
    "## PATHS & CONSTANTS"
   ]
  },
  {
   "cell_type": "code",
   "execution_count": 2,
   "metadata": {},
   "outputs": [],
   "source": [
    "SUBREDDITS = '../data_collection/reddit_subreddits.txt'\n",
    "ACCOUNTS = '../data_collection/reddit_accounts.txt'"
   ]
  },
  {
   "cell_type": "markdown",
   "metadata": {},
   "source": [
    "## INIT"
   ]
  },
  {
   "cell_type": "code",
   "execution_count": 3,
   "metadata": {},
   "outputs": [
    {
     "data": {
      "text/plain": [
       "True"
      ]
     },
     "execution_count": 3,
     "metadata": {},
     "output_type": "execute_result"
    }
   ],
   "source": [
    "load_dotenv()"
   ]
  },
  {
   "cell_type": "code",
   "execution_count": 4,
   "metadata": {},
   "outputs": [],
   "source": [
    "reddit = praw.Reddit(\n",
    "    client_id=os.getenv('REDDIT_ID'),\n",
    "    client_secret=os.getenv('REDDIT_SECRET'),\n",
    "    user_agent=os.getenv('REDDIT_USER_AGENT'),\n",
    "    username=os.getenv('REDDIT_USERNAME'),\n",
    "    password=os.getenv('REDDIT_PASSWORD')\n",
    ")"
   ]
  },
  {
   "cell_type": "code",
   "execution_count": 53,
   "metadata": {},
   "outputs": [],
   "source": [
    "with open(SUBREDDITS, 'r') as infile:\n",
    "    subreddits = [line.rstrip() for line in infile]"
   ]
  },
  {
   "cell_type": "code",
   "execution_count": 102,
   "metadata": {},
   "outputs": [],
   "source": [
    "filters = ['id', 'created_utc', 'title', 'selftext', 'domain', 'url', 'num_comments', 'score', 'ups', 'downs', 'author']"
   ]
  },
  {
   "cell_type": "code",
   "execution_count": 207,
   "metadata": {},
   "outputs": [],
   "source": [
    "filelist = os.listdir('../data/logfiles/twitter/', )"
   ]
  },
  {
   "cell_type": "code",
   "execution_count": 209,
   "metadata": {},
   "outputs": [],
   "source": [
    "filelist.sort(key=lambda x: os.path.getmtime('../data/logfiles/twitter/'+x))\n"
   ]
  },
  {
   "cell_type": "code",
   "execution_count": 210,
   "metadata": {},
   "outputs": [
    {
     "data": {
      "text/plain": [
       "['2022_11_26-04_00_02.log',\n",
       " '2022_11_26-05_00_01.log',\n",
       " '2022_11_26-06_00_01.log',\n",
       " '2022_11_26-07_00_01.log',\n",
       " '2022_11_26-08_00_01.log',\n",
       " '2022_11_26-09_00_01.log',\n",
       " '2022_11_26-10_00_01.log',\n",
       " '2022_11_26-11_00_01.log',\n",
       " '2022_11_26-12_00_01.log',\n",
       " '2022_11_26-13_00_01.log',\n",
       " '2022_11_26-14_00_01.log']"
      ]
     },
     "execution_count": 210,
     "metadata": {},
     "output_type": "execute_result"
    }
   ],
   "source": [
    "filelist"
   ]
  },
  {
   "cell_type": "code",
   "execution_count": 213,
   "metadata": {},
   "outputs": [],
   "source": [
    "min_date = extract_newest_date_from_json('../data/reddit_posts/worldcup/worldcup_2022_11_29-13_45_19.json')"
   ]
  },
  {
   "cell_type": "code",
   "execution_count": 214,
   "metadata": {},
   "outputs": [
    {
     "data": {
      "text/plain": [
       "datetime.datetime(2022, 11, 29, 13, 47, 7)"
      ]
     },
     "execution_count": 214,
     "metadata": {},
     "output_type": "execute_result"
    }
   ],
   "source": [
    "min_date"
   ]
  },
  {
   "cell_type": "markdown",
   "metadata": {},
   "source": [
    "## THE THING!"
   ]
  },
  {
   "cell_type": "code",
   "execution_count": 204,
   "metadata": {},
   "outputs": [],
   "source": [
    "res = reddit.subreddit(subreddits[0]).new(limit=10)"
   ]
  },
  {
   "cell_type": "code",
   "execution_count": 220,
   "metadata": {},
   "outputs": [
    {
     "data": {
      "text/plain": [
       "False"
      ]
     },
     "execution_count": 220,
     "metadata": {},
     "output_type": "execute_result"
    }
   ],
   "source": [
    "dt.datetime.fromtimestamp(post.created) > dt.datetime.now()"
   ]
  },
  {
   "cell_type": "code",
   "execution_count": 187,
   "metadata": {},
   "outputs": [],
   "source": [
    "posts = []\n",
    "for post in res:\n",
    "    tmp = reddit_post_to_dict(post)\n",
    "    posts.append(tmp)"
   ]
  },
  {
   "cell_type": "code",
   "execution_count": 197,
   "metadata": {},
   "outputs": [],
   "source": [
    "DT_TODAY = dt.datetime.now()\n",
    "TODAY = DT_TODAY.strftime('%Y_%m_%d-%H_%M_%S')"
   ]
  },
  {
   "cell_type": "code",
   "execution_count": 205,
   "metadata": {},
   "outputs": [],
   "source": [
    "# same but with streaming to json file\n",
    "outfile = f'../data/reddit_posts/{subreddits[0]}/{subreddits[0]}_{TODAY}.json'\n",
    "for post in res:\n",
    "    tmp = reddit_post_to_dict(post)\n",
    "    with open(outfile, 'a') as o:\n",
    "        o.write(json.dumps(tmp)+'\\n')"
   ]
  },
  {
   "cell_type": "code",
   "execution_count": 206,
   "metadata": {},
   "outputs": [
    {
     "ename": "TypeError",
     "evalue": "descriptor 'timestamp' for 'datetime.datetime' objects doesn't apply to a 'int' object",
     "output_type": "error",
     "traceback": [
      "\u001b[0;31m---------------------------------------------------------------------------\u001b[0m",
      "\u001b[0;31mTypeError\u001b[0m                                 Traceback (most recent call last)",
      "Cell \u001b[0;32mIn [206], line 1\u001b[0m\n\u001b[0;32m----> 1\u001b[0m dt\u001b[39m.\u001b[39;49mdatetime\u001b[39m.\u001b[39;49mtimestamp(\u001b[39m1\u001b[39;49m)\n",
      "\u001b[0;31mTypeError\u001b[0m: descriptor 'timestamp' for 'datetime.datetime' objects doesn't apply to a 'int' object"
     ]
    }
   ],
   "source": [
    "dt.datetime.timestamp(1)"
   ]
  },
  {
   "cell_type": "code",
   "execution_count": 191,
   "metadata": {},
   "outputs": [
    {
     "data": {
      "text/plain": [
       "{'id': 'yc55y1',\n",
       " 'created_utc': '2022/10/24 07:45:03',\n",
       " 'title': 'Cwmbran versus Caerleon in the Welsh fourth tier was nothing to scoff at. 6 goals, an immense late comeback and a kicked over bin. Read about it here!',\n",
       " 'selftext': '',\n",
       " 'domain': 'georgeharrisfootball598442982.wordpress.com',\n",
       " 'url': 'https://georgeharrisfootball598442982.wordpress.com/2022/10/24/22nd-october-2022-cwmbran-town-afc-vs-caerleon-afc/',\n",
       " 'num_comments': 7,\n",
       " 'score': 90,\n",
       " 'ups': 90,\n",
       " 'downs': 0,\n",
       " 'user_name': 'THEPOSTMATCH',\n",
       " 'user_id': 'ppe1fboz',\n",
       " 'user_total_karma': 207,\n",
       " 'user_verified': True,\n",
       " 'user_created_utc': 1657216964.0}"
      ]
     },
     "execution_count": 191,
     "metadata": {},
     "output_type": "execute_result"
    }
   ],
   "source": [
    "posts[-1]"
   ]
  },
  {
   "cell_type": "code",
   "execution_count": 115,
   "metadata": {},
   "outputs": [
    {
     "data": {
      "text/plain": [
       "datetime.datetime(2022, 11, 29, 11, 5, 8)"
      ]
     },
     "execution_count": 115,
     "metadata": {},
     "output_type": "execute_result"
    }
   ],
   "source": [
    "date_parser.parse(strdate)"
   ]
  },
  {
   "cell_type": "code",
   "execution_count": 88,
   "metadata": {},
   "outputs": [
    {
     "data": {
      "text/plain": [
       "{'_listing_use_sort': True,\n",
       " 'name': 'WillingCoach',\n",
       " '_reddit': <praw.reddit.Reddit at 0xffffb80436a0>,\n",
       " '_fetched': True,\n",
       " 'is_employee': False,\n",
       " 'is_friend': False,\n",
       " 'subreddit': UserSubreddit(display_name='u_WillingCoach'),\n",
       " 'snoovatar_size': [380, 600],\n",
       " 'awardee_karma': 0,\n",
       " 'id': 'y4nu3lg',\n",
       " 'verified': True,\n",
       " 'is_gold': False,\n",
       " 'is_mod': True,\n",
       " 'awarder_karma': 292,\n",
       " 'has_verified_email': True,\n",
       " 'icon_img': 'https://styles.redditmedia.com/t5_g1wss/styles/profileIcon_snoo795bb301-91d1-4739-a8a7-572660b73dc1-headshot.png?width=256&height=256&crop=256:256,smart&s=a9756fc135069fbc0a46c08d5b366d6e1cf13056',\n",
       " 'hide_from_robots': True,\n",
       " 'link_karma': 906,\n",
       " 'pref_show_snoovatar': False,\n",
       " 'is_blocked': False,\n",
       " 'total_karma': 1198,\n",
       " 'accept_chats': False,\n",
       " 'created': 1519210934.0,\n",
       " 'created_utc': 1519210934.0,\n",
       " 'snoovatar_img': 'https://i.redd.it/snoovatar/avatars/795bb301-91d1-4739-a8a7-572660b73dc1.png',\n",
       " 'comment_karma': 0,\n",
       " 'accept_followers': True,\n",
       " 'has_subscribed': True,\n",
       " 'accept_pms': True}"
      ]
     },
     "execution_count": 88,
     "metadata": {},
     "output_type": "execute_result"
    }
   ],
   "source": [
    "vars(post_dict['author'])"
   ]
  },
  {
   "cell_type": "code",
   "execution_count": 103,
   "metadata": {},
   "outputs": [
    {
     "data": {
      "text/plain": [
       "{'id': 'z7qz9l',\n",
       " 'created_utc': 1669719908.0,\n",
       " 'title': 'Pitch invader with rainbow flag interrupts World Cup match between Portugal and Uruguay',\n",
       " 'selftext': '',\n",
       " 'domain': 'youtube.com',\n",
       " 'url': 'https://www.youtube.com/watch?v=0TqHNVilm9o',\n",
       " 'num_comments': 1,\n",
       " 'score': 4,\n",
       " 'ups': 4,\n",
       " 'downs': 0,\n",
       " 'author': Redditor(name='WillingCoach')}"
      ]
     },
     "execution_count": 103,
     "metadata": {},
     "output_type": "execute_result"
    }
   ],
   "source": [
    "{field:post_dict[field] for field in filters}"
   ]
  },
  {
   "cell_type": "markdown",
   "metadata": {},
   "source": [
    "trying to find a post with text not link"
   ]
  },
  {
   "cell_type": "code",
   "execution_count": 95,
   "metadata": {},
   "outputs": [],
   "source": [
    "post2 = reddit.submission('nlj59n')"
   ]
  },
  {
   "cell_type": "code",
   "execution_count": 128,
   "metadata": {},
   "outputs": [
    {
     "data": {
      "text/plain": [
       "{'id': 'nlj59n',\n",
       " 'created_utc': '2021/05/26 15:02:56',\n",
       " 'title': 'Some API attributes - What do they mean',\n",
       " 'selftext': 'Hi,\\n\\nCan someone please help me what these API attributes mean - \\n\\nPWLS\\n\\nWLS\\n\\nIS\\\\_REDDIT\\\\_MEDIA\\\\_DOMAIN\\n\\nIS\\\\_META\\n\\nCAN\\\\_MOD\\\\_POST\\n\\nREMOVED\\\\_BY\\\\_CATEGORY\\n\\nAUTHOR\\\\_FLAIR\\\\_TYPE\\n\\nTREATMENT\\\\_TAGS \\n\\nMOD\\\\_REASON\\\\_BY \\n\\nIS\\\\_ROBOT\\\\_INDEXABLE\\n\\nNUM\\\\_DUPLICATES\\n\\nThank you for your time. \\n\\n*\"Fidelity to Duty\"*',\n",
       " 'domain': 'self.redditdev',\n",
       " 'url': 'https://www.reddit.com/r/redditdev/comments/nlj59n/some_api_attributes_what_do_they_mean/',\n",
       " 'num_comments': 6,\n",
       " 'score': 1,\n",
       " 'ups': 1,\n",
       " 'downs': 0,\n",
       " 'user_name': 'AjithaBuvan'}"
      ]
     },
     "execution_count": 128,
     "metadata": {},
     "output_type": "execute_result"
    }
   ],
   "source": [
    "reddit_post_to_dict(post=post2)"
   ]
  },
  {
   "cell_type": "code",
   "execution_count": 101,
   "metadata": {},
   "outputs": [
    {
     "data": {
      "text/plain": [
       "'Hi,\\n\\nCan someone please help me what these API attributes mean - \\n\\nPWLS\\n\\nWLS\\n\\nIS\\\\_REDDIT\\\\_MEDIA\\\\_DOMAIN\\n\\nIS\\\\_META\\n\\nCAN\\\\_MOD\\\\_POST\\n\\nREMOVED\\\\_BY\\\\_CATEGORY\\n\\nAUTHOR\\\\_FLAIR\\\\_TYPE\\n\\nTREATMENT\\\\_TAGS \\n\\nMOD\\\\_REASON\\\\_BY \\n\\nIS\\\\_ROBOT\\\\_INDEXABLE\\n\\nNUM\\\\_DUPLICATES\\n\\nThank you for your time. \\n\\n*\"Fidelity to Duty\"*'"
      ]
     },
     "execution_count": 101,
     "metadata": {},
     "output_type": "execute_result"
    }
   ],
   "source": [
    "vars(post2)['selftext']"
   ]
  },
  {
   "cell_type": "code",
   "execution_count": null,
   "metadata": {},
   "outputs": [],
   "source": []
  },
  {
   "cell_type": "code",
   "execution_count": null,
   "metadata": {},
   "outputs": [],
   "source": []
  },
  {
   "cell_type": "markdown",
   "metadata": {},
   "source": [
    "PSAW"
   ]
  },
  {
   "cell_type": "code",
   "execution_count": 58,
   "metadata": {},
   "outputs": [],
   "source": [
    "api = PushshiftAPI(reddit)"
   ]
  },
  {
   "cell_type": "code",
   "execution_count": 59,
   "metadata": {},
   "outputs": [],
   "source": [
    "earliest = int(date_parser.parse('2022-11-15').timestamp())\n",
    "latest = int((dt.datetime.now()-dt.timedelta(days=7)).timestamp())"
   ]
  },
  {
   "cell_type": "code",
   "execution_count": 68,
   "metadata": {},
   "outputs": [
    {
     "ename": "KeyboardInterrupt",
     "evalue": "",
     "output_type": "error",
     "traceback": [
      "\u001b[0;31m---------------------------------------------------------------------------\u001b[0m",
      "\u001b[0;31mKeyboardInterrupt\u001b[0m                         Traceback (most recent call last)",
      "Cell \u001b[0;32mIn [68], line 1\u001b[0m\n\u001b[0;32m----> 1\u001b[0m res_psaw \u001b[39m=\u001b[39m \u001b[39mlist\u001b[39;49m(api\u001b[39m.\u001b[39;49msearch_submissions(\n\u001b[1;32m      2\u001b[0m         subreddit\u001b[39m=\u001b[39;49msubreddits[\u001b[39m0\u001b[39;49m],   \n\u001b[1;32m      3\u001b[0m         after\u001b[39m=\u001b[39;49mearliest,      \n\u001b[1;32m      4\u001b[0m         before\u001b[39m=\u001b[39;49mlatest,       \n\u001b[1;32m      5\u001b[0m         \u001b[39mfilter\u001b[39;49m\u001b[39m=\u001b[39;49mfilters,        \n\u001b[1;32m      6\u001b[0m         limit\u001b[39m=\u001b[39;49m\u001b[39m100\u001b[39;49m))\n",
      "File \u001b[0;32m~/projects/world_cup_misinfo_tracking/.venv/lib/python3.10/site-packages/psaw/PushshiftAPI.py:374\u001b[0m, in \u001b[0;36mPushshiftAPI._praw_search\u001b[0;34m(self, **kwargs)\u001b[0m\n\u001b[1;32m    371\u001b[0m     using_gsci \u001b[39m=\u001b[39m \u001b[39mTrue\u001b[39;00m\n\u001b[1;32m    372\u001b[0m     gen \u001b[39m=\u001b[39m [\u001b[39mself\u001b[39m\u001b[39m.\u001b[39m_get_submission_comment_ids(\u001b[39m*\u001b[39m\u001b[39m*\u001b[39mkwargs)]\n\u001b[0;32m--> 374\u001b[0m \u001b[39mfor\u001b[39;00m batch \u001b[39min\u001b[39;00m gen:\n\u001b[1;32m    375\u001b[0m     \u001b[39mif\u001b[39;00m \u001b[39mnot\u001b[39;00m batch:\n\u001b[1;32m    376\u001b[0m         \u001b[39mreturn\u001b[39;00m\n",
      "File \u001b[0;32m~/projects/world_cup_misinfo_tracking/.venv/lib/python3.10/site-packages/psaw/PushshiftAPI.py:238\u001b[0m, in \u001b[0;36mPushshiftAPIMinimal._search\u001b[0;34m(self, kind, stop_condition, return_batch, dataset, **kwargs)\u001b[0m\n\u001b[1;32m    236\u001b[0m endpoint \u001b[39m=\u001b[39m \u001b[39m'\u001b[39m\u001b[39m{dataset}\u001b[39;00m\u001b[39m/\u001b[39m\u001b[39m{kind}\u001b[39;00m\u001b[39m/search\u001b[39m\u001b[39m'\u001b[39m\u001b[39m.\u001b[39mformat(dataset\u001b[39m=\u001b[39mdataset, kind\u001b[39m=\u001b[39mkind)\n\u001b[1;32m    237\u001b[0m url \u001b[39m=\u001b[39m \u001b[39mself\u001b[39m\u001b[39m.\u001b[39mbase_url\u001b[39m.\u001b[39mformat(endpoint\u001b[39m=\u001b[39mendpoint)\n\u001b[0;32m--> 238\u001b[0m \u001b[39mfor\u001b[39;00m response \u001b[39min\u001b[39;00m \u001b[39mself\u001b[39m\u001b[39m.\u001b[39m_handle_paging(url):\n\u001b[1;32m    239\u001b[0m     \u001b[39mif\u001b[39;00m \u001b[39m'\u001b[39m\u001b[39maggs\u001b[39m\u001b[39m'\u001b[39m \u001b[39min\u001b[39;00m response:\n\u001b[1;32m    240\u001b[0m         \u001b[39myield\u001b[39;00m response[\u001b[39m'\u001b[39m\u001b[39maggs\u001b[39m\u001b[39m'\u001b[39m]\n",
      "File \u001b[0;32m~/projects/world_cup_misinfo_tracking/.venv/lib/python3.10/site-packages/psaw/PushshiftAPI.py:215\u001b[0m, in \u001b[0;36mPushshiftAPIMinimal._handle_paging\u001b[0;34m(self, url)\u001b[0m\n\u001b[1;32m    212\u001b[0m         \u001b[39mraise\u001b[39;00m \u001b[39mNotImplementedError\u001b[39;00m(err_msg\u001b[39m.\u001b[39mformat(\u001b[39mself\u001b[39m\u001b[39m.\u001b[39mmax_results_per_request))\n\u001b[1;32m    213\u001b[0m \u001b[39mself\u001b[39m\u001b[39m.\u001b[39m_add_nec_args(\u001b[39mself\u001b[39m\u001b[39m.\u001b[39mpayload)\n\u001b[0;32m--> 215\u001b[0m data \u001b[39m=\u001b[39m \u001b[39mself\u001b[39;49m\u001b[39m.\u001b[39;49m_get(url, \u001b[39mself\u001b[39;49m\u001b[39m.\u001b[39;49mpayload)\n\u001b[1;32m    216\u001b[0m \u001b[39myield\u001b[39;00m data\n\u001b[1;32m    217\u001b[0m \u001b[39mif\u001b[39;00m limit \u001b[39mis\u001b[39;00m \u001b[39mnot\u001b[39;00m \u001b[39mNone\u001b[39;00m:\n",
      "File \u001b[0;32m~/projects/world_cup_misinfo_tracking/.venv/lib/python3.10/site-packages/psaw/PushshiftAPI.py:184\u001b[0m, in \u001b[0;36mPushshiftAPIMinimal._get\u001b[0;34m(self, url, payload)\u001b[0m\n\u001b[1;32m    182\u001b[0m i\u001b[39m+\u001b[39m\u001b[39m=\u001b[39m\u001b[39m1\u001b[39m\n\u001b[1;32m    183\u001b[0m \u001b[39mtry\u001b[39;00m:\n\u001b[0;32m--> 184\u001b[0m     response \u001b[39m=\u001b[39m requests\u001b[39m.\u001b[39;49mget(url, params\u001b[39m=\u001b[39;49mpayload, proxies\u001b[39m=\u001b[39;49m\u001b[39mself\u001b[39;49m\u001b[39m.\u001b[39;49mproxies)\n\u001b[1;32m    185\u001b[0m     log\u001b[39m.\u001b[39minfo(response\u001b[39m.\u001b[39murl)\n\u001b[1;32m    186\u001b[0m     log\u001b[39m.\u001b[39mdebug(\u001b[39m'\u001b[39m\u001b[39mResponse status code: \u001b[39m\u001b[39m%s\u001b[39;00m\u001b[39m'\u001b[39m \u001b[39m%\u001b[39m response\u001b[39m.\u001b[39mstatus_code)\n",
      "File \u001b[0;32m~/projects/world_cup_misinfo_tracking/.venv/lib/python3.10/site-packages/requests/api.py:73\u001b[0m, in \u001b[0;36mget\u001b[0;34m(url, params, **kwargs)\u001b[0m\n\u001b[1;32m     62\u001b[0m \u001b[39mdef\u001b[39;00m \u001b[39mget\u001b[39m(url, params\u001b[39m=\u001b[39m\u001b[39mNone\u001b[39;00m, \u001b[39m*\u001b[39m\u001b[39m*\u001b[39mkwargs):\n\u001b[1;32m     63\u001b[0m     \u001b[39mr\u001b[39m\u001b[39m\"\"\"Sends a GET request.\u001b[39;00m\n\u001b[1;32m     64\u001b[0m \n\u001b[1;32m     65\u001b[0m \u001b[39m    :param url: URL for the new :class:`Request` object.\u001b[39;00m\n\u001b[0;32m   (...)\u001b[0m\n\u001b[1;32m     70\u001b[0m \u001b[39m    :rtype: requests.Response\u001b[39;00m\n\u001b[1;32m     71\u001b[0m \u001b[39m    \"\"\"\u001b[39;00m\n\u001b[0;32m---> 73\u001b[0m     \u001b[39mreturn\u001b[39;00m request(\u001b[39m\"\u001b[39;49m\u001b[39mget\u001b[39;49m\u001b[39m\"\u001b[39;49m, url, params\u001b[39m=\u001b[39;49mparams, \u001b[39m*\u001b[39;49m\u001b[39m*\u001b[39;49mkwargs)\n",
      "File \u001b[0;32m~/projects/world_cup_misinfo_tracking/.venv/lib/python3.10/site-packages/requests/api.py:59\u001b[0m, in \u001b[0;36mrequest\u001b[0;34m(method, url, **kwargs)\u001b[0m\n\u001b[1;32m     55\u001b[0m \u001b[39m# By using the 'with' statement we are sure the session is closed, thus we\u001b[39;00m\n\u001b[1;32m     56\u001b[0m \u001b[39m# avoid leaving sockets open which can trigger a ResourceWarning in some\u001b[39;00m\n\u001b[1;32m     57\u001b[0m \u001b[39m# cases, and look like a memory leak in others.\u001b[39;00m\n\u001b[1;32m     58\u001b[0m \u001b[39mwith\u001b[39;00m sessions\u001b[39m.\u001b[39mSession() \u001b[39mas\u001b[39;00m session:\n\u001b[0;32m---> 59\u001b[0m     \u001b[39mreturn\u001b[39;00m session\u001b[39m.\u001b[39;49mrequest(method\u001b[39m=\u001b[39;49mmethod, url\u001b[39m=\u001b[39;49murl, \u001b[39m*\u001b[39;49m\u001b[39m*\u001b[39;49mkwargs)\n",
      "File \u001b[0;32m~/projects/world_cup_misinfo_tracking/.venv/lib/python3.10/site-packages/requests/sessions.py:587\u001b[0m, in \u001b[0;36mSession.request\u001b[0;34m(self, method, url, params, data, headers, cookies, files, auth, timeout, allow_redirects, proxies, hooks, stream, verify, cert, json)\u001b[0m\n\u001b[1;32m    582\u001b[0m send_kwargs \u001b[39m=\u001b[39m {\n\u001b[1;32m    583\u001b[0m     \u001b[39m\"\u001b[39m\u001b[39mtimeout\u001b[39m\u001b[39m\"\u001b[39m: timeout,\n\u001b[1;32m    584\u001b[0m     \u001b[39m\"\u001b[39m\u001b[39mallow_redirects\u001b[39m\u001b[39m\"\u001b[39m: allow_redirects,\n\u001b[1;32m    585\u001b[0m }\n\u001b[1;32m    586\u001b[0m send_kwargs\u001b[39m.\u001b[39mupdate(settings)\n\u001b[0;32m--> 587\u001b[0m resp \u001b[39m=\u001b[39m \u001b[39mself\u001b[39;49m\u001b[39m.\u001b[39;49msend(prep, \u001b[39m*\u001b[39;49m\u001b[39m*\u001b[39;49msend_kwargs)\n\u001b[1;32m    589\u001b[0m \u001b[39mreturn\u001b[39;00m resp\n",
      "File \u001b[0;32m~/projects/world_cup_misinfo_tracking/.venv/lib/python3.10/site-packages/requests/sessions.py:701\u001b[0m, in \u001b[0;36mSession.send\u001b[0;34m(self, request, **kwargs)\u001b[0m\n\u001b[1;32m    698\u001b[0m start \u001b[39m=\u001b[39m preferred_clock()\n\u001b[1;32m    700\u001b[0m \u001b[39m# Send the request\u001b[39;00m\n\u001b[0;32m--> 701\u001b[0m r \u001b[39m=\u001b[39m adapter\u001b[39m.\u001b[39;49msend(request, \u001b[39m*\u001b[39;49m\u001b[39m*\u001b[39;49mkwargs)\n\u001b[1;32m    703\u001b[0m \u001b[39m# Total elapsed time of the request (approximately)\u001b[39;00m\n\u001b[1;32m    704\u001b[0m elapsed \u001b[39m=\u001b[39m preferred_clock() \u001b[39m-\u001b[39m start\n",
      "File \u001b[0;32m~/projects/world_cup_misinfo_tracking/.venv/lib/python3.10/site-packages/requests/adapters.py:489\u001b[0m, in \u001b[0;36mHTTPAdapter.send\u001b[0;34m(self, request, stream, timeout, verify, cert, proxies)\u001b[0m\n\u001b[1;32m    487\u001b[0m \u001b[39mtry\u001b[39;00m:\n\u001b[1;32m    488\u001b[0m     \u001b[39mif\u001b[39;00m \u001b[39mnot\u001b[39;00m chunked:\n\u001b[0;32m--> 489\u001b[0m         resp \u001b[39m=\u001b[39m conn\u001b[39m.\u001b[39;49murlopen(\n\u001b[1;32m    490\u001b[0m             method\u001b[39m=\u001b[39;49mrequest\u001b[39m.\u001b[39;49mmethod,\n\u001b[1;32m    491\u001b[0m             url\u001b[39m=\u001b[39;49murl,\n\u001b[1;32m    492\u001b[0m             body\u001b[39m=\u001b[39;49mrequest\u001b[39m.\u001b[39;49mbody,\n\u001b[1;32m    493\u001b[0m             headers\u001b[39m=\u001b[39;49mrequest\u001b[39m.\u001b[39;49mheaders,\n\u001b[1;32m    494\u001b[0m             redirect\u001b[39m=\u001b[39;49m\u001b[39mFalse\u001b[39;49;00m,\n\u001b[1;32m    495\u001b[0m             assert_same_host\u001b[39m=\u001b[39;49m\u001b[39mFalse\u001b[39;49;00m,\n\u001b[1;32m    496\u001b[0m             preload_content\u001b[39m=\u001b[39;49m\u001b[39mFalse\u001b[39;49;00m,\n\u001b[1;32m    497\u001b[0m             decode_content\u001b[39m=\u001b[39;49m\u001b[39mFalse\u001b[39;49;00m,\n\u001b[1;32m    498\u001b[0m             retries\u001b[39m=\u001b[39;49m\u001b[39mself\u001b[39;49m\u001b[39m.\u001b[39;49mmax_retries,\n\u001b[1;32m    499\u001b[0m             timeout\u001b[39m=\u001b[39;49mtimeout,\n\u001b[1;32m    500\u001b[0m         )\n\u001b[1;32m    502\u001b[0m     \u001b[39m# Send the request.\u001b[39;00m\n\u001b[1;32m    503\u001b[0m     \u001b[39melse\u001b[39;00m:\n\u001b[1;32m    504\u001b[0m         \u001b[39mif\u001b[39;00m \u001b[39mhasattr\u001b[39m(conn, \u001b[39m\"\u001b[39m\u001b[39mproxy_pool\u001b[39m\u001b[39m\"\u001b[39m):\n",
      "File \u001b[0;32m~/projects/world_cup_misinfo_tracking/.venv/lib/python3.10/site-packages/urllib3/connectionpool.py:703\u001b[0m, in \u001b[0;36mHTTPConnectionPool.urlopen\u001b[0;34m(self, method, url, body, headers, retries, redirect, assert_same_host, timeout, pool_timeout, release_conn, chunked, body_pos, **response_kw)\u001b[0m\n\u001b[1;32m    700\u001b[0m     \u001b[39mself\u001b[39m\u001b[39m.\u001b[39m_prepare_proxy(conn)\n\u001b[1;32m    702\u001b[0m \u001b[39m# Make the request on the httplib connection object.\u001b[39;00m\n\u001b[0;32m--> 703\u001b[0m httplib_response \u001b[39m=\u001b[39m \u001b[39mself\u001b[39;49m\u001b[39m.\u001b[39;49m_make_request(\n\u001b[1;32m    704\u001b[0m     conn,\n\u001b[1;32m    705\u001b[0m     method,\n\u001b[1;32m    706\u001b[0m     url,\n\u001b[1;32m    707\u001b[0m     timeout\u001b[39m=\u001b[39;49mtimeout_obj,\n\u001b[1;32m    708\u001b[0m     body\u001b[39m=\u001b[39;49mbody,\n\u001b[1;32m    709\u001b[0m     headers\u001b[39m=\u001b[39;49mheaders,\n\u001b[1;32m    710\u001b[0m     chunked\u001b[39m=\u001b[39;49mchunked,\n\u001b[1;32m    711\u001b[0m )\n\u001b[1;32m    713\u001b[0m \u001b[39m# If we're going to release the connection in ``finally:``, then\u001b[39;00m\n\u001b[1;32m    714\u001b[0m \u001b[39m# the response doesn't need to know about the connection. Otherwise\u001b[39;00m\n\u001b[1;32m    715\u001b[0m \u001b[39m# it will also try to release it and we'll have a double-release\u001b[39;00m\n\u001b[1;32m    716\u001b[0m \u001b[39m# mess.\u001b[39;00m\n\u001b[1;32m    717\u001b[0m response_conn \u001b[39m=\u001b[39m conn \u001b[39mif\u001b[39;00m \u001b[39mnot\u001b[39;00m release_conn \u001b[39melse\u001b[39;00m \u001b[39mNone\u001b[39;00m\n",
      "File \u001b[0;32m~/projects/world_cup_misinfo_tracking/.venv/lib/python3.10/site-packages/urllib3/connectionpool.py:449\u001b[0m, in \u001b[0;36mHTTPConnectionPool._make_request\u001b[0;34m(self, conn, method, url, timeout, chunked, **httplib_request_kw)\u001b[0m\n\u001b[1;32m    444\u001b[0m             httplib_response \u001b[39m=\u001b[39m conn\u001b[39m.\u001b[39mgetresponse()\n\u001b[1;32m    445\u001b[0m         \u001b[39mexcept\u001b[39;00m \u001b[39mBaseException\u001b[39;00m \u001b[39mas\u001b[39;00m e:\n\u001b[1;32m    446\u001b[0m             \u001b[39m# Remove the TypeError from the exception chain in\u001b[39;00m\n\u001b[1;32m    447\u001b[0m             \u001b[39m# Python 3 (including for exceptions like SystemExit).\u001b[39;00m\n\u001b[1;32m    448\u001b[0m             \u001b[39m# Otherwise it looks like a bug in the code.\u001b[39;00m\n\u001b[0;32m--> 449\u001b[0m             six\u001b[39m.\u001b[39;49mraise_from(e, \u001b[39mNone\u001b[39;49;00m)\n\u001b[1;32m    450\u001b[0m \u001b[39mexcept\u001b[39;00m (SocketTimeout, BaseSSLError, SocketError) \u001b[39mas\u001b[39;00m e:\n\u001b[1;32m    451\u001b[0m     \u001b[39mself\u001b[39m\u001b[39m.\u001b[39m_raise_timeout(err\u001b[39m=\u001b[39me, url\u001b[39m=\u001b[39murl, timeout_value\u001b[39m=\u001b[39mread_timeout)\n",
      "File \u001b[0;32m<string>:3\u001b[0m, in \u001b[0;36mraise_from\u001b[0;34m(value, from_value)\u001b[0m\n",
      "File \u001b[0;32m~/projects/world_cup_misinfo_tracking/.venv/lib/python3.10/site-packages/urllib3/connectionpool.py:444\u001b[0m, in \u001b[0;36mHTTPConnectionPool._make_request\u001b[0;34m(self, conn, method, url, timeout, chunked, **httplib_request_kw)\u001b[0m\n\u001b[1;32m    441\u001b[0m \u001b[39mexcept\u001b[39;00m \u001b[39mTypeError\u001b[39;00m:\n\u001b[1;32m    442\u001b[0m     \u001b[39m# Python 3\u001b[39;00m\n\u001b[1;32m    443\u001b[0m     \u001b[39mtry\u001b[39;00m:\n\u001b[0;32m--> 444\u001b[0m         httplib_response \u001b[39m=\u001b[39m conn\u001b[39m.\u001b[39;49mgetresponse()\n\u001b[1;32m    445\u001b[0m     \u001b[39mexcept\u001b[39;00m \u001b[39mBaseException\u001b[39;00m \u001b[39mas\u001b[39;00m e:\n\u001b[1;32m    446\u001b[0m         \u001b[39m# Remove the TypeError from the exception chain in\u001b[39;00m\n\u001b[1;32m    447\u001b[0m         \u001b[39m# Python 3 (including for exceptions like SystemExit).\u001b[39;00m\n\u001b[1;32m    448\u001b[0m         \u001b[39m# Otherwise it looks like a bug in the code.\u001b[39;00m\n\u001b[1;32m    449\u001b[0m         six\u001b[39m.\u001b[39mraise_from(e, \u001b[39mNone\u001b[39;00m)\n",
      "File \u001b[0;32m/usr/lib/python3.10/http/client.py:1374\u001b[0m, in \u001b[0;36mHTTPConnection.getresponse\u001b[0;34m(self)\u001b[0m\n\u001b[1;32m   1372\u001b[0m \u001b[39mtry\u001b[39;00m:\n\u001b[1;32m   1373\u001b[0m     \u001b[39mtry\u001b[39;00m:\n\u001b[0;32m-> 1374\u001b[0m         response\u001b[39m.\u001b[39;49mbegin()\n\u001b[1;32m   1375\u001b[0m     \u001b[39mexcept\u001b[39;00m \u001b[39mConnectionError\u001b[39;00m:\n\u001b[1;32m   1376\u001b[0m         \u001b[39mself\u001b[39m\u001b[39m.\u001b[39mclose()\n",
      "File \u001b[0;32m/usr/lib/python3.10/http/client.py:318\u001b[0m, in \u001b[0;36mHTTPResponse.begin\u001b[0;34m(self)\u001b[0m\n\u001b[1;32m    316\u001b[0m \u001b[39m# read until we get a non-100 response\u001b[39;00m\n\u001b[1;32m    317\u001b[0m \u001b[39mwhile\u001b[39;00m \u001b[39mTrue\u001b[39;00m:\n\u001b[0;32m--> 318\u001b[0m     version, status, reason \u001b[39m=\u001b[39m \u001b[39mself\u001b[39;49m\u001b[39m.\u001b[39;49m_read_status()\n\u001b[1;32m    319\u001b[0m     \u001b[39mif\u001b[39;00m status \u001b[39m!=\u001b[39m CONTINUE:\n\u001b[1;32m    320\u001b[0m         \u001b[39mbreak\u001b[39;00m\n",
      "File \u001b[0;32m/usr/lib/python3.10/http/client.py:279\u001b[0m, in \u001b[0;36mHTTPResponse._read_status\u001b[0;34m(self)\u001b[0m\n\u001b[1;32m    278\u001b[0m \u001b[39mdef\u001b[39;00m \u001b[39m_read_status\u001b[39m(\u001b[39mself\u001b[39m):\n\u001b[0;32m--> 279\u001b[0m     line \u001b[39m=\u001b[39m \u001b[39mstr\u001b[39m(\u001b[39mself\u001b[39;49m\u001b[39m.\u001b[39;49mfp\u001b[39m.\u001b[39;49mreadline(_MAXLINE \u001b[39m+\u001b[39;49m \u001b[39m1\u001b[39;49m), \u001b[39m\"\u001b[39m\u001b[39miso-8859-1\u001b[39m\u001b[39m\"\u001b[39m)\n\u001b[1;32m    280\u001b[0m     \u001b[39mif\u001b[39;00m \u001b[39mlen\u001b[39m(line) \u001b[39m>\u001b[39m _MAXLINE:\n\u001b[1;32m    281\u001b[0m         \u001b[39mraise\u001b[39;00m LineTooLong(\u001b[39m\"\u001b[39m\u001b[39mstatus line\u001b[39m\u001b[39m\"\u001b[39m)\n",
      "File \u001b[0;32m/usr/lib/python3.10/socket.py:705\u001b[0m, in \u001b[0;36mSocketIO.readinto\u001b[0;34m(self, b)\u001b[0m\n\u001b[1;32m    703\u001b[0m \u001b[39mwhile\u001b[39;00m \u001b[39mTrue\u001b[39;00m:\n\u001b[1;32m    704\u001b[0m     \u001b[39mtry\u001b[39;00m:\n\u001b[0;32m--> 705\u001b[0m         \u001b[39mreturn\u001b[39;00m \u001b[39mself\u001b[39;49m\u001b[39m.\u001b[39;49m_sock\u001b[39m.\u001b[39;49mrecv_into(b)\n\u001b[1;32m    706\u001b[0m     \u001b[39mexcept\u001b[39;00m timeout:\n\u001b[1;32m    707\u001b[0m         \u001b[39mself\u001b[39m\u001b[39m.\u001b[39m_timeout_occurred \u001b[39m=\u001b[39m \u001b[39mTrue\u001b[39;00m\n",
      "File \u001b[0;32m/usr/lib/python3.10/ssl.py:1274\u001b[0m, in \u001b[0;36mSSLSocket.recv_into\u001b[0;34m(self, buffer, nbytes, flags)\u001b[0m\n\u001b[1;32m   1270\u001b[0m     \u001b[39mif\u001b[39;00m flags \u001b[39m!=\u001b[39m \u001b[39m0\u001b[39m:\n\u001b[1;32m   1271\u001b[0m         \u001b[39mraise\u001b[39;00m \u001b[39mValueError\u001b[39;00m(\n\u001b[1;32m   1272\u001b[0m           \u001b[39m\"\u001b[39m\u001b[39mnon-zero flags not allowed in calls to recv_into() on \u001b[39m\u001b[39m%s\u001b[39;00m\u001b[39m\"\u001b[39m \u001b[39m%\u001b[39m\n\u001b[1;32m   1273\u001b[0m           \u001b[39mself\u001b[39m\u001b[39m.\u001b[39m\u001b[39m__class__\u001b[39m)\n\u001b[0;32m-> 1274\u001b[0m     \u001b[39mreturn\u001b[39;00m \u001b[39mself\u001b[39;49m\u001b[39m.\u001b[39;49mread(nbytes, buffer)\n\u001b[1;32m   1275\u001b[0m \u001b[39melse\u001b[39;00m:\n\u001b[1;32m   1276\u001b[0m     \u001b[39mreturn\u001b[39;00m \u001b[39msuper\u001b[39m()\u001b[39m.\u001b[39mrecv_into(buffer, nbytes, flags)\n",
      "File \u001b[0;32m/usr/lib/python3.10/ssl.py:1130\u001b[0m, in \u001b[0;36mSSLSocket.read\u001b[0;34m(self, len, buffer)\u001b[0m\n\u001b[1;32m   1128\u001b[0m \u001b[39mtry\u001b[39;00m:\n\u001b[1;32m   1129\u001b[0m     \u001b[39mif\u001b[39;00m buffer \u001b[39mis\u001b[39;00m \u001b[39mnot\u001b[39;00m \u001b[39mNone\u001b[39;00m:\n\u001b[0;32m-> 1130\u001b[0m         \u001b[39mreturn\u001b[39;00m \u001b[39mself\u001b[39;49m\u001b[39m.\u001b[39;49m_sslobj\u001b[39m.\u001b[39;49mread(\u001b[39mlen\u001b[39;49m, buffer)\n\u001b[1;32m   1131\u001b[0m     \u001b[39melse\u001b[39;00m:\n\u001b[1;32m   1132\u001b[0m         \u001b[39mreturn\u001b[39;00m \u001b[39mself\u001b[39m\u001b[39m.\u001b[39m_sslobj\u001b[39m.\u001b[39mread(\u001b[39mlen\u001b[39m)\n",
      "\u001b[0;31mKeyboardInterrupt\u001b[0m: "
     ]
    }
   ],
   "source": [
    "res_psaw = list(api.search_submissions(\n",
    "        subreddit=subreddits[0],   \n",
    "        after=earliest,      \n",
    "        before=latest,       \n",
    "        filter=filters,        \n",
    "        limit=100))"
   ]
  },
  {
   "cell_type": "code",
   "execution_count": null,
   "metadata": {},
   "outputs": [],
   "source": []
  },
  {
   "cell_type": "code",
   "execution_count": 7,
   "metadata": {},
   "outputs": [
    {
     "name": "stdout",
     "output_type": "stream",
     "text": [
      "[Rob Harris] FIFA President Gianni Infantino at news conference in Qatar: “Today I feel Qatari. Today I feel Arab. Today I feel African. Today I feel gay. Today I feel disabled. Today I feel a migrant worker. ... I know what it feels to be discriminated … I was bullied because I had red hair.”\n",
      "Sky News: FIFA chief Gianni Infantino hits out at Qatar criticism saying European countries should instead 'be apologising for the next 3,000 years'\n",
      "Gianni Infantino ‘feels gay’ and ‘like a migrant worker’ as he recalls being bullied for ‘red hair and freckles’\n",
      "FIFA chief Gianni Infantino hits out at Qatar criticism saying European countries should instead 'be apologising for the next 3,000 years'\n",
      "FIFA chief Gianni Infantino hits out at Qatar criticism saying European countries should instead 'be apologising for the next 3,000 years'\n",
      "World Cup 2022: Fifa president Gianni Infantino accuses West of 'hypocrisy'\n",
      "Erik Niva: Infantino Has completely lost touch with reality [Translation in comments]\n",
      "Belgian minister for foreign affairs confronts FIFA boss Infantino about banning the 'One Love' armband\n",
      "Soccer FIFA boss Infantino urges World Cup ceasefire in Ukraine\n",
      "Belgian minister for foreign affairs confronts FIFA boss Infantino about banning the 'One Love' armband\n",
      "[Football Daily]: Gianni Infantino was sat next to Mohammed bin Salman, Crown Prince of Saudi Arabia. Saudi Arabia are leading a bid to host the 2030 World Cup\n",
      "England and Wales plan to defy Fifa with OneLove armbands at World Cup | Gianni Infantino warns: ‘We have clear regulations on armbands’\n",
      "I feel Qatari, I feel gay': Infantino defends FIFA's decision to host World Cup in Qatar\n",
      "[Ekstra Bladet] The Danish FA won’t support re-election for FIFA president Infantino\n",
      "[NRK] The Norwegian football federation has had enough: -No confidence in Infantino\n",
      "Belgian minister for foreign affairs confronts FIFA boss Infantino about banning the 'One Love' armband\n",
      "FIFA-Boss Infantino fühlt sich \"heute homosexuell\"\n",
      "FIFA chief Gianni Infantino hits out at Qatar criticism saying European countries should instead 'be apologising for the next 3,000 years'\n",
      "German interior minister Nancy Faeser wears the \"one love\" armband next to FIFA Boss Gianni Infantino\n",
      "Infantino slams Europe in remarkable speech\n",
      "The president of FIFA, Gianni Infantino\n",
      "Director of Danish Football Association 'shocked' by Infantino comments\n",
      "Cosa ne pensate delle dichiarazioni di Mr. Infantino?\n",
      "I feel Qatari, I feel gay': Infantino defends FIFA's decision to host World Cup in Qatar\n",
      "Gianni Infantino in shambles\n",
      "‘I feel like a migrant worker’: Gianni Infantino hits out at World Cup criticism | World Cup 2022\n",
      "Fuck FIFA President Infantino\n",
      "Lo strano discorso di Gianni Infantino in difesa dei Mondiali di calcio in Qatar - Il Post\n",
      "Infantino accuses West of 'hypocrisy' in speech\n",
      "‘I feel like a migrant worker’: Gianni Infantino hits out at World Cup criticism | World Cup 2022\n",
      "‘I feel gay, disabled … like a woman too!’: Infantino makes bizarre attack on critics\n",
      "Gianni Infantino: today I feel a Qatari, today I feel gay, today I feel disabled (cringe speech from FIFA president)\n",
      "Gianni Infantino: \"Hoje eu me sinto catariano. Hoje eu me sinto árabe. Hoje eu me sinto africano. Hoje eu me sinto gay. Hoje eu me sinto deficiente. Hoje eu me sinto como um trabalhador estrangeiro. Eu sei como é ser discriminado. Eu sofri bullying por ter cabelo ruivo.\"\n",
      "[Rob Harris] FIFA President Gianni Infantino at news conference in Qatar: “Today I feel Qatari. Today I feel Arab. Today I feel African. Today I feel gay. Today I feel disabled. Today I feel a migrant worker. ... I know what it feels to be discriminated … I was bullied because I had red hair.”\n",
      "FIFA President Gianni Infantino Sees No Reason Why North Korea Should Not Host a World Cup\n",
      "Belgian foreign minister talking to Infantino wearing the OneLove-band\n",
      "Prezydent FIFA Gianni Infantino: \"Dzisiaj czuję się Katarczykiem, Arabem, Afrykaninem, gejem, niepełnosprawnym, pracownikiem migrującym (...) Wiem co to znaczy być dyskryminowanym. Byłem dręczony, ponieważ miałem rude włosy.\"\n",
      "Infantino accuses West of 'hypocrisy' in speech\n",
      "Uli Hoeneß on DFB \"They lack the courage to face up to FIFA. That would have been urgently necessary as Gianni Infantino is for me a big catastrophe for world football & that would have been the chance to show him, enough…no more.\"\n",
      "Infantino With Whopper Of The Week\n",
      "FIFA chief Gianni Infantino hits out at Qatar criticism saying European countries should instead 'be apologising for the next 3,000 years'\n",
      "FIFA chief Gianni Infantino hits out at Qatar criticism saying European countries should instead 'be apologising for the next 3,000 years'\n",
      "Denmark won't support Infantino's re-election amid armband controversy\n",
      "World Cup 2022: Fifa president Gianni Infantino accuses West of 'hypocrisy'\n",
      "What are you opinions on Infantino to Qatar critics, since we aren't Europeans who have to apologize for 3000 years?\n",
      "Julguei esse homem por dizer que por um dia se sentia árabe, porém tenho que admitir, hoje eu me sinto mais árabe que nunca e tenho que dizer, é bom pra caralho! Mil perdões Giovanni Infantino, mas agora eu te entendo perfeitamente\n",
      "Infantino unopposed to get 4 more years as FIFA president\n",
      "Discurso do Infantino com a abertura do The Office\n",
      "Belgian minister of foreign affairs with Infantino while wearing the \"one love\" armband\n",
      "Infantino wciąż nie skończył. Szef FIFA gotowy na mundial w... Korei Północnej\n",
      "Infantino being an infant\n",
      "‘I feel gay, disabled … like a woman too!’: Infantino makes bizarre attack on World Cup critics\n",
      "Richarlison já tinha avisado o Infantino\n",
      "Gary Neville: FIFA president Gianni Infantino 'the worst face' for the 2022 Qatar World Cup\n",
      "[Breaking] Infantino: Today I feel Red Belgian Car\n",
      "Fodbolddirektør i DBU, Peter Møller, tager skarp afstand til FIFA-præsident Gianni Infantino, der i en tale skød med skarpt mod Qatar-kritiske lande\n",
      "Gianni Infantino has blood on his hands\n",
      "Coréia do Norte poderia sediar a Copa do Mundo, diz Gianni Infantino [em inglês]\n",
      "A quietly terrifying sequence from Iron Man #158. Story by Denny O'Neil, art by Carmine Infantino and Al Milgrom\n",
      "Gianni Infantino right now\n",
      "Alex Scott to Gianni Infantino - \"You are not gay. You will never understand travelling to a country where you are fearing for your life, because of your preference...\"\n",
      "[Ekstra Bladet] The Danish FA won’t support re-election for FIFA president Infantino\n",
      "Forgotten football legends: Gianni Infantino\n",
      "New trouble for Gianni Infantino | The controversial Fifa president made false statements in 2015 about the reason for a trip to New York. Did he secretly confer with the US judiciary there?\n",
      "FIFA chief Gianni Infantino hits out at Qatar criticism saying European countries should instead 'be apologising for the next 3,000 years'\n",
      "Infantino: “Nós, europeus, temos que pedir desculpas por tudo que fizemos ao mundo ao longo de mais de 3 mil anos antes de darmos lições de moral”.\n",
      "FIFA president Gianni Infantino says Europeans & West are in no position \"to give moral lessons\" to Qatar, adding that European nations should instead apologies for their own histories.\n",
      "Infantino today\n",
      "I wonder what Infantino is texting after the German Interior minister at next to him wearing \"That\" armband?\n",
      "[Rob Harris] FIFA President Gianni Infantino at news conference in Qatar: “Today I feel Qatari. Today I feel Arab. Today I feel African. Today I feel gay. Today I feel disabled. Today I feel a migrant worker. ... I know what it feels to be discriminated … I was bullied because I had red hair.”\n",
      "Infantino as a child #SayNoToGingerphobia\n",
      "FIFA president Gianni Infantino has appealed to world leaders to call a 'temporary ceasefire' to conflict during the Qatar World Cup\n",
      "Gianni Infantino ist mein Vorbild, zusammen mit Elon Musk.\n",
      "Minister van Buitenlandse Zaken Lahbib draagt 'One Love'-band op tribune terwijl ze in gesprek gaat met FIFA-baas Infantino\n",
      "Head of FIFA Gianni Infantino's comments ahead of the 2022 Qatar World Cup (fourth pic gives context)\n",
      "Purple feet with infantino - fit check?\n",
      "WM 2022 | Fifa-Chef Infantino: »Heute fühle ich mich homosexuell, heute fühle ich mich behindert«\n",
      "Every time I see Infantino, I see the villain of the Thinderbirds. Am I the only one?\n",
      "Gianni Infantino issues public apology and reveals why Qatar was awarded the World Cup.\n",
      "Infantino on what he called the “hypocrisy” of Western criticism\n",
      "Neuer Ärger für Gianni Infantino | Der umstrittene Fifa-Präsident machte 2015 falsche Angaben zum Grund einer New-York-Reise. Besprach er sich dort heimlich mit der US-Justiz?\n",
      "[Suisse] Le président de la FIFA Gianni Infantino déménage son domicile fiscal à Zoug\n",
      "When you're in a 'whataboutism'-contest, and your opponent is FIFA's president Gianni Infantino\n",
      "\"I'm a bitch, I'm a lover, I'm a child, I'm a mother, I'm a sinner, I'm a saint\" - Gianni Infantino\n",
      "Gianni Infantino right now\n",
      "Even Infantino is Pumped\n",
      "Today I feel GAY, today I feel DISABLED! | REMARKABLE Infantino speech a...\n",
      "FIFA chief Gianni Infantino hits out at Qatar criticism saying European countries should instead 'be apologising for the next 3,000 years'\n",
      "Are there other people that think of El Presidente when they hear Infantino talk this Word Cup?\n",
      "A bizarre speech from President of FIFA, Gianni Infantino, in which he hit out at criticism of Qatar from Europe.\n",
      "Infantino poses with a young US fan.\n",
      "‘I feel gay, disabled … like a woman too!’: Infantino makes bizarre attack on critics\n",
      "Shania Infantino - Man he feels like a woman\n",
      "Danes won't support Infantino after armband spat, says FA\n",
      "Spaß, als mächtiger Mann geht Infantino keinerlei Risiko ein das zu sagen\n",
      "Gianni Infantino ‘tried to include Morocco’ in joint Spain-Portugal bid for 2030 World Cup\n",
      "Gianni Infantino: FIFA-Boss: „Heute fühle ich mich homosexuell“\n",
      "[Rob Harris] FIFA President Gianni Infantino at news conference in Qatar: “I know what it feels to be discriminated … I was bullied because I had red hair.”\n",
      "The Many Feelings of Gianni Infantino, illustrated\n",
      "[Rob Harris] FIFA President Gianni Infantino at 2026 news conference in Detroit: \"Today I feel Yank. Today I feel Republican. Today I feel gun nut. Today I feel obese. Today I feel redneck. Today I feel a wetback. ... I know what it feels to be American ... I was bullied and I shot up my school.\"\n"
     ]
    }
   ],
   "source": [
    "for item in res:\n",
    "    print(item.title)"
   ]
  },
  {
   "cell_type": "code",
   "execution_count": 16,
   "metadata": {},
   "outputs": [
    {
     "data": {
      "text/plain": [
       "'https://www.reddit.com/r/soccercirclejerk/comments/yzfryu/rob_harris_fifa_president_gianni_infantino_at/'"
      ]
     },
     "execution_count": 16,
     "metadata": {},
     "output_type": "execute_result"
    }
   ],
   "source": [
    "item.url"
   ]
  },
  {
   "cell_type": "code",
   "execution_count": 12,
   "metadata": {},
   "outputs": [
    {
     "data": {
      "text/plain": [
       "'AlwaysFullyObjective'"
      ]
     },
     "execution_count": 12,
     "metadata": {},
     "output_type": "execute_result"
    }
   ],
   "source": [
    "item.author.name"
   ]
  },
  {
   "cell_type": "code",
   "execution_count": 15,
   "metadata": {},
   "outputs": [],
   "source": [
    "item.media"
   ]
  },
  {
   "cell_type": "code",
   "execution_count": 29,
   "metadata": {},
   "outputs": [
    {
     "data": {
      "text/plain": [
       "0"
      ]
     },
     "execution_count": 29,
     "metadata": {},
     "output_type": "execute_result"
    }
   ],
   "source": [
    "item.num_crossposts"
   ]
  },
  {
   "cell_type": "code",
   "execution_count": 31,
   "metadata": {},
   "outputs": [
    {
     "data": {
      "text/plain": [
       "'https://www.youtube.com/watch?v=PwLAtUDIq1w'"
      ]
     },
     "execution_count": 31,
     "metadata": {},
     "output_type": "execute_result"
    }
   ],
   "source": [
    "reddit.submission('z76zb0').url"
   ]
  },
  {
   "cell_type": "code",
   "execution_count": null,
   "metadata": {},
   "outputs": [],
   "source": []
  }
 ],
 "metadata": {
  "kernelspec": {
   "display_name": "Python 3.10.6 ('.venv': venv)",
   "language": "python",
   "name": "python3"
  },
  "language_info": {
   "codemirror_mode": {
    "name": "ipython",
    "version": 3
   },
   "file_extension": ".py",
   "mimetype": "text/x-python",
   "name": "python",
   "nbconvert_exporter": "python",
   "pygments_lexer": "ipython3",
   "version": "3.10.6"
  },
  "orig_nbformat": 4,
  "vscode": {
   "interpreter": {
    "hash": "c9d1feaa8e9cddc59f1ae355950f3806cb42c4260f42587cbc52f3c11be4e1e3"
   }
  }
 },
 "nbformat": 4,
 "nbformat_minor": 2
}
