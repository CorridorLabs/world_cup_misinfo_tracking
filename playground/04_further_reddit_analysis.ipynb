{
 "cells": [
  {
   "cell_type": "markdown",
   "metadata": {},
   "source": [
    "# 04_further_reddit_analysis\n",
    "\n",
    "in this notebook, we will further explore how we might want to go about analysing the reddit data we have. we may also want to build some functions and workflows for running this analysis which we can then later incorporate into a pipeline-type setup.\n",
    "\n",
    "NL, 02/12/22"
   ]
  },
  {
   "cell_type": "markdown",
   "metadata": {},
   "source": [
    "## IMPORTS"
   ]
  },
  {
   "cell_type": "code",
   "execution_count": 2,
   "metadata": {},
   "outputs": [],
   "source": [
    "import os\n",
    "import json\n",
    "import pandas as pd"
   ]
  },
  {
   "cell_type": "markdown",
   "metadata": {},
   "source": [
    "## THE THING"
   ]
  },
  {
   "cell_type": "markdown",
   "metadata": {},
   "source": [
    "02/12/22:  \n",
    "let's extract domain counts for each of the subreddits we have."
   ]
  },
  {
   "cell_type": "code",
   "execution_count": 16,
   "metadata": {},
   "outputs": [],
   "source": [
    "PATH = '../data/reddit_posts/qatar/'"
   ]
  },
  {
   "cell_type": "code",
   "execution_count": 33,
   "metadata": {},
   "outputs": [],
   "source": [
    "OUT_PATH = '../data/exports/'"
   ]
  },
  {
   "cell_type": "code",
   "execution_count": 17,
   "metadata": {},
   "outputs": [],
   "source": [
    "post_jsons = [PATH+x for x in os.listdir(PATH)]"
   ]
  },
  {
   "cell_type": "code",
   "execution_count": 18,
   "metadata": {},
   "outputs": [],
   "source": [
    "domains = {}\n",
    "\n",
    "for file in post_jsons:\n",
    "    with open(file, 'r') as infile:\n",
    "        for line in infile:\n",
    "            tmp = json.loads(line)\n",
    "            if tmp['domain'] not in domains.keys():\n",
    "                domains[tmp['domain']] = 1\n",
    "            else:\n",
    "                domains[tmp['domain']] += 1"
   ]
  },
  {
   "cell_type": "code",
   "execution_count": 19,
   "metadata": {},
   "outputs": [
    {
     "data": {
      "text/plain": [
       "{'self.qatar': 779,\n",
       " 'v.redd.it': 134,\n",
       " 'i.redd.it': 102,\n",
       " 'reddit.com': 20,\n",
       " 'youtu.be': 15,\n",
       " 'youtube.com': 10,\n",
       " 'twitter.com': 8,\n",
       " 'goapps.info': 3,\n",
       " 'instagram.com': 3,\n",
       " 'express.co.uk': 2,\n",
       " 'tiktok.com': 2,\n",
       " 'bbc.co.uk': 2,\n",
       " 'thepeninsulaqatar.com': 1,\n",
       " 'saudigulfprojects.com': 1,\n",
       " 'bbc.com': 1,\n",
       " 'vegasonlinecasino.com': 1,\n",
       " 'espn.com': 1,\n",
       " 'fashionunited.uk': 1,\n",
       " 'scrabbl.com': 1,\n",
       " 'esims.io': 1,\n",
       " 'jpost.com': 1,\n",
       " 'fb.watch': 1,\n",
       " 'apnews.com': 1,\n",
       " 'marca.com': 1,\n",
       " 'vm.tiktok.com': 1,\n",
       " 'fifaticketshunter.com': 1,\n",
       " '13thmansports.ca': 1,\n",
       " 'mirror.co.uk': 1,\n",
       " 'i.imgur.com': 1,\n",
       " 'sports.yahoo.com': 1,\n",
       " 'variety.com': 1}"
      ]
     },
     "execution_count": 19,
     "metadata": {},
     "output_type": "execute_result"
    }
   ],
   "source": [
    "dict(sorted(domains.items(), key=lambda x:x[1], reverse=True))"
   ]
  },
  {
   "cell_type": "markdown",
   "metadata": {},
   "source": [
    "pulling posts with target domain"
   ]
  },
  {
   "cell_type": "code",
   "execution_count": 23,
   "metadata": {},
   "outputs": [],
   "source": [
    "WC_PATH = '../data/reddit_posts/worldcup/'"
   ]
  },
  {
   "cell_type": "code",
   "execution_count": 24,
   "metadata": {},
   "outputs": [],
   "source": [
    "post_jsons_wc = [WC_PATH+x for x in os.listdir(WC_PATH)]"
   ]
  },
  {
   "cell_type": "code",
   "execution_count": 26,
   "metadata": {},
   "outputs": [],
   "source": [
    "post_jsons += post_jsons_wc"
   ]
  },
  {
   "cell_type": "code",
   "execution_count": 28,
   "metadata": {},
   "outputs": [],
   "source": [
    "target_domain = 'v.redd.it'"
   ]
  },
  {
   "cell_type": "code",
   "execution_count": 29,
   "metadata": {},
   "outputs": [],
   "source": [
    "posts = []\n",
    "\n",
    "for file in post_jsons:\n",
    "    with open(file, 'r') as infile:\n",
    "        for line in infile:\n",
    "            tmp = json.loads(line)\n",
    "            if tmp['domain']==target_domain:\n",
    "                posts.append(tmp)"
   ]
  },
  {
   "cell_type": "code",
   "execution_count": 32,
   "metadata": {},
   "outputs": [],
   "source": [
    "posts_with_vids_df = pd.DataFrame(posts)"
   ]
  },
  {
   "cell_type": "code",
   "execution_count": 35,
   "metadata": {},
   "outputs": [],
   "source": [
    "posts_with_vids_df.to_csv(OUT_PATH+'posts_with_vids_worldcup_plus_qatar_subs-021222.csv', index=False)"
   ]
  }
 ],
 "metadata": {
  "kernelspec": {
   "display_name": "Python 3.10.6 ('.venv': venv)",
   "language": "python",
   "name": "python3"
  },
  "language_info": {
   "codemirror_mode": {
    "name": "ipython",
    "version": 3
   },
   "file_extension": ".py",
   "mimetype": "text/x-python",
   "name": "python",
   "nbconvert_exporter": "python",
   "pygments_lexer": "ipython3",
   "version": "3.10.6"
  },
  "orig_nbformat": 4,
  "vscode": {
   "interpreter": {
    "hash": "c9d1feaa8e9cddc59f1ae355950f3806cb42c4260f42587cbc52f3c11be4e1e3"
   }
  }
 },
 "nbformat": 4,
 "nbformat_minor": 2
}
