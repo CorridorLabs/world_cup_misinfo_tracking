{
 "cells": [
  {
   "attachments": {},
   "cell_type": "markdown",
   "metadata": {},
   "source": [
    "# 01_qatar_mention_analysis\n",
    "For the RootCause/Corridor Labs collab, we want to do a range of analyses on the tweets we have collected.  \n",
    "This notebook contains said analyses, ordered in chapters. The chapters are as follows: \n",
    "1. **Qatar-related tweets: How has (simple) **sentiment** evolved over time and what can we learn from it?** \n",
    "2. Tweets in general. Production of a descriptive overview of what the tweets we have collected contain, sorted by popularity/frequency.\n",
    "3. MERS tweets. Can we find any interesting patterns in world-cup-tangential tweets mentioning 'MERS'/'camel flu'?\n",
    "4. General investigations into misinformation etc. Can we find origins and evolutions about the Saudi X Ray image? \n",
    "\n",
    "NL, 22/12/22"
   ]
  },
  {
   "attachments": {},
   "cell_type": "markdown",
   "metadata": {},
   "source": [
    "## IMPORTS"
   ]
  },
  {
   "cell_type": "code",
   "execution_count": 216,
   "metadata": {},
   "outputs": [],
   "source": [
    "import os\n",
    "import json\n",
    "import re\n",
    "import pandas as pd\n",
    "import numpy as np\n",
    "from dateutil import parser as date_parser\n",
    "from collections import Counter\n",
    "\n",
    "import seaborn as sns\n",
    "import matplotlib.pyplot as plt\n",
    "import plotly.express as px\n",
    "import plotly.graph_objects as go\n",
    "from wordcloud import WordCloud, STOPWORDS, ImageColorGenerator\n",
    "\n",
    "from vaderSentiment.vaderSentiment import SentimentIntensityAnalyzer\n",
    "from langdetect import detect, LangDetectException\n",
    "from nltk.corpus import stopwords\n",
    "from nltk.tokenize import RegexpTokenizer\n",
    "from nltk.stem import WordNetLemmatizer"
   ]
  },
  {
   "attachments": {},
   "cell_type": "markdown",
   "metadata": {},
   "source": [
    "## FUNCTIONS"
   ]
  },
  {
   "cell_type": "code",
   "execution_count": 2,
   "metadata": {},
   "outputs": [],
   "source": [
    "def percentage_bar_plot(df: pd.DataFrame,\n",
    "                        x: str,\n",
    "                        y: str,\n",
    "                        y_title: str = None,\n",
    "                        x_title: str = None,\n",
    "                        x_ticks: list = None,\n",
    "                        y_ticks: list = None,\n",
    "                        **kwargs):\n",
    "    '''\n",
    "    oftentimes, we want to plot the distribution of \n",
    "    something in a relative manner (looking at percentages\n",
    "    rather than absolutes). we can achieve this with this function.\n",
    "    \n",
    "    args:\n",
    "        - df, pandas df, the underlying dataframe\n",
    "        - x, str, must be a variable in the df. this is the var we are groping by\n",
    "        - y, str, must be a variable in the df. this is the quantity to be represented in percent\n",
    "        - y_title, str, optional title for y-axis\n",
    "        - x_title, str, optional title for x-axis\n",
    "    '''\n",
    "    ax = (df\n",
    "        .groupby(x)[y]\n",
    "        .value_counts(normalize=True)\n",
    "        .mul(100)\n",
    "        .rename('percent')\n",
    "        .reset_index()\n",
    "        .pipe((sns.catplot,'data'), x=x,y='percent',hue=y,kind='bar', **kwargs))\n",
    "\n",
    "    if x_title:\n",
    "        ax.set_xlabels(x_title)\n",
    "\n",
    "    if y_title:\n",
    "        ax.set_ylabels(y_title)\n",
    "\n",
    "    if x_ticks:\n",
    "        ax.set_xticklabels(x_ticks)\n",
    "\n",
    "    if y_ticks:\n",
    "        ax.set_yticklabels(y_ticks)\n",
    "    \n",
    "    return ax"
   ]
  },
  {
   "cell_type": "code",
   "execution_count": 3,
   "metadata": {},
   "outputs": [],
   "source": [
    "def remove_pattern(input, pattern):\n",
    "    out = re.sub(pattern, '', input)\n",
    "    return out\n",
    "\n",
    "def clean_tweets(tweets):\n",
    "    tweets = np.vectorize(remove_pattern)(tweets, \"RT @[\\w]*:\")\n",
    "    tweets = np.vectorize(remove_pattern)(tweets, \"@[\\w]*\")\n",
    "    tweets = np.vectorize(remove_pattern)(tweets, \"https?://[A-Za-z0-9./]*\")\n",
    "    return tweets"
   ]
  },
  {
   "cell_type": "code",
   "execution_count": 194,
   "metadata": {},
   "outputs": [],
   "source": [
    "lemmatizer = WordNetLemmatizer()\n",
    "\n",
    "def remove_stopwords(text:list):\n",
    "    words = [w for w in text if w not in stopwords.words('english')]\n",
    "    return words\n",
    "\n",
    "def word_lemmatizer(text:list):\n",
    "    lem_text = [lemmatizer.lemmatize(i) for i in text]\n",
    "    return lem_text"
   ]
  },
  {
   "attachments": {},
   "cell_type": "markdown",
   "metadata": {},
   "source": [
    "## PATHS & CONSTANTS"
   ]
  },
  {
   "cell_type": "code",
   "execution_count": 4,
   "metadata": {},
   "outputs": [],
   "source": [
    "TWEETS_PATH = '/home/nikloynes/projects/world_cup_misinfo_tracking/data/tweets_clean/'\n",
    "EXPORT_PATH = '/home/nikloynes/projects/world_cup_misinfo_tracking/data/exports/'"
   ]
  },
  {
   "attachments": {},
   "cell_type": "markdown",
   "metadata": {},
   "source": [
    "## INIT"
   ]
  },
  {
   "cell_type": "code",
   "execution_count": 5,
   "metadata": {},
   "outputs": [],
   "source": [
    "sentiment_analyser = SentimentIntensityAnalyzer()"
   ]
  },
  {
   "attachments": {},
   "cell_type": "markdown",
   "metadata": {},
   "source": [
    "## THE THING!"
   ]
  },
  {
   "attachments": {},
   "cell_type": "markdown",
   "metadata": {},
   "source": [
    "### QATAR"
   ]
  },
  {
   "attachments": {},
   "cell_type": "markdown",
   "metadata": {},
   "source": [
    "In the first chapter, we analyse tweets in our sample containing the verbatim mention of `qatar` in any capitalisation.  \n",
    "While we want to perform further analyses on these tweets, specifically `sentiment analysis`; we will begin by extracting these tweets, and looking at some very basic distributions.  "
   ]
  },
  {
   "attachments": {},
   "cell_type": "markdown",
   "metadata": {},
   "source": [
    "#### Filtering data & descriptives"
   ]
  },
  {
   "cell_type": "code",
   "execution_count": 6,
   "metadata": {},
   "outputs": [],
   "source": [
    "tweet_files = os.listdir(TWEETS_PATH)"
   ]
  },
  {
   "cell_type": "code",
   "execution_count": 7,
   "metadata": {},
   "outputs": [],
   "source": [
    "tweet_files.sort()"
   ]
  },
  {
   "cell_type": "code",
   "execution_count": 8,
   "metadata": {},
   "outputs": [],
   "source": [
    "tweet_files.remove('tweets_2022_12_18-16_00_01-old_broken.json')"
   ]
  },
  {
   "cell_type": "code",
   "execution_count": 9,
   "metadata": {},
   "outputs": [],
   "source": [
    "qatar_tweets = {\n",
    "    '2022_11_26' : [],\n",
    "    '2022_12_04' : [],\n",
    "    '2022_12_14' : [],\n",
    "    '2022_12_18' : []\n",
    "}\n",
    "\n",
    "n_tweets = {\n",
    "    '2022_11_26' : {\n",
    "        'qatar' : 0,\n",
    "        'non_qatar' : 0\n",
    "    },\n",
    "    '2022_12_04' : {\n",
    "        'qatar' : 0,\n",
    "        'non_qatar' : 0\n",
    "    },\n",
    "    '2022_12_14' : {\n",
    "        'qatar' : 0,\n",
    "        'non_qatar' : 0\n",
    "    },\n",
    "    '2022_12_18' : {\n",
    "        'qatar' : 0,\n",
    "        'non_qatar' : 0\n",
    "    }\n",
    "}"
   ]
  },
  {
   "cell_type": "code",
   "execution_count": 10,
   "metadata": {},
   "outputs": [
    {
     "name": "stdout",
     "output_type": "stream",
     "text": [
      "Completed filtering of file tweets_2022_11_26-03_44_51.json. N qatar tweets: 554. N non-qatar tweets: 1710.\n",
      "Completed filtering of file tweets_2022_11_26-04_00_02.json. N qatar tweets: 6196. N non-qatar tweets: 19523.\n",
      "Completed filtering of file tweets_2022_11_26-05_00_01.json. N qatar tweets: 10274. N non-qatar tweets: 33614.\n",
      "Completed filtering of file tweets_2022_11_26-06_00_01.json. N qatar tweets: 10489. N non-qatar tweets: 39865.\n",
      "Completed filtering of file tweets_2022_11_26-07_00_01.json. N qatar tweets: 11311. N non-qatar tweets: 44437.\n",
      "Completed filtering of file tweets_2022_11_26-08_00_01.json. N qatar tweets: 12808. N non-qatar tweets: 48970.\n",
      "Completed filtering of file tweets_2022_11_26-09_00_01.json. N qatar tweets: 2554. N non-qatar tweets: 8933.\n",
      "Completed filtering of file tweets_2022_11_26-10_00_01.json. N qatar tweets: 3245. N non-qatar tweets: 9949.\n",
      "Completed filtering of file tweets_2022_11_26-11_00_01.json. N qatar tweets: 17973. N non-qatar tweets: 68731.\n",
      "Completed filtering of file tweets_2022_11_26-12_00_01.json. N qatar tweets: 14743. N non-qatar tweets: 66365.\n",
      "Completed filtering of file tweets_2022_11_26-13_00_01.json. N qatar tweets: 12110. N non-qatar tweets: 35169.\n",
      "Completed filtering of file tweets_2022_11_26-14_00_01.json. N qatar tweets: 4425. N non-qatar tweets: 17650.\n",
      "Completed filtering of file tweets_2022_12_04-16_00_01.json. N qatar tweets: 24952. N non-qatar tweets: 74577.\n",
      "Completed filtering of file tweets_2022_12_04-17_00_01.json. N qatar tweets: 20633. N non-qatar tweets: 72010.\n",
      "Completed filtering of file tweets_2022_12_04-18_00_01.json. N qatar tweets: 16460. N non-qatar tweets: 43573.\n",
      "Completed filtering of file tweets_2022_12_04-19_00_01.json. N qatar tweets: 23648. N non-qatar tweets: 64091.\n",
      "Completed filtering of file tweets_2022_12_04-20_00_01.json. N qatar tweets: 21671. N non-qatar tweets: 64178.\n",
      "Completed filtering of file tweets_2022_12_04-21_00_01.json. N qatar tweets: 16144. N non-qatar tweets: 46211.\n",
      "Completed filtering of file tweets_2022_12_04-22_00_01.json. N qatar tweets: 12882. N non-qatar tweets: 29009.\n",
      "Completed filtering of file tweets_2022_12_04-23_00_01.json. N qatar tweets: 191. N non-qatar tweets: 308.\n",
      "Completed filtering of file tweets_2022_12_14-16_00_01.json. N qatar tweets: 5797. N non-qatar tweets: 25726.\n",
      "Completed filtering of file tweets_2022_12_14-17_00_01.json. N qatar tweets: 373. N non-qatar tweets: 1593.\n",
      "Completed filtering of file tweets_2022_12_14-17_49_34.json. N qatar tweets: 2790. N non-qatar tweets: 13141.\n",
      "Completed filtering of file tweets_2022_12_14-18_00_01.json. N qatar tweets: 25680. N non-qatar tweets: 95207.\n",
      "Completed filtering of file tweets_2022_12_14-19_00_02.json. N qatar tweets: 33724. N non-qatar tweets: 125621.\n",
      "Completed filtering of file tweets_2022_12_14-20_00_01.json. N qatar tweets: 31139. N non-qatar tweets: 129846.\n",
      "Completed filtering of file tweets_2022_12_14-21_00_01.json. N qatar tweets: 28402. N non-qatar tweets: 156642.\n",
      "Completed filtering of file tweets_2022_12_14-22_00_01.json. N qatar tweets: 21573. N non-qatar tweets: 135274.\n",
      "Completed filtering of file tweets_2022_12_14-23_00_01.json. N qatar tweets: 6762. N non-qatar tweets: 37964.\n",
      "Completed filtering of file tweets_2022_12_18-14_00_01.json. N qatar tweets: 53672. N non-qatar tweets: 213697.\n",
      "Completed filtering of file tweets_2022_12_18-15_00_01.json. N qatar tweets: 87224. N non-qatar tweets: 439917.\n",
      "Completed filtering of file tweets_2022_12_18-16_00_01.json. N qatar tweets: 70755. N non-qatar tweets: 371740.\n",
      "Completed filtering of file tweets_2022_12_18-17_00_01.json. N qatar tweets: 71884. N non-qatar tweets: 398454.\n",
      "Completed filtering of file tweets_2022_12_18-18_00_01.json. N qatar tweets: 13382. N non-qatar tweets: 85768.\n",
      "Completed filtering of file tweets_2022_12_18-19_00_01.json. N qatar tweets: 15083. N non-qatar tweets: 84194.\n",
      "Completed filtering of file tweets_2022_12_18-20_00_01.json. N qatar tweets: 726. N non-qatar tweets: 4227.\n"
     ]
    }
   ],
   "source": [
    "for file in tweet_files:\n",
    "    target_date = file[7:17]\n",
    "    with open(TWEETS_PATH+file, 'r') as infile:\n",
    "        file_n_qatar = 0\n",
    "        file_n_non_qatar = 0 \n",
    "        for line in infile:\n",
    "            tmp = json.loads(line)\n",
    "            if re.search('qatar', tmp['text'], re.IGNORECASE):\n",
    "                qatar_tweets[target_date].append(tmp)\n",
    "                n_tweets[target_date]['qatar'] += 1\n",
    "                file_n_qatar += 1\n",
    "            else:\n",
    "                n_tweets[target_date]['non_qatar'] += 1\n",
    "                file_n_non_qatar += 1\n",
    "    \n",
    "    print(f'Completed filtering of file {file}. N qatar tweets: {file_n_qatar}. N non-qatar tweets: {file_n_non_qatar}.')"
   ]
  },
  {
   "attachments": {},
   "cell_type": "markdown",
   "metadata": {},
   "source": [
    "Great, we've now filtered and separated our pertinent and non-pertinent tweets. Let's have another look at counts based on the day of data collection: "
   ]
  },
  {
   "cell_type": "code",
   "execution_count": 11,
   "metadata": {},
   "outputs": [],
   "source": [
    "for day in n_tweets:\n",
    "    n_tweets[day]['total'] = n_tweets[day]['qatar'] + n_tweets[day]['non_qatar']\n",
    "    n_tweets[day]['perc_qatar'] = np.round((n_tweets[day]['qatar']/n_tweets[day]['total'])*100, decimals=2)\n",
    "    n_tweets[day]['perc_non_qatar'] = np.round((n_tweets[day]['non_qatar']/n_tweets[day]['total'])*100, decimals=2)"
   ]
  },
  {
   "cell_type": "code",
   "execution_count": 12,
   "metadata": {},
   "outputs": [
    {
     "data": {
      "text/plain": [
       "{'2022_11_26': {'qatar': 106682,\n",
       "  'non_qatar': 394916,\n",
       "  'total': 501598,\n",
       "  'perc_qatar': 21.27,\n",
       "  'perc_non_qatar': 78.73},\n",
       " '2022_12_04': {'qatar': 136581,\n",
       "  'non_qatar': 393957,\n",
       "  'total': 530538,\n",
       "  'perc_qatar': 25.74,\n",
       "  'perc_non_qatar': 74.26},\n",
       " '2022_12_14': {'qatar': 156240,\n",
       "  'non_qatar': 721014,\n",
       "  'total': 877254,\n",
       "  'perc_qatar': 17.81,\n",
       "  'perc_non_qatar': 82.19},\n",
       " '2022_12_18': {'qatar': 312726,\n",
       "  'non_qatar': 1597997,\n",
       "  'total': 1910723,\n",
       "  'perc_qatar': 16.37,\n",
       "  'perc_non_qatar': 83.63}}"
      ]
     },
     "execution_count": 12,
     "metadata": {},
     "output_type": "execute_result"
    }
   ],
   "source": [
    "n_tweets"
   ]
  },
  {
   "attachments": {},
   "cell_type": "markdown",
   "metadata": {},
   "source": [
    "Let's briefly visualise this for ease of understanding... "
   ]
  },
  {
   "cell_type": "code",
   "execution_count": 13,
   "metadata": {},
   "outputs": [],
   "source": [
    "tweet_counts_df = pd.DataFrame(n_tweets)\n",
    "tweet_counts_df = pd.melt(tweet_counts_df, ignore_index=False).reset_index()"
   ]
  },
  {
   "cell_type": "code",
   "execution_count": 14,
   "metadata": {},
   "outputs": [
    {
     "data": {
      "text/plain": [
       "Text(0, 0.5, 'Percentage')"
      ]
     },
     "execution_count": 14,
     "metadata": {},
     "output_type": "execute_result"
    },
    {
     "data": {
      "image/png": "[encoded data removed]",
      "text/plain": [
       "<Figure size 640x480 with 1 Axes>"
      ]
     },
     "metadata": {},
     "output_type": "display_data"
    }
   ],
   "source": [
    "ax = sns.barplot(data=tweet_counts_df.loc[tweet_counts_df['index'].isin(['perc_qatar', 'perc_non_qatar'])], x='variable', y='value', hue='index')\n",
    "ax.set_xlabel('Date')\n",
    "ax.set_ylabel('Percentage')"
   ]
  },
  {
   "attachments": {},
   "cell_type": "markdown",
   "metadata": {},
   "source": [
    "Interesting. \n",
    "- we can see that there isn't *that* much variability when it comes to the proportion of tweets in our samples which mention `qatar`, but we can observe a minimal downward trend towards the final stages of the tournament - at least in the data we've collected.\n",
    "- this may indicate that people tweeting about the tournament focused more on the football rather than its surroundings, but this is merely conjecture. "
   ]
  },
  {
   "attachments": {},
   "cell_type": "markdown",
   "metadata": {},
   "source": [
    "#### Preparing data for sentiment analysis"
   ]
  },
  {
   "attachments": {},
   "cell_type": "markdown",
   "metadata": {},
   "source": [
    "Having identified our pertinent tweets, let's now focus on extracting and cleaning the text from them.  \n",
    "\n",
    "We will perform some pre-processing on tweet text: We want to remove stopwords (e.g. `I, you, an, and, with`), as well as other, twitter-specific redundant text, such as `RT` or handles (`@bob`) as these do not add to the analysis. We may consider performing lemmatization, although this appears already to be included in the `Vader` library we will be utilising for sentiment analysis."
   ]
  },
  {
   "cell_type": "code",
   "execution_count": 15,
   "metadata": {},
   "outputs": [],
   "source": [
    "to_remove = [\n",
    "    'RT @[\\w]*:', # RTs\n",
    "    '@[\\w]*', # mentions\n",
    "    'https?://[A-Za-z0-9./]*' # URLs\n",
    "]"
   ]
  },
  {
   "cell_type": "code",
   "execution_count": null,
   "metadata": {},
   "outputs": [],
   "source": [
    "sentiment_df = pd.DataFrame()\n",
    "\n",
    "for date in qatar_tweets:\n",
    "    sentiment_df = pd.concat([sentiment_df, pd.DataFrame(qatar_tweets[date])[['id', 'created_at', 'text']]])"
   ]
  },
  {
   "cell_type": "code",
   "execution_count": null,
   "metadata": {},
   "outputs": [],
   "source": [
    "sentiment_df = sentiment_df.reset_index(drop=True)"
   ]
  },
  {
   "attachments": {},
   "cell_type": "markdown",
   "metadata": {},
   "source": [
    "Let's now perform the cleaning"
   ]
  },
  {
   "cell_type": "code",
   "execution_count": null,
   "metadata": {},
   "outputs": [],
   "source": [
    "sentiment_df['text'] = clean_tweets(sentiment_df['text'])"
   ]
  },
  {
   "attachments": {},
   "cell_type": "markdown",
   "metadata": {},
   "source": [
    "Let's go ahead and run our vader-based sentiment analysis, and attach it to this data frame"
   ]
  },
  {
   "cell_type": "code",
   "execution_count": null,
   "metadata": {},
   "outputs": [],
   "source": [
    "scores = []\n",
    "\n",
    "for idx, row in sentiment_df.iterrows():\n",
    "    tmp = sentiment_analyser.polarity_scores(row['text'])\n",
    "    scores.append(tmp)"
   ]
  },
  {
   "cell_type": "code",
   "execution_count": null,
   "metadata": {},
   "outputs": [],
   "source": [
    "sentiment_df = pd.concat([sentiment_df, pd.DataFrame(scores)], axis=1)"
   ]
  },
  {
   "attachments": {},
   "cell_type": "markdown",
   "metadata": {},
   "source": [
    "Let's detect what language we think we're dealing with here, and then include that in our analysis."
   ]
  },
  {
   "cell_type": "code",
   "execution_count": null,
   "metadata": {},
   "outputs": [],
   "source": [
    "langs = []\n",
    "\n",
    "for idx, row in sentiment_df.iterrows():\n",
    "    try:\n",
    "        tmp = detect(row['text'])\n",
    "        langs.append(tmp)\n",
    "    except LangDetectException:\n",
    "        tmp = None\n",
    "        langs.append(tmp)"
   ]
  },
  {
   "cell_type": "code",
   "execution_count": null,
   "metadata": {},
   "outputs": [],
   "source": [
    "sentiment_df['predicted_language'] = langs"
   ]
  },
  {
   "cell_type": "code",
   "execution_count": 242,
   "metadata": {},
   "outputs": [],
   "source": [
    "#sentiment_df.to_csv(EXPORT_PATH+'qatar_tmp_scores_languages.csv', index=False)\n",
    "#sentiment_df = pd.read_csv(EXPORT_PATH+'qatar_tmp_scores_languages.csv')"
   ]
  },
  {
   "attachments": {},
   "cell_type": "markdown",
   "metadata": {},
   "source": [
    "Amazing, we were able to add predicted languages to our sentiment df; even though it took something like 69 minutes.  \n",
    "Let's have a look at the distribution of languages in our tweets."
   ]
  },
  {
   "cell_type": "code",
   "execution_count": 21,
   "metadata": {},
   "outputs": [],
   "source": [
    "language_counts_df = sentiment_df.groupby('predicted_language').count().reset_index()[['predicted_language', 'id']]\n",
    "language_counts_df = language_counts_df.loc[language_counts_df['id']>1000]"
   ]
  },
  {
   "attachments": {},
   "cell_type": "markdown",
   "metadata": {},
   "source": [
    "Dropping languages which appear less than 1000 times."
   ]
  },
  {
   "cell_type": "code",
   "execution_count": 22,
   "metadata": {},
   "outputs": [
    {
     "data": {
      "text/plain": [
       "Text(0, 0.5, 'Count')"
      ]
     },
     "execution_count": 22,
     "metadata": {},
     "output_type": "execute_result"
    },
    {
     "data": {
      "image/png": "[encoded data removed]",
      "text/plain": [
       "<Figure size 640x480 with 1 Axes>"
      ]
     },
     "metadata": {},
     "output_type": "display_data"
    }
   ],
   "source": [
    "ax = sns.barplot(language_counts_df, x='predicted_language', y='id')\n",
    "ax.set_xlabel('Predicted language of tweet')\n",
    "ax.set_ylabel('Count')"
   ]
  },
  {
   "attachments": {},
   "cell_type": "markdown",
   "metadata": {},
   "source": [
    "Interesting - so we can see that there are a number of languages besides english here. Spanish is very comon, while French, Portuguese, Arabic and Japanese are also quite common. \n",
    "\n",
    "However -- our sentiment algorithm will only have classified sentiment for **ENGLISH** tweets. Really, this is also all we can feasibly make sense of. For this purpose, we'll discard tweets (for now) from the analysis. "
   ]
  },
  {
   "cell_type": "code",
   "execution_count": 34,
   "metadata": {},
   "outputs": [],
   "source": [
    "english_qatar_tweets_df = sentiment_df.loc[sentiment_df['predicted_language']=='en'].reset_index(drop=True)\n",
    "english_qatar_tweets_df['pos'] = english_qatar_tweets_df['pos'].astype(float)"
   ]
  },
  {
   "attachments": {},
   "cell_type": "markdown",
   "metadata": {},
   "source": [
    "This still leaves us with `386607` tweets. "
   ]
  },
  {
   "attachments": {},
   "cell_type": "markdown",
   "metadata": {},
   "source": [
    "#### Visualising and analysing the sentiment of our 4 chunks of qatar-mentioning, english-language tweets."
   ]
  },
  {
   "attachments": {},
   "cell_type": "markdown",
   "metadata": {},
   "source": [
    "Now, let's dig a little deeper into our sentiment-annotated tweets. We are using the `Vader` sentiment algorithm. *'VADER (Valence Aware Dictionary and sEntiment Reasoner) is a lexicon and rule-based sentiment analysis tool that is specifically attuned to sentiments expressed in social media'* [see here: https://github.com/cjhutto/vaderSentiment]. The classification works by matching the text encountered in a given text unit (here - tweets) to lexicons with which contained reference terms (and combinations of terms, e.g. phrases). These are then combined to produce scores. The algorithm also considers punctuation, capitalisation, and multiple words in conjunction to estimate sentiment polarity.  \n",
    "\n",
    "Using this algorithm, we have created `4 scores` which represent `negative`, `neutral`, `positive` and `compound` sentiment for each of our tweets. These range from `0-1` for the non-compound scores; and from `-1 to +1` for the compound score. See the slice of our sample of english tweets below for an example of what this looks like in our dataset: "
   ]
  },
  {
   "cell_type": "code",
   "execution_count": 35,
   "metadata": {},
   "outputs": [
    {
     "data": {
      "text/html": [
       "<div>\n",
       "<style scoped>\n",
       "    .dataframe tbody tr th:only-of-type {\n",
       "        vertical-align: middle;\n",
       "    }\n",
       "\n",
       "    .dataframe tbody tr th {\n",
       "        vertical-align: top;\n",
       "    }\n",
       "\n",
       "    .dataframe thead th {\n",
       "        text-align: right;\n",
       "    }\n",
       "</style>\n",
       "<table border=\"1\" class=\"dataframe\">\n",
       "  <thead>\n",
       "    <tr style=\"text-align: right;\">\n",
       "      <th></th>\n",
       "      <th>id</th>\n",
       "      <th>created_at</th>\n",
       "      <th>text</th>\n",
       "      <th>neg</th>\n",
       "      <th>neu</th>\n",
       "      <th>pos</th>\n",
       "      <th>compound</th>\n",
       "      <th>predicted_language</th>\n",
       "    </tr>\n",
       "  </thead>\n",
       "  <tbody>\n",
       "    <tr>\n",
       "      <th>0</th>\n",
       "      <td>1596349275914788864</td>\n",
       "      <td>2022-11-26T03:45:00.000Z</td>\n",
       "      <td>Qatar is just the second host nation to ever g...</td>\n",
       "      <td>0.000</td>\n",
       "      <td>1.000</td>\n",
       "      <td>0.000</td>\n",
       "      <td>0.0000</td>\n",
       "      <td>en</td>\n",
       "    </tr>\n",
       "    <tr>\n",
       "      <th>1</th>\n",
       "      <td>1596349282210418688</td>\n",
       "      <td>2022-11-26T03:45:02.000Z</td>\n",
       "      <td>A serbian fan raised Palestine flag during Br...</td>\n",
       "      <td>0.000</td>\n",
       "      <td>0.859</td>\n",
       "      <td>0.141</td>\n",
       "      <td>0.3182</td>\n",
       "      <td>en</td>\n",
       "    </tr>\n",
       "    <tr>\n",
       "      <th>2</th>\n",
       "      <td>1596349282915069952</td>\n",
       "      <td>2022-11-26T03:45:02.000Z</td>\n",
       "      <td>#QatarAWorldCup2022 #FIFAWorldCup \\n#FIFAWorld...</td>\n",
       "      <td>0.000</td>\n",
       "      <td>1.000</td>\n",
       "      <td>0.000</td>\n",
       "      <td>0.0000</td>\n",
       "      <td>en</td>\n",
       "    </tr>\n",
       "    <tr>\n",
       "      <th>3</th>\n",
       "      <td>1596349294982094849</td>\n",
       "      <td>2022-11-26T03:45:05.000Z</td>\n",
       "      <td>meme token supporting the WorldCup vibes wit...</td>\n",
       "      <td>0.096</td>\n",
       "      <td>0.740</td>\n",
       "      <td>0.164</td>\n",
       "      <td>0.2732</td>\n",
       "      <td>en</td>\n",
       "    </tr>\n",
       "    <tr>\n",
       "      <th>4</th>\n",
       "      <td>1596349302825447424</td>\n",
       "      <td>2022-11-26T03:45:07.000Z</td>\n",
       "      <td>Qatar becomes the first country eliminated at...</td>\n",
       "      <td>0.000</td>\n",
       "      <td>1.000</td>\n",
       "      <td>0.000</td>\n",
       "      <td>0.0000</td>\n",
       "      <td>en</td>\n",
       "    </tr>\n",
       "  </tbody>\n",
       "</table>\n",
       "</div>"
      ],
      "text/plain": [
       "                    id                created_at  \\\n",
       "0  1596349275914788864  2022-11-26T03:45:00.000Z   \n",
       "1  1596349282210418688  2022-11-26T03:45:02.000Z   \n",
       "2  1596349282915069952  2022-11-26T03:45:02.000Z   \n",
       "3  1596349294982094849  2022-11-26T03:45:05.000Z   \n",
       "4  1596349302825447424  2022-11-26T03:45:07.000Z   \n",
       "\n",
       "                                                text    neg    neu    pos  \\\n",
       "0  Qatar is just the second host nation to ever g...  0.000  1.000  0.000   \n",
       "1   A serbian fan raised Palestine flag during Br...  0.000  0.859  0.141   \n",
       "2  #QatarAWorldCup2022 #FIFAWorldCup \\n#FIFAWorld...  0.000  1.000  0.000   \n",
       "3    meme token supporting the WorldCup vibes wit...  0.096  0.740  0.164   \n",
       "4   Qatar becomes the first country eliminated at...  0.000  1.000  0.000   \n",
       "\n",
       "   compound predicted_language  \n",
       "0    0.0000                 en  \n",
       "1    0.3182                 en  \n",
       "2    0.0000                 en  \n",
       "3    0.2732                 en  \n",
       "4    0.0000                 en  "
      ]
     },
     "execution_count": 35,
     "metadata": {},
     "output_type": "execute_result"
    }
   ],
   "source": [
    "english_qatar_tweets_df.head()"
   ]
  },
  {
   "attachments": {},
   "cell_type": "markdown",
   "metadata": {},
   "source": [
    "To begin, let's have a look at some core summary statistics for the assigned sentiment scores. "
   ]
  },
  {
   "cell_type": "code",
   "execution_count": 36,
   "metadata": {},
   "outputs": [
    {
     "name": "stdout",
     "output_type": "stream",
     "text": [
      "Mean, `neg` score: 0.040685117070697656\n",
      "Median, `neg` score: 0.0\n",
      "Mean, `neu` score: 0.8359120676454459\n",
      "Median, `neu` score: 0.853\n",
      "Mean, `pos` score: 0.12340533465768588\n",
      "Median, `pos` score: 0.08\n",
      "Mean, `compound` score: 0.22226100868071716\n",
      "Median, `compound` score: 0.0\n"
     ]
    }
   ],
   "source": [
    "print(f'Mean, `neg` score: {np.mean(english_qatar_tweets_df[\"neg\"])}')\n",
    "print(f'Median, `neg` score: {np.median(english_qatar_tweets_df[\"neg\"])}')\n",
    "\n",
    "print(f'Mean, `neu` score: {np.mean(english_qatar_tweets_df[\"neu\"])}')\n",
    "print(f'Median, `neu` score: {np.median(english_qatar_tweets_df[\"neu\"])}')\n",
    "\n",
    "print(f'Mean, `pos` score: {np.mean(english_qatar_tweets_df[\"pos\"])}')\n",
    "print(f'Median, `pos` score: {np.median(english_qatar_tweets_df[\"pos\"])}')\n",
    "\n",
    "print(f'Mean, `compound` score: {np.mean(english_qatar_tweets_df[\"compound\"])}')\n",
    "print(f'Median, `compound` score: {np.median(english_qatar_tweets_df[\"compound\"])}')"
   ]
  },
  {
   "attachments": {},
   "cell_type": "markdown",
   "metadata": {},
   "source": [
    "OK, so this is indicating the following: `Neutral` sentiment appears to be dominating. This is likely affecting the `compound` value more than pos or neg. But - there doesn't appear to be that much in the `neg` department; especially when we compare medians between the different groups."
   ]
  },
  {
   "attachments": {},
   "cell_type": "markdown",
   "metadata": {},
   "source": [
    "Let us now have a look at the **`distribution`** of sentiment across our different scores.  \n",
    "We will do this by producing kernel density plots. These are essentially the same histograms, with the different that they contain a smoothed line rather than a finite number of bins, which is more suitable to a very continuous score (and not a count), as we have it here."
   ]
  },
  {
   "cell_type": "code",
   "execution_count": 37,
   "metadata": {},
   "outputs": [
    {
     "data": {
      "text/plain": [
       "<AxesSubplot: ylabel='Density'>"
      ]
     },
     "execution_count": 37,
     "metadata": {},
     "output_type": "execute_result"
    },
    {
     "data": {
      "image/png": "[encoded data removed]",
      "text/plain": [
       "<Figure size 640x480 with 1 Axes>"
      ]
     },
     "metadata": {},
     "output_type": "display_data"
    }
   ],
   "source": [
    "sns.kdeplot(data=english_qatar_tweets_df[['neg', 'neu', 'pos']])"
   ]
  },
  {
   "attachments": {},
   "cell_type": "markdown",
   "metadata": {},
   "source": [
    "This graph isn't super easy to interpret -- but what we are seeing here is the following (which confirms suspicions from looking at means/medians):\n",
    "- the vast majority of `neg` values are zero, meaning that the algorithm didn't detect any negative language in the thusly labelled tweets\n",
    "- there's also a good chunk of tweets with zero `pos` -- meaning the inverse\n",
    "- and, our third peak is at 1.0 for `neu`, meaning that for that proportion, we find a high proportion of tweets where the algorithm detected complete neutrality - which may, or may not simply indicate that the algorithm encountered its limits.  "
   ]
  },
  {
   "attachments": {},
   "cell_type": "markdown",
   "metadata": {},
   "source": [
    "Let's now look at the same for the `compound` score; which we are most interested in."
   ]
  },
  {
   "cell_type": "code",
   "execution_count": 29,
   "metadata": {},
   "outputs": [
    {
     "data": {
      "text/plain": [
       "<AxesSubplot: xlabel='compound', ylabel='Density'>"
      ]
     },
     "execution_count": 29,
     "metadata": {},
     "output_type": "execute_result"
    },
    {
     "data": {
      "image/png": "[encoded data removed]",
      "text/plain": [
       "<Figure size 640x480 with 1 Axes>"
      ]
     },
     "metadata": {},
     "output_type": "display_data"
    }
   ],
   "source": [
    "sns.kdeplot(data=english_qatar_tweets_df, x='compound')"
   ]
  },
  {
   "attachments": {},
   "cell_type": "markdown",
   "metadata": {},
   "source": [
    "Interesting. This is reproducing what we have seen previously:\n",
    "- a lot of neutrality (or, an indication of not particularly well-working machine)\n",
    "- definitely more positively than negatively classified tweets."
   ]
  },
  {
   "attachments": {},
   "cell_type": "markdown",
   "metadata": {},
   "source": [
    "#### Plotting sentiment over time"
   ]
  },
  {
   "attachments": {},
   "cell_type": "markdown",
   "metadata": {},
   "source": [
    "Now, for the most interesting thing -- plotting sentiment over time.  \n",
    "We are faced with a number of difficulties here: \n",
    "- we don't have a continuous stream of data for the entire timeframe. \n",
    "- for the data we have, we can't trust that it is 100% of the timeframe that it purports to represent. Both twitter's streaming and search capabilities are entirely black boxes; meaning we have to take what we have and make assumptions (or somehow quantify our assumptions). \n",
    "\n",
    "This results in a bunch of caveats:\n",
    "- we can't really draw a straight line from left to right charting the evolution of sentiment from time `t0` to `t1`. \n",
    "- we shouldn't even (really) smooth out our individual data points and connect them; as there may be ones in between (which we are essentially interpolating based on the preceding and following data points). \n",
    "\n",
    "BUT, we will do this anyway, in the knowledge that we have to work with what we have. \n",
    "- We will try to make the distinction between the 4 different time periods / data collection periods clear\n",
    "- we do this by making 4 distinct time plots\n",
    "- If we are missing data for a period of time; ~~we will not interpolate it but leave a hole~~, we will interpolate it, as it just doesn't really make sense otherwise; and allows us a little more interpretability"
   ]
  },
  {
   "cell_type": "code",
   "execution_count": 38,
   "metadata": {},
   "outputs": [],
   "source": [
    "# start by converting string to timestamp\n",
    "english_qatar_tweets_df['created_at'] = pd.to_datetime(english_qatar_tweets_df['created_at'])"
   ]
  },
  {
   "cell_type": "code",
   "execution_count": null,
   "metadata": {},
   "outputs": [],
   "source": [
    "#english_qatar_tweets_df.to_csv(EXPORT_PATH+'english_qatar_tweets.csv', index=False)"
   ]
  },
  {
   "cell_type": "code",
   "execution_count": 52,
   "metadata": {},
   "outputs": [
    {
     "name": "stderr",
     "output_type": "stream",
     "text": [
      "/tmp/ipykernel_7847/97932774.py:1: FutureWarning:\n",
      "\n",
      "The default value of numeric_only in DataFrameGroupBy.mean is deprecated. In a future version, numeric_only will default to False. Either specify numeric_only or select only columns which should be valid for the function.\n",
      "\n"
     ]
    }
   ],
   "source": [
    "grouped_timestamps_df = english_qatar_tweets_df.groupby(pd.Grouper(key='created_at', freq='10Min')).mean().reset_index()"
   ]
  },
  {
   "cell_type": "code",
   "execution_count": 89,
   "metadata": {},
   "outputs": [
    {
     "data": {
      "application/vnd.plotly.v1+json": {
       "config": {
        "plotlyServerURL": "https://plot.ly"
       },
       "data": [
        {
         "connectgaps": true,
         "line": {
          "color": "blue",
          "width": 3.5
         },
         "name": "Compound",
         "type": "scatter",
         "x": [
          "2022-11-26T03:40:00+00:00",
          "2022-11-26T03:50:00+00:00",
          "2022-11-26T04:00:00+00:00",
          "2022-11-26T04:10:00+00:00",
          "2022-11-26T04:20:00+00:00",
          "2022-11-26T04:30:00+00:00",
          "2022-11-26T04:40:00+00:00",
          "2022-11-26T04:50:00+00:00",
          "2022-11-26T05:00:00+00:00",
          "2022-11-26T05:10:00+00:00",
          "2022-11-26T05:20:00+00:00",
          "2022-11-26T05:30:00+00:00",
          "2022-11-26T05:40:00+00:00",
          "2022-11-26T05:50:00+00:00",
          "2022-11-26T06:00:00+00:00",
          "2022-11-26T06:10:00+00:00",
          "2022-11-26T06:20:00+00:00",
          "2022-11-26T06:30:00+00:00",
          "2022-11-26T06:40:00+00:00",
          "2022-11-26T06:50:00+00:00",
          "2022-11-26T07:00:00+00:00",
          "2022-11-26T07:10:00+00:00",
          "2022-11-26T07:20:00+00:00",
          "2022-11-26T07:30:00+00:00",
          "2022-11-26T07:40:00+00:00",
          "2022-11-26T07:50:00+00:00",
          "2022-11-26T08:00:00+00:00",
          "2022-11-26T08:10:00+00:00",
          "2022-11-26T08:20:00+00:00",
          "2022-11-26T08:30:00+00:00",
          "2022-11-26T08:40:00+00:00",
          "2022-11-26T08:50:00+00:00",
          "2022-11-26T09:00:00+00:00",
          "2022-11-26T09:10:00+00:00",
          "2022-11-26T09:20:00+00:00",
          "2022-11-26T09:30:00+00:00",
          "2022-11-26T09:40:00+00:00",
          "2022-11-26T09:50:00+00:00",
          "2022-11-26T10:00:00+00:00",
          "2022-11-26T10:10:00+00:00",
          "2022-11-26T10:20:00+00:00",
          "2022-11-26T10:30:00+00:00",
          "2022-11-26T10:40:00+00:00",
          "2022-11-26T10:50:00+00:00",
          "2022-11-26T11:00:00+00:00",
          "2022-11-26T11:10:00+00:00",
          "2022-11-26T11:20:00+00:00",
          "2022-11-26T11:30:00+00:00",
          "2022-11-26T11:40:00+00:00",
          "2022-11-26T11:50:00+00:00",
          "2022-11-26T12:00:00+00:00",
          "2022-11-26T12:10:00+00:00",
          "2022-11-26T12:20:00+00:00",
          "2022-11-26T12:30:00+00:00",
          "2022-11-26T12:40:00+00:00",
          "2022-11-26T12:50:00+00:00",
          "2022-11-26T13:00:00+00:00",
          "2022-11-26T13:10:00+00:00",
          "2022-11-26T13:20:00+00:00",
          "2022-11-26T13:30:00+00:00",
          "2022-11-26T13:40:00+00:00",
          "2022-11-26T13:50:00+00:00",
          "2022-11-26T14:00:00+00:00"
         ],
         "y": [
          0.15697254901960783,
          0.1311142857142857,
          0.07083454133635333,
          0.14587197518097209,
          0.14541379679144387,
          0.13616971428571428,
          null,
          null,
          0.12710682046138416,
          0.12036314720812183,
          0.14000530726256982,
          0.15578503460207613,
          0.09137225305216427,
          0.13541702610669695,
          0.1000677659574468,
          0.09802275077559462,
          0.04680481832543444,
          0.11684421134421134,
          0.15344535743631882,
          0.11898806419257774,
          0.16354290512174643,
          0.1442423335826477,
          0.1279294992175274,
          0.16012164361269324,
          0.16237549618320612,
          0.1268671171171171,
          0.16289106628242075,
          0.14490716395864106,
          0.1340765335235378,
          0.13538588588588588,
          0.17006763005780345,
          0.17616587982832618,
          0.1661883762732175,
          null,
          null,
          null,
          null,
          null,
          0.13932439266236984,
          null,
          null,
          null,
          null,
          null,
          0.10972472559214327,
          0.10429809989142236,
          0.15475396530359356,
          0.16651643753735804,
          0.16657966305655839,
          0.1562971063257066,
          0.17512284803400638,
          0.14386687598116168,
          0.12930208333333335,
          0.1348146803900325,
          null,
          null,
          0.10116631956912028,
          0.132469265609835,
          0.1147677284157586,
          null,
          null,
          null,
          0.1324937724014337
         ]
        },
        {
         "connectgaps": true,
         "fillcolor": "red",
         "name": "Negative",
         "type": "scatter",
         "x": [
          "2022-11-26T03:40:00+00:00",
          "2022-11-26T03:50:00+00:00",
          "2022-11-26T04:00:00+00:00",
          "2022-11-26T04:10:00+00:00",
          "2022-11-26T04:20:00+00:00",
          "2022-11-26T04:30:00+00:00",
          "2022-11-26T04:40:00+00:00",
          "2022-11-26T04:50:00+00:00",
          "2022-11-26T05:00:00+00:00",
          "2022-11-26T05:10:00+00:00",
          "2022-11-26T05:20:00+00:00",
          "2022-11-26T05:30:00+00:00",
          "2022-11-26T05:40:00+00:00",
          "2022-11-26T05:50:00+00:00",
          "2022-11-26T06:00:00+00:00",
          "2022-11-26T06:10:00+00:00",
          "2022-11-26T06:20:00+00:00",
          "2022-11-26T06:30:00+00:00",
          "2022-11-26T06:40:00+00:00",
          "2022-11-26T06:50:00+00:00",
          "2022-11-26T07:00:00+00:00",
          "2022-11-26T07:10:00+00:00",
          "2022-11-26T07:20:00+00:00",
          "2022-11-26T07:30:00+00:00",
          "2022-11-26T07:40:00+00:00",
          "2022-11-26T07:50:00+00:00",
          "2022-11-26T08:00:00+00:00",
          "2022-11-26T08:10:00+00:00",
          "2022-11-26T08:20:00+00:00",
          "2022-11-26T08:30:00+00:00",
          "2022-11-26T08:40:00+00:00",
          "2022-11-26T08:50:00+00:00",
          "2022-11-26T09:00:00+00:00",
          "2022-11-26T09:10:00+00:00",
          "2022-11-26T09:20:00+00:00",
          "2022-11-26T09:30:00+00:00",
          "2022-11-26T09:40:00+00:00",
          "2022-11-26T09:50:00+00:00",
          "2022-11-26T10:00:00+00:00",
          "2022-11-26T10:10:00+00:00",
          "2022-11-26T10:20:00+00:00",
          "2022-11-26T10:30:00+00:00",
          "2022-11-26T10:40:00+00:00",
          "2022-11-26T10:50:00+00:00",
          "2022-11-26T11:00:00+00:00",
          "2022-11-26T11:10:00+00:00",
          "2022-11-26T11:20:00+00:00",
          "2022-11-26T11:30:00+00:00",
          "2022-11-26T11:40:00+00:00",
          "2022-11-26T11:50:00+00:00",
          "2022-11-26T12:00:00+00:00",
          "2022-11-26T12:10:00+00:00",
          "2022-11-26T12:20:00+00:00",
          "2022-11-26T12:30:00+00:00",
          "2022-11-26T12:40:00+00:00",
          "2022-11-26T12:50:00+00:00",
          "2022-11-26T13:00:00+00:00",
          "2022-11-26T13:10:00+00:00",
          "2022-11-26T13:20:00+00:00",
          "2022-11-26T13:30:00+00:00",
          "2022-11-26T13:40:00+00:00",
          "2022-11-26T13:50:00+00:00",
          "2022-11-26T14:00:00+00:00"
         ],
         "y": [
          0.05883823529411765,
          0.06504081632653061,
          0.07860475651189128,
          0.06558324715615305,
          0.06229304812834224,
          0.07225428571428572,
          null,
          null,
          0.0649889669007021,
          0.06107918781725888,
          0.06110428305400373,
          0.054451557093425605,
          0.06710876803551609,
          0.05740635641316686,
          0.05969468085106383,
          0.062065149948293694,
          0.07260742496050553,
          0.0640994560994561,
          0.0614215283483977,
          0.06782948846539619,
          0.058526448362720404,
          0.065207928197457,
          0.06202582159624413,
          0.05972416598860862,
          0.06192824427480916,
          0.0665009009009009,
          0.05738616714697407,
          0.06419202363367799,
          0.05872325249643366,
          0.058701201201201196,
          0.06251445086705201,
          0.05920600858369098,
          0.054674655482324745,
          null,
          null,
          null,
          null,
          null,
          0.04348686167575607,
          null,
          null,
          null,
          null,
          null,
          0.05493876372039284,
          0.05492019543973941,
          0.05490086741016109,
          0.053714285714285714,
          0.051906137184115526,
          0.05868842530282638,
          0.054952709883103086,
          0.05014285714285714,
          0.05636655405405405,
          0.05459263271939328,
          null,
          null,
          0.03908761220825853,
          0.03595600129407959,
          0.04209388097233864,
          null,
          null,
          null,
          0.04981451612903226
         ]
        },
        {
         "connectgaps": true,
         "fillcolor": "green",
         "name": "Positive",
         "type": "scatter",
         "x": [
          "2022-11-26T03:40:00+00:00",
          "2022-11-26T03:50:00+00:00",
          "2022-11-26T04:00:00+00:00",
          "2022-11-26T04:10:00+00:00",
          "2022-11-26T04:20:00+00:00",
          "2022-11-26T04:30:00+00:00",
          "2022-11-26T04:40:00+00:00",
          "2022-11-26T04:50:00+00:00",
          "2022-11-26T05:00:00+00:00",
          "2022-11-26T05:10:00+00:00",
          "2022-11-26T05:20:00+00:00",
          "2022-11-26T05:30:00+00:00",
          "2022-11-26T05:40:00+00:00",
          "2022-11-26T05:50:00+00:00",
          "2022-11-26T06:00:00+00:00",
          "2022-11-26T06:10:00+00:00",
          "2022-11-26T06:20:00+00:00",
          "2022-11-26T06:30:00+00:00",
          "2022-11-26T06:40:00+00:00",
          "2022-11-26T06:50:00+00:00",
          "2022-11-26T07:00:00+00:00",
          "2022-11-26T07:10:00+00:00",
          "2022-11-26T07:20:00+00:00",
          "2022-11-26T07:30:00+00:00",
          "2022-11-26T07:40:00+00:00",
          "2022-11-26T07:50:00+00:00",
          "2022-11-26T08:00:00+00:00",
          "2022-11-26T08:10:00+00:00",
          "2022-11-26T08:20:00+00:00",
          "2022-11-26T08:30:00+00:00",
          "2022-11-26T08:40:00+00:00",
          "2022-11-26T08:50:00+00:00",
          "2022-11-26T09:00:00+00:00",
          "2022-11-26T09:10:00+00:00",
          "2022-11-26T09:20:00+00:00",
          "2022-11-26T09:30:00+00:00",
          "2022-11-26T09:40:00+00:00",
          "2022-11-26T09:50:00+00:00",
          "2022-11-26T10:00:00+00:00",
          "2022-11-26T10:10:00+00:00",
          "2022-11-26T10:20:00+00:00",
          "2022-11-26T10:30:00+00:00",
          "2022-11-26T10:40:00+00:00",
          "2022-11-26T10:50:00+00:00",
          "2022-11-26T11:00:00+00:00",
          "2022-11-26T11:10:00+00:00",
          "2022-11-26T11:20:00+00:00",
          "2022-11-26T11:30:00+00:00",
          "2022-11-26T11:40:00+00:00",
          "2022-11-26T11:50:00+00:00",
          "2022-11-26T12:00:00+00:00",
          "2022-11-26T12:10:00+00:00",
          "2022-11-26T12:20:00+00:00",
          "2022-11-26T12:30:00+00:00",
          "2022-11-26T12:40:00+00:00",
          "2022-11-26T12:50:00+00:00",
          "2022-11-26T13:00:00+00:00",
          "2022-11-26T13:10:00+00:00",
          "2022-11-26T13:20:00+00:00",
          "2022-11-26T13:30:00+00:00",
          "2022-11-26T13:40:00+00:00",
          "2022-11-26T13:50:00+00:00",
          "2022-11-26T14:00:00+00:00"
         ],
         "y": [
          0.12063235294117648,
          0.13538775510204082,
          0.0969127972819932,
          0.10882213029989658,
          0.10773689839572193,
          0.1088457142857143,
          null,
          null,
          0.10480441323971915,
          0.09933197969543148,
          0.10205027932960894,
          0.10180709342560554,
          0.09598668146503885,
          0.1025005675368899,
          0.09468085106382979,
          0.09684281282316443,
          0.09704423380726698,
          0.11668531468531469,
          0.12148890714872639,
          0.11222266800401204,
          0.11648026868178002,
          0.11568661181750187,
          0.10949452269170579,
          0.11814320585842149,
          0.11998396946564886,
          0.10957387387387386,
          0.11544524495677233,
          0.11523929098966026,
          0.10652710413694721,
          0.10407282282282282,
          0.11316570327552987,
          0.1124277539341917,
          0.10592570401437987,
          null,
          null,
          null,
          null,
          null,
          0.08191075855230541,
          null,
          null,
          null,
          null,
          null,
          0.09191623339110341,
          0.08944028230184582,
          0.10092812887236678,
          0.1079982068141064,
          0.10101624548736463,
          0.10264939434724092,
          0.11326461211477151,
          0.1014625850340136,
          0.098,
          0.0986646803900325,
          null,
          null,
          0.06770807899461401,
          0.07105855710126173,
          0.07450712489522213,
          null,
          null,
          null,
          0.09117383512544804
         ]
        },
        {
         "connectgaps": true,
         "line": {
          "color": "orange"
         },
         "name": "Neutral",
         "type": "scatter",
         "x": [
          "2022-11-26T03:40:00+00:00",
          "2022-11-26T03:50:00+00:00",
          "2022-11-26T04:00:00+00:00",
          "2022-11-26T04:10:00+00:00",
          "2022-11-26T04:20:00+00:00",
          "2022-11-26T04:30:00+00:00",
          "2022-11-26T04:40:00+00:00",
          "2022-11-26T04:50:00+00:00",
          "2022-11-26T05:00:00+00:00",
          "2022-11-26T05:10:00+00:00",
          "2022-11-26T05:20:00+00:00",
          "2022-11-26T05:30:00+00:00",
          "2022-11-26T05:40:00+00:00",
          "2022-11-26T05:50:00+00:00",
          "2022-11-26T06:00:00+00:00",
          "2022-11-26T06:10:00+00:00",
          "2022-11-26T06:20:00+00:00",
          "2022-11-26T06:30:00+00:00",
          "2022-11-26T06:40:00+00:00",
          "2022-11-26T06:50:00+00:00",
          "2022-11-26T07:00:00+00:00",
          "2022-11-26T07:10:00+00:00",
          "2022-11-26T07:20:00+00:00",
          "2022-11-26T07:30:00+00:00",
          "2022-11-26T07:40:00+00:00",
          "2022-11-26T07:50:00+00:00",
          "2022-11-26T08:00:00+00:00",
          "2022-11-26T08:10:00+00:00",
          "2022-11-26T08:20:00+00:00",
          "2022-11-26T08:30:00+00:00",
          "2022-11-26T08:40:00+00:00",
          "2022-11-26T08:50:00+00:00",
          "2022-11-26T09:00:00+00:00",
          "2022-11-26T09:10:00+00:00",
          "2022-11-26T09:20:00+00:00",
          "2022-11-26T09:30:00+00:00",
          "2022-11-26T09:40:00+00:00",
          "2022-11-26T09:50:00+00:00",
          "2022-11-26T10:00:00+00:00",
          "2022-11-26T10:10:00+00:00",
          "2022-11-26T10:20:00+00:00",
          "2022-11-26T10:30:00+00:00",
          "2022-11-26T10:40:00+00:00",
          "2022-11-26T10:50:00+00:00",
          "2022-11-26T11:00:00+00:00",
          "2022-11-26T11:10:00+00:00",
          "2022-11-26T11:20:00+00:00",
          "2022-11-26T11:30:00+00:00",
          "2022-11-26T11:40:00+00:00",
          "2022-11-26T11:50:00+00:00",
          "2022-11-26T12:00:00+00:00",
          "2022-11-26T12:10:00+00:00",
          "2022-11-26T12:20:00+00:00",
          "2022-11-26T12:30:00+00:00",
          "2022-11-26T12:40:00+00:00",
          "2022-11-26T12:50:00+00:00",
          "2022-11-26T13:00:00+00:00",
          "2022-11-26T13:10:00+00:00",
          "2022-11-26T13:20:00+00:00",
          "2022-11-26T13:30:00+00:00",
          "2022-11-26T13:40:00+00:00",
          "2022-11-26T13:50:00+00:00",
          "2022-11-26T14:00:00+00:00"
         ],
         "y": [
          0.8205539215686275,
          0.7995918367346939,
          0.8244903737259343,
          0.8255977249224404,
          0.829972192513369,
          0.8189057142857143,
          null,
          null,
          0.830222668004012,
          0.8396,
          0.8368510242085662,
          0.8437491349480969,
          0.8369145394006658,
          0.8400930760499432,
          0.8456329787234043,
          0.8410920372285419,
          0.8305134281200632,
          0.8193356643356643,
          0.8171561216105176,
          0.820013039117352,
          0.8250411418975651,
          0.8191533283470457,
          0.8285148669796558,
          0.8221570382424735,
          0.8181167938931297,
          0.8239486486486486,
          0.8271837175792508,
          0.8205960118168389,
          0.8347639087018545,
          0.837253003003003,
          0.8243320488118175,
          0.8283834048640915,
          0.8394146195326543,
          null,
          null,
          null,
          null,
          null,
          0.8746137828458106,
          null,
          null,
          null,
          null,
          null,
          0.8531467359907569,
          0.8556579804560261,
          0.8441765799256505,
          0.8383030484160191,
          0.8470818291215403,
          0.8386736204576043,
          0.8317938363443145,
          0.848396127681842,
          0.8456430180180181,
          0.8467751895991332,
          null,
          null,
          0.8932082585278277,
          0.8930016175994824,
          0.8833855825649622,
          null,
          null,
          null,
          0.8590152329749103
         ]
        }
       ],
       "layout": {
        "legend": {
         "title": {
          "text": "Sentiment type"
         }
        },
        "template": {
         "data": {
          "bar": [
           {
            "error_x": {
             "color": "#2a3f5f"
            },
            "error_y": {
             "color": "#2a3f5f"
            },
            "marker": {
             "line": {
              "color": "#E5ECF6",
              "width": 0.5
             },
             "pattern": {
              "fillmode": "overlay",
              "size": 10,
              "solidity": 0.2
             }
            },
            "type": "bar"
           }
          ],
          "barpolar": [
           {
            "marker": {
             "line": {
              "color": "#E5ECF6",
              "width": 0.5
             },
             "pattern": {
              "fillmode": "overlay",
              "size": 10,
              "solidity": 0.2
             }
            },
            "type": "barpolar"
           }
          ],
          "carpet": [
           {
            "aaxis": {
             "endlinecolor": "#2a3f5f",
             "gridcolor": "white",
             "linecolor": "white",
             "minorgridcolor": "white",
             "startlinecolor": "#2a3f5f"
            },
            "baxis": {
             "endlinecolor": "#2a3f5f",
             "gridcolor": "white",
             "linecolor": "white",
             "minorgridcolor": "white",
             "startlinecolor": "#2a3f5f"
            },
            "type": "carpet"
           }
          ],
          "choropleth": [
           {
            "colorbar": {
             "outlinewidth": 0,
             "ticks": ""
            },
            "type": "choropleth"
           }
          ],
          "contour": [
           {
            "colorbar": {
             "outlinewidth": 0,
             "ticks": ""
            },
            "colorscale": [
             [
              0,
              "#0d0887"
             ],
             [
              0.1111111111111111,
              "#46039f"
             ],
             [
              0.2222222222222222,
              "#7201a8"
             ],
             [
              0.3333333333333333,
              "#9c179e"
             ],
             [
              0.4444444444444444,
              "#bd3786"
             ],
             [
              0.5555555555555556,
              "#d8576b"
             ],
             [
              0.6666666666666666,
              "#ed7953"
             ],
             [
              0.7777777777777778,
              "#fb9f3a"
             ],
             [
              0.8888888888888888,
              "#fdca26"
             ],
             [
              1,
              "#f0f921"
             ]
            ],
            "type": "contour"
           }
          ],
          "contourcarpet": [
           {
            "colorbar": {
             "outlinewidth": 0,
             "ticks": ""
            },
            "type": "contourcarpet"
           }
          ],
          "heatmap": [
           {
            "colorbar": {
             "outlinewidth": 0,
             "ticks": ""
            },
            "colorscale": [
             [
              0,
              "#0d0887"
             ],
             [
              0.1111111111111111,
              "#46039f"
             ],
             [
              0.2222222222222222,
              "#7201a8"
             ],
             [
              0.3333333333333333,
              "#9c179e"
             ],
             [
              0.4444444444444444,
              "#bd3786"
             ],
             [
              0.5555555555555556,
              "#d8576b"
             ],
             [
              0.6666666666666666,
              "#ed7953"
             ],
             [
              0.7777777777777778,
              "#fb9f3a"
             ],
             [
              0.8888888888888888,
              "#fdca26"
             ],
             [
              1,
              "#f0f921"
             ]
            ],
            "type": "heatmap"
           }
          ],
          "heatmapgl": [
           {
            "colorbar": {
             "outlinewidth": 0,
             "ticks": ""
            },
            "colorscale": [
             [
              0,
              "#0d0887"
             ],
             [
              0.1111111111111111,
              "#46039f"
             ],
             [
              0.2222222222222222,
              "#7201a8"
             ],
             [
              0.3333333333333333,
              "#9c179e"
             ],
             [
              0.4444444444444444,
              "#bd3786"
             ],
             [
              0.5555555555555556,
              "#d8576b"
             ],
             [
              0.6666666666666666,
              "#ed7953"
             ],
             [
              0.7777777777777778,
              "#fb9f3a"
             ],
             [
              0.8888888888888888,
              "#fdca26"
             ],
             [
              1,
              "#f0f921"
             ]
            ],
            "type": "heatmapgl"
           }
          ],
          "histogram": [
           {
            "marker": {
             "pattern": {
              "fillmode": "overlay",
              "size": 10,
              "solidity": 0.2
             }
            },
            "type": "histogram"
           }
          ],
          "histogram2d": [
           {
            "colorbar": {
             "outlinewidth": 0,
             "ticks": ""
            },
            "colorscale": [
             [
              0,
              "#0d0887"
             ],
             [
              0.1111111111111111,
              "#46039f"
             ],
             [
              0.2222222222222222,
              "#7201a8"
             ],
             [
              0.3333333333333333,
              "#9c179e"
             ],
             [
              0.4444444444444444,
              "#bd3786"
             ],
             [
              0.5555555555555556,
              "#d8576b"
             ],
             [
              0.6666666666666666,
              "#ed7953"
             ],
             [
              0.7777777777777778,
              "#fb9f3a"
             ],
             [
              0.8888888888888888,
              "#fdca26"
             ],
             [
              1,
              "#f0f921"
             ]
            ],
            "type": "histogram2d"
           }
          ],
          "histogram2dcontour": [
           {
            "colorbar": {
             "outlinewidth": 0,
             "ticks": ""
            },
            "colorscale": [
             [
              0,
              "#0d0887"
             ],
             [
              0.1111111111111111,
              "#46039f"
             ],
             [
              0.2222222222222222,
              "#7201a8"
             ],
             [
              0.3333333333333333,
              "#9c179e"
             ],
             [
              0.4444444444444444,
              "#bd3786"
             ],
             [
              0.5555555555555556,
              "#d8576b"
             ],
             [
              0.6666666666666666,
              "#ed7953"
             ],
             [
              0.7777777777777778,
              "#fb9f3a"
             ],
             [
              0.8888888888888888,
              "#fdca26"
             ],
             [
              1,
              "#f0f921"
             ]
            ],
            "type": "histogram2dcontour"
           }
          ],
          "mesh3d": [
           {
            "colorbar": {
             "outlinewidth": 0,
             "ticks": ""
            },
            "type": "mesh3d"
           }
          ],
          "parcoords": [
           {
            "line": {
             "colorbar": {
              "outlinewidth": 0,
              "ticks": ""
             }
            },
            "type": "parcoords"
           }
          ],
          "pie": [
           {
            "automargin": true,
            "type": "pie"
           }
          ],
          "scatter": [
           {
            "fillpattern": {
             "fillmode": "overlay",
             "size": 10,
             "solidity": 0.2
            },
            "type": "scatter"
           }
          ],
          "scatter3d": [
           {
            "line": {
             "colorbar": {
              "outlinewidth": 0,
              "ticks": ""
             }
            },
            "marker": {
             "colorbar": {
              "outlinewidth": 0,
              "ticks": ""
             }
            },
            "type": "scatter3d"
           }
          ],
          "scattercarpet": [
           {
            "marker": {
             "colorbar": {
              "outlinewidth": 0,
              "ticks": ""
             }
            },
            "type": "scattercarpet"
           }
          ],
          "scattergeo": [
           {
            "marker": {
             "colorbar": {
              "outlinewidth": 0,
              "ticks": ""
             }
            },
            "type": "scattergeo"
           }
          ],
          "scattergl": [
           {
            "marker": {
             "colorbar": {
              "outlinewidth": 0,
              "ticks": ""
             }
            },
            "type": "scattergl"
           }
          ],
          "scattermapbox": [
           {
            "marker": {
             "colorbar": {
              "outlinewidth": 0,
              "ticks": ""
             }
            },
            "type": "scattermapbox"
           }
          ],
          "scatterpolar": [
           {
            "marker": {
             "colorbar": {
              "outlinewidth": 0,
              "ticks": ""
             }
            },
            "type": "scatterpolar"
           }
          ],
          "scatterpolargl": [
           {
            "marker": {
             "colorbar": {
              "outlinewidth": 0,
              "ticks": ""
             }
            },
            "type": "scatterpolargl"
           }
          ],
          "scatterternary": [
           {
            "marker": {
             "colorbar": {
              "outlinewidth": 0,
              "ticks": ""
             }
            },
            "type": "scatterternary"
           }
          ],
          "surface": [
           {
            "colorbar": {
             "outlinewidth": 0,
             "ticks": ""
            },
            "colorscale": [
             [
              0,
              "#0d0887"
             ],
             [
              0.1111111111111111,
              "#46039f"
             ],
             [
              0.2222222222222222,
              "#7201a8"
             ],
             [
              0.3333333333333333,
              "#9c179e"
             ],
             [
              0.4444444444444444,
              "#bd3786"
             ],
             [
              0.5555555555555556,
              "#d8576b"
             ],
             [
              0.6666666666666666,
              "#ed7953"
             ],
             [
              0.7777777777777778,
              "#fb9f3a"
             ],
             [
              0.8888888888888888,
              "#fdca26"
             ],
             [
              1,
              "#f0f921"
             ]
            ],
            "type": "surface"
           }
          ],
          "table": [
           {
            "cells": {
             "fill": {
              "color": "#EBF0F8"
             },
             "line": {
              "color": "white"
             }
            },
            "header": {
             "fill": {
              "color": "#C8D4E3"
             },
             "line": {
              "color": "white"
             }
            },
            "type": "table"
           }
          ]
         },
         "layout": {
          "annotationdefaults": {
           "arrowcolor": "#2a3f5f",
           "arrowhead": 0,
           "arrowwidth": 1
          },
          "autotypenumbers": "strict",
          "coloraxis": {
           "colorbar": {
            "outlinewidth": 0,
            "ticks": ""
           }
          },
          "colorscale": {
           "diverging": [
            [
             0,
             "#8e0152"
            ],
            [
             0.1,
             "#c51b7d"
            ],
            [
             0.2,
             "#de77ae"
            ],
            [
             0.3,
             "#f1b6da"
            ],
            [
             0.4,
             "#fde0ef"
            ],
            [
             0.5,
             "#f7f7f7"
            ],
            [
             0.6,
             "#e6f5d0"
            ],
            [
             0.7,
             "#b8e186"
            ],
            [
             0.8,
             "#7fbc41"
            ],
            [
             0.9,
             "#4d9221"
            ],
            [
             1,
             "#276419"
            ]
           ],
           "sequential": [
            [
             0,
             "#0d0887"
            ],
            [
             0.1111111111111111,
             "#46039f"
            ],
            [
             0.2222222222222222,
             "#7201a8"
            ],
            [
             0.3333333333333333,
             "#9c179e"
            ],
            [
             0.4444444444444444,
             "#bd3786"
            ],
            [
             0.5555555555555556,
             "#d8576b"
            ],
            [
             0.6666666666666666,
             "#ed7953"
            ],
            [
             0.7777777777777778,
             "#fb9f3a"
            ],
            [
             0.8888888888888888,
             "#fdca26"
            ],
            [
             1,
             "#f0f921"
            ]
           ],
           "sequentialminus": [
            [
             0,
             "#0d0887"
            ],
            [
             0.1111111111111111,
             "#46039f"
            ],
            [
             0.2222222222222222,
             "#7201a8"
            ],
            [
             0.3333333333333333,
             "#9c179e"
            ],
            [
             0.4444444444444444,
             "#bd3786"
            ],
            [
             0.5555555555555556,
             "#d8576b"
            ],
            [
             0.6666666666666666,
             "#ed7953"
            ],
            [
             0.7777777777777778,
             "#fb9f3a"
            ],
            [
             0.8888888888888888,
             "#fdca26"
            ],
            [
             1,
             "#f0f921"
            ]
           ]
          },
          "colorway": [
           "#636efa",
           "#EF553B",
           "#00cc96",
           "#ab63fa",
           "#FFA15A",
           "#19d3f3",
           "#FF6692",
           "#B6E880",
           "#FF97FF",
           "#FECB52"
          ],
          "font": {
           "color": "#2a3f5f"
          },
          "geo": {
           "bgcolor": "white",
           "lakecolor": "white",
           "landcolor": "#E5ECF6",
           "showlakes": true,
           "showland": true,
           "subunitcolor": "white"
          },
          "hoverlabel": {
           "align": "left"
          },
          "hovermode": "closest",
          "mapbox": {
           "style": "light"
          },
          "paper_bgcolor": "white",
          "plot_bgcolor": "#E5ECF6",
          "polar": {
           "angularaxis": {
            "gridcolor": "white",
            "linecolor": "white",
            "ticks": ""
           },
           "bgcolor": "#E5ECF6",
           "radialaxis": {
            "gridcolor": "white",
            "linecolor": "white",
            "ticks": ""
           }
          },
          "scene": {
           "xaxis": {
            "backgroundcolor": "#E5ECF6",
            "gridcolor": "white",
            "gridwidth": 2,
            "linecolor": "white",
            "showbackground": true,
            "ticks": "",
            "zerolinecolor": "white"
           },
           "yaxis": {
            "backgroundcolor": "#E5ECF6",
            "gridcolor": "white",
            "gridwidth": 2,
            "linecolor": "white",
            "showbackground": true,
            "ticks": "",
            "zerolinecolor": "white"
           },
           "zaxis": {
            "backgroundcolor": "#E5ECF6",
            "gridcolor": "white",
            "gridwidth": 2,
            "linecolor": "white",
            "showbackground": true,
            "ticks": "",
            "zerolinecolor": "white"
           }
          },
          "shapedefaults": {
           "line": {
            "color": "#2a3f5f"
           }
          },
          "ternary": {
           "aaxis": {
            "gridcolor": "white",
            "linecolor": "white",
            "ticks": ""
           },
           "baxis": {
            "gridcolor": "white",
            "linecolor": "white",
            "ticks": ""
           },
           "bgcolor": "#E5ECF6",
           "caxis": {
            "gridcolor": "white",
            "linecolor": "white",
            "ticks": ""
           }
          },
          "title": {
           "x": 0.05
          },
          "xaxis": {
           "automargin": true,
           "gridcolor": "white",
           "linecolor": "white",
           "ticks": "",
           "title": {
            "standoff": 15
           },
           "zerolinecolor": "white",
           "zerolinewidth": 2
          },
          "yaxis": {
           "automargin": true,
           "gridcolor": "white",
           "linecolor": "white",
           "ticks": "",
           "title": {
            "standoff": 15
           },
           "zerolinecolor": "white",
           "zerolinewidth": 2
          }
         }
        },
        "title": {
         "text": "VADER sentiment scores, rolling 10-minute average, 2022-11-26"
        },
        "xaxis": {
         "title": {
          "text": "Tweet posted at"
         }
        },
        "yaxis": {
         "title": {
          "text": "VADER sentiment score"
         }
        }
       }
      },
      "text/html": [
       "<div>                            <div id=\"e3be3731-c190-4bdb-b8d7-953ef152620d\" class=\"plotly-graph-div\" style=\"height:525px; width:100%;\"></div>            <script type=\"text/javascript\">                require([\"plotly\"], function(Plotly) {                    window.PLOTLYENV=window.PLOTLYENV || {};                                    if (document.getElementById(\"e3be3731-c190-4bdb-b8d7-953ef152620d\")) {                    Plotly.newPlot(                        \"e3be3731-c190-4bdb-b8d7-953ef152620d\",                        [{\"line\":{\"color\":\"blue\",\"width\":3.5},\"name\":\"Compound\",\"x\":[\"2022-11-26T03:40:00+00:00\",\"2022-11-26T03:50:00+00:00\",\"2022-11-26T04:00:00+00:00\",\"2022-11-26T04:10:00+00:00\",\"2022-11-26T04:20:00+00:00\",\"2022-11-26T04:30:00+00:00\",\"2022-11-26T04:40:00+00:00\",\"2022-11-26T04:50:00+00:00\",\"2022-11-26T05:00:00+00:00\",\"2022-11-26T05:10:00+00:00\",\"2022-11-26T05:20:00+00:00\",\"2022-11-26T05:30:00+00:00\",\"2022-11-26T05:40:00+00:00\",\"2022-11-26T05:50:00+00:00\",\"2022-11-26T06:00:00+00:00\",\"2022-11-26T06:10:00+00:00\",\"2022-11-26T06:20:00+00:00\",\"2022-11-26T06:30:00+00:00\",\"2022-11-26T06:40:00+00:00\",\"2022-11-26T06:50:00+00:00\",\"2022-11-26T07:00:00+00:00\",\"2022-11-26T07:10:00+00:00\",\"2022-11-26T07:20:00+00:00\",\"2022-11-26T07:30:00+00:00\",\"2022-11-26T07:40:00+00:00\",\"2022-11-26T07:50:00+00:00\",\"2022-11-26T08:00:00+00:00\",\"2022-11-26T08:10:00+00:00\",\"2022-11-26T08:20:00+00:00\",\"2022-11-26T08:30:00+00:00\",\"2022-11-26T08:40:00+00:00\",\"2022-11-26T08:50:00+00:00\",\"2022-11-26T09:00:00+00:00\",\"2022-11-26T09:10:00+00:00\",\"2022-11-26T09:20:00+00:00\",\"2022-11-26T09:30:00+00:00\",\"2022-11-26T09:40:00+00:00\",\"2022-11-26T09:50:00+00:00\",\"2022-11-26T10:00:00+00:00\",\"2022-11-26T10:10:00+00:00\",\"2022-11-26T10:20:00+00:00\",\"2022-11-26T10:30:00+00:00\",\"2022-11-26T10:40:00+00:00\",\"2022-11-26T10:50:00+00:00\",\"2022-11-26T11:00:00+00:00\",\"2022-11-26T11:10:00+00:00\",\"2022-11-26T11:20:00+00:00\",\"2022-11-26T11:30:00+00:00\",\"2022-11-26T11:40:00+00:00\",\"2022-11-26T11:50:00+00:00\",\"2022-11-26T12:00:00+00:00\",\"2022-11-26T12:10:00+00:00\",\"2022-11-26T12:20:00+00:00\",\"2022-11-26T12:30:00+00:00\",\"2022-11-26T12:40:00+00:00\",\"2022-11-26T12:50:00+00:00\",\"2022-11-26T13:00:00+00:00\",\"2022-11-26T13:10:00+00:00\",\"2022-11-26T13:20:00+00:00\",\"2022-11-26T13:30:00+00:00\",\"2022-11-26T13:40:00+00:00\",\"2022-11-26T13:50:00+00:00\",\"2022-11-26T14:00:00+00:00\"],\"y\":[0.15697254901960783,0.1311142857142857,0.07083454133635333,0.14587197518097209,0.14541379679144387,0.13616971428571428,null,null,0.12710682046138416,0.12036314720812183,0.14000530726256982,0.15578503460207613,0.09137225305216427,0.13541702610669695,0.1000677659574468,0.09802275077559462,0.04680481832543444,0.11684421134421134,0.15344535743631882,0.11898806419257774,0.16354290512174643,0.1442423335826477,0.1279294992175274,0.16012164361269324,0.16237549618320612,0.1268671171171171,0.16289106628242075,0.14490716395864106,0.1340765335235378,0.13538588588588588,0.17006763005780345,0.17616587982832618,0.1661883762732175,null,null,null,null,null,0.13932439266236984,null,null,null,null,null,0.10972472559214327,0.10429809989142236,0.15475396530359356,0.16651643753735804,0.16657966305655839,0.1562971063257066,0.17512284803400638,0.14386687598116168,0.12930208333333335,0.1348146803900325,null,null,0.10116631956912028,0.132469265609835,0.1147677284157586,null,null,null,0.1324937724014337],\"type\":\"scatter\",\"connectgaps\":true},{\"fillcolor\":\"red\",\"name\":\"Negative\",\"x\":[\"2022-11-26T03:40:00+00:00\",\"2022-11-26T03:50:00+00:00\",\"2022-11-26T04:00:00+00:00\",\"2022-11-26T04:10:00+00:00\",\"2022-11-26T04:20:00+00:00\",\"2022-11-26T04:30:00+00:00\",\"2022-11-26T04:40:00+00:00\",\"2022-11-26T04:50:00+00:00\",\"2022-11-26T05:00:00+00:00\",\"2022-11-26T05:10:00+00:00\",\"2022-11-26T05:20:00+00:00\",\"2022-11-26T05:30:00+00:00\",\"2022-11-26T05:40:00+00:00\",\"2022-11-26T05:50:00+00:00\",\"2022-11-26T06:00:00+00:00\",\"2022-11-26T06:10:00+00:00\",\"2022-11-26T06:20:00+00:00\",\"2022-11-26T06:30:00+00:00\",\"2022-11-26T06:40:00+00:00\",\"2022-11-26T06:50:00+00:00\",\"2022-11-26T07:00:00+00:00\",\"2022-11-26T07:10:00+00:00\",\"2022-11-26T07:20:00+00:00\",\"2022-11-26T07:30:00+00:00\",\"2022-11-26T07:40:00+00:00\",\"2022-11-26T07:50:00+00:00\",\"2022-11-26T08:00:00+00:00\",\"2022-11-26T08:10:00+00:00\",\"2022-11-26T08:20:00+00:00\",\"2022-11-26T08:30:00+00:00\",\"2022-11-26T08:40:00+00:00\",\"2022-11-26T08:50:00+00:00\",\"2022-11-26T09:00:00+00:00\",\"2022-11-26T09:10:00+00:00\",\"2022-11-26T09:20:00+00:00\",\"2022-11-26T09:30:00+00:00\",\"2022-11-26T09:40:00+00:00\",\"2022-11-26T09:50:00+00:00\",\"2022-11-26T10:00:00+00:00\",\"2022-11-26T10:10:00+00:00\",\"2022-11-26T10:20:00+00:00\",\"2022-11-26T10:30:00+00:00\",\"2022-11-26T10:40:00+00:00\",\"2022-11-26T10:50:00+00:00\",\"2022-11-26T11:00:00+00:00\",\"2022-11-26T11:10:00+00:00\",\"2022-11-26T11:20:00+00:00\",\"2022-11-26T11:30:00+00:00\",\"2022-11-26T11:40:00+00:00\",\"2022-11-26T11:50:00+00:00\",\"2022-11-26T12:00:00+00:00\",\"2022-11-26T12:10:00+00:00\",\"2022-11-26T12:20:00+00:00\",\"2022-11-26T12:30:00+00:00\",\"2022-11-26T12:40:00+00:00\",\"2022-11-26T12:50:00+00:00\",\"2022-11-26T13:00:00+00:00\",\"2022-11-26T13:10:00+00:00\",\"2022-11-26T13:20:00+00:00\",\"2022-11-26T13:30:00+00:00\",\"2022-11-26T13:40:00+00:00\",\"2022-11-26T13:50:00+00:00\",\"2022-11-26T14:00:00+00:00\"],\"y\":[0.05883823529411765,0.06504081632653061,0.07860475651189128,0.06558324715615305,0.06229304812834224,0.07225428571428572,null,null,0.0649889669007021,0.06107918781725888,0.06110428305400373,0.054451557093425605,0.06710876803551609,0.05740635641316686,0.05969468085106383,0.062065149948293694,0.07260742496050553,0.0640994560994561,0.0614215283483977,0.06782948846539619,0.058526448362720404,0.065207928197457,0.06202582159624413,0.05972416598860862,0.06192824427480916,0.0665009009009009,0.05738616714697407,0.06419202363367799,0.05872325249643366,0.058701201201201196,0.06251445086705201,0.05920600858369098,0.054674655482324745,null,null,null,null,null,0.04348686167575607,null,null,null,null,null,0.05493876372039284,0.05492019543973941,0.05490086741016109,0.053714285714285714,0.051906137184115526,0.05868842530282638,0.054952709883103086,0.05014285714285714,0.05636655405405405,0.05459263271939328,null,null,0.03908761220825853,0.03595600129407959,0.04209388097233864,null,null,null,0.04981451612903226],\"type\":\"scatter\",\"connectgaps\":true},{\"fillcolor\":\"green\",\"name\":\"Positive\",\"x\":[\"2022-11-26T03:40:00+00:00\",\"2022-11-26T03:50:00+00:00\",\"2022-11-26T04:00:00+00:00\",\"2022-11-26T04:10:00+00:00\",\"2022-11-26T04:20:00+00:00\",\"2022-11-26T04:30:00+00:00\",\"2022-11-26T04:40:00+00:00\",\"2022-11-26T04:50:00+00:00\",\"2022-11-26T05:00:00+00:00\",\"2022-11-26T05:10:00+00:00\",\"2022-11-26T05:20:00+00:00\",\"2022-11-26T05:30:00+00:00\",\"2022-11-26T05:40:00+00:00\",\"2022-11-26T05:50:00+00:00\",\"2022-11-26T06:00:00+00:00\",\"2022-11-26T06:10:00+00:00\",\"2022-11-26T06:20:00+00:00\",\"2022-11-26T06:30:00+00:00\",\"2022-11-26T06:40:00+00:00\",\"2022-11-26T06:50:00+00:00\",\"2022-11-26T07:00:00+00:00\",\"2022-11-26T07:10:00+00:00\",\"2022-11-26T07:20:00+00:00\",\"2022-11-26T07:30:00+00:00\",\"2022-11-26T07:40:00+00:00\",\"2022-11-26T07:50:00+00:00\",\"2022-11-26T08:00:00+00:00\",\"2022-11-26T08:10:00+00:00\",\"2022-11-26T08:20:00+00:00\",\"2022-11-26T08:30:00+00:00\",\"2022-11-26T08:40:00+00:00\",\"2022-11-26T08:50:00+00:00\",\"2022-11-26T09:00:00+00:00\",\"2022-11-26T09:10:00+00:00\",\"2022-11-26T09:20:00+00:00\",\"2022-11-26T09:30:00+00:00\",\"2022-11-26T09:40:00+00:00\",\"2022-11-26T09:50:00+00:00\",\"2022-11-26T10:00:00+00:00\",\"2022-11-26T10:10:00+00:00\",\"2022-11-26T10:20:00+00:00\",\"2022-11-26T10:30:00+00:00\",\"2022-11-26T10:40:00+00:00\",\"2022-11-26T10:50:00+00:00\",\"2022-11-26T11:00:00+00:00\",\"2022-11-26T11:10:00+00:00\",\"2022-11-26T11:20:00+00:00\",\"2022-11-26T11:30:00+00:00\",\"2022-11-26T11:40:00+00:00\",\"2022-11-26T11:50:00+00:00\",\"2022-11-26T12:00:00+00:00\",\"2022-11-26T12:10:00+00:00\",\"2022-11-26T12:20:00+00:00\",\"2022-11-26T12:30:00+00:00\",\"2022-11-26T12:40:00+00:00\",\"2022-11-26T12:50:00+00:00\",\"2022-11-26T13:00:00+00:00\",\"2022-11-26T13:10:00+00:00\",\"2022-11-26T13:20:00+00:00\",\"2022-11-26T13:30:00+00:00\",\"2022-11-26T13:40:00+00:00\",\"2022-11-26T13:50:00+00:00\",\"2022-11-26T14:00:00+00:00\"],\"y\":[0.12063235294117648,0.13538775510204082,0.0969127972819932,0.10882213029989658,0.10773689839572193,0.1088457142857143,null,null,0.10480441323971915,0.09933197969543148,0.10205027932960894,0.10180709342560554,0.09598668146503885,0.1025005675368899,0.09468085106382979,0.09684281282316443,0.09704423380726698,0.11668531468531469,0.12148890714872639,0.11222266800401204,0.11648026868178002,0.11568661181750187,0.10949452269170579,0.11814320585842149,0.11998396946564886,0.10957387387387386,0.11544524495677233,0.11523929098966026,0.10652710413694721,0.10407282282282282,0.11316570327552987,0.1124277539341917,0.10592570401437987,null,null,null,null,null,0.08191075855230541,null,null,null,null,null,0.09191623339110341,0.08944028230184582,0.10092812887236678,0.1079982068141064,0.10101624548736463,0.10264939434724092,0.11326461211477151,0.1014625850340136,0.098,0.0986646803900325,null,null,0.06770807899461401,0.07105855710126173,0.07450712489522213,null,null,null,0.09117383512544804],\"type\":\"scatter\",\"connectgaps\":true},{\"line\":{\"color\":\"orange\"},\"name\":\"Neutral\",\"x\":[\"2022-11-26T03:40:00+00:00\",\"2022-11-26T03:50:00+00:00\",\"2022-11-26T04:00:00+00:00\",\"2022-11-26T04:10:00+00:00\",\"2022-11-26T04:20:00+00:00\",\"2022-11-26T04:30:00+00:00\",\"2022-11-26T04:40:00+00:00\",\"2022-11-26T04:50:00+00:00\",\"2022-11-26T05:00:00+00:00\",\"2022-11-26T05:10:00+00:00\",\"2022-11-26T05:20:00+00:00\",\"2022-11-26T05:30:00+00:00\",\"2022-11-26T05:40:00+00:00\",\"2022-11-26T05:50:00+00:00\",\"2022-11-26T06:00:00+00:00\",\"2022-11-26T06:10:00+00:00\",\"2022-11-26T06:20:00+00:00\",\"2022-11-26T06:30:00+00:00\",\"2022-11-26T06:40:00+00:00\",\"2022-11-26T06:50:00+00:00\",\"2022-11-26T07:00:00+00:00\",\"2022-11-26T07:10:00+00:00\",\"2022-11-26T07:20:00+00:00\",\"2022-11-26T07:30:00+00:00\",\"2022-11-26T07:40:00+00:00\",\"2022-11-26T07:50:00+00:00\",\"2022-11-26T08:00:00+00:00\",\"2022-11-26T08:10:00+00:00\",\"2022-11-26T08:20:00+00:00\",\"2022-11-26T08:30:00+00:00\",\"2022-11-26T08:40:00+00:00\",\"2022-11-26T08:50:00+00:00\",\"2022-11-26T09:00:00+00:00\",\"2022-11-26T09:10:00+00:00\",\"2022-11-26T09:20:00+00:00\",\"2022-11-26T09:30:00+00:00\",\"2022-11-26T09:40:00+00:00\",\"2022-11-26T09:50:00+00:00\",\"2022-11-26T10:00:00+00:00\",\"2022-11-26T10:10:00+00:00\",\"2022-11-26T10:20:00+00:00\",\"2022-11-26T10:30:00+00:00\",\"2022-11-26T10:40:00+00:00\",\"2022-11-26T10:50:00+00:00\",\"2022-11-26T11:00:00+00:00\",\"2022-11-26T11:10:00+00:00\",\"2022-11-26T11:20:00+00:00\",\"2022-11-26T11:30:00+00:00\",\"2022-11-26T11:40:00+00:00\",\"2022-11-26T11:50:00+00:00\",\"2022-11-26T12:00:00+00:00\",\"2022-11-26T12:10:00+00:00\",\"2022-11-26T12:20:00+00:00\",\"2022-11-26T12:30:00+00:00\",\"2022-11-26T12:40:00+00:00\",\"2022-11-26T12:50:00+00:00\",\"2022-11-26T13:00:00+00:00\",\"2022-11-26T13:10:00+00:00\",\"2022-11-26T13:20:00+00:00\",\"2022-11-26T13:30:00+00:00\",\"2022-11-26T13:40:00+00:00\",\"2022-11-26T13:50:00+00:00\",\"2022-11-26T14:00:00+00:00\"],\"y\":[0.8205539215686275,0.7995918367346939,0.8244903737259343,0.8255977249224404,0.829972192513369,0.8189057142857143,null,null,0.830222668004012,0.8396,0.8368510242085662,0.8437491349480969,0.8369145394006658,0.8400930760499432,0.8456329787234043,0.8410920372285419,0.8305134281200632,0.8193356643356643,0.8171561216105176,0.820013039117352,0.8250411418975651,0.8191533283470457,0.8285148669796558,0.8221570382424735,0.8181167938931297,0.8239486486486486,0.8271837175792508,0.8205960118168389,0.8347639087018545,0.837253003003003,0.8243320488118175,0.8283834048640915,0.8394146195326543,null,null,null,null,null,0.8746137828458106,null,null,null,null,null,0.8531467359907569,0.8556579804560261,0.8441765799256505,0.8383030484160191,0.8470818291215403,0.8386736204576043,0.8317938363443145,0.848396127681842,0.8456430180180181,0.8467751895991332,null,null,0.8932082585278277,0.8930016175994824,0.8833855825649622,null,null,null,0.8590152329749103],\"type\":\"scatter\",\"connectgaps\":true}],                        {\"template\":{\"data\":{\"histogram2dcontour\":[{\"type\":\"histogram2dcontour\",\"colorbar\":{\"outlinewidth\":0,\"ticks\":\"\"},\"colorscale\":[[0.0,\"#0d0887\"],[0.1111111111111111,\"#46039f\"],[0.2222222222222222,\"#7201a8\"],[0.3333333333333333,\"#9c179e\"],[0.4444444444444444,\"#bd3786\"],[0.5555555555555556,\"#d8576b\"],[0.6666666666666666,\"#ed7953\"],[0.7777777777777778,\"#fb9f3a\"],[0.8888888888888888,\"#fdca26\"],[1.0,\"#f0f921\"]]}],\"choropleth\":[{\"type\":\"choropleth\",\"colorbar\":{\"outlinewidth\":0,\"ticks\":\"\"}}],\"histogram2d\":[{\"type\":\"histogram2d\",\"colorbar\":{\"outlinewidth\":0,\"ticks\":\"\"},\"colorscale\":[[0.0,\"#0d0887\"],[0.1111111111111111,\"#46039f\"],[0.2222222222222222,\"#7201a8\"],[0.3333333333333333,\"#9c179e\"],[0.4444444444444444,\"#bd3786\"],[0.5555555555555556,\"#d8576b\"],[0.6666666666666666,\"#ed7953\"],[0.7777777777777778,\"#fb9f3a\"],[0.8888888888888888,\"#fdca26\"],[1.0,\"#f0f921\"]]}],\"heatmap\":[{\"type\":\"heatmap\",\"colorbar\":{\"outlinewidth\":0,\"ticks\":\"\"},\"colorscale\":[[0.0,\"#0d0887\"],[0.1111111111111111,\"#46039f\"],[0.2222222222222222,\"#7201a8\"],[0.3333333333333333,\"#9c179e\"],[0.4444444444444444,\"#bd3786\"],[0.5555555555555556,\"#d8576b\"],[0.6666666666666666,\"#ed7953\"],[0.7777777777777778,\"#fb9f3a\"],[0.8888888888888888,\"#fdca26\"],[1.0,\"#f0f921\"]]}],\"heatmapgl\":[{\"type\":\"heatmapgl\",\"colorbar\":{\"outlinewidth\":0,\"ticks\":\"\"},\"colorscale\":[[0.0,\"#0d0887\"],[0.1111111111111111,\"#46039f\"],[0.2222222222222222,\"#7201a8\"],[0.3333333333333333,\"#9c179e\"],[0.4444444444444444,\"#bd3786\"],[0.5555555555555556,\"#d8576b\"],[0.6666666666666666,\"#ed7953\"],[0.7777777777777778,\"#fb9f3a\"],[0.8888888888888888,\"#fdca26\"],[1.0,\"#f0f921\"]]}],\"contourcarpet\":[{\"type\":\"contourcarpet\",\"colorbar\":{\"outlinewidth\":0,\"ticks\":\"\"}}],\"contour\":[{\"type\":\"contour\",\"colorbar\":{\"outlinewidth\":0,\"ticks\":\"\"},\"colorscale\":[[0.0,\"#0d0887\"],[0.1111111111111111,\"#46039f\"],[0.2222222222222222,\"#7201a8\"],[0.3333333333333333,\"#9c179e\"],[0.4444444444444444,\"#bd3786\"],[0.5555555555555556,\"#d8576b\"],[0.6666666666666666,\"#ed7953\"],[0.7777777777777778,\"#fb9f3a\"],[0.8888888888888888,\"#fdca26\"],[1.0,\"#f0f921\"]]}],\"surface\":[{\"type\":\"surface\",\"colorbar\":{\"outlinewidth\":0,\"ticks\":\"\"},\"colorscale\":[[0.0,\"#0d0887\"],[0.1111111111111111,\"#46039f\"],[0.2222222222222222,\"#7201a8\"],[0.3333333333333333,\"#9c179e\"],[0.4444444444444444,\"#bd3786\"],[0.5555555555555556,\"#d8576b\"],[0.6666666666666666,\"#ed7953\"],[0.7777777777777778,\"#fb9f3a\"],[0.8888888888888888,\"#fdca26\"],[1.0,\"#f0f921\"]]}],\"mesh3d\":[{\"type\":\"mesh3d\",\"colorbar\":{\"outlinewidth\":0,\"ticks\":\"\"}}],\"scatter\":[{\"fillpattern\":{\"fillmode\":\"overlay\",\"size\":10,\"solidity\":0.2},\"type\":\"scatter\"}],\"parcoords\":[{\"type\":\"parcoords\",\"line\":{\"colorbar\":{\"outlinewidth\":0,\"ticks\":\"\"}}}],\"scatterpolargl\":[{\"type\":\"scatterpolargl\",\"marker\":{\"colorbar\":{\"outlinewidth\":0,\"ticks\":\"\"}}}],\"bar\":[{\"error_x\":{\"color\":\"#2a3f5f\"},\"error_y\":{\"color\":\"#2a3f5f\"},\"marker\":{\"line\":{\"color\":\"#E5ECF6\",\"width\":0.5},\"pattern\":{\"fillmode\":\"overlay\",\"size\":10,\"solidity\":0.2}},\"type\":\"bar\"}],\"scattergeo\":[{\"type\":\"scattergeo\",\"marker\":{\"colorbar\":{\"outlinewidth\":0,\"ticks\":\"\"}}}],\"scatterpolar\":[{\"type\":\"scatterpolar\",\"marker\":{\"colorbar\":{\"outlinewidth\":0,\"ticks\":\"\"}}}],\"histogram\":[{\"marker\":{\"pattern\":{\"fillmode\":\"overlay\",\"size\":10,\"solidity\":0.2}},\"type\":\"histogram\"}],\"scattergl\":[{\"type\":\"scattergl\",\"marker\":{\"colorbar\":{\"outlinewidth\":0,\"ticks\":\"\"}}}],\"scatter3d\":[{\"type\":\"scatter3d\",\"line\":{\"colorbar\":{\"outlinewidth\":0,\"ticks\":\"\"}},\"marker\":{\"colorbar\":{\"outlinewidth\":0,\"ticks\":\"\"}}}],\"scattermapbox\":[{\"type\":\"scattermapbox\",\"marker\":{\"colorbar\":{\"outlinewidth\":0,\"ticks\":\"\"}}}],\"scatterternary\":[{\"type\":\"scatterternary\",\"marker\":{\"colorbar\":{\"outlinewidth\":0,\"ticks\":\"\"}}}],\"scattercarpet\":[{\"type\":\"scattercarpet\",\"marker\":{\"colorbar\":{\"outlinewidth\":0,\"ticks\":\"\"}}}],\"carpet\":[{\"aaxis\":{\"endlinecolor\":\"#2a3f5f\",\"gridcolor\":\"white\",\"linecolor\":\"white\",\"minorgridcolor\":\"white\",\"startlinecolor\":\"#2a3f5f\"},\"baxis\":{\"endlinecolor\":\"#2a3f5f\",\"gridcolor\":\"white\",\"linecolor\":\"white\",\"minorgridcolor\":\"white\",\"startlinecolor\":\"#2a3f5f\"},\"type\":\"carpet\"}],\"table\":[{\"cells\":{\"fill\":{\"color\":\"#EBF0F8\"},\"line\":{\"color\":\"white\"}},\"header\":{\"fill\":{\"color\":\"#C8D4E3\"},\"line\":{\"color\":\"white\"}},\"type\":\"table\"}],\"barpolar\":[{\"marker\":{\"line\":{\"color\":\"#E5ECF6\",\"width\":0.5},\"pattern\":{\"fillmode\":\"overlay\",\"size\":10,\"solidity\":0.2}},\"type\":\"barpolar\"}],\"pie\":[{\"automargin\":true,\"type\":\"pie\"}]},\"layout\":{\"autotypenumbers\":\"strict\",\"colorway\":[\"#636efa\",\"#EF553B\",\"#00cc96\",\"#ab63fa\",\"#FFA15A\",\"#19d3f3\",\"#FF6692\",\"#B6E880\",\"#FF97FF\",\"#FECB52\"],\"font\":{\"color\":\"#2a3f5f\"},\"hovermode\":\"closest\",\"hoverlabel\":{\"align\":\"left\"},\"paper_bgcolor\":\"white\",\"plot_bgcolor\":\"#E5ECF6\",\"polar\":{\"bgcolor\":\"#E5ECF6\",\"angularaxis\":{\"gridcolor\":\"white\",\"linecolor\":\"white\",\"ticks\":\"\"},\"radialaxis\":{\"gridcolor\":\"white\",\"linecolor\":\"white\",\"ticks\":\"\"}},\"ternary\":{\"bgcolor\":\"#E5ECF6\",\"aaxis\":{\"gridcolor\":\"white\",\"linecolor\":\"white\",\"ticks\":\"\"},\"baxis\":{\"gridcolor\":\"white\",\"linecolor\":\"white\",\"ticks\":\"\"},\"caxis\":{\"gridcolor\":\"white\",\"linecolor\":\"white\",\"ticks\":\"\"}},\"coloraxis\":{\"colorbar\":{\"outlinewidth\":0,\"ticks\":\"\"}},\"colorscale\":{\"sequential\":[[0.0,\"#0d0887\"],[0.1111111111111111,\"#46039f\"],[0.2222222222222222,\"#7201a8\"],[0.3333333333333333,\"#9c179e\"],[0.4444444444444444,\"#bd3786\"],[0.5555555555555556,\"#d8576b\"],[0.6666666666666666,\"#ed7953\"],[0.7777777777777778,\"#fb9f3a\"],[0.8888888888888888,\"#fdca26\"],[1.0,\"#f0f921\"]],\"sequentialminus\":[[0.0,\"#0d0887\"],[0.1111111111111111,\"#46039f\"],[0.2222222222222222,\"#7201a8\"],[0.3333333333333333,\"#9c179e\"],[0.4444444444444444,\"#bd3786\"],[0.5555555555555556,\"#d8576b\"],[0.6666666666666666,\"#ed7953\"],[0.7777777777777778,\"#fb9f3a\"],[0.8888888888888888,\"#fdca26\"],[1.0,\"#f0f921\"]],\"diverging\":[[0,\"#8e0152\"],[0.1,\"#c51b7d\"],[0.2,\"#de77ae\"],[0.3,\"#f1b6da\"],[0.4,\"#fde0ef\"],[0.5,\"#f7f7f7\"],[0.6,\"#e6f5d0\"],[0.7,\"#b8e186\"],[0.8,\"#7fbc41\"],[0.9,\"#4d9221\"],[1,\"#276419\"]]},\"xaxis\":{\"gridcolor\":\"white\",\"linecolor\":\"white\",\"ticks\":\"\",\"title\":{\"standoff\":15},\"zerolinecolor\":\"white\",\"automargin\":true,\"zerolinewidth\":2},\"yaxis\":{\"gridcolor\":\"white\",\"linecolor\":\"white\",\"ticks\":\"\",\"title\":{\"standoff\":15},\"zerolinecolor\":\"white\",\"automargin\":true,\"zerolinewidth\":2},\"scene\":{\"xaxis\":{\"backgroundcolor\":\"#E5ECF6\",\"gridcolor\":\"white\",\"linecolor\":\"white\",\"showbackground\":true,\"ticks\":\"\",\"zerolinecolor\":\"white\",\"gridwidth\":2},\"yaxis\":{\"backgroundcolor\":\"#E5ECF6\",\"gridcolor\":\"white\",\"linecolor\":\"white\",\"showbackground\":true,\"ticks\":\"\",\"zerolinecolor\":\"white\",\"gridwidth\":2},\"zaxis\":{\"backgroundcolor\":\"#E5ECF6\",\"gridcolor\":\"white\",\"linecolor\":\"white\",\"showbackground\":true,\"ticks\":\"\",\"zerolinecolor\":\"white\",\"gridwidth\":2}},\"shapedefaults\":{\"line\":{\"color\":\"#2a3f5f\"}},\"annotationdefaults\":{\"arrowcolor\":\"#2a3f5f\",\"arrowhead\":0,\"arrowwidth\":1},\"geo\":{\"bgcolor\":\"white\",\"landcolor\":\"#E5ECF6\",\"subunitcolor\":\"white\",\"showland\":true,\"showlakes\":true,\"lakecolor\":\"white\"},\"title\":{\"x\":0.05},\"mapbox\":{\"style\":\"light\"}}},\"title\":{\"text\":\"VADER sentiment scores, rolling 10-minute average, 2022-11-26\"},\"xaxis\":{\"title\":{\"text\":\"Tweet posted at\"}},\"yaxis\":{\"title\":{\"text\":\"VADER sentiment score\"}},\"legend\":{\"title\":{\"text\":\"Sentiment type\"}}},                        {\"responsive\": true}                    ).then(function(){\n",
       "                            \n",
       "var gd = document.getElementById('e3be3731-c190-4bdb-b8d7-953ef152620d');\n",
       "var x = new MutationObserver(function (mutations, observer) {{\n",
       "        var display = window.getComputedStyle(gd).display;\n",
       "        if (!display || display === 'none') {{\n",
       "            console.log([gd, 'removed!']);\n",
       "            Plotly.purge(gd);\n",
       "            observer.disconnect();\n",
       "        }}\n",
       "}});\n",
       "\n",
       "// Listen for the removal of the full notebook cells\n",
       "var notebookContainer = gd.closest('#notebook-container');\n",
       "if (notebookContainer) {{\n",
       "    x.observe(notebookContainer, {childList: true});\n",
       "}}\n",
       "\n",
       "// Listen for the clearing of the current output cell\n",
       "var outputEl = gd.closest('.output');\n",
       "if (outputEl) {{\n",
       "    x.observe(outputEl, {childList: true});\n",
       "}}\n",
       "\n",
       "                        })                };                });            </script>        </div>"
      ]
     },
     "metadata": {},
     "output_type": "display_data"
    },
    {
     "data": {
      "application/vnd.plotly.v1+json": {
       "config": {
        "plotlyServerURL": "https://plot.ly"
       },
       "data": [
        {
         "connectgaps": true,
         "line": {
          "color": "blue",
          "width": 3.5
         },
         "name": "Compound",
         "type": "scatter",
         "x": [
          "2022-12-04T16:00:00+00:00",
          "2022-12-04T16:10:00+00:00",
          "2022-12-04T16:20:00+00:00",
          "2022-12-04T16:30:00+00:00",
          "2022-12-04T16:40:00+00:00",
          "2022-12-04T16:50:00+00:00",
          "2022-12-04T17:00:00+00:00",
          "2022-12-04T17:10:00+00:00",
          "2022-12-04T17:20:00+00:00",
          "2022-12-04T17:30:00+00:00",
          "2022-12-04T17:40:00+00:00",
          "2022-12-04T17:50:00+00:00",
          "2022-12-04T18:00:00+00:00",
          "2022-12-04T18:10:00+00:00",
          "2022-12-04T18:20:00+00:00",
          "2022-12-04T18:30:00+00:00",
          "2022-12-04T18:40:00+00:00",
          "2022-12-04T18:50:00+00:00",
          "2022-12-04T19:00:00+00:00",
          "2022-12-04T19:10:00+00:00",
          "2022-12-04T19:20:00+00:00",
          "2022-12-04T19:30:00+00:00",
          "2022-12-04T19:40:00+00:00",
          "2022-12-04T19:50:00+00:00",
          "2022-12-04T20:00:00+00:00",
          "2022-12-04T20:10:00+00:00",
          "2022-12-04T20:20:00+00:00",
          "2022-12-04T20:30:00+00:00",
          "2022-12-04T20:40:00+00:00",
          "2022-12-04T20:50:00+00:00",
          "2022-12-04T21:00:00+00:00",
          "2022-12-04T21:10:00+00:00",
          "2022-12-04T21:20:00+00:00",
          "2022-12-04T21:30:00+00:00",
          "2022-12-04T21:40:00+00:00",
          "2022-12-04T21:50:00+00:00",
          "2022-12-04T22:00:00+00:00",
          "2022-12-04T22:10:00+00:00",
          "2022-12-04T22:20:00+00:00",
          "2022-12-04T22:30:00+00:00",
          "2022-12-04T22:40:00+00:00",
          "2022-12-04T22:50:00+00:00",
          "2022-12-04T23:00:00+00:00",
          "2022-12-04T23:10:00+00:00",
          "2022-12-04T23:20:00+00:00",
          "2022-12-04T23:30:00+00:00"
         ],
         "y": [
          0.21460709785804283,
          0.2222287098419174,
          0.2636985326086957,
          0.21967470078415188,
          0.20305381720430107,
          0.19031931665321497,
          0.22073564975677554,
          0.20867328165374677,
          0.19445208964264085,
          0.20385150931278098,
          0.18898075396825398,
          0.20125922570016475,
          0.1951847664184157,
          0.20336343335659457,
          0.1808253691275168,
          0.1996325484764543,
          0.27330976138828633,
          0.2892508255243195,
          0.31952433460076046,
          0.3308545705279748,
          0.2454073502722323,
          0.23667771247739605,
          0.21261205621301776,
          0.164057171000788,
          0.20911148277583624,
          0.1131199842022117,
          0.1831525316455696,
          0.23513810504634397,
          0.24279005167958656,
          0.14015144532886467,
          0.13424569160997732,
          0.07778102139406487,
          0.029608951048951056,
          0.03724265682656827,
          0.033366015293118105,
          0.06170597572362279,
          0.0695987002437043,
          0.102473753894081,
          0.15292990152193375,
          0.16828520814880424,
          0.19499635157545606,
          0.22912546992481206,
          null,
          null,
          null,
          null
         ]
        },
        {
         "connectgaps": true,
         "fillcolor": "red",
         "name": "Negative",
         "type": "scatter",
         "x": [
          "2022-12-04T16:00:00+00:00",
          "2022-12-04T16:10:00+00:00",
          "2022-12-04T16:20:00+00:00",
          "2022-12-04T16:30:00+00:00",
          "2022-12-04T16:40:00+00:00",
          "2022-12-04T16:50:00+00:00",
          "2022-12-04T17:00:00+00:00",
          "2022-12-04T17:10:00+00:00",
          "2022-12-04T17:20:00+00:00",
          "2022-12-04T17:30:00+00:00",
          "2022-12-04T17:40:00+00:00",
          "2022-12-04T17:50:00+00:00",
          "2022-12-04T18:00:00+00:00",
          "2022-12-04T18:10:00+00:00",
          "2022-12-04T18:20:00+00:00",
          "2022-12-04T18:30:00+00:00",
          "2022-12-04T18:40:00+00:00",
          "2022-12-04T18:50:00+00:00",
          "2022-12-04T19:00:00+00:00",
          "2022-12-04T19:10:00+00:00",
          "2022-12-04T19:20:00+00:00",
          "2022-12-04T19:30:00+00:00",
          "2022-12-04T19:40:00+00:00",
          "2022-12-04T19:50:00+00:00",
          "2022-12-04T20:00:00+00:00",
          "2022-12-04T20:10:00+00:00",
          "2022-12-04T20:20:00+00:00",
          "2022-12-04T20:30:00+00:00",
          "2022-12-04T20:40:00+00:00",
          "2022-12-04T20:50:00+00:00",
          "2022-12-04T21:00:00+00:00",
          "2022-12-04T21:10:00+00:00",
          "2022-12-04T21:20:00+00:00",
          "2022-12-04T21:30:00+00:00",
          "2022-12-04T21:40:00+00:00",
          "2022-12-04T21:50:00+00:00",
          "2022-12-04T22:00:00+00:00",
          "2022-12-04T22:10:00+00:00",
          "2022-12-04T22:20:00+00:00",
          "2022-12-04T22:30:00+00:00",
          "2022-12-04T22:40:00+00:00",
          "2022-12-04T22:50:00+00:00",
          "2022-12-04T23:00:00+00:00",
          "2022-12-04T23:10:00+00:00",
          "2022-12-04T23:20:00+00:00",
          "2022-12-04T23:30:00+00:00"
         ],
         "y": [
          0.021559848803023942,
          0.02070423253442121,
          0.024329891304347828,
          0.02400990507635163,
          0.0321252688172043,
          0.021687651331719127,
          0.026144197359277276,
          0.027610335917312663,
          0.02548031496062992,
          0.02691971740526654,
          0.03569047619047619,
          0.03221004942339374,
          0.0295470548408937,
          0.027515701325889742,
          0.031355704697986576,
          0.025113573407202217,
          0.022167570498915403,
          0.019762159750111558,
          0.01690010369858279,
          0.01475531914893617,
          0.0310480943738657,
          0.03931781193490055,
          0.03821819526627219,
          0.04222970843183609,
          0.038178232651023464,
          0.0321477093206951,
          0.03793670886075949,
          0.03881874356333676,
          0.04061240310077519,
          0.03269459572685379,
          0.039193310657596375,
          0.049881297446514844,
          0.05956013986013987,
          0.05160369003690037,
          0.05718606627017843,
          0.04884593837535014,
          0.0498570268074736,
          0.04325778816199377,
          0.04490957923008058,
          0.035696191319752,
          0.034447761194029855,
          0.027721804511278193,
          null,
          null,
          null,
          null
         ]
        },
        {
         "connectgaps": true,
         "fillcolor": "green",
         "name": "Positive",
         "type": "scatter",
         "x": [
          "2022-12-04T16:00:00+00:00",
          "2022-12-04T16:10:00+00:00",
          "2022-12-04T16:20:00+00:00",
          "2022-12-04T16:30:00+00:00",
          "2022-12-04T16:40:00+00:00",
          "2022-12-04T16:50:00+00:00",
          "2022-12-04T17:00:00+00:00",
          "2022-12-04T17:10:00+00:00",
          "2022-12-04T17:20:00+00:00",
          "2022-12-04T17:30:00+00:00",
          "2022-12-04T17:40:00+00:00",
          "2022-12-04T17:50:00+00:00",
          "2022-12-04T18:00:00+00:00",
          "2022-12-04T18:10:00+00:00",
          "2022-12-04T18:20:00+00:00",
          "2022-12-04T18:30:00+00:00",
          "2022-12-04T18:40:00+00:00",
          "2022-12-04T18:50:00+00:00",
          "2022-12-04T19:00:00+00:00",
          "2022-12-04T19:10:00+00:00",
          "2022-12-04T19:20:00+00:00",
          "2022-12-04T19:30:00+00:00",
          "2022-12-04T19:40:00+00:00",
          "2022-12-04T19:50:00+00:00",
          "2022-12-04T20:00:00+00:00",
          "2022-12-04T20:10:00+00:00",
          "2022-12-04T20:20:00+00:00",
          "2022-12-04T20:30:00+00:00",
          "2022-12-04T20:40:00+00:00",
          "2022-12-04T20:50:00+00:00",
          "2022-12-04T21:00:00+00:00",
          "2022-12-04T21:10:00+00:00",
          "2022-12-04T21:20:00+00:00",
          "2022-12-04T21:30:00+00:00",
          "2022-12-04T21:40:00+00:00",
          "2022-12-04T21:50:00+00:00",
          "2022-12-04T22:00:00+00:00",
          "2022-12-04T22:10:00+00:00",
          "2022-12-04T22:20:00+00:00",
          "2022-12-04T22:30:00+00:00",
          "2022-12-04T22:40:00+00:00",
          "2022-12-04T22:50:00+00:00",
          "2022-12-04T23:00:00+00:00",
          "2022-12-04T23:10:00+00:00",
          "2022-12-04T23:20:00+00:00",
          "2022-12-04T23:30:00+00:00"
         ],
         "y": [
          0.0828227635447291,
          0.08904181540030597,
          0.10469239130434782,
          0.10185142385472555,
          0.09766021505376343,
          0.088788270110304,
          0.09821021542738012,
          0.09702377260981912,
          0.09168503937007873,
          0.09446242774566474,
          0.09983201058201058,
          0.09968039538714991,
          0.09266553825321597,
          0.09289741800418701,
          0.08787248322147652,
          0.08540096952908588,
          0.09709002169197396,
          0.10300000000000001,
          0.10135672312478397,
          0.10424704491725768,
          0.09795372050816696,
          0.09903842676311031,
          0.09233431952662721,
          0.084725768321513,
          0.09198402396405392,
          0.058828199052132706,
          0.08194122965641952,
          0.1003244078269825,
          0.10518733850129199,
          0.07042899036447424,
          0.07708560090702948,
          0.07033264320220842,
          0.060334965034965035,
          0.05538081180811808,
          0.058409515717926935,
          0.06130065359477125,
          0.06299512591389114,
          0.06957398753894081,
          0.08664010743061773,
          0.08995925597874226,
          0.09859038142620233,
          0.10613345864661654,
          null,
          null,
          null,
          null
         ]
        },
        {
         "connectgaps": true,
         "line": {
          "color": "orange"
         },
         "name": "Neutral",
         "type": "scatter",
         "x": [
          "2022-12-04T16:00:00+00:00",
          "2022-12-04T16:10:00+00:00",
          "2022-12-04T16:20:00+00:00",
          "2022-12-04T16:30:00+00:00",
          "2022-12-04T16:40:00+00:00",
          "2022-12-04T16:50:00+00:00",
          "2022-12-04T17:00:00+00:00",
          "2022-12-04T17:10:00+00:00",
          "2022-12-04T17:20:00+00:00",
          "2022-12-04T17:30:00+00:00",
          "2022-12-04T17:40:00+00:00",
          "2022-12-04T17:50:00+00:00",
          "2022-12-04T18:00:00+00:00",
          "2022-12-04T18:10:00+00:00",
          "2022-12-04T18:20:00+00:00",
          "2022-12-04T18:30:00+00:00",
          "2022-12-04T18:40:00+00:00",
          "2022-12-04T18:50:00+00:00",
          "2022-12-04T19:00:00+00:00",
          "2022-12-04T19:10:00+00:00",
          "2022-12-04T19:20:00+00:00",
          "2022-12-04T19:30:00+00:00",
          "2022-12-04T19:40:00+00:00",
          "2022-12-04T19:50:00+00:00",
          "2022-12-04T20:00:00+00:00",
          "2022-12-04T20:10:00+00:00",
          "2022-12-04T20:20:00+00:00",
          "2022-12-04T20:30:00+00:00",
          "2022-12-04T20:40:00+00:00",
          "2022-12-04T20:50:00+00:00",
          "2022-12-04T21:00:00+00:00",
          "2022-12-04T21:10:00+00:00",
          "2022-12-04T21:20:00+00:00",
          "2022-12-04T21:30:00+00:00",
          "2022-12-04T21:40:00+00:00",
          "2022-12-04T21:50:00+00:00",
          "2022-12-04T22:00:00+00:00",
          "2022-12-04T22:10:00+00:00",
          "2022-12-04T22:20:00+00:00",
          "2022-12-04T22:30:00+00:00",
          "2022-12-04T22:40:00+00:00",
          "2022-12-04T22:50:00+00:00",
          "2022-12-04T23:00:00+00:00",
          "2022-12-04T23:10:00+00:00",
          "2022-12-04T23:20:00+00:00",
          "2022-12-04T23:30:00+00:00"
         ],
         "y": [
          0.8956215875682486,
          0.8902595614482407,
          0.870983152173913,
          0.8741407346264961,
          0.8702145161290322,
          0.8895259617971483,
          0.8756494093120223,
          0.8753695090439276,
          0.882839491217444,
          0.8786133590237636,
          0.864475529100529,
          0.8681186161449752,
          0.8777867298578199,
          0.8795889741800419,
          0.8807664429530202,
          0.8894896121883656,
          0.8807413232104121,
          0.8772351628737171,
          0.8817417905288627,
          0.8809964539007092,
          0.8709959165154265,
          0.8616451175406872,
          0.8694426775147929,
          0.8730445232466508,
          0.8698387418871693,
          0.9090268562401264,
          0.880118896925859,
          0.8608496395468589,
          0.8541983204134367,
          0.8968772517804776,
          0.8837176870748299,
          0.8797908902691511,
          0.8801041958041957,
          0.8930125461254612,
          0.8844027187765505,
          0.8898571428571429,
          0.8871502843216897,
          0.8871697819314641,
          0.8684512085944494,
          0.8743445527015058,
          0.8669635157545605,
          0.8661484962406015,
          null,
          null,
          null,
          null
         ]
        }
       ],
       "layout": {
        "legend": {
         "title": {
          "text": "Sentiment type"
         }
        },
        "template": {
         "data": {
          "bar": [
           {
            "error_x": {
             "color": "#2a3f5f"
            },
            "error_y": {
             "color": "#2a3f5f"
            },
            "marker": {
             "line": {
              "color": "#E5ECF6",
              "width": 0.5
             },
             "pattern": {
              "fillmode": "overlay",
              "size": 10,
              "solidity": 0.2
             }
            },
            "type": "bar"
           }
          ],
          "barpolar": [
           {
            "marker": {
             "line": {
              "color": "#E5ECF6",
              "width": 0.5
             },
             "pattern": {
              "fillmode": "overlay",
              "size": 10,
              "solidity": 0.2
             }
            },
            "type": "barpolar"
           }
          ],
          "carpet": [
           {
            "aaxis": {
             "endlinecolor": "#2a3f5f",
             "gridcolor": "white",
             "linecolor": "white",
             "minorgridcolor": "white",
             "startlinecolor": "#2a3f5f"
            },
            "baxis": {
             "endlinecolor": "#2a3f5f",
             "gridcolor": "white",
             "linecolor": "white",
             "minorgridcolor": "white",
             "startlinecolor": "#2a3f5f"
            },
            "type": "carpet"
           }
          ],
          "choropleth": [
           {
            "colorbar": {
             "outlinewidth": 0,
             "ticks": ""
            },
            "type": "choropleth"
           }
          ],
          "contour": [
           {
            "colorbar": {
             "outlinewidth": 0,
             "ticks": ""
            },
            "colorscale": [
             [
              0,
              "#0d0887"
             ],
             [
              0.1111111111111111,
              "#46039f"
             ],
             [
              0.2222222222222222,
              "#7201a8"
             ],
             [
              0.3333333333333333,
              "#9c179e"
             ],
             [
              0.4444444444444444,
              "#bd3786"
             ],
             [
              0.5555555555555556,
              "#d8576b"
             ],
             [
              0.6666666666666666,
              "#ed7953"
             ],
             [
              0.7777777777777778,
              "#fb9f3a"
             ],
             [
              0.8888888888888888,
              "#fdca26"
             ],
             [
              1,
              "#f0f921"
             ]
            ],
            "type": "contour"
           }
          ],
          "contourcarpet": [
           {
            "colorbar": {
             "outlinewidth": 0,
             "ticks": ""
            },
            "type": "contourcarpet"
           }
          ],
          "heatmap": [
           {
            "colorbar": {
             "outlinewidth": 0,
             "ticks": ""
            },
            "colorscale": [
             [
              0,
              "#0d0887"
             ],
             [
              0.1111111111111111,
              "#46039f"
             ],
             [
              0.2222222222222222,
              "#7201a8"
             ],
             [
              0.3333333333333333,
              "#9c179e"
             ],
             [
              0.4444444444444444,
              "#bd3786"
             ],
             [
              0.5555555555555556,
              "#d8576b"
             ],
             [
              0.6666666666666666,
              "#ed7953"
             ],
             [
              0.7777777777777778,
              "#fb9f3a"
             ],
             [
              0.8888888888888888,
              "#fdca26"
             ],
             [
              1,
              "#f0f921"
             ]
            ],
            "type": "heatmap"
           }
          ],
          "heatmapgl": [
           {
            "colorbar": {
             "outlinewidth": 0,
             "ticks": ""
            },
            "colorscale": [
             [
              0,
              "#0d0887"
             ],
             [
              0.1111111111111111,
              "#46039f"
             ],
             [
              0.2222222222222222,
              "#7201a8"
             ],
             [
              0.3333333333333333,
              "#9c179e"
             ],
             [
              0.4444444444444444,
              "#bd3786"
             ],
             [
              0.5555555555555556,
              "#d8576b"
             ],
             [
              0.6666666666666666,
              "#ed7953"
             ],
             [
              0.7777777777777778,
              "#fb9f3a"
             ],
             [
              0.8888888888888888,
              "#fdca26"
             ],
             [
              1,
              "#f0f921"
             ]
            ],
            "type": "heatmapgl"
           }
          ],
          "histogram": [
           {
            "marker": {
             "pattern": {
              "fillmode": "overlay",
              "size": 10,
              "solidity": 0.2
             }
            },
            "type": "histogram"
           }
          ],
          "histogram2d": [
           {
            "colorbar": {
             "outlinewidth": 0,
             "ticks": ""
            },
            "colorscale": [
             [
              0,
              "#0d0887"
             ],
             [
              0.1111111111111111,
              "#46039f"
             ],
             [
              0.2222222222222222,
              "#7201a8"
             ],
             [
              0.3333333333333333,
              "#9c179e"
             ],
             [
              0.4444444444444444,
              "#bd3786"
             ],
             [
              0.5555555555555556,
              "#d8576b"
             ],
             [
              0.6666666666666666,
              "#ed7953"
             ],
             [
              0.7777777777777778,
              "#fb9f3a"
             ],
             [
              0.8888888888888888,
              "#fdca26"
             ],
             [
              1,
              "#f0f921"
             ]
            ],
            "type": "histogram2d"
           }
          ],
          "histogram2dcontour": [
           {
            "colorbar": {
             "outlinewidth": 0,
             "ticks": ""
            },
            "colorscale": [
             [
              0,
              "#0d0887"
             ],
             [
              0.1111111111111111,
              "#46039f"
             ],
             [
              0.2222222222222222,
              "#7201a8"
             ],
             [
              0.3333333333333333,
              "#9c179e"
             ],
             [
              0.4444444444444444,
              "#bd3786"
             ],
             [
              0.5555555555555556,
              "#d8576b"
             ],
             [
              0.6666666666666666,
              "#ed7953"
             ],
             [
              0.7777777777777778,
              "#fb9f3a"
             ],
             [
              0.8888888888888888,
              "#fdca26"
             ],
             [
              1,
              "#f0f921"
             ]
            ],
            "type": "histogram2dcontour"
           }
          ],
          "mesh3d": [
           {
            "colorbar": {
             "outlinewidth": 0,
             "ticks": ""
            },
            "type": "mesh3d"
           }
          ],
          "parcoords": [
           {
            "line": {
             "colorbar": {
              "outlinewidth": 0,
              "ticks": ""
             }
            },
            "type": "parcoords"
           }
          ],
          "pie": [
           {
            "automargin": true,
            "type": "pie"
           }
          ],
          "scatter": [
           {
            "fillpattern": {
             "fillmode": "overlay",
             "size": 10,
             "solidity": 0.2
            },
            "type": "scatter"
           }
          ],
          "scatter3d": [
           {
            "line": {
             "colorbar": {
              "outlinewidth": 0,
              "ticks": ""
             }
            },
            "marker": {
             "colorbar": {
              "outlinewidth": 0,
              "ticks": ""
             }
            },
            "type": "scatter3d"
           }
          ],
          "scattercarpet": [
           {
            "marker": {
             "colorbar": {
              "outlinewidth": 0,
              "ticks": ""
             }
            },
            "type": "scattercarpet"
           }
          ],
          "scattergeo": [
           {
            "marker": {
             "colorbar": {
              "outlinewidth": 0,
              "ticks": ""
             }
            },
            "type": "scattergeo"
           }
          ],
          "scattergl": [
           {
            "marker": {
             "colorbar": {
              "outlinewidth": 0,
              "ticks": ""
             }
            },
            "type": "scattergl"
           }
          ],
          "scattermapbox": [
           {
            "marker": {
             "colorbar": {
              "outlinewidth": 0,
              "ticks": ""
             }
            },
            "type": "scattermapbox"
           }
          ],
          "scatterpolar": [
           {
            "marker": {
             "colorbar": {
              "outlinewidth": 0,
              "ticks": ""
             }
            },
            "type": "scatterpolar"
           }
          ],
          "scatterpolargl": [
           {
            "marker": {
             "colorbar": {
              "outlinewidth": 0,
              "ticks": ""
             }
            },
            "type": "scatterpolargl"
           }
          ],
          "scatterternary": [
           {
            "marker": {
             "colorbar": {
              "outlinewidth": 0,
              "ticks": ""
             }
            },
            "type": "scatterternary"
           }
          ],
          "surface": [
           {
            "colorbar": {
             "outlinewidth": 0,
             "ticks": ""
            },
            "colorscale": [
             [
              0,
              "#0d0887"
             ],
             [
              0.1111111111111111,
              "#46039f"
             ],
             [
              0.2222222222222222,
              "#7201a8"
             ],
             [
              0.3333333333333333,
              "#9c179e"
             ],
             [
              0.4444444444444444,
              "#bd3786"
             ],
             [
              0.5555555555555556,
              "#d8576b"
             ],
             [
              0.6666666666666666,
              "#ed7953"
             ],
             [
              0.7777777777777778,
              "#fb9f3a"
             ],
             [
              0.8888888888888888,
              "#fdca26"
             ],
             [
              1,
              "#f0f921"
             ]
            ],
            "type": "surface"
           }
          ],
          "table": [
           {
            "cells": {
             "fill": {
              "color": "#EBF0F8"
             },
             "line": {
              "color": "white"
             }
            },
            "header": {
             "fill": {
              "color": "#C8D4E3"
             },
             "line": {
              "color": "white"
             }
            },
            "type": "table"
           }
          ]
         },
         "layout": {
          "annotationdefaults": {
           "arrowcolor": "#2a3f5f",
           "arrowhead": 0,
           "arrowwidth": 1
          },
          "autotypenumbers": "strict",
          "coloraxis": {
           "colorbar": {
            "outlinewidth": 0,
            "ticks": ""
           }
          },
          "colorscale": {
           "diverging": [
            [
             0,
             "#8e0152"
            ],
            [
             0.1,
             "#c51b7d"
            ],
            [
             0.2,
             "#de77ae"
            ],
            [
             0.3,
             "#f1b6da"
            ],
            [
             0.4,
             "#fde0ef"
            ],
            [
             0.5,
             "#f7f7f7"
            ],
            [
             0.6,
             "#e6f5d0"
            ],
            [
             0.7,
             "#b8e186"
            ],
            [
             0.8,
             "#7fbc41"
            ],
            [
             0.9,
             "#4d9221"
            ],
            [
             1,
             "#276419"
            ]
           ],
           "sequential": [
            [
             0,
             "#0d0887"
            ],
            [
             0.1111111111111111,
             "#46039f"
            ],
            [
             0.2222222222222222,
             "#7201a8"
            ],
            [
             0.3333333333333333,
             "#9c179e"
            ],
            [
             0.4444444444444444,
             "#bd3786"
            ],
            [
             0.5555555555555556,
             "#d8576b"
            ],
            [
             0.6666666666666666,
             "#ed7953"
            ],
            [
             0.7777777777777778,
             "#fb9f3a"
            ],
            [
             0.8888888888888888,
             "#fdca26"
            ],
            [
             1,
             "#f0f921"
            ]
           ],
           "sequentialminus": [
            [
             0,
             "#0d0887"
            ],
            [
             0.1111111111111111,
             "#46039f"
            ],
            [
             0.2222222222222222,
             "#7201a8"
            ],
            [
             0.3333333333333333,
             "#9c179e"
            ],
            [
             0.4444444444444444,
             "#bd3786"
            ],
            [
             0.5555555555555556,
             "#d8576b"
            ],
            [
             0.6666666666666666,
             "#ed7953"
            ],
            [
             0.7777777777777778,
             "#fb9f3a"
            ],
            [
             0.8888888888888888,
             "#fdca26"
            ],
            [
             1,
             "#f0f921"
            ]
           ]
          },
          "colorway": [
           "#636efa",
           "#EF553B",
           "#00cc96",
           "#ab63fa",
           "#FFA15A",
           "#19d3f3",
           "#FF6692",
           "#B6E880",
           "#FF97FF",
           "#FECB52"
          ],
          "font": {
           "color": "#2a3f5f"
          },
          "geo": {
           "bgcolor": "white",
           "lakecolor": "white",
           "landcolor": "#E5ECF6",
           "showlakes": true,
           "showland": true,
           "subunitcolor": "white"
          },
          "hoverlabel": {
           "align": "left"
          },
          "hovermode": "closest",
          "mapbox": {
           "style": "light"
          },
          "paper_bgcolor": "white",
          "plot_bgcolor": "#E5ECF6",
          "polar": {
           "angularaxis": {
            "gridcolor": "white",
            "linecolor": "white",
            "ticks": ""
           },
           "bgcolor": "#E5ECF6",
           "radialaxis": {
            "gridcolor": "white",
            "linecolor": "white",
            "ticks": ""
           }
          },
          "scene": {
           "xaxis": {
            "backgroundcolor": "#E5ECF6",
            "gridcolor": "white",
            "gridwidth": 2,
            "linecolor": "white",
            "showbackground": true,
            "ticks": "",
            "zerolinecolor": "white"
           },
           "yaxis": {
            "backgroundcolor": "#E5ECF6",
            "gridcolor": "white",
            "gridwidth": 2,
            "linecolor": "white",
            "showbackground": true,
            "ticks": "",
            "zerolinecolor": "white"
           },
           "zaxis": {
            "backgroundcolor": "#E5ECF6",
            "gridcolor": "white",
            "gridwidth": 2,
            "linecolor": "white",
            "showbackground": true,
            "ticks": "",
            "zerolinecolor": "white"
           }
          },
          "shapedefaults": {
           "line": {
            "color": "#2a3f5f"
           }
          },
          "ternary": {
           "aaxis": {
            "gridcolor": "white",
            "linecolor": "white",
            "ticks": ""
           },
           "baxis": {
            "gridcolor": "white",
            "linecolor": "white",
            "ticks": ""
           },
           "bgcolor": "#E5ECF6",
           "caxis": {
            "gridcolor": "white",
            "linecolor": "white",
            "ticks": ""
           }
          },
          "title": {
           "x": 0.05
          },
          "xaxis": {
           "automargin": true,
           "gridcolor": "white",
           "linecolor": "white",
           "ticks": "",
           "title": {
            "standoff": 15
           },
           "zerolinecolor": "white",
           "zerolinewidth": 2
          },
          "yaxis": {
           "automargin": true,
           "gridcolor": "white",
           "linecolor": "white",
           "ticks": "",
           "title": {
            "standoff": 15
           },
           "zerolinecolor": "white",
           "zerolinewidth": 2
          }
         }
        },
        "title": {
         "text": "VADER sentiment scores, rolling 10-minute average, 2022-12-04"
        },
        "xaxis": {
         "title": {
          "text": "Tweet posted at"
         }
        },
        "yaxis": {
         "title": {
          "text": "VADER sentiment score"
         }
        }
       }
      },
      "text/html": [
       "<div>                            <div id=\"3e9b166a-4c4c-4c49-9bc4-dee8e7779c71\" class=\"plotly-graph-div\" style=\"height:525px; width:100%;\"></div>            <script type=\"text/javascript\">                require([\"plotly\"], function(Plotly) {                    window.PLOTLYENV=window.PLOTLYENV || {};                                    if (document.getElementById(\"3e9b166a-4c4c-4c49-9bc4-dee8e7779c71\")) {                    Plotly.newPlot(                        \"3e9b166a-4c4c-4c49-9bc4-dee8e7779c71\",                        [{\"line\":{\"color\":\"blue\",\"width\":3.5},\"name\":\"Compound\",\"x\":[\"2022-12-04T16:00:00+00:00\",\"2022-12-04T16:10:00+00:00\",\"2022-12-04T16:20:00+00:00\",\"2022-12-04T16:30:00+00:00\",\"2022-12-04T16:40:00+00:00\",\"2022-12-04T16:50:00+00:00\",\"2022-12-04T17:00:00+00:00\",\"2022-12-04T17:10:00+00:00\",\"2022-12-04T17:20:00+00:00\",\"2022-12-04T17:30:00+00:00\",\"2022-12-04T17:40:00+00:00\",\"2022-12-04T17:50:00+00:00\",\"2022-12-04T18:00:00+00:00\",\"2022-12-04T18:10:00+00:00\",\"2022-12-04T18:20:00+00:00\",\"2022-12-04T18:30:00+00:00\",\"2022-12-04T18:40:00+00:00\",\"2022-12-04T18:50:00+00:00\",\"2022-12-04T19:00:00+00:00\",\"2022-12-04T19:10:00+00:00\",\"2022-12-04T19:20:00+00:00\",\"2022-12-04T19:30:00+00:00\",\"2022-12-04T19:40:00+00:00\",\"2022-12-04T19:50:00+00:00\",\"2022-12-04T20:00:00+00:00\",\"2022-12-04T20:10:00+00:00\",\"2022-12-04T20:20:00+00:00\",\"2022-12-04T20:30:00+00:00\",\"2022-12-04T20:40:00+00:00\",\"2022-12-04T20:50:00+00:00\",\"2022-12-04T21:00:00+00:00\",\"2022-12-04T21:10:00+00:00\",\"2022-12-04T21:20:00+00:00\",\"2022-12-04T21:30:00+00:00\",\"2022-12-04T21:40:00+00:00\",\"2022-12-04T21:50:00+00:00\",\"2022-12-04T22:00:00+00:00\",\"2022-12-04T22:10:00+00:00\",\"2022-12-04T22:20:00+00:00\",\"2022-12-04T22:30:00+00:00\",\"2022-12-04T22:40:00+00:00\",\"2022-12-04T22:50:00+00:00\",\"2022-12-04T23:00:00+00:00\",\"2022-12-04T23:10:00+00:00\",\"2022-12-04T23:20:00+00:00\",\"2022-12-04T23:30:00+00:00\"],\"y\":[0.21460709785804283,0.2222287098419174,0.2636985326086957,0.21967470078415188,0.20305381720430107,0.19031931665321497,0.22073564975677554,0.20867328165374677,0.19445208964264085,0.20385150931278098,0.18898075396825398,0.20125922570016475,0.1951847664184157,0.20336343335659457,0.1808253691275168,0.1996325484764543,0.27330976138828633,0.2892508255243195,0.31952433460076046,0.3308545705279748,0.2454073502722323,0.23667771247739605,0.21261205621301776,0.164057171000788,0.20911148277583624,0.1131199842022117,0.1831525316455696,0.23513810504634397,0.24279005167958656,0.14015144532886467,0.13424569160997732,0.07778102139406487,0.029608951048951056,0.03724265682656827,0.033366015293118105,0.06170597572362279,0.0695987002437043,0.102473753894081,0.15292990152193375,0.16828520814880424,0.19499635157545606,0.22912546992481206,null,null,null,null],\"type\":\"scatter\",\"connectgaps\":true},{\"fillcolor\":\"red\",\"name\":\"Negative\",\"x\":[\"2022-12-04T16:00:00+00:00\",\"2022-12-04T16:10:00+00:00\",\"2022-12-04T16:20:00+00:00\",\"2022-12-04T16:30:00+00:00\",\"2022-12-04T16:40:00+00:00\",\"2022-12-04T16:50:00+00:00\",\"2022-12-04T17:00:00+00:00\",\"2022-12-04T17:10:00+00:00\",\"2022-12-04T17:20:00+00:00\",\"2022-12-04T17:30:00+00:00\",\"2022-12-04T17:40:00+00:00\",\"2022-12-04T17:50:00+00:00\",\"2022-12-04T18:00:00+00:00\",\"2022-12-04T18:10:00+00:00\",\"2022-12-04T18:20:00+00:00\",\"2022-12-04T18:30:00+00:00\",\"2022-12-04T18:40:00+00:00\",\"2022-12-04T18:50:00+00:00\",\"2022-12-04T19:00:00+00:00\",\"2022-12-04T19:10:00+00:00\",\"2022-12-04T19:20:00+00:00\",\"2022-12-04T19:30:00+00:00\",\"2022-12-04T19:40:00+00:00\",\"2022-12-04T19:50:00+00:00\",\"2022-12-04T20:00:00+00:00\",\"2022-12-04T20:10:00+00:00\",\"2022-12-04T20:20:00+00:00\",\"2022-12-04T20:30:00+00:00\",\"2022-12-04T20:40:00+00:00\",\"2022-12-04T20:50:00+00:00\",\"2022-12-04T21:00:00+00:00\",\"2022-12-04T21:10:00+00:00\",\"2022-12-04T21:20:00+00:00\",\"2022-12-04T21:30:00+00:00\",\"2022-12-04T21:40:00+00:00\",\"2022-12-04T21:50:00+00:00\",\"2022-12-04T22:00:00+00:00\",\"2022-12-04T22:10:00+00:00\",\"2022-12-04T22:20:00+00:00\",\"2022-12-04T22:30:00+00:00\",\"2022-12-04T22:40:00+00:00\",\"2022-12-04T22:50:00+00:00\",\"2022-12-04T23:00:00+00:00\",\"2022-12-04T23:10:00+00:00\",\"2022-12-04T23:20:00+00:00\",\"2022-12-04T23:30:00+00:00\"],\"y\":[0.021559848803023942,0.02070423253442121,0.024329891304347828,0.02400990507635163,0.0321252688172043,0.021687651331719127,0.026144197359277276,0.027610335917312663,0.02548031496062992,0.02691971740526654,0.03569047619047619,0.03221004942339374,0.0295470548408937,0.027515701325889742,0.031355704697986576,0.025113573407202217,0.022167570498915403,0.019762159750111558,0.01690010369858279,0.01475531914893617,0.0310480943738657,0.03931781193490055,0.03821819526627219,0.04222970843183609,0.038178232651023464,0.0321477093206951,0.03793670886075949,0.03881874356333676,0.04061240310077519,0.03269459572685379,0.039193310657596375,0.049881297446514844,0.05956013986013987,0.05160369003690037,0.05718606627017843,0.04884593837535014,0.0498570268074736,0.04325778816199377,0.04490957923008058,0.035696191319752,0.034447761194029855,0.027721804511278193,null,null,null,null],\"type\":\"scatter\",\"connectgaps\":true},{\"fillcolor\":\"green\",\"name\":\"Positive\",\"x\":[\"2022-12-04T16:00:00+00:00\",\"2022-12-04T16:10:00+00:00\",\"2022-12-04T16:20:00+00:00\",\"2022-12-04T16:30:00+00:00\",\"2022-12-04T16:40:00+00:00\",\"2022-12-04T16:50:00+00:00\",\"2022-12-04T17:00:00+00:00\",\"2022-12-04T17:10:00+00:00\",\"2022-12-04T17:20:00+00:00\",\"2022-12-04T17:30:00+00:00\",\"2022-12-04T17:40:00+00:00\",\"2022-12-04T17:50:00+00:00\",\"2022-12-04T18:00:00+00:00\",\"2022-12-04T18:10:00+00:00\",\"2022-12-04T18:20:00+00:00\",\"2022-12-04T18:30:00+00:00\",\"2022-12-04T18:40:00+00:00\",\"2022-12-04T18:50:00+00:00\",\"2022-12-04T19:00:00+00:00\",\"2022-12-04T19:10:00+00:00\",\"2022-12-04T19:20:00+00:00\",\"2022-12-04T19:30:00+00:00\",\"2022-12-04T19:40:00+00:00\",\"2022-12-04T19:50:00+00:00\",\"2022-12-04T20:00:00+00:00\",\"2022-12-04T20:10:00+00:00\",\"2022-12-04T20:20:00+00:00\",\"2022-12-04T20:30:00+00:00\",\"2022-12-04T20:40:00+00:00\",\"2022-12-04T20:50:00+00:00\",\"2022-12-04T21:00:00+00:00\",\"2022-12-04T21:10:00+00:00\",\"2022-12-04T21:20:00+00:00\",\"2022-12-04T21:30:00+00:00\",\"2022-12-04T21:40:00+00:00\",\"2022-12-04T21:50:00+00:00\",\"2022-12-04T22:00:00+00:00\",\"2022-12-04T22:10:00+00:00\",\"2022-12-04T22:20:00+00:00\",\"2022-12-04T22:30:00+00:00\",\"2022-12-04T22:40:00+00:00\",\"2022-12-04T22:50:00+00:00\",\"2022-12-04T23:00:00+00:00\",\"2022-12-04T23:10:00+00:00\",\"2022-12-04T23:20:00+00:00\",\"2022-12-04T23:30:00+00:00\"],\"y\":[0.0828227635447291,0.08904181540030597,0.10469239130434782,0.10185142385472555,0.09766021505376343,0.088788270110304,0.09821021542738012,0.09702377260981912,0.09168503937007873,0.09446242774566474,0.09983201058201058,0.09968039538714991,0.09266553825321597,0.09289741800418701,0.08787248322147652,0.08540096952908588,0.09709002169197396,0.10300000000000001,0.10135672312478397,0.10424704491725768,0.09795372050816696,0.09903842676311031,0.09233431952662721,0.084725768321513,0.09198402396405392,0.058828199052132706,0.08194122965641952,0.1003244078269825,0.10518733850129199,0.07042899036447424,0.07708560090702948,0.07033264320220842,0.060334965034965035,0.05538081180811808,0.058409515717926935,0.06130065359477125,0.06299512591389114,0.06957398753894081,0.08664010743061773,0.08995925597874226,0.09859038142620233,0.10613345864661654,null,null,null,null],\"type\":\"scatter\",\"connectgaps\":true},{\"line\":{\"color\":\"orange\"},\"name\":\"Neutral\",\"x\":[\"2022-12-04T16:00:00+00:00\",\"2022-12-04T16:10:00+00:00\",\"2022-12-04T16:20:00+00:00\",\"2022-12-04T16:30:00+00:00\",\"2022-12-04T16:40:00+00:00\",\"2022-12-04T16:50:00+00:00\",\"2022-12-04T17:00:00+00:00\",\"2022-12-04T17:10:00+00:00\",\"2022-12-04T17:20:00+00:00\",\"2022-12-04T17:30:00+00:00\",\"2022-12-04T17:40:00+00:00\",\"2022-12-04T17:50:00+00:00\",\"2022-12-04T18:00:00+00:00\",\"2022-12-04T18:10:00+00:00\",\"2022-12-04T18:20:00+00:00\",\"2022-12-04T18:30:00+00:00\",\"2022-12-04T18:40:00+00:00\",\"2022-12-04T18:50:00+00:00\",\"2022-12-04T19:00:00+00:00\",\"2022-12-04T19:10:00+00:00\",\"2022-12-04T19:20:00+00:00\",\"2022-12-04T19:30:00+00:00\",\"2022-12-04T19:40:00+00:00\",\"2022-12-04T19:50:00+00:00\",\"2022-12-04T20:00:00+00:00\",\"2022-12-04T20:10:00+00:00\",\"2022-12-04T20:20:00+00:00\",\"2022-12-04T20:30:00+00:00\",\"2022-12-04T20:40:00+00:00\",\"2022-12-04T20:50:00+00:00\",\"2022-12-04T21:00:00+00:00\",\"2022-12-04T21:10:00+00:00\",\"2022-12-04T21:20:00+00:00\",\"2022-12-04T21:30:00+00:00\",\"2022-12-04T21:40:00+00:00\",\"2022-12-04T21:50:00+00:00\",\"2022-12-04T22:00:00+00:00\",\"2022-12-04T22:10:00+00:00\",\"2022-12-04T22:20:00+00:00\",\"2022-12-04T22:30:00+00:00\",\"2022-12-04T22:40:00+00:00\",\"2022-12-04T22:50:00+00:00\",\"2022-12-04T23:00:00+00:00\",\"2022-12-04T23:10:00+00:00\",\"2022-12-04T23:20:00+00:00\",\"2022-12-04T23:30:00+00:00\"],\"y\":[0.8956215875682486,0.8902595614482407,0.870983152173913,0.8741407346264961,0.8702145161290322,0.8895259617971483,0.8756494093120223,0.8753695090439276,0.882839491217444,0.8786133590237636,0.864475529100529,0.8681186161449752,0.8777867298578199,0.8795889741800419,0.8807664429530202,0.8894896121883656,0.8807413232104121,0.8772351628737171,0.8817417905288627,0.8809964539007092,0.8709959165154265,0.8616451175406872,0.8694426775147929,0.8730445232466508,0.8698387418871693,0.9090268562401264,0.880118896925859,0.8608496395468589,0.8541983204134367,0.8968772517804776,0.8837176870748299,0.8797908902691511,0.8801041958041957,0.8930125461254612,0.8844027187765505,0.8898571428571429,0.8871502843216897,0.8871697819314641,0.8684512085944494,0.8743445527015058,0.8669635157545605,0.8661484962406015,null,null,null,null],\"type\":\"scatter\",\"connectgaps\":true}],                        {\"template\":{\"data\":{\"histogram2dcontour\":[{\"type\":\"histogram2dcontour\",\"colorbar\":{\"outlinewidth\":0,\"ticks\":\"\"},\"colorscale\":[[0.0,\"#0d0887\"],[0.1111111111111111,\"#46039f\"],[0.2222222222222222,\"#7201a8\"],[0.3333333333333333,\"#9c179e\"],[0.4444444444444444,\"#bd3786\"],[0.5555555555555556,\"#d8576b\"],[0.6666666666666666,\"#ed7953\"],[0.7777777777777778,\"#fb9f3a\"],[0.8888888888888888,\"#fdca26\"],[1.0,\"#f0f921\"]]}],\"choropleth\":[{\"type\":\"choropleth\",\"colorbar\":{\"outlinewidth\":0,\"ticks\":\"\"}}],\"histogram2d\":[{\"type\":\"histogram2d\",\"colorbar\":{\"outlinewidth\":0,\"ticks\":\"\"},\"colorscale\":[[0.0,\"#0d0887\"],[0.1111111111111111,\"#46039f\"],[0.2222222222222222,\"#7201a8\"],[0.3333333333333333,\"#9c179e\"],[0.4444444444444444,\"#bd3786\"],[0.5555555555555556,\"#d8576b\"],[0.6666666666666666,\"#ed7953\"],[0.7777777777777778,\"#fb9f3a\"],[0.8888888888888888,\"#fdca26\"],[1.0,\"#f0f921\"]]}],\"heatmap\":[{\"type\":\"heatmap\",\"colorbar\":{\"outlinewidth\":0,\"ticks\":\"\"},\"colorscale\":[[0.0,\"#0d0887\"],[0.1111111111111111,\"#46039f\"],[0.2222222222222222,\"#7201a8\"],[0.3333333333333333,\"#9c179e\"],[0.4444444444444444,\"#bd3786\"],[0.5555555555555556,\"#d8576b\"],[0.6666666666666666,\"#ed7953\"],[0.7777777777777778,\"#fb9f3a\"],[0.8888888888888888,\"#fdca26\"],[1.0,\"#f0f921\"]]}],\"heatmapgl\":[{\"type\":\"heatmapgl\",\"colorbar\":{\"outlinewidth\":0,\"ticks\":\"\"},\"colorscale\":[[0.0,\"#0d0887\"],[0.1111111111111111,\"#46039f\"],[0.2222222222222222,\"#7201a8\"],[0.3333333333333333,\"#9c179e\"],[0.4444444444444444,\"#bd3786\"],[0.5555555555555556,\"#d8576b\"],[0.6666666666666666,\"#ed7953\"],[0.7777777777777778,\"#fb9f3a\"],[0.8888888888888888,\"#fdca26\"],[1.0,\"#f0f921\"]]}],\"contourcarpet\":[{\"type\":\"contourcarpet\",\"colorbar\":{\"outlinewidth\":0,\"ticks\":\"\"}}],\"contour\":[{\"type\":\"contour\",\"colorbar\":{\"outlinewidth\":0,\"ticks\":\"\"},\"colorscale\":[[0.0,\"#0d0887\"],[0.1111111111111111,\"#46039f\"],[0.2222222222222222,\"#7201a8\"],[0.3333333333333333,\"#9c179e\"],[0.4444444444444444,\"#bd3786\"],[0.5555555555555556,\"#d8576b\"],[0.6666666666666666,\"#ed7953\"],[0.7777777777777778,\"#fb9f3a\"],[0.8888888888888888,\"#fdca26\"],[1.0,\"#f0f921\"]]}],\"surface\":[{\"type\":\"surface\",\"colorbar\":{\"outlinewidth\":0,\"ticks\":\"\"},\"colorscale\":[[0.0,\"#0d0887\"],[0.1111111111111111,\"#46039f\"],[0.2222222222222222,\"#7201a8\"],[0.3333333333333333,\"#9c179e\"],[0.4444444444444444,\"#bd3786\"],[0.5555555555555556,\"#d8576b\"],[0.6666666666666666,\"#ed7953\"],[0.7777777777777778,\"#fb9f3a\"],[0.8888888888888888,\"#fdca26\"],[1.0,\"#f0f921\"]]}],\"mesh3d\":[{\"type\":\"mesh3d\",\"colorbar\":{\"outlinewidth\":0,\"ticks\":\"\"}}],\"scatter\":[{\"fillpattern\":{\"fillmode\":\"overlay\",\"size\":10,\"solidity\":0.2},\"type\":\"scatter\"}],\"parcoords\":[{\"type\":\"parcoords\",\"line\":{\"colorbar\":{\"outlinewidth\":0,\"ticks\":\"\"}}}],\"scatterpolargl\":[{\"type\":\"scatterpolargl\",\"marker\":{\"colorbar\":{\"outlinewidth\":0,\"ticks\":\"\"}}}],\"bar\":[{\"error_x\":{\"color\":\"#2a3f5f\"},\"error_y\":{\"color\":\"#2a3f5f\"},\"marker\":{\"line\":{\"color\":\"#E5ECF6\",\"width\":0.5},\"pattern\":{\"fillmode\":\"overlay\",\"size\":10,\"solidity\":0.2}},\"type\":\"bar\"}],\"scattergeo\":[{\"type\":\"scattergeo\",\"marker\":{\"colorbar\":{\"outlinewidth\":0,\"ticks\":\"\"}}}],\"scatterpolar\":[{\"type\":\"scatterpolar\",\"marker\":{\"colorbar\":{\"outlinewidth\":0,\"ticks\":\"\"}}}],\"histogram\":[{\"marker\":{\"pattern\":{\"fillmode\":\"overlay\",\"size\":10,\"solidity\":0.2}},\"type\":\"histogram\"}],\"scattergl\":[{\"type\":\"scattergl\",\"marker\":{\"colorbar\":{\"outlinewidth\":0,\"ticks\":\"\"}}}],\"scatter3d\":[{\"type\":\"scatter3d\",\"line\":{\"colorbar\":{\"outlinewidth\":0,\"ticks\":\"\"}},\"marker\":{\"colorbar\":{\"outlinewidth\":0,\"ticks\":\"\"}}}],\"scattermapbox\":[{\"type\":\"scattermapbox\",\"marker\":{\"colorbar\":{\"outlinewidth\":0,\"ticks\":\"\"}}}],\"scatterternary\":[{\"type\":\"scatterternary\",\"marker\":{\"colorbar\":{\"outlinewidth\":0,\"ticks\":\"\"}}}],\"scattercarpet\":[{\"type\":\"scattercarpet\",\"marker\":{\"colorbar\":{\"outlinewidth\":0,\"ticks\":\"\"}}}],\"carpet\":[{\"aaxis\":{\"endlinecolor\":\"#2a3f5f\",\"gridcolor\":\"white\",\"linecolor\":\"white\",\"minorgridcolor\":\"white\",\"startlinecolor\":\"#2a3f5f\"},\"baxis\":{\"endlinecolor\":\"#2a3f5f\",\"gridcolor\":\"white\",\"linecolor\":\"white\",\"minorgridcolor\":\"white\",\"startlinecolor\":\"#2a3f5f\"},\"type\":\"carpet\"}],\"table\":[{\"cells\":{\"fill\":{\"color\":\"#EBF0F8\"},\"line\":{\"color\":\"white\"}},\"header\":{\"fill\":{\"color\":\"#C8D4E3\"},\"line\":{\"color\":\"white\"}},\"type\":\"table\"}],\"barpolar\":[{\"marker\":{\"line\":{\"color\":\"#E5ECF6\",\"width\":0.5},\"pattern\":{\"fillmode\":\"overlay\",\"size\":10,\"solidity\":0.2}},\"type\":\"barpolar\"}],\"pie\":[{\"automargin\":true,\"type\":\"pie\"}]},\"layout\":{\"autotypenumbers\":\"strict\",\"colorway\":[\"#636efa\",\"#EF553B\",\"#00cc96\",\"#ab63fa\",\"#FFA15A\",\"#19d3f3\",\"#FF6692\",\"#B6E880\",\"#FF97FF\",\"#FECB52\"],\"font\":{\"color\":\"#2a3f5f\"},\"hovermode\":\"closest\",\"hoverlabel\":{\"align\":\"left\"},\"paper_bgcolor\":\"white\",\"plot_bgcolor\":\"#E5ECF6\",\"polar\":{\"bgcolor\":\"#E5ECF6\",\"angularaxis\":{\"gridcolor\":\"white\",\"linecolor\":\"white\",\"ticks\":\"\"},\"radialaxis\":{\"gridcolor\":\"white\",\"linecolor\":\"white\",\"ticks\":\"\"}},\"ternary\":{\"bgcolor\":\"#E5ECF6\",\"aaxis\":{\"gridcolor\":\"white\",\"linecolor\":\"white\",\"ticks\":\"\"},\"baxis\":{\"gridcolor\":\"white\",\"linecolor\":\"white\",\"ticks\":\"\"},\"caxis\":{\"gridcolor\":\"white\",\"linecolor\":\"white\",\"ticks\":\"\"}},\"coloraxis\":{\"colorbar\":{\"outlinewidth\":0,\"ticks\":\"\"}},\"colorscale\":{\"sequential\":[[0.0,\"#0d0887\"],[0.1111111111111111,\"#46039f\"],[0.2222222222222222,\"#7201a8\"],[0.3333333333333333,\"#9c179e\"],[0.4444444444444444,\"#bd3786\"],[0.5555555555555556,\"#d8576b\"],[0.6666666666666666,\"#ed7953\"],[0.7777777777777778,\"#fb9f3a\"],[0.8888888888888888,\"#fdca26\"],[1.0,\"#f0f921\"]],\"sequentialminus\":[[0.0,\"#0d0887\"],[0.1111111111111111,\"#46039f\"],[0.2222222222222222,\"#7201a8\"],[0.3333333333333333,\"#9c179e\"],[0.4444444444444444,\"#bd3786\"],[0.5555555555555556,\"#d8576b\"],[0.6666666666666666,\"#ed7953\"],[0.7777777777777778,\"#fb9f3a\"],[0.8888888888888888,\"#fdca26\"],[1.0,\"#f0f921\"]],\"diverging\":[[0,\"#8e0152\"],[0.1,\"#c51b7d\"],[0.2,\"#de77ae\"],[0.3,\"#f1b6da\"],[0.4,\"#fde0ef\"],[0.5,\"#f7f7f7\"],[0.6,\"#e6f5d0\"],[0.7,\"#b8e186\"],[0.8,\"#7fbc41\"],[0.9,\"#4d9221\"],[1,\"#276419\"]]},\"xaxis\":{\"gridcolor\":\"white\",\"linecolor\":\"white\",\"ticks\":\"\",\"title\":{\"standoff\":15},\"zerolinecolor\":\"white\",\"automargin\":true,\"zerolinewidth\":2},\"yaxis\":{\"gridcolor\":\"white\",\"linecolor\":\"white\",\"ticks\":\"\",\"title\":{\"standoff\":15},\"zerolinecolor\":\"white\",\"automargin\":true,\"zerolinewidth\":2},\"scene\":{\"xaxis\":{\"backgroundcolor\":\"#E5ECF6\",\"gridcolor\":\"white\",\"linecolor\":\"white\",\"showbackground\":true,\"ticks\":\"\",\"zerolinecolor\":\"white\",\"gridwidth\":2},\"yaxis\":{\"backgroundcolor\":\"#E5ECF6\",\"gridcolor\":\"white\",\"linecolor\":\"white\",\"showbackground\":true,\"ticks\":\"\",\"zerolinecolor\":\"white\",\"gridwidth\":2},\"zaxis\":{\"backgroundcolor\":\"#E5ECF6\",\"gridcolor\":\"white\",\"linecolor\":\"white\",\"showbackground\":true,\"ticks\":\"\",\"zerolinecolor\":\"white\",\"gridwidth\":2}},\"shapedefaults\":{\"line\":{\"color\":\"#2a3f5f\"}},\"annotationdefaults\":{\"arrowcolor\":\"#2a3f5f\",\"arrowhead\":0,\"arrowwidth\":1},\"geo\":{\"bgcolor\":\"white\",\"landcolor\":\"#E5ECF6\",\"subunitcolor\":\"white\",\"showland\":true,\"showlakes\":true,\"lakecolor\":\"white\"},\"title\":{\"x\":0.05},\"mapbox\":{\"style\":\"light\"}}},\"title\":{\"text\":\"VADER sentiment scores, rolling 10-minute average, 2022-12-04\"},\"xaxis\":{\"title\":{\"text\":\"Tweet posted at\"}},\"yaxis\":{\"title\":{\"text\":\"VADER sentiment score\"}},\"legend\":{\"title\":{\"text\":\"Sentiment type\"}}},                        {\"responsive\": true}                    ).then(function(){\n",
       "                            \n",
       "var gd = document.getElementById('3e9b166a-4c4c-4c49-9bc4-dee8e7779c71');\n",
       "var x = new MutationObserver(function (mutations, observer) {{\n",
       "        var display = window.getComputedStyle(gd).display;\n",
       "        if (!display || display === 'none') {{\n",
       "            console.log([gd, 'removed!']);\n",
       "            Plotly.purge(gd);\n",
       "            observer.disconnect();\n",
       "        }}\n",
       "}});\n",
       "\n",
       "// Listen for the removal of the full notebook cells\n",
       "var notebookContainer = gd.closest('#notebook-container');\n",
       "if (notebookContainer) {{\n",
       "    x.observe(notebookContainer, {childList: true});\n",
       "}}\n",
       "\n",
       "// Listen for the clearing of the current output cell\n",
       "var outputEl = gd.closest('.output');\n",
       "if (outputEl) {{\n",
       "    x.observe(outputEl, {childList: true});\n",
       "}}\n",
       "\n",
       "                        })                };                });            </script>        </div>"
      ]
     },
     "metadata": {},
     "output_type": "display_data"
    },
    {
     "data": {
      "application/vnd.plotly.v1+json": {
       "config": {
        "plotlyServerURL": "https://plot.ly"
       },
       "data": [
        {
         "connectgaps": true,
         "line": {
          "color": "blue",
          "width": 3.5
         },
         "name": "Compound",
         "type": "scatter",
         "x": [
          "2022-12-14T16:00:00+00:00",
          "2022-12-14T16:10:00+00:00",
          "2022-12-14T16:20:00+00:00",
          "2022-12-14T16:30:00+00:00",
          "2022-12-14T16:40:00+00:00",
          "2022-12-14T16:50:00+00:00",
          "2022-12-14T17:00:00+00:00",
          "2022-12-14T17:10:00+00:00",
          "2022-12-14T17:20:00+00:00",
          "2022-12-14T17:30:00+00:00",
          "2022-12-14T17:40:00+00:00",
          "2022-12-14T17:50:00+00:00",
          "2022-12-14T18:00:00+00:00",
          "2022-12-14T18:10:00+00:00",
          "2022-12-14T18:20:00+00:00",
          "2022-12-14T18:30:00+00:00",
          "2022-12-14T18:40:00+00:00",
          "2022-12-14T18:50:00+00:00",
          "2022-12-14T19:00:00+00:00",
          "2022-12-14T19:10:00+00:00",
          "2022-12-14T19:20:00+00:00",
          "2022-12-14T19:30:00+00:00",
          "2022-12-14T19:40:00+00:00",
          "2022-12-14T19:50:00+00:00",
          "2022-12-14T20:00:00+00:00",
          "2022-12-14T20:10:00+00:00",
          "2022-12-14T20:20:00+00:00",
          "2022-12-14T20:30:00+00:00",
          "2022-12-14T20:40:00+00:00",
          "2022-12-14T20:50:00+00:00",
          "2022-12-14T21:00:00+00:00",
          "2022-12-14T21:10:00+00:00",
          "2022-12-14T21:20:00+00:00",
          "2022-12-14T21:30:00+00:00",
          "2022-12-14T21:40:00+00:00",
          "2022-12-14T21:50:00+00:00",
          "2022-12-14T22:00:00+00:00",
          "2022-12-14T22:10:00+00:00",
          "2022-12-14T22:20:00+00:00",
          "2022-12-14T22:30:00+00:00",
          "2022-12-14T22:40:00+00:00",
          "2022-12-14T22:50:00+00:00",
          "2022-12-14T23:00:00+00:00",
          "2022-12-14T23:10:00+00:00",
          "2022-12-14T23:20:00+00:00",
          "2022-12-14T23:30:00+00:00"
         ],
         "y": [
          0.05038273305084746,
          0.0611769495412844,
          null,
          null,
          null,
          null,
          0.036489922480620156,
          null,
          null,
          null,
          0.06575833333333332,
          0.09222188591385332,
          0.11004955197132617,
          0.16322931152010908,
          0.2854416267942584,
          0.29460097583643124,
          0.3178453078556263,
          0.29772802660753883,
          0.1750156574394464,
          0.19846047277079593,
          0.2773929036681522,
          0.236289228475587,
          0.2394831240582622,
          0.32772194922194925,
          0.3146996981457525,
          0.2644544642857143,
          0.2389579516212043,
          0.2280286839145107,
          0.1859895242451967,
          0.20946190476190477,
          0.2540369001654716,
          0.24072803203661328,
          0.24507432432432433,
          0.20519164164164164,
          0.21580188577586207,
          0.275952170963365,
          0.16643883994126285,
          0.21828245614035088,
          0.162736845593108,
          0.15476346405228758,
          0.13963137665967854,
          0.1346397248495271,
          0.12128571428571429,
          0.12859952418715306,
          0.172575,
          null
         ]
        },
        {
         "connectgaps": true,
         "fillcolor": "red",
         "name": "Negative",
         "type": "scatter",
         "x": [
          "2022-12-14T16:00:00+00:00",
          "2022-12-14T16:10:00+00:00",
          "2022-12-14T16:20:00+00:00",
          "2022-12-14T16:30:00+00:00",
          "2022-12-14T16:40:00+00:00",
          "2022-12-14T16:50:00+00:00",
          "2022-12-14T17:00:00+00:00",
          "2022-12-14T17:10:00+00:00",
          "2022-12-14T17:20:00+00:00",
          "2022-12-14T17:30:00+00:00",
          "2022-12-14T17:40:00+00:00",
          "2022-12-14T17:50:00+00:00",
          "2022-12-14T18:00:00+00:00",
          "2022-12-14T18:10:00+00:00",
          "2022-12-14T18:20:00+00:00",
          "2022-12-14T18:30:00+00:00",
          "2022-12-14T18:40:00+00:00",
          "2022-12-14T18:50:00+00:00",
          "2022-12-14T19:00:00+00:00",
          "2022-12-14T19:10:00+00:00",
          "2022-12-14T19:20:00+00:00",
          "2022-12-14T19:30:00+00:00",
          "2022-12-14T19:40:00+00:00",
          "2022-12-14T19:50:00+00:00",
          "2022-12-14T20:00:00+00:00",
          "2022-12-14T20:10:00+00:00",
          "2022-12-14T20:20:00+00:00",
          "2022-12-14T20:30:00+00:00",
          "2022-12-14T20:40:00+00:00",
          "2022-12-14T20:50:00+00:00",
          "2022-12-14T21:00:00+00:00",
          "2022-12-14T21:10:00+00:00",
          "2022-12-14T21:20:00+00:00",
          "2022-12-14T21:30:00+00:00",
          "2022-12-14T21:40:00+00:00",
          "2022-12-14T21:50:00+00:00",
          "2022-12-14T22:00:00+00:00",
          "2022-12-14T22:10:00+00:00",
          "2022-12-14T22:20:00+00:00",
          "2022-12-14T22:30:00+00:00",
          "2022-12-14T22:40:00+00:00",
          "2022-12-14T22:50:00+00:00",
          "2022-12-14T23:00:00+00:00",
          "2022-12-14T23:10:00+00:00",
          "2022-12-14T23:20:00+00:00",
          "2022-12-14T23:30:00+00:00"
         ],
         "y": [
          0.06838029661016949,
          0.06460091743119266,
          null,
          null,
          null,
          null,
          0.07982945736434109,
          null,
          null,
          null,
          0.06066666666666667,
          0.05916414435389988,
          0.045799283154121864,
          0.04261008861622358,
          0.02928389154704944,
          0.029603624535315985,
          0.027476433121019106,
          0.029216851441241684,
          0.03509299307958478,
          0.026195691202872535,
          0.026811107302022626,
          0.031559821095788296,
          0.03161526870919136,
          0.026242424242424244,
          0.028825355756791723,
          0.03023044217687075,
          0.032913021101389606,
          0.03546400449943757,
          0.05715187557182068,
          0.03478474246841594,
          0.027646442360728073,
          0.029397025171624715,
          0.026303803803803805,
          0.02535735735735736,
          0.030651939655172412,
          0.024616010854816826,
          0.031223201174743028,
          0.02551786874593892,
          0.027992047713717695,
          0.030075816993464052,
          0.028044025157232706,
          0.031246775580395524,
          0.026581954887218043,
          0.028398096748612215,
          0.02905,
          null
         ]
        },
        {
         "connectgaps": true,
         "fillcolor": "green",
         "name": "Positive",
         "type": "scatter",
         "x": [
          "2022-12-14T16:00:00+00:00",
          "2022-12-14T16:10:00+00:00",
          "2022-12-14T16:20:00+00:00",
          "2022-12-14T16:30:00+00:00",
          "2022-12-14T16:40:00+00:00",
          "2022-12-14T16:50:00+00:00",
          "2022-12-14T17:00:00+00:00",
          "2022-12-14T17:10:00+00:00",
          "2022-12-14T17:20:00+00:00",
          "2022-12-14T17:30:00+00:00",
          "2022-12-14T17:40:00+00:00",
          "2022-12-14T17:50:00+00:00",
          "2022-12-14T18:00:00+00:00",
          "2022-12-14T18:10:00+00:00",
          "2022-12-14T18:20:00+00:00",
          "2022-12-14T18:30:00+00:00",
          "2022-12-14T18:40:00+00:00",
          "2022-12-14T18:50:00+00:00",
          "2022-12-14T19:00:00+00:00",
          "2022-12-14T19:10:00+00:00",
          "2022-12-14T19:20:00+00:00",
          "2022-12-14T19:30:00+00:00",
          "2022-12-14T19:40:00+00:00",
          "2022-12-14T19:50:00+00:00",
          "2022-12-14T20:00:00+00:00",
          "2022-12-14T20:10:00+00:00",
          "2022-12-14T20:20:00+00:00",
          "2022-12-14T20:30:00+00:00",
          "2022-12-14T20:40:00+00:00",
          "2022-12-14T20:50:00+00:00",
          "2022-12-14T21:00:00+00:00",
          "2022-12-14T21:10:00+00:00",
          "2022-12-14T21:20:00+00:00",
          "2022-12-14T21:30:00+00:00",
          "2022-12-14T21:40:00+00:00",
          "2022-12-14T21:50:00+00:00",
          "2022-12-14T22:00:00+00:00",
          "2022-12-14T22:10:00+00:00",
          "2022-12-14T22:20:00+00:00",
          "2022-12-14T22:30:00+00:00",
          "2022-12-14T22:40:00+00:00",
          "2022-12-14T22:50:00+00:00",
          "2022-12-14T23:00:00+00:00",
          "2022-12-14T23:10:00+00:00",
          "2022-12-14T23:20:00+00:00",
          "2022-12-14T23:30:00+00:00"
         ],
         "y": [
          0.09657097457627119,
          0.0997098623853211,
          null,
          null,
          null,
          null,
          0.09663565891472868,
          null,
          null,
          null,
          0.11558333333333333,
          0.09513853317811409,
          0.09358870967741935,
          0.09313292433537833,
          0.11082030834662414,
          0.11799581784386617,
          0.12217664543524416,
          0.11672195121951218,
          0.07890570934256055,
          0.07372022740873728,
          0.09904285224545767,
          0.09778494222884831,
          0.09884178804620794,
          0.1283026208026208,
          0.12405088400172487,
          0.1088639455782313,
          0.0972300566134843,
          0.10053937007874016,
          0.10263494967978043,
          0.10444169096209913,
          0.12579481522338665,
          0.12731979405034324,
          0.12971821821821822,
          0.11598198198198198,
          0.12410237068965517,
          0.14015875169606512,
          0.10080910425844346,
          0.11199090318388565,
          0.09966269052352551,
          0.0904078431372549,
          0.08920894479385046,
          0.08392605331040412,
          0.07834962406015038,
          0.07991118160190325,
          0.10335000000000001,
          null
         ]
        },
        {
         "connectgaps": true,
         "line": {
          "color": "orange"
         },
         "name": "Neutral",
         "type": "scatter",
         "x": [
          "2022-12-14T16:00:00+00:00",
          "2022-12-14T16:10:00+00:00",
          "2022-12-14T16:20:00+00:00",
          "2022-12-14T16:30:00+00:00",
          "2022-12-14T16:40:00+00:00",
          "2022-12-14T16:50:00+00:00",
          "2022-12-14T17:00:00+00:00",
          "2022-12-14T17:10:00+00:00",
          "2022-12-14T17:20:00+00:00",
          "2022-12-14T17:30:00+00:00",
          "2022-12-14T17:40:00+00:00",
          "2022-12-14T17:50:00+00:00",
          "2022-12-14T18:00:00+00:00",
          "2022-12-14T18:10:00+00:00",
          "2022-12-14T18:20:00+00:00",
          "2022-12-14T18:30:00+00:00",
          "2022-12-14T18:40:00+00:00",
          "2022-12-14T18:50:00+00:00",
          "2022-12-14T19:00:00+00:00",
          "2022-12-14T19:10:00+00:00",
          "2022-12-14T19:20:00+00:00",
          "2022-12-14T19:30:00+00:00",
          "2022-12-14T19:40:00+00:00",
          "2022-12-14T19:50:00+00:00",
          "2022-12-14T20:00:00+00:00",
          "2022-12-14T20:10:00+00:00",
          "2022-12-14T20:20:00+00:00",
          "2022-12-14T20:30:00+00:00",
          "2022-12-14T20:40:00+00:00",
          "2022-12-14T20:50:00+00:00",
          "2022-12-14T21:00:00+00:00",
          "2022-12-14T21:10:00+00:00",
          "2022-12-14T21:20:00+00:00",
          "2022-12-14T21:30:00+00:00",
          "2022-12-14T21:40:00+00:00",
          "2022-12-14T21:50:00+00:00",
          "2022-12-14T22:00:00+00:00",
          "2022-12-14T22:10:00+00:00",
          "2022-12-14T22:20:00+00:00",
          "2022-12-14T22:30:00+00:00",
          "2022-12-14T22:40:00+00:00",
          "2022-12-14T22:50:00+00:00",
          "2022-12-14T23:00:00+00:00",
          "2022-12-14T23:10:00+00:00",
          "2022-12-14T23:20:00+00:00",
          "2022-12-14T23:30:00+00:00"
         ],
         "y": [
          0.8350688559322034,
          0.835697247706422,
          null,
          null,
          null,
          null,
          0.8235348837209303,
          null,
          null,
          null,
          0.82375,
          0.8456996507566938,
          0.8606200716845878,
          0.8642631220177233,
          0.8599016480595427,
          0.8523996282527881,
          0.8503430997876857,
          0.8540665188470067,
          0.8860060553633218,
          0.9000855774985038,
          0.8741480973603016,
          0.8706571002609019,
          0.8695469613259669,
          0.845457411957412,
          0.8471228978007762,
          0.8609051870748299,
          0.8698522902727741,
          0.8639983127109112,
          0.8402099725526075,
          0.8607662779397474,
          0.8465493656922229,
          0.8432808924485127,
          0.8439734734734735,
          0.8586551551551552,
          0.8452354525862069,
          0.8352164179104478,
          0.8679618208516887,
          0.8624840805717999,
          0.8723412856196157,
          0.8795196078431372,
          0.8827330538085255,
          0.8848237317282889,
          0.8950593984962407,
          0.8916954797779539,
          0.8676,
          null
         ]
        }
       ],
       "layout": {
        "legend": {
         "title": {
          "text": "Sentiment type"
         }
        },
        "template": {
         "data": {
          "bar": [
           {
            "error_x": {
             "color": "#2a3f5f"
            },
            "error_y": {
             "color": "#2a3f5f"
            },
            "marker": {
             "line": {
              "color": "#E5ECF6",
              "width": 0.5
             },
             "pattern": {
              "fillmode": "overlay",
              "size": 10,
              "solidity": 0.2
             }
            },
            "type": "bar"
           }
          ],
          "barpolar": [
           {
            "marker": {
             "line": {
              "color": "#E5ECF6",
              "width": 0.5
             },
             "pattern": {
              "fillmode": "overlay",
              "size": 10,
              "solidity": 0.2
             }
            },
            "type": "barpolar"
           }
          ],
          "carpet": [
           {
            "aaxis": {
             "endlinecolor": "#2a3f5f",
             "gridcolor": "white",
             "linecolor": "white",
             "minorgridcolor": "white",
             "startlinecolor": "#2a3f5f"
            },
            "baxis": {
             "endlinecolor": "#2a3f5f",
             "gridcolor": "white",
             "linecolor": "white",
             "minorgridcolor": "white",
             "startlinecolor": "#2a3f5f"
            },
            "type": "carpet"
           }
          ],
          "choropleth": [
           {
            "colorbar": {
             "outlinewidth": 0,
             "ticks": ""
            },
            "type": "choropleth"
           }
          ],
          "contour": [
           {
            "colorbar": {
             "outlinewidth": 0,
             "ticks": ""
            },
            "colorscale": [
             [
              0,
              "#0d0887"
             ],
             [
              0.1111111111111111,
              "#46039f"
             ],
             [
              0.2222222222222222,
              "#7201a8"
             ],
             [
              0.3333333333333333,
              "#9c179e"
             ],
             [
              0.4444444444444444,
              "#bd3786"
             ],
             [
              0.5555555555555556,
              "#d8576b"
             ],
             [
              0.6666666666666666,
              "#ed7953"
             ],
             [
              0.7777777777777778,
              "#fb9f3a"
             ],
             [
              0.8888888888888888,
              "#fdca26"
             ],
             [
              1,
              "#f0f921"
             ]
            ],
            "type": "contour"
           }
          ],
          "contourcarpet": [
           {
            "colorbar": {
             "outlinewidth": 0,
             "ticks": ""
            },
            "type": "contourcarpet"
           }
          ],
          "heatmap": [
           {
            "colorbar": {
             "outlinewidth": 0,
             "ticks": ""
            },
            "colorscale": [
             [
              0,
              "#0d0887"
             ],
             [
              0.1111111111111111,
              "#46039f"
             ],
             [
              0.2222222222222222,
              "#7201a8"
             ],
             [
              0.3333333333333333,
              "#9c179e"
             ],
             [
              0.4444444444444444,
              "#bd3786"
             ],
             [
              0.5555555555555556,
              "#d8576b"
             ],
             [
              0.6666666666666666,
              "#ed7953"
             ],
             [
              0.7777777777777778,
              "#fb9f3a"
             ],
             [
              0.8888888888888888,
              "#fdca26"
             ],
             [
              1,
              "#f0f921"
             ]
            ],
            "type": "heatmap"
           }
          ],
          "heatmapgl": [
           {
            "colorbar": {
             "outlinewidth": 0,
             "ticks": ""
            },
            "colorscale": [
             [
              0,
              "#0d0887"
             ],
             [
              0.1111111111111111,
              "#46039f"
             ],
             [
              0.2222222222222222,
              "#7201a8"
             ],
             [
              0.3333333333333333,
              "#9c179e"
             ],
             [
              0.4444444444444444,
              "#bd3786"
             ],
             [
              0.5555555555555556,
              "#d8576b"
             ],
             [
              0.6666666666666666,
              "#ed7953"
             ],
             [
              0.7777777777777778,
              "#fb9f3a"
             ],
             [
              0.8888888888888888,
              "#fdca26"
             ],
             [
              1,
              "#f0f921"
             ]
            ],
            "type": "heatmapgl"
           }
          ],
          "histogram": [
           {
            "marker": {
             "pattern": {
              "fillmode": "overlay",
              "size": 10,
              "solidity": 0.2
             }
            },
            "type": "histogram"
           }
          ],
          "histogram2d": [
           {
            "colorbar": {
             "outlinewidth": 0,
             "ticks": ""
            },
            "colorscale": [
             [
              0,
              "#0d0887"
             ],
             [
              0.1111111111111111,
              "#46039f"
             ],
             [
              0.2222222222222222,
              "#7201a8"
             ],
             [
              0.3333333333333333,
              "#9c179e"
             ],
             [
              0.4444444444444444,
              "#bd3786"
             ],
             [
              0.5555555555555556,
              "#d8576b"
             ],
             [
              0.6666666666666666,
              "#ed7953"
             ],
             [
              0.7777777777777778,
              "#fb9f3a"
             ],
             [
              0.8888888888888888,
              "#fdca26"
             ],
             [
              1,
              "#f0f921"
             ]
            ],
            "type": "histogram2d"
           }
          ],
          "histogram2dcontour": [
           {
            "colorbar": {
             "outlinewidth": 0,
             "ticks": ""
            },
            "colorscale": [
             [
              0,
              "#0d0887"
             ],
             [
              0.1111111111111111,
              "#46039f"
             ],
             [
              0.2222222222222222,
              "#7201a8"
             ],
             [
              0.3333333333333333,
              "#9c179e"
             ],
             [
              0.4444444444444444,
              "#bd3786"
             ],
             [
              0.5555555555555556,
              "#d8576b"
             ],
             [
              0.6666666666666666,
              "#ed7953"
             ],
             [
              0.7777777777777778,
              "#fb9f3a"
             ],
             [
              0.8888888888888888,
              "#fdca26"
             ],
             [
              1,
              "#f0f921"
             ]
            ],
            "type": "histogram2dcontour"
           }
          ],
          "mesh3d": [
           {
            "colorbar": {
             "outlinewidth": 0,
             "ticks": ""
            },
            "type": "mesh3d"
           }
          ],
          "parcoords": [
           {
            "line": {
             "colorbar": {
              "outlinewidth": 0,
              "ticks": ""
             }
            },
            "type": "parcoords"
           }
          ],
          "pie": [
           {
            "automargin": true,
            "type": "pie"
           }
          ],
          "scatter": [
           {
            "fillpattern": {
             "fillmode": "overlay",
             "size": 10,
             "solidity": 0.2
            },
            "type": "scatter"
           }
          ],
          "scatter3d": [
           {
            "line": {
             "colorbar": {
              "outlinewidth": 0,
              "ticks": ""
             }
            },
            "marker": {
             "colorbar": {
              "outlinewidth": 0,
              "ticks": ""
             }
            },
            "type": "scatter3d"
           }
          ],
          "scattercarpet": [
           {
            "marker": {
             "colorbar": {
              "outlinewidth": 0,
              "ticks": ""
             }
            },
            "type": "scattercarpet"
           }
          ],
          "scattergeo": [
           {
            "marker": {
             "colorbar": {
              "outlinewidth": 0,
              "ticks": ""
             }
            },
            "type": "scattergeo"
           }
          ],
          "scattergl": [
           {
            "marker": {
             "colorbar": {
              "outlinewidth": 0,
              "ticks": ""
             }
            },
            "type": "scattergl"
           }
          ],
          "scattermapbox": [
           {
            "marker": {
             "colorbar": {
              "outlinewidth": 0,
              "ticks": ""
             }
            },
            "type": "scattermapbox"
           }
          ],
          "scatterpolar": [
           {
            "marker": {
             "colorbar": {
              "outlinewidth": 0,
              "ticks": ""
             }
            },
            "type": "scatterpolar"
           }
          ],
          "scatterpolargl": [
           {
            "marker": {
             "colorbar": {
              "outlinewidth": 0,
              "ticks": ""
             }
            },
            "type": "scatterpolargl"
           }
          ],
          "scatterternary": [
           {
            "marker": {
             "colorbar": {
              "outlinewidth": 0,
              "ticks": ""
             }
            },
            "type": "scatterternary"
           }
          ],
          "surface": [
           {
            "colorbar": {
             "outlinewidth": 0,
             "ticks": ""
            },
            "colorscale": [
             [
              0,
              "#0d0887"
             ],
             [
              0.1111111111111111,
              "#46039f"
             ],
             [
              0.2222222222222222,
              "#7201a8"
             ],
             [
              0.3333333333333333,
              "#9c179e"
             ],
             [
              0.4444444444444444,
              "#bd3786"
             ],
             [
              0.5555555555555556,
              "#d8576b"
             ],
             [
              0.6666666666666666,
              "#ed7953"
             ],
             [
              0.7777777777777778,
              "#fb9f3a"
             ],
             [
              0.8888888888888888,
              "#fdca26"
             ],
             [
              1,
              "#f0f921"
             ]
            ],
            "type": "surface"
           }
          ],
          "table": [
           {
            "cells": {
             "fill": {
              "color": "#EBF0F8"
             },
             "line": {
              "color": "white"
             }
            },
            "header": {
             "fill": {
              "color": "#C8D4E3"
             },
             "line": {
              "color": "white"
             }
            },
            "type": "table"
           }
          ]
         },
         "layout": {
          "annotationdefaults": {
           "arrowcolor": "#2a3f5f",
           "arrowhead": 0,
           "arrowwidth": 1
          },
          "autotypenumbers": "strict",
          "coloraxis": {
           "colorbar": {
            "outlinewidth": 0,
            "ticks": ""
           }
          },
          "colorscale": {
           "diverging": [
            [
             0,
             "#8e0152"
            ],
            [
             0.1,
             "#c51b7d"
            ],
            [
             0.2,
             "#de77ae"
            ],
            [
             0.3,
             "#f1b6da"
            ],
            [
             0.4,
             "#fde0ef"
            ],
            [
             0.5,
             "#f7f7f7"
            ],
            [
             0.6,
             "#e6f5d0"
            ],
            [
             0.7,
             "#b8e186"
            ],
            [
             0.8,
             "#7fbc41"
            ],
            [
             0.9,
             "#4d9221"
            ],
            [
             1,
             "#276419"
            ]
           ],
           "sequential": [
            [
             0,
             "#0d0887"
            ],
            [
             0.1111111111111111,
             "#46039f"
            ],
            [
             0.2222222222222222,
             "#7201a8"
            ],
            [
             0.3333333333333333,
             "#9c179e"
            ],
            [
             0.4444444444444444,
             "#bd3786"
            ],
            [
             0.5555555555555556,
             "#d8576b"
            ],
            [
             0.6666666666666666,
             "#ed7953"
            ],
            [
             0.7777777777777778,
             "#fb9f3a"
            ],
            [
             0.8888888888888888,
             "#fdca26"
            ],
            [
             1,
             "#f0f921"
            ]
           ],
           "sequentialminus": [
            [
             0,
             "#0d0887"
            ],
            [
             0.1111111111111111,
             "#46039f"
            ],
            [
             0.2222222222222222,
             "#7201a8"
            ],
            [
             0.3333333333333333,
             "#9c179e"
            ],
            [
             0.4444444444444444,
             "#bd3786"
            ],
            [
             0.5555555555555556,
             "#d8576b"
            ],
            [
             0.6666666666666666,
             "#ed7953"
            ],
            [
             0.7777777777777778,
             "#fb9f3a"
            ],
            [
             0.8888888888888888,
             "#fdca26"
            ],
            [
             1,
             "#f0f921"
            ]
           ]
          },
          "colorway": [
           "#636efa",
           "#EF553B",
           "#00cc96",
           "#ab63fa",
           "#FFA15A",
           "#19d3f3",
           "#FF6692",
           "#B6E880",
           "#FF97FF",
           "#FECB52"
          ],
          "font": {
           "color": "#2a3f5f"
          },
          "geo": {
           "bgcolor": "white",
           "lakecolor": "white",
           "landcolor": "#E5ECF6",
           "showlakes": true,
           "showland": true,
           "subunitcolor": "white"
          },
          "hoverlabel": {
           "align": "left"
          },
          "hovermode": "closest",
          "mapbox": {
           "style": "light"
          },
          "paper_bgcolor": "white",
          "plot_bgcolor": "#E5ECF6",
          "polar": {
           "angularaxis": {
            "gridcolor": "white",
            "linecolor": "white",
            "ticks": ""
           },
           "bgcolor": "#E5ECF6",
           "radialaxis": {
            "gridcolor": "white",
            "linecolor": "white",
            "ticks": ""
           }
          },
          "scene": {
           "xaxis": {
            "backgroundcolor": "#E5ECF6",
            "gridcolor": "white",
            "gridwidth": 2,
            "linecolor": "white",
            "showbackground": true,
            "ticks": "",
            "zerolinecolor": "white"
           },
           "yaxis": {
            "backgroundcolor": "#E5ECF6",
            "gridcolor": "white",
            "gridwidth": 2,
            "linecolor": "white",
            "showbackground": true,
            "ticks": "",
            "zerolinecolor": "white"
           },
           "zaxis": {
            "backgroundcolor": "#E5ECF6",
            "gridcolor": "white",
            "gridwidth": 2,
            "linecolor": "white",
            "showbackground": true,
            "ticks": "",
            "zerolinecolor": "white"
           }
          },
          "shapedefaults": {
           "line": {
            "color": "#2a3f5f"
           }
          },
          "ternary": {
           "aaxis": {
            "gridcolor": "white",
            "linecolor": "white",
            "ticks": ""
           },
           "baxis": {
            "gridcolor": "white",
            "linecolor": "white",
            "ticks": ""
           },
           "bgcolor": "#E5ECF6",
           "caxis": {
            "gridcolor": "white",
            "linecolor": "white",
            "ticks": ""
           }
          },
          "title": {
           "x": 0.05
          },
          "xaxis": {
           "automargin": true,
           "gridcolor": "white",
           "linecolor": "white",
           "ticks": "",
           "title": {
            "standoff": 15
           },
           "zerolinecolor": "white",
           "zerolinewidth": 2
          },
          "yaxis": {
           "automargin": true,
           "gridcolor": "white",
           "linecolor": "white",
           "ticks": "",
           "title": {
            "standoff": 15
           },
           "zerolinecolor": "white",
           "zerolinewidth": 2
          }
         }
        },
        "title": {
         "text": "VADER sentiment scores, rolling 10-minute average, 2022-12-14"
        },
        "xaxis": {
         "title": {
          "text": "Tweet posted at"
         }
        },
        "yaxis": {
         "title": {
          "text": "VADER sentiment score"
         }
        }
       }
      },
      "text/html": [
       "<div>                            <div id=\"4f95beee-b8bf-4738-a0f7-84008685602b\" class=\"plotly-graph-div\" style=\"height:525px; width:100%;\"></div>            <script type=\"text/javascript\">                require([\"plotly\"], function(Plotly) {                    window.PLOTLYENV=window.PLOTLYENV || {};                                    if (document.getElementById(\"4f95beee-b8bf-4738-a0f7-84008685602b\")) {                    Plotly.newPlot(                        \"4f95beee-b8bf-4738-a0f7-84008685602b\",                        [{\"line\":{\"color\":\"blue\",\"width\":3.5},\"name\":\"Compound\",\"x\":[\"2022-12-14T16:00:00+00:00\",\"2022-12-14T16:10:00+00:00\",\"2022-12-14T16:20:00+00:00\",\"2022-12-14T16:30:00+00:00\",\"2022-12-14T16:40:00+00:00\",\"2022-12-14T16:50:00+00:00\",\"2022-12-14T17:00:00+00:00\",\"2022-12-14T17:10:00+00:00\",\"2022-12-14T17:20:00+00:00\",\"2022-12-14T17:30:00+00:00\",\"2022-12-14T17:40:00+00:00\",\"2022-12-14T17:50:00+00:00\",\"2022-12-14T18:00:00+00:00\",\"2022-12-14T18:10:00+00:00\",\"2022-12-14T18:20:00+00:00\",\"2022-12-14T18:30:00+00:00\",\"2022-12-14T18:40:00+00:00\",\"2022-12-14T18:50:00+00:00\",\"2022-12-14T19:00:00+00:00\",\"2022-12-14T19:10:00+00:00\",\"2022-12-14T19:20:00+00:00\",\"2022-12-14T19:30:00+00:00\",\"2022-12-14T19:40:00+00:00\",\"2022-12-14T19:50:00+00:00\",\"2022-12-14T20:00:00+00:00\",\"2022-12-14T20:10:00+00:00\",\"2022-12-14T20:20:00+00:00\",\"2022-12-14T20:30:00+00:00\",\"2022-12-14T20:40:00+00:00\",\"2022-12-14T20:50:00+00:00\",\"2022-12-14T21:00:00+00:00\",\"2022-12-14T21:10:00+00:00\",\"2022-12-14T21:20:00+00:00\",\"2022-12-14T21:30:00+00:00\",\"2022-12-14T21:40:00+00:00\",\"2022-12-14T21:50:00+00:00\",\"2022-12-14T22:00:00+00:00\",\"2022-12-14T22:10:00+00:00\",\"2022-12-14T22:20:00+00:00\",\"2022-12-14T22:30:00+00:00\",\"2022-12-14T22:40:00+00:00\",\"2022-12-14T22:50:00+00:00\",\"2022-12-14T23:00:00+00:00\",\"2022-12-14T23:10:00+00:00\",\"2022-12-14T23:20:00+00:00\",\"2022-12-14T23:30:00+00:00\"],\"y\":[0.05038273305084746,0.0611769495412844,null,null,null,null,0.036489922480620156,null,null,null,0.06575833333333332,0.09222188591385332,0.11004955197132617,0.16322931152010908,0.2854416267942584,0.29460097583643124,0.3178453078556263,0.29772802660753883,0.1750156574394464,0.19846047277079593,0.2773929036681522,0.236289228475587,0.2394831240582622,0.32772194922194925,0.3146996981457525,0.2644544642857143,0.2389579516212043,0.2280286839145107,0.1859895242451967,0.20946190476190477,0.2540369001654716,0.24072803203661328,0.24507432432432433,0.20519164164164164,0.21580188577586207,0.275952170963365,0.16643883994126285,0.21828245614035088,0.162736845593108,0.15476346405228758,0.13963137665967854,0.1346397248495271,0.12128571428571429,0.12859952418715306,0.172575,null],\"type\":\"scatter\",\"connectgaps\":true},{\"fillcolor\":\"red\",\"name\":\"Negative\",\"x\":[\"2022-12-14T16:00:00+00:00\",\"2022-12-14T16:10:00+00:00\",\"2022-12-14T16:20:00+00:00\",\"2022-12-14T16:30:00+00:00\",\"2022-12-14T16:40:00+00:00\",\"2022-12-14T16:50:00+00:00\",\"2022-12-14T17:00:00+00:00\",\"2022-12-14T17:10:00+00:00\",\"2022-12-14T17:20:00+00:00\",\"2022-12-14T17:30:00+00:00\",\"2022-12-14T17:40:00+00:00\",\"2022-12-14T17:50:00+00:00\",\"2022-12-14T18:00:00+00:00\",\"2022-12-14T18:10:00+00:00\",\"2022-12-14T18:20:00+00:00\",\"2022-12-14T18:30:00+00:00\",\"2022-12-14T18:40:00+00:00\",\"2022-12-14T18:50:00+00:00\",\"2022-12-14T19:00:00+00:00\",\"2022-12-14T19:10:00+00:00\",\"2022-12-14T19:20:00+00:00\",\"2022-12-14T19:30:00+00:00\",\"2022-12-14T19:40:00+00:00\",\"2022-12-14T19:50:00+00:00\",\"2022-12-14T20:00:00+00:00\",\"2022-12-14T20:10:00+00:00\",\"2022-12-14T20:20:00+00:00\",\"2022-12-14T20:30:00+00:00\",\"2022-12-14T20:40:00+00:00\",\"2022-12-14T20:50:00+00:00\",\"2022-12-14T21:00:00+00:00\",\"2022-12-14T21:10:00+00:00\",\"2022-12-14T21:20:00+00:00\",\"2022-12-14T21:30:00+00:00\",\"2022-12-14T21:40:00+00:00\",\"2022-12-14T21:50:00+00:00\",\"2022-12-14T22:00:00+00:00\",\"2022-12-14T22:10:00+00:00\",\"2022-12-14T22:20:00+00:00\",\"2022-12-14T22:30:00+00:00\",\"2022-12-14T22:40:00+00:00\",\"2022-12-14T22:50:00+00:00\",\"2022-12-14T23:00:00+00:00\",\"2022-12-14T23:10:00+00:00\",\"2022-12-14T23:20:00+00:00\",\"2022-12-14T23:30:00+00:00\"],\"y\":[0.06838029661016949,0.06460091743119266,null,null,null,null,0.07982945736434109,null,null,null,0.06066666666666667,0.05916414435389988,0.045799283154121864,0.04261008861622358,0.02928389154704944,0.029603624535315985,0.027476433121019106,0.029216851441241684,0.03509299307958478,0.026195691202872535,0.026811107302022626,0.031559821095788296,0.03161526870919136,0.026242424242424244,0.028825355756791723,0.03023044217687075,0.032913021101389606,0.03546400449943757,0.05715187557182068,0.03478474246841594,0.027646442360728073,0.029397025171624715,0.026303803803803805,0.02535735735735736,0.030651939655172412,0.024616010854816826,0.031223201174743028,0.02551786874593892,0.027992047713717695,0.030075816993464052,0.028044025157232706,0.031246775580395524,0.026581954887218043,0.028398096748612215,0.02905,null],\"type\":\"scatter\",\"connectgaps\":true},{\"fillcolor\":\"green\",\"name\":\"Positive\",\"x\":[\"2022-12-14T16:00:00+00:00\",\"2022-12-14T16:10:00+00:00\",\"2022-12-14T16:20:00+00:00\",\"2022-12-14T16:30:00+00:00\",\"2022-12-14T16:40:00+00:00\",\"2022-12-14T16:50:00+00:00\",\"2022-12-14T17:00:00+00:00\",\"2022-12-14T17:10:00+00:00\",\"2022-12-14T17:20:00+00:00\",\"2022-12-14T17:30:00+00:00\",\"2022-12-14T17:40:00+00:00\",\"2022-12-14T17:50:00+00:00\",\"2022-12-14T18:00:00+00:00\",\"2022-12-14T18:10:00+00:00\",\"2022-12-14T18:20:00+00:00\",\"2022-12-14T18:30:00+00:00\",\"2022-12-14T18:40:00+00:00\",\"2022-12-14T18:50:00+00:00\",\"2022-12-14T19:00:00+00:00\",\"2022-12-14T19:10:00+00:00\",\"2022-12-14T19:20:00+00:00\",\"2022-12-14T19:30:00+00:00\",\"2022-12-14T19:40:00+00:00\",\"2022-12-14T19:50:00+00:00\",\"2022-12-14T20:00:00+00:00\",\"2022-12-14T20:10:00+00:00\",\"2022-12-14T20:20:00+00:00\",\"2022-12-14T20:30:00+00:00\",\"2022-12-14T20:40:00+00:00\",\"2022-12-14T20:50:00+00:00\",\"2022-12-14T21:00:00+00:00\",\"2022-12-14T21:10:00+00:00\",\"2022-12-14T21:20:00+00:00\",\"2022-12-14T21:30:00+00:00\",\"2022-12-14T21:40:00+00:00\",\"2022-12-14T21:50:00+00:00\",\"2022-12-14T22:00:00+00:00\",\"2022-12-14T22:10:00+00:00\",\"2022-12-14T22:20:00+00:00\",\"2022-12-14T22:30:00+00:00\",\"2022-12-14T22:40:00+00:00\",\"2022-12-14T22:50:00+00:00\",\"2022-12-14T23:00:00+00:00\",\"2022-12-14T23:10:00+00:00\",\"2022-12-14T23:20:00+00:00\",\"2022-12-14T23:30:00+00:00\"],\"y\":[0.09657097457627119,0.0997098623853211,null,null,null,null,0.09663565891472868,null,null,null,0.11558333333333333,0.09513853317811409,0.09358870967741935,0.09313292433537833,0.11082030834662414,0.11799581784386617,0.12217664543524416,0.11672195121951218,0.07890570934256055,0.07372022740873728,0.09904285224545767,0.09778494222884831,0.09884178804620794,0.1283026208026208,0.12405088400172487,0.1088639455782313,0.0972300566134843,0.10053937007874016,0.10263494967978043,0.10444169096209913,0.12579481522338665,0.12731979405034324,0.12971821821821822,0.11598198198198198,0.12410237068965517,0.14015875169606512,0.10080910425844346,0.11199090318388565,0.09966269052352551,0.0904078431372549,0.08920894479385046,0.08392605331040412,0.07834962406015038,0.07991118160190325,0.10335000000000001,null],\"type\":\"scatter\",\"connectgaps\":true},{\"line\":{\"color\":\"orange\"},\"name\":\"Neutral\",\"x\":[\"2022-12-14T16:00:00+00:00\",\"2022-12-14T16:10:00+00:00\",\"2022-12-14T16:20:00+00:00\",\"2022-12-14T16:30:00+00:00\",\"2022-12-14T16:40:00+00:00\",\"2022-12-14T16:50:00+00:00\",\"2022-12-14T17:00:00+00:00\",\"2022-12-14T17:10:00+00:00\",\"2022-12-14T17:20:00+00:00\",\"2022-12-14T17:30:00+00:00\",\"2022-12-14T17:40:00+00:00\",\"2022-12-14T17:50:00+00:00\",\"2022-12-14T18:00:00+00:00\",\"2022-12-14T18:10:00+00:00\",\"2022-12-14T18:20:00+00:00\",\"2022-12-14T18:30:00+00:00\",\"2022-12-14T18:40:00+00:00\",\"2022-12-14T18:50:00+00:00\",\"2022-12-14T19:00:00+00:00\",\"2022-12-14T19:10:00+00:00\",\"2022-12-14T19:20:00+00:00\",\"2022-12-14T19:30:00+00:00\",\"2022-12-14T19:40:00+00:00\",\"2022-12-14T19:50:00+00:00\",\"2022-12-14T20:00:00+00:00\",\"2022-12-14T20:10:00+00:00\",\"2022-12-14T20:20:00+00:00\",\"2022-12-14T20:30:00+00:00\",\"2022-12-14T20:40:00+00:00\",\"2022-12-14T20:50:00+00:00\",\"2022-12-14T21:00:00+00:00\",\"2022-12-14T21:10:00+00:00\",\"2022-12-14T21:20:00+00:00\",\"2022-12-14T21:30:00+00:00\",\"2022-12-14T21:40:00+00:00\",\"2022-12-14T21:50:00+00:00\",\"2022-12-14T22:00:00+00:00\",\"2022-12-14T22:10:00+00:00\",\"2022-12-14T22:20:00+00:00\",\"2022-12-14T22:30:00+00:00\",\"2022-12-14T22:40:00+00:00\",\"2022-12-14T22:50:00+00:00\",\"2022-12-14T23:00:00+00:00\",\"2022-12-14T23:10:00+00:00\",\"2022-12-14T23:20:00+00:00\",\"2022-12-14T23:30:00+00:00\"],\"y\":[0.8350688559322034,0.835697247706422,null,null,null,null,0.8235348837209303,null,null,null,0.82375,0.8456996507566938,0.8606200716845878,0.8642631220177233,0.8599016480595427,0.8523996282527881,0.8503430997876857,0.8540665188470067,0.8860060553633218,0.9000855774985038,0.8741480973603016,0.8706571002609019,0.8695469613259669,0.845457411957412,0.8471228978007762,0.8609051870748299,0.8698522902727741,0.8639983127109112,0.8402099725526075,0.8607662779397474,0.8465493656922229,0.8432808924485127,0.8439734734734735,0.8586551551551552,0.8452354525862069,0.8352164179104478,0.8679618208516887,0.8624840805717999,0.8723412856196157,0.8795196078431372,0.8827330538085255,0.8848237317282889,0.8950593984962407,0.8916954797779539,0.8676,null],\"type\":\"scatter\",\"connectgaps\":true}],                        {\"template\":{\"data\":{\"histogram2dcontour\":[{\"type\":\"histogram2dcontour\",\"colorbar\":{\"outlinewidth\":0,\"ticks\":\"\"},\"colorscale\":[[0.0,\"#0d0887\"],[0.1111111111111111,\"#46039f\"],[0.2222222222222222,\"#7201a8\"],[0.3333333333333333,\"#9c179e\"],[0.4444444444444444,\"#bd3786\"],[0.5555555555555556,\"#d8576b\"],[0.6666666666666666,\"#ed7953\"],[0.7777777777777778,\"#fb9f3a\"],[0.8888888888888888,\"#fdca26\"],[1.0,\"#f0f921\"]]}],\"choropleth\":[{\"type\":\"choropleth\",\"colorbar\":{\"outlinewidth\":0,\"ticks\":\"\"}}],\"histogram2d\":[{\"type\":\"histogram2d\",\"colorbar\":{\"outlinewidth\":0,\"ticks\":\"\"},\"colorscale\":[[0.0,\"#0d0887\"],[0.1111111111111111,\"#46039f\"],[0.2222222222222222,\"#7201a8\"],[0.3333333333333333,\"#9c179e\"],[0.4444444444444444,\"#bd3786\"],[0.5555555555555556,\"#d8576b\"],[0.6666666666666666,\"#ed7953\"],[0.7777777777777778,\"#fb9f3a\"],[0.8888888888888888,\"#fdca26\"],[1.0,\"#f0f921\"]]}],\"heatmap\":[{\"type\":\"heatmap\",\"colorbar\":{\"outlinewidth\":0,\"ticks\":\"\"},\"colorscale\":[[0.0,\"#0d0887\"],[0.1111111111111111,\"#46039f\"],[0.2222222222222222,\"#7201a8\"],[0.3333333333333333,\"#9c179e\"],[0.4444444444444444,\"#bd3786\"],[0.5555555555555556,\"#d8576b\"],[0.6666666666666666,\"#ed7953\"],[0.7777777777777778,\"#fb9f3a\"],[0.8888888888888888,\"#fdca26\"],[1.0,\"#f0f921\"]]}],\"heatmapgl\":[{\"type\":\"heatmapgl\",\"colorbar\":{\"outlinewidth\":0,\"ticks\":\"\"},\"colorscale\":[[0.0,\"#0d0887\"],[0.1111111111111111,\"#46039f\"],[0.2222222222222222,\"#7201a8\"],[0.3333333333333333,\"#9c179e\"],[0.4444444444444444,\"#bd3786\"],[0.5555555555555556,\"#d8576b\"],[0.6666666666666666,\"#ed7953\"],[0.7777777777777778,\"#fb9f3a\"],[0.8888888888888888,\"#fdca26\"],[1.0,\"#f0f921\"]]}],\"contourcarpet\":[{\"type\":\"contourcarpet\",\"colorbar\":{\"outlinewidth\":0,\"ticks\":\"\"}}],\"contour\":[{\"type\":\"contour\",\"colorbar\":{\"outlinewidth\":0,\"ticks\":\"\"},\"colorscale\":[[0.0,\"#0d0887\"],[0.1111111111111111,\"#46039f\"],[0.2222222222222222,\"#7201a8\"],[0.3333333333333333,\"#9c179e\"],[0.4444444444444444,\"#bd3786\"],[0.5555555555555556,\"#d8576b\"],[0.6666666666666666,\"#ed7953\"],[0.7777777777777778,\"#fb9f3a\"],[0.8888888888888888,\"#fdca26\"],[1.0,\"#f0f921\"]]}],\"surface\":[{\"type\":\"surface\",\"colorbar\":{\"outlinewidth\":0,\"ticks\":\"\"},\"colorscale\":[[0.0,\"#0d0887\"],[0.1111111111111111,\"#46039f\"],[0.2222222222222222,\"#7201a8\"],[0.3333333333333333,\"#9c179e\"],[0.4444444444444444,\"#bd3786\"],[0.5555555555555556,\"#d8576b\"],[0.6666666666666666,\"#ed7953\"],[0.7777777777777778,\"#fb9f3a\"],[0.8888888888888888,\"#fdca26\"],[1.0,\"#f0f921\"]]}],\"mesh3d\":[{\"type\":\"mesh3d\",\"colorbar\":{\"outlinewidth\":0,\"ticks\":\"\"}}],\"scatter\":[{\"fillpattern\":{\"fillmode\":\"overlay\",\"size\":10,\"solidity\":0.2},\"type\":\"scatter\"}],\"parcoords\":[{\"type\":\"parcoords\",\"line\":{\"colorbar\":{\"outlinewidth\":0,\"ticks\":\"\"}}}],\"scatterpolargl\":[{\"type\":\"scatterpolargl\",\"marker\":{\"colorbar\":{\"outlinewidth\":0,\"ticks\":\"\"}}}],\"bar\":[{\"error_x\":{\"color\":\"#2a3f5f\"},\"error_y\":{\"color\":\"#2a3f5f\"},\"marker\":{\"line\":{\"color\":\"#E5ECF6\",\"width\":0.5},\"pattern\":{\"fillmode\":\"overlay\",\"size\":10,\"solidity\":0.2}},\"type\":\"bar\"}],\"scattergeo\":[{\"type\":\"scattergeo\",\"marker\":{\"colorbar\":{\"outlinewidth\":0,\"ticks\":\"\"}}}],\"scatterpolar\":[{\"type\":\"scatterpolar\",\"marker\":{\"colorbar\":{\"outlinewidth\":0,\"ticks\":\"\"}}}],\"histogram\":[{\"marker\":{\"pattern\":{\"fillmode\":\"overlay\",\"size\":10,\"solidity\":0.2}},\"type\":\"histogram\"}],\"scattergl\":[{\"type\":\"scattergl\",\"marker\":{\"colorbar\":{\"outlinewidth\":0,\"ticks\":\"\"}}}],\"scatter3d\":[{\"type\":\"scatter3d\",\"line\":{\"colorbar\":{\"outlinewidth\":0,\"ticks\":\"\"}},\"marker\":{\"colorbar\":{\"outlinewidth\":0,\"ticks\":\"\"}}}],\"scattermapbox\":[{\"type\":\"scattermapbox\",\"marker\":{\"colorbar\":{\"outlinewidth\":0,\"ticks\":\"\"}}}],\"scatterternary\":[{\"type\":\"scatterternary\",\"marker\":{\"colorbar\":{\"outlinewidth\":0,\"ticks\":\"\"}}}],\"scattercarpet\":[{\"type\":\"scattercarpet\",\"marker\":{\"colorbar\":{\"outlinewidth\":0,\"ticks\":\"\"}}}],\"carpet\":[{\"aaxis\":{\"endlinecolor\":\"#2a3f5f\",\"gridcolor\":\"white\",\"linecolor\":\"white\",\"minorgridcolor\":\"white\",\"startlinecolor\":\"#2a3f5f\"},\"baxis\":{\"endlinecolor\":\"#2a3f5f\",\"gridcolor\":\"white\",\"linecolor\":\"white\",\"minorgridcolor\":\"white\",\"startlinecolor\":\"#2a3f5f\"},\"type\":\"carpet\"}],\"table\":[{\"cells\":{\"fill\":{\"color\":\"#EBF0F8\"},\"line\":{\"color\":\"white\"}},\"header\":{\"fill\":{\"color\":\"#C8D4E3\"},\"line\":{\"color\":\"white\"}},\"type\":\"table\"}],\"barpolar\":[{\"marker\":{\"line\":{\"color\":\"#E5ECF6\",\"width\":0.5},\"pattern\":{\"fillmode\":\"overlay\",\"size\":10,\"solidity\":0.2}},\"type\":\"barpolar\"}],\"pie\":[{\"automargin\":true,\"type\":\"pie\"}]},\"layout\":{\"autotypenumbers\":\"strict\",\"colorway\":[\"#636efa\",\"#EF553B\",\"#00cc96\",\"#ab63fa\",\"#FFA15A\",\"#19d3f3\",\"#FF6692\",\"#B6E880\",\"#FF97FF\",\"#FECB52\"],\"font\":{\"color\":\"#2a3f5f\"},\"hovermode\":\"closest\",\"hoverlabel\":{\"align\":\"left\"},\"paper_bgcolor\":\"white\",\"plot_bgcolor\":\"#E5ECF6\",\"polar\":{\"bgcolor\":\"#E5ECF6\",\"angularaxis\":{\"gridcolor\":\"white\",\"linecolor\":\"white\",\"ticks\":\"\"},\"radialaxis\":{\"gridcolor\":\"white\",\"linecolor\":\"white\",\"ticks\":\"\"}},\"ternary\":{\"bgcolor\":\"#E5ECF6\",\"aaxis\":{\"gridcolor\":\"white\",\"linecolor\":\"white\",\"ticks\":\"\"},\"baxis\":{\"gridcolor\":\"white\",\"linecolor\":\"white\",\"ticks\":\"\"},\"caxis\":{\"gridcolor\":\"white\",\"linecolor\":\"white\",\"ticks\":\"\"}},\"coloraxis\":{\"colorbar\":{\"outlinewidth\":0,\"ticks\":\"\"}},\"colorscale\":{\"sequential\":[[0.0,\"#0d0887\"],[0.1111111111111111,\"#46039f\"],[0.2222222222222222,\"#7201a8\"],[0.3333333333333333,\"#9c179e\"],[0.4444444444444444,\"#bd3786\"],[0.5555555555555556,\"#d8576b\"],[0.6666666666666666,\"#ed7953\"],[0.7777777777777778,\"#fb9f3a\"],[0.8888888888888888,\"#fdca26\"],[1.0,\"#f0f921\"]],\"sequentialminus\":[[0.0,\"#0d0887\"],[0.1111111111111111,\"#46039f\"],[0.2222222222222222,\"#7201a8\"],[0.3333333333333333,\"#9c179e\"],[0.4444444444444444,\"#bd3786\"],[0.5555555555555556,\"#d8576b\"],[0.6666666666666666,\"#ed7953\"],[0.7777777777777778,\"#fb9f3a\"],[0.8888888888888888,\"#fdca26\"],[1.0,\"#f0f921\"]],\"diverging\":[[0,\"#8e0152\"],[0.1,\"#c51b7d\"],[0.2,\"#de77ae\"],[0.3,\"#f1b6da\"],[0.4,\"#fde0ef\"],[0.5,\"#f7f7f7\"],[0.6,\"#e6f5d0\"],[0.7,\"#b8e186\"],[0.8,\"#7fbc41\"],[0.9,\"#4d9221\"],[1,\"#276419\"]]},\"xaxis\":{\"gridcolor\":\"white\",\"linecolor\":\"white\",\"ticks\":\"\",\"title\":{\"standoff\":15},\"zerolinecolor\":\"white\",\"automargin\":true,\"zerolinewidth\":2},\"yaxis\":{\"gridcolor\":\"white\",\"linecolor\":\"white\",\"ticks\":\"\",\"title\":{\"standoff\":15},\"zerolinecolor\":\"white\",\"automargin\":true,\"zerolinewidth\":2},\"scene\":{\"xaxis\":{\"backgroundcolor\":\"#E5ECF6\",\"gridcolor\":\"white\",\"linecolor\":\"white\",\"showbackground\":true,\"ticks\":\"\",\"zerolinecolor\":\"white\",\"gridwidth\":2},\"yaxis\":{\"backgroundcolor\":\"#E5ECF6\",\"gridcolor\":\"white\",\"linecolor\":\"white\",\"showbackground\":true,\"ticks\":\"\",\"zerolinecolor\":\"white\",\"gridwidth\":2},\"zaxis\":{\"backgroundcolor\":\"#E5ECF6\",\"gridcolor\":\"white\",\"linecolor\":\"white\",\"showbackground\":true,\"ticks\":\"\",\"zerolinecolor\":\"white\",\"gridwidth\":2}},\"shapedefaults\":{\"line\":{\"color\":\"#2a3f5f\"}},\"annotationdefaults\":{\"arrowcolor\":\"#2a3f5f\",\"arrowhead\":0,\"arrowwidth\":1},\"geo\":{\"bgcolor\":\"white\",\"landcolor\":\"#E5ECF6\",\"subunitcolor\":\"white\",\"showland\":true,\"showlakes\":true,\"lakecolor\":\"white\"},\"title\":{\"x\":0.05},\"mapbox\":{\"style\":\"light\"}}},\"title\":{\"text\":\"VADER sentiment scores, rolling 10-minute average, 2022-12-14\"},\"xaxis\":{\"title\":{\"text\":\"Tweet posted at\"}},\"yaxis\":{\"title\":{\"text\":\"VADER sentiment score\"}},\"legend\":{\"title\":{\"text\":\"Sentiment type\"}}},                        {\"responsive\": true}                    ).then(function(){\n",
       "                            \n",
       "var gd = document.getElementById('4f95beee-b8bf-4738-a0f7-84008685602b');\n",
       "var x = new MutationObserver(function (mutations, observer) {{\n",
       "        var display = window.getComputedStyle(gd).display;\n",
       "        if (!display || display === 'none') {{\n",
       "            console.log([gd, 'removed!']);\n",
       "            Plotly.purge(gd);\n",
       "            observer.disconnect();\n",
       "        }}\n",
       "}});\n",
       "\n",
       "// Listen for the removal of the full notebook cells\n",
       "var notebookContainer = gd.closest('#notebook-container');\n",
       "if (notebookContainer) {{\n",
       "    x.observe(notebookContainer, {childList: true});\n",
       "}}\n",
       "\n",
       "// Listen for the clearing of the current output cell\n",
       "var outputEl = gd.closest('.output');\n",
       "if (outputEl) {{\n",
       "    x.observe(outputEl, {childList: true});\n",
       "}}\n",
       "\n",
       "                        })                };                });            </script>        </div>"
      ]
     },
     "metadata": {},
     "output_type": "display_data"
    },
    {
     "data": {
      "application/vnd.plotly.v1+json": {
       "config": {
        "plotlyServerURL": "https://plot.ly"
       },
       "data": [
        {
         "connectgaps": true,
         "line": {
          "color": "blue",
          "width": 3.5
         },
         "name": "Compound",
         "type": "scatter",
         "x": [
          "2022-12-18T14:00:00+00:00",
          "2022-12-18T14:10:00+00:00",
          "2022-12-18T14:20:00+00:00",
          "2022-12-18T14:30:00+00:00",
          "2022-12-18T14:40:00+00:00",
          "2022-12-18T14:50:00+00:00",
          "2022-12-18T15:00:00+00:00",
          "2022-12-18T15:10:00+00:00",
          "2022-12-18T15:20:00+00:00",
          "2022-12-18T15:30:00+00:00",
          "2022-12-18T15:40:00+00:00",
          "2022-12-18T15:50:00+00:00",
          "2022-12-18T16:00:00+00:00",
          "2022-12-18T16:10:00+00:00",
          "2022-12-18T16:20:00+00:00",
          "2022-12-18T16:30:00+00:00",
          "2022-12-18T16:40:00+00:00",
          "2022-12-18T16:50:00+00:00",
          "2022-12-18T17:00:00+00:00",
          "2022-12-18T17:10:00+00:00",
          "2022-12-18T17:20:00+00:00",
          "2022-12-18T17:30:00+00:00",
          "2022-12-18T17:40:00+00:00",
          "2022-12-18T17:50:00+00:00",
          "2022-12-18T18:00:00+00:00",
          "2022-12-18T18:10:00+00:00",
          "2022-12-18T18:20:00+00:00",
          "2022-12-18T18:30:00+00:00",
          "2022-12-18T18:40:00+00:00",
          "2022-12-18T18:50:00+00:00",
          "2022-12-18T19:00:00+00:00",
          "2022-12-18T19:10:00+00:00",
          "2022-12-18T19:20:00+00:00",
          "2022-12-18T19:30:00+00:00",
          "2022-12-18T19:40:00+00:00",
          "2022-12-18T19:50:00+00:00",
          "2022-12-18T20:00:00+00:00",
          "2022-12-18T20:10:00+00:00",
          "2022-12-18T20:20:00+00:00",
          "2022-12-18T20:30:00+00:00"
         ],
         "y": [
          0.2485226979345955,
          0.2841706456017164,
          0.26231791629563667,
          0.24596819910127896,
          0.255777773781694,
          0.27684605193428724,
          0.2489410366798691,
          0.2473248267669768,
          0.05992348005976324,
          0.08684329615861214,
          0.13925050020556393,
          0.1257252453359215,
          0.14521191860465116,
          0.1974434064827864,
          0.159172465866777,
          0.1387028064704736,
          0.096647136713445,
          0.08912746985285983,
          null,
          null,
          null,
          null,
          0.15413770177401312,
          0.520453786346563,
          null,
          null,
          null,
          null,
          null,
          0.35593490269199396,
          null,
          null,
          null,
          null,
          null,
          0.3778287967862042,
          null,
          null,
          null,
          null
         ]
        },
        {
         "connectgaps": true,
         "fillcolor": "red",
         "name": "Negative",
         "type": "scatter",
         "x": [
          "2022-12-18T14:00:00+00:00",
          "2022-12-18T14:10:00+00:00",
          "2022-12-18T14:20:00+00:00",
          "2022-12-18T14:30:00+00:00",
          "2022-12-18T14:40:00+00:00",
          "2022-12-18T14:50:00+00:00",
          "2022-12-18T15:00:00+00:00",
          "2022-12-18T15:10:00+00:00",
          "2022-12-18T15:20:00+00:00",
          "2022-12-18T15:30:00+00:00",
          "2022-12-18T15:40:00+00:00",
          "2022-12-18T15:50:00+00:00",
          "2022-12-18T16:00:00+00:00",
          "2022-12-18T16:10:00+00:00",
          "2022-12-18T16:20:00+00:00",
          "2022-12-18T16:30:00+00:00",
          "2022-12-18T16:40:00+00:00",
          "2022-12-18T16:50:00+00:00",
          "2022-12-18T17:00:00+00:00",
          "2022-12-18T17:10:00+00:00",
          "2022-12-18T17:20:00+00:00",
          "2022-12-18T17:30:00+00:00",
          "2022-12-18T17:40:00+00:00",
          "2022-12-18T17:50:00+00:00",
          "2022-12-18T18:00:00+00:00",
          "2022-12-18T18:10:00+00:00",
          "2022-12-18T18:20:00+00:00",
          "2022-12-18T18:30:00+00:00",
          "2022-12-18T18:40:00+00:00",
          "2022-12-18T18:50:00+00:00",
          "2022-12-18T19:00:00+00:00",
          "2022-12-18T19:10:00+00:00",
          "2022-12-18T19:20:00+00:00",
          "2022-12-18T19:30:00+00:00",
          "2022-12-18T19:40:00+00:00",
          "2022-12-18T19:50:00+00:00",
          "2022-12-18T20:00:00+00:00",
          "2022-12-18T20:10:00+00:00",
          "2022-12-18T20:20:00+00:00",
          "2022-12-18T20:30:00+00:00"
         ],
         "y": [
          0.023947289156626507,
          0.022176711527208896,
          0.02030685663401603,
          0.026477013480815763,
          0.032398309656536596,
          0.023651121709945242,
          0.01587239538488032,
          0.04786834290239557,
          0.11782473278933456,
          0.10755700123915737,
          0.08304371659586132,
          0.05961123692440418,
          0.05901075581395349,
          0.05510469096033823,
          0.05649462143152669,
          0.05815221204443578,
          0.04708952014486193,
          0.036735479588450054,
          null,
          null,
          null,
          null,
          0.038123301901869903,
          0.013368548238816948,
          null,
          null,
          null,
          null,
          null,
          0.03648152895932875,
          null,
          null,
          null,
          null,
          null,
          0.0340697628845777,
          null,
          null,
          null,
          null
         ]
        },
        {
         "connectgaps": true,
         "fillcolor": "green",
         "name": "Positive",
         "type": "scatter",
         "x": [
          "2022-12-18T14:00:00+00:00",
          "2022-12-18T14:10:00+00:00",
          "2022-12-18T14:20:00+00:00",
          "2022-12-18T14:30:00+00:00",
          "2022-12-18T14:40:00+00:00",
          "2022-12-18T14:50:00+00:00",
          "2022-12-18T15:00:00+00:00",
          "2022-12-18T15:10:00+00:00",
          "2022-12-18T15:20:00+00:00",
          "2022-12-18T15:30:00+00:00",
          "2022-12-18T15:40:00+00:00",
          "2022-12-18T15:50:00+00:00",
          "2022-12-18T16:00:00+00:00",
          "2022-12-18T16:10:00+00:00",
          "2022-12-18T16:20:00+00:00",
          "2022-12-18T16:30:00+00:00",
          "2022-12-18T16:40:00+00:00",
          "2022-12-18T16:50:00+00:00",
          "2022-12-18T17:00:00+00:00",
          "2022-12-18T17:10:00+00:00",
          "2022-12-18T17:20:00+00:00",
          "2022-12-18T17:30:00+00:00",
          "2022-12-18T17:40:00+00:00",
          "2022-12-18T17:50:00+00:00",
          "2022-12-18T18:00:00+00:00",
          "2022-12-18T18:10:00+00:00",
          "2022-12-18T18:20:00+00:00",
          "2022-12-18T18:30:00+00:00",
          "2022-12-18T18:40:00+00:00",
          "2022-12-18T18:50:00+00:00",
          "2022-12-18T19:00:00+00:00",
          "2022-12-18T19:10:00+00:00",
          "2022-12-18T19:20:00+00:00",
          "2022-12-18T19:30:00+00:00",
          "2022-12-18T19:40:00+00:00",
          "2022-12-18T19:50:00+00:00",
          "2022-12-18T20:00:00+00:00",
          "2022-12-18T20:10:00+00:00",
          "2022-12-18T20:20:00+00:00",
          "2022-12-18T20:30:00+00:00"
         ],
         "y": [
          0.12393416523235802,
          0.1378082699434367,
          0.12202617987533393,
          0.11519097822329762,
          0.12075615896421507,
          0.11379226285108637,
          0.09902634751162391,
          0.12994892100574143,
          0.07233973106539478,
          0.07324622057001239,
          0.08664643003974236,
          0.07971400841151731,
          0.09202005813953487,
          0.10368975236561305,
          0.09252792718245759,
          0.09480744494250633,
          0.07379130828429153,
          0.0616154441863038,
          null,
          null,
          null,
          null,
          0.10250687230302061,
          0.30191300464920806,
          null,
          null,
          null,
          null,
          null,
          0.20283043934273395,
          null,
          null,
          null,
          null,
          null,
          0.23878924162257498,
          null,
          null,
          null,
          null
         ]
        },
        {
         "connectgaps": true,
         "line": {
          "color": "orange"
         },
         "name": "Neutral",
         "type": "scatter",
         "x": [
          "2022-12-18T14:00:00+00:00",
          "2022-12-18T14:10:00+00:00",
          "2022-12-18T14:20:00+00:00",
          "2022-12-18T14:30:00+00:00",
          "2022-12-18T14:40:00+00:00",
          "2022-12-18T14:50:00+00:00",
          "2022-12-18T15:00:00+00:00",
          "2022-12-18T15:10:00+00:00",
          "2022-12-18T15:20:00+00:00",
          "2022-12-18T15:30:00+00:00",
          "2022-12-18T15:40:00+00:00",
          "2022-12-18T15:50:00+00:00",
          "2022-12-18T16:00:00+00:00",
          "2022-12-18T16:10:00+00:00",
          "2022-12-18T16:20:00+00:00",
          "2022-12-18T16:30:00+00:00",
          "2022-12-18T16:40:00+00:00",
          "2022-12-18T16:50:00+00:00",
          "2022-12-18T17:00:00+00:00",
          "2022-12-18T17:10:00+00:00",
          "2022-12-18T17:20:00+00:00",
          "2022-12-18T17:30:00+00:00",
          "2022-12-18T17:40:00+00:00",
          "2022-12-18T17:50:00+00:00",
          "2022-12-18T18:00:00+00:00",
          "2022-12-18T18:10:00+00:00",
          "2022-12-18T18:20:00+00:00",
          "2022-12-18T18:30:00+00:00",
          "2022-12-18T18:40:00+00:00",
          "2022-12-18T18:50:00+00:00",
          "2022-12-18T19:00:00+00:00",
          "2022-12-18T19:10:00+00:00",
          "2022-12-18T19:20:00+00:00",
          "2022-12-18T19:30:00+00:00",
          "2022-12-18T19:40:00+00:00",
          "2022-12-18T19:50:00+00:00",
          "2022-12-18T20:00:00+00:00",
          "2022-12-18T20:10:00+00:00",
          "2022-12-18T20:20:00+00:00",
          "2022-12-18T20:30:00+00:00"
         ],
         "y": [
          0.8521110154905336,
          0.8400068266042521,
          0.8576641139804095,
          0.8583278603525751,
          0.8468370796619313,
          0.8625403638933051,
          0.885096090924746,
          0.8221764007127301,
          0.8098335823468567,
          0.8191952912019826,
          0.8303073865972317,
          0.8606721665049067,
          0.8489633720930233,
          0.841199919468492,
          0.8509598676044683,
          0.8470208536347691,
          0.8791161158895427,
          0.9016494081203673,
          null,
          null,
          null,
          null,
          0.859353683874061,
          0.6847198655144335,
          null,
          null,
          null,
          null,
          null,
          0.7606859340403216,
          null,
          null,
          null,
          null,
          null,
          0.7271882226141485,
          null,
          null,
          null,
          null
         ]
        }
       ],
       "layout": {
        "legend": {
         "title": {
          "text": "Sentiment type"
         }
        },
        "template": {
         "data": {
          "bar": [
           {
            "error_x": {
             "color": "#2a3f5f"
            },
            "error_y": {
             "color": "#2a3f5f"
            },
            "marker": {
             "line": {
              "color": "#E5ECF6",
              "width": 0.5
             },
             "pattern": {
              "fillmode": "overlay",
              "size": 10,
              "solidity": 0.2
             }
            },
            "type": "bar"
           }
          ],
          "barpolar": [
           {
            "marker": {
             "line": {
              "color": "#E5ECF6",
              "width": 0.5
             },
             "pattern": {
              "fillmode": "overlay",
              "size": 10,
              "solidity": 0.2
             }
            },
            "type": "barpolar"
           }
          ],
          "carpet": [
           {
            "aaxis": {
             "endlinecolor": "#2a3f5f",
             "gridcolor": "white",
             "linecolor": "white",
             "minorgridcolor": "white",
             "startlinecolor": "#2a3f5f"
            },
            "baxis": {
             "endlinecolor": "#2a3f5f",
             "gridcolor": "white",
             "linecolor": "white",
             "minorgridcolor": "white",
             "startlinecolor": "#2a3f5f"
            },
            "type": "carpet"
           }
          ],
          "choropleth": [
           {
            "colorbar": {
             "outlinewidth": 0,
             "ticks": ""
            },
            "type": "choropleth"
           }
          ],
          "contour": [
           {
            "colorbar": {
             "outlinewidth": 0,
             "ticks": ""
            },
            "colorscale": [
             [
              0,
              "#0d0887"
             ],
             [
              0.1111111111111111,
              "#46039f"
             ],
             [
              0.2222222222222222,
              "#7201a8"
             ],
             [
              0.3333333333333333,
              "#9c179e"
             ],
             [
              0.4444444444444444,
              "#bd3786"
             ],
             [
              0.5555555555555556,
              "#d8576b"
             ],
             [
              0.6666666666666666,
              "#ed7953"
             ],
             [
              0.7777777777777778,
              "#fb9f3a"
             ],
             [
              0.8888888888888888,
              "#fdca26"
             ],
             [
              1,
              "#f0f921"
             ]
            ],
            "type": "contour"
           }
          ],
          "contourcarpet": [
           {
            "colorbar": {
             "outlinewidth": 0,
             "ticks": ""
            },
            "type": "contourcarpet"
           }
          ],
          "heatmap": [
           {
            "colorbar": {
             "outlinewidth": 0,
             "ticks": ""
            },
            "colorscale": [
             [
              0,
              "#0d0887"
             ],
             [
              0.1111111111111111,
              "#46039f"
             ],
             [
              0.2222222222222222,
              "#7201a8"
             ],
             [
              0.3333333333333333,
              "#9c179e"
             ],
             [
              0.4444444444444444,
              "#bd3786"
             ],
             [
              0.5555555555555556,
              "#d8576b"
             ],
             [
              0.6666666666666666,
              "#ed7953"
             ],
             [
              0.7777777777777778,
              "#fb9f3a"
             ],
             [
              0.8888888888888888,
              "#fdca26"
             ],
             [
              1,
              "#f0f921"
             ]
            ],
            "type": "heatmap"
           }
          ],
          "heatmapgl": [
           {
            "colorbar": {
             "outlinewidth": 0,
             "ticks": ""
            },
            "colorscale": [
             [
              0,
              "#0d0887"
             ],
             [
              0.1111111111111111,
              "#46039f"
             ],
             [
              0.2222222222222222,
              "#7201a8"
             ],
             [
              0.3333333333333333,
              "#9c179e"
             ],
             [
              0.4444444444444444,
              "#bd3786"
             ],
             [
              0.5555555555555556,
              "#d8576b"
             ],
             [
              0.6666666666666666,
              "#ed7953"
             ],
             [
              0.7777777777777778,
              "#fb9f3a"
             ],
             [
              0.8888888888888888,
              "#fdca26"
             ],
             [
              1,
              "#f0f921"
             ]
            ],
            "type": "heatmapgl"
           }
          ],
          "histogram": [
           {
            "marker": {
             "pattern": {
              "fillmode": "overlay",
              "size": 10,
              "solidity": 0.2
             }
            },
            "type": "histogram"
           }
          ],
          "histogram2d": [
           {
            "colorbar": {
             "outlinewidth": 0,
             "ticks": ""
            },
            "colorscale": [
             [
              0,
              "#0d0887"
             ],
             [
              0.1111111111111111,
              "#46039f"
             ],
             [
              0.2222222222222222,
              "#7201a8"
             ],
             [
              0.3333333333333333,
              "#9c179e"
             ],
             [
              0.4444444444444444,
              "#bd3786"
             ],
             [
              0.5555555555555556,
              "#d8576b"
             ],
             [
              0.6666666666666666,
              "#ed7953"
             ],
             [
              0.7777777777777778,
              "#fb9f3a"
             ],
             [
              0.8888888888888888,
              "#fdca26"
             ],
             [
              1,
              "#f0f921"
             ]
            ],
            "type": "histogram2d"
           }
          ],
          "histogram2dcontour": [
           {
            "colorbar": {
             "outlinewidth": 0,
             "ticks": ""
            },
            "colorscale": [
             [
              0,
              "#0d0887"
             ],
             [
              0.1111111111111111,
              "#46039f"
             ],
             [
              0.2222222222222222,
              "#7201a8"
             ],
             [
              0.3333333333333333,
              "#9c179e"
             ],
             [
              0.4444444444444444,
              "#bd3786"
             ],
             [
              0.5555555555555556,
              "#d8576b"
             ],
             [
              0.6666666666666666,
              "#ed7953"
             ],
             [
              0.7777777777777778,
              "#fb9f3a"
             ],
             [
              0.8888888888888888,
              "#fdca26"
             ],
             [
              1,
              "#f0f921"
             ]
            ],
            "type": "histogram2dcontour"
           }
          ],
          "mesh3d": [
           {
            "colorbar": {
             "outlinewidth": 0,
             "ticks": ""
            },
            "type": "mesh3d"
           }
          ],
          "parcoords": [
           {
            "line": {
             "colorbar": {
              "outlinewidth": 0,
              "ticks": ""
             }
            },
            "type": "parcoords"
           }
          ],
          "pie": [
           {
            "automargin": true,
            "type": "pie"
           }
          ],
          "scatter": [
           {
            "fillpattern": {
             "fillmode": "overlay",
             "size": 10,
             "solidity": 0.2
            },
            "type": "scatter"
           }
          ],
          "scatter3d": [
           {
            "line": {
             "colorbar": {
              "outlinewidth": 0,
              "ticks": ""
             }
            },
            "marker": {
             "colorbar": {
              "outlinewidth": 0,
              "ticks": ""
             }
            },
            "type": "scatter3d"
           }
          ],
          "scattercarpet": [
           {
            "marker": {
             "colorbar": {
              "outlinewidth": 0,
              "ticks": ""
             }
            },
            "type": "scattercarpet"
           }
          ],
          "scattergeo": [
           {
            "marker": {
             "colorbar": {
              "outlinewidth": 0,
              "ticks": ""
             }
            },
            "type": "scattergeo"
           }
          ],
          "scattergl": [
           {
            "marker": {
             "colorbar": {
              "outlinewidth": 0,
              "ticks": ""
             }
            },
            "type": "scattergl"
           }
          ],
          "scattermapbox": [
           {
            "marker": {
             "colorbar": {
              "outlinewidth": 0,
              "ticks": ""
             }
            },
            "type": "scattermapbox"
           }
          ],
          "scatterpolar": [
           {
            "marker": {
             "colorbar": {
              "outlinewidth": 0,
              "ticks": ""
             }
            },
            "type": "scatterpolar"
           }
          ],
          "scatterpolargl": [
           {
            "marker": {
             "colorbar": {
              "outlinewidth": 0,
              "ticks": ""
             }
            },
            "type": "scatterpolargl"
           }
          ],
          "scatterternary": [
           {
            "marker": {
             "colorbar": {
              "outlinewidth": 0,
              "ticks": ""
             }
            },
            "type": "scatterternary"
           }
          ],
          "surface": [
           {
            "colorbar": {
             "outlinewidth": 0,
             "ticks": ""
            },
            "colorscale": [
             [
              0,
              "#0d0887"
             ],
             [
              0.1111111111111111,
              "#46039f"
             ],
             [
              0.2222222222222222,
              "#7201a8"
             ],
             [
              0.3333333333333333,
              "#9c179e"
             ],
             [
              0.4444444444444444,
              "#bd3786"
             ],
             [
              0.5555555555555556,
              "#d8576b"
             ],
             [
              0.6666666666666666,
              "#ed7953"
             ],
             [
              0.7777777777777778,
              "#fb9f3a"
             ],
             [
              0.8888888888888888,
              "#fdca26"
             ],
             [
              1,
              "#f0f921"
             ]
            ],
            "type": "surface"
           }
          ],
          "table": [
           {
            "cells": {
             "fill": {
              "color": "#EBF0F8"
             },
             "line": {
              "color": "white"
             }
            },
            "header": {
             "fill": {
              "color": "#C8D4E3"
             },
             "line": {
              "color": "white"
             }
            },
            "type": "table"
           }
          ]
         },
         "layout": {
          "annotationdefaults": {
           "arrowcolor": "#2a3f5f",
           "arrowhead": 0,
           "arrowwidth": 1
          },
          "autotypenumbers": "strict",
          "coloraxis": {
           "colorbar": {
            "outlinewidth": 0,
            "ticks": ""
           }
          },
          "colorscale": {
           "diverging": [
            [
             0,
             "#8e0152"
            ],
            [
             0.1,
             "#c51b7d"
            ],
            [
             0.2,
             "#de77ae"
            ],
            [
             0.3,
             "#f1b6da"
            ],
            [
             0.4,
             "#fde0ef"
            ],
            [
             0.5,
             "#f7f7f7"
            ],
            [
             0.6,
             "#e6f5d0"
            ],
            [
             0.7,
             "#b8e186"
            ],
            [
             0.8,
             "#7fbc41"
            ],
            [
             0.9,
             "#4d9221"
            ],
            [
             1,
             "#276419"
            ]
           ],
           "sequential": [
            [
             0,
             "#0d0887"
            ],
            [
             0.1111111111111111,
             "#46039f"
            ],
            [
             0.2222222222222222,
             "#7201a8"
            ],
            [
             0.3333333333333333,
             "#9c179e"
            ],
            [
             0.4444444444444444,
             "#bd3786"
            ],
            [
             0.5555555555555556,
             "#d8576b"
            ],
            [
             0.6666666666666666,
             "#ed7953"
            ],
            [
             0.7777777777777778,
             "#fb9f3a"
            ],
            [
             0.8888888888888888,
             "#fdca26"
            ],
            [
             1,
             "#f0f921"
            ]
           ],
           "sequentialminus": [
            [
             0,
             "#0d0887"
            ],
            [
             0.1111111111111111,
             "#46039f"
            ],
            [
             0.2222222222222222,
             "#7201a8"
            ],
            [
             0.3333333333333333,
             "#9c179e"
            ],
            [
             0.4444444444444444,
             "#bd3786"
            ],
            [
             0.5555555555555556,
             "#d8576b"
            ],
            [
             0.6666666666666666,
             "#ed7953"
            ],
            [
             0.7777777777777778,
             "#fb9f3a"
            ],
            [
             0.8888888888888888,
             "#fdca26"
            ],
            [
             1,
             "#f0f921"
            ]
           ]
          },
          "colorway": [
           "#636efa",
           "#EF553B",
           "#00cc96",
           "#ab63fa",
           "#FFA15A",
           "#19d3f3",
           "#FF6692",
           "#B6E880",
           "#FF97FF",
           "#FECB52"
          ],
          "font": {
           "color": "#2a3f5f"
          },
          "geo": {
           "bgcolor": "white",
           "lakecolor": "white",
           "landcolor": "#E5ECF6",
           "showlakes": true,
           "showland": true,
           "subunitcolor": "white"
          },
          "hoverlabel": {
           "align": "left"
          },
          "hovermode": "closest",
          "mapbox": {
           "style": "light"
          },
          "paper_bgcolor": "white",
          "plot_bgcolor": "#E5ECF6",
          "polar": {
           "angularaxis": {
            "gridcolor": "white",
            "linecolor": "white",
            "ticks": ""
           },
           "bgcolor": "#E5ECF6",
           "radialaxis": {
            "gridcolor": "white",
            "linecolor": "white",
            "ticks": ""
           }
          },
          "scene": {
           "xaxis": {
            "backgroundcolor": "#E5ECF6",
            "gridcolor": "white",
            "gridwidth": 2,
            "linecolor": "white",
            "showbackground": true,
            "ticks": "",
            "zerolinecolor": "white"
           },
           "yaxis": {
            "backgroundcolor": "#E5ECF6",
            "gridcolor": "white",
            "gridwidth": 2,
            "linecolor": "white",
            "showbackground": true,
            "ticks": "",
            "zerolinecolor": "white"
           },
           "zaxis": {
            "backgroundcolor": "#E5ECF6",
            "gridcolor": "white",
            "gridwidth": 2,
            "linecolor": "white",
            "showbackground": true,
            "ticks": "",
            "zerolinecolor": "white"
           }
          },
          "shapedefaults": {
           "line": {
            "color": "#2a3f5f"
           }
          },
          "ternary": {
           "aaxis": {
            "gridcolor": "white",
            "linecolor": "white",
            "ticks": ""
           },
           "baxis": {
            "gridcolor": "white",
            "linecolor": "white",
            "ticks": ""
           },
           "bgcolor": "#E5ECF6",
           "caxis": {
            "gridcolor": "white",
            "linecolor": "white",
            "ticks": ""
           }
          },
          "title": {
           "x": 0.05
          },
          "xaxis": {
           "automargin": true,
           "gridcolor": "white",
           "linecolor": "white",
           "ticks": "",
           "title": {
            "standoff": 15
           },
           "zerolinecolor": "white",
           "zerolinewidth": 2
          },
          "yaxis": {
           "automargin": true,
           "gridcolor": "white",
           "linecolor": "white",
           "ticks": "",
           "title": {
            "standoff": 15
           },
           "zerolinecolor": "white",
           "zerolinewidth": 2
          }
         }
        },
        "title": {
         "text": "VADER sentiment scores, rolling 10-minute average, 2022-12-18"
        },
        "xaxis": {
         "title": {
          "text": "Tweet posted at"
         }
        },
        "yaxis": {
         "title": {
          "text": "VADER sentiment score"
         }
        }
       }
      },
      "text/html": [
       "<div>                            <div id=\"1c66ebf5-2268-47be-9c2a-36867fcc7c96\" class=\"plotly-graph-div\" style=\"height:525px; width:100%;\"></div>            <script type=\"text/javascript\">                require([\"plotly\"], function(Plotly) {                    window.PLOTLYENV=window.PLOTLYENV || {};                                    if (document.getElementById(\"1c66ebf5-2268-47be-9c2a-36867fcc7c96\")) {                    Plotly.newPlot(                        \"1c66ebf5-2268-47be-9c2a-36867fcc7c96\",                        [{\"line\":{\"color\":\"blue\",\"width\":3.5},\"name\":\"Compound\",\"x\":[\"2022-12-18T14:00:00+00:00\",\"2022-12-18T14:10:00+00:00\",\"2022-12-18T14:20:00+00:00\",\"2022-12-18T14:30:00+00:00\",\"2022-12-18T14:40:00+00:00\",\"2022-12-18T14:50:00+00:00\",\"2022-12-18T15:00:00+00:00\",\"2022-12-18T15:10:00+00:00\",\"2022-12-18T15:20:00+00:00\",\"2022-12-18T15:30:00+00:00\",\"2022-12-18T15:40:00+00:00\",\"2022-12-18T15:50:00+00:00\",\"2022-12-18T16:00:00+00:00\",\"2022-12-18T16:10:00+00:00\",\"2022-12-18T16:20:00+00:00\",\"2022-12-18T16:30:00+00:00\",\"2022-12-18T16:40:00+00:00\",\"2022-12-18T16:50:00+00:00\",\"2022-12-18T17:00:00+00:00\",\"2022-12-18T17:10:00+00:00\",\"2022-12-18T17:20:00+00:00\",\"2022-12-18T17:30:00+00:00\",\"2022-12-18T17:40:00+00:00\",\"2022-12-18T17:50:00+00:00\",\"2022-12-18T18:00:00+00:00\",\"2022-12-18T18:10:00+00:00\",\"2022-12-18T18:20:00+00:00\",\"2022-12-18T18:30:00+00:00\",\"2022-12-18T18:40:00+00:00\",\"2022-12-18T18:50:00+00:00\",\"2022-12-18T19:00:00+00:00\",\"2022-12-18T19:10:00+00:00\",\"2022-12-18T19:20:00+00:00\",\"2022-12-18T19:30:00+00:00\",\"2022-12-18T19:40:00+00:00\",\"2022-12-18T19:50:00+00:00\",\"2022-12-18T20:00:00+00:00\",\"2022-12-18T20:10:00+00:00\",\"2022-12-18T20:20:00+00:00\",\"2022-12-18T20:30:00+00:00\"],\"y\":[0.2485226979345955,0.2841706456017164,0.26231791629563667,0.24596819910127896,0.255777773781694,0.27684605193428724,0.2489410366798691,0.2473248267669768,0.05992348005976324,0.08684329615861214,0.13925050020556393,0.1257252453359215,0.14521191860465116,0.1974434064827864,0.159172465866777,0.1387028064704736,0.096647136713445,0.08912746985285983,null,null,null,null,0.15413770177401312,0.520453786346563,null,null,null,null,null,0.35593490269199396,null,null,null,null,null,0.3778287967862042,null,null,null,null],\"type\":\"scatter\",\"connectgaps\":true},{\"fillcolor\":\"red\",\"name\":\"Negative\",\"x\":[\"2022-12-18T14:00:00+00:00\",\"2022-12-18T14:10:00+00:00\",\"2022-12-18T14:20:00+00:00\",\"2022-12-18T14:30:00+00:00\",\"2022-12-18T14:40:00+00:00\",\"2022-12-18T14:50:00+00:00\",\"2022-12-18T15:00:00+00:00\",\"2022-12-18T15:10:00+00:00\",\"2022-12-18T15:20:00+00:00\",\"2022-12-18T15:30:00+00:00\",\"2022-12-18T15:40:00+00:00\",\"2022-12-18T15:50:00+00:00\",\"2022-12-18T16:00:00+00:00\",\"2022-12-18T16:10:00+00:00\",\"2022-12-18T16:20:00+00:00\",\"2022-12-18T16:30:00+00:00\",\"2022-12-18T16:40:00+00:00\",\"2022-12-18T16:50:00+00:00\",\"2022-12-18T17:00:00+00:00\",\"2022-12-18T17:10:00+00:00\",\"2022-12-18T17:20:00+00:00\",\"2022-12-18T17:30:00+00:00\",\"2022-12-18T17:40:00+00:00\",\"2022-12-18T17:50:00+00:00\",\"2022-12-18T18:00:00+00:00\",\"2022-12-18T18:10:00+00:00\",\"2022-12-18T18:20:00+00:00\",\"2022-12-18T18:30:00+00:00\",\"2022-12-18T18:40:00+00:00\",\"2022-12-18T18:50:00+00:00\",\"2022-12-18T19:00:00+00:00\",\"2022-12-18T19:10:00+00:00\",\"2022-12-18T19:20:00+00:00\",\"2022-12-18T19:30:00+00:00\",\"2022-12-18T19:40:00+00:00\",\"2022-12-18T19:50:00+00:00\",\"2022-12-18T20:00:00+00:00\",\"2022-12-18T20:10:00+00:00\",\"2022-12-18T20:20:00+00:00\",\"2022-12-18T20:30:00+00:00\"],\"y\":[0.023947289156626507,0.022176711527208896,0.02030685663401603,0.026477013480815763,0.032398309656536596,0.023651121709945242,0.01587239538488032,0.04786834290239557,0.11782473278933456,0.10755700123915737,0.08304371659586132,0.05961123692440418,0.05901075581395349,0.05510469096033823,0.05649462143152669,0.05815221204443578,0.04708952014486193,0.036735479588450054,null,null,null,null,0.038123301901869903,0.013368548238816948,null,null,null,null,null,0.03648152895932875,null,null,null,null,null,0.0340697628845777,null,null,null,null],\"type\":\"scatter\",\"connectgaps\":true},{\"fillcolor\":\"green\",\"name\":\"Positive\",\"x\":[\"2022-12-18T14:00:00+00:00\",\"2022-12-18T14:10:00+00:00\",\"2022-12-18T14:20:00+00:00\",\"2022-12-18T14:30:00+00:00\",\"2022-12-18T14:40:00+00:00\",\"2022-12-18T14:50:00+00:00\",\"2022-12-18T15:00:00+00:00\",\"2022-12-18T15:10:00+00:00\",\"2022-12-18T15:20:00+00:00\",\"2022-12-18T15:30:00+00:00\",\"2022-12-18T15:40:00+00:00\",\"2022-12-18T15:50:00+00:00\",\"2022-12-18T16:00:00+00:00\",\"2022-12-18T16:10:00+00:00\",\"2022-12-18T16:20:00+00:00\",\"2022-12-18T16:30:00+00:00\",\"2022-12-18T16:40:00+00:00\",\"2022-12-18T16:50:00+00:00\",\"2022-12-18T17:00:00+00:00\",\"2022-12-18T17:10:00+00:00\",\"2022-12-18T17:20:00+00:00\",\"2022-12-18T17:30:00+00:00\",\"2022-12-18T17:40:00+00:00\",\"2022-12-18T17:50:00+00:00\",\"2022-12-18T18:00:00+00:00\",\"2022-12-18T18:10:00+00:00\",\"2022-12-18T18:20:00+00:00\",\"2022-12-18T18:30:00+00:00\",\"2022-12-18T18:40:00+00:00\",\"2022-12-18T18:50:00+00:00\",\"2022-12-18T19:00:00+00:00\",\"2022-12-18T19:10:00+00:00\",\"2022-12-18T19:20:00+00:00\",\"2022-12-18T19:30:00+00:00\",\"2022-12-18T19:40:00+00:00\",\"2022-12-18T19:50:00+00:00\",\"2022-12-18T20:00:00+00:00\",\"2022-12-18T20:10:00+00:00\",\"2022-12-18T20:20:00+00:00\",\"2022-12-18T20:30:00+00:00\"],\"y\":[0.12393416523235802,0.1378082699434367,0.12202617987533393,0.11519097822329762,0.12075615896421507,0.11379226285108637,0.09902634751162391,0.12994892100574143,0.07233973106539478,0.07324622057001239,0.08664643003974236,0.07971400841151731,0.09202005813953487,0.10368975236561305,0.09252792718245759,0.09480744494250633,0.07379130828429153,0.0616154441863038,null,null,null,null,0.10250687230302061,0.30191300464920806,null,null,null,null,null,0.20283043934273395,null,null,null,null,null,0.23878924162257498,null,null,null,null],\"type\":\"scatter\",\"connectgaps\":true},{\"line\":{\"color\":\"orange\"},\"name\":\"Neutral\",\"x\":[\"2022-12-18T14:00:00+00:00\",\"2022-12-18T14:10:00+00:00\",\"2022-12-18T14:20:00+00:00\",\"2022-12-18T14:30:00+00:00\",\"2022-12-18T14:40:00+00:00\",\"2022-12-18T14:50:00+00:00\",\"2022-12-18T15:00:00+00:00\",\"2022-12-18T15:10:00+00:00\",\"2022-12-18T15:20:00+00:00\",\"2022-12-18T15:30:00+00:00\",\"2022-12-18T15:40:00+00:00\",\"2022-12-18T15:50:00+00:00\",\"2022-12-18T16:00:00+00:00\",\"2022-12-18T16:10:00+00:00\",\"2022-12-18T16:20:00+00:00\",\"2022-12-18T16:30:00+00:00\",\"2022-12-18T16:40:00+00:00\",\"2022-12-18T16:50:00+00:00\",\"2022-12-18T17:00:00+00:00\",\"2022-12-18T17:10:00+00:00\",\"2022-12-18T17:20:00+00:00\",\"2022-12-18T17:30:00+00:00\",\"2022-12-18T17:40:00+00:00\",\"2022-12-18T17:50:00+00:00\",\"2022-12-18T18:00:00+00:00\",\"2022-12-18T18:10:00+00:00\",\"2022-12-18T18:20:00+00:00\",\"2022-12-18T18:30:00+00:00\",\"2022-12-18T18:40:00+00:00\",\"2022-12-18T18:50:00+00:00\",\"2022-12-18T19:00:00+00:00\",\"2022-12-18T19:10:00+00:00\",\"2022-12-18T19:20:00+00:00\",\"2022-12-18T19:30:00+00:00\",\"2022-12-18T19:40:00+00:00\",\"2022-12-18T19:50:00+00:00\",\"2022-12-18T20:00:00+00:00\",\"2022-12-18T20:10:00+00:00\",\"2022-12-18T20:20:00+00:00\",\"2022-12-18T20:30:00+00:00\"],\"y\":[0.8521110154905336,0.8400068266042521,0.8576641139804095,0.8583278603525751,0.8468370796619313,0.8625403638933051,0.885096090924746,0.8221764007127301,0.8098335823468567,0.8191952912019826,0.8303073865972317,0.8606721665049067,0.8489633720930233,0.841199919468492,0.8509598676044683,0.8470208536347691,0.8791161158895427,0.9016494081203673,null,null,null,null,0.859353683874061,0.6847198655144335,null,null,null,null,null,0.7606859340403216,null,null,null,null,null,0.7271882226141485,null,null,null,null],\"type\":\"scatter\",\"connectgaps\":true}],                        {\"template\":{\"data\":{\"histogram2dcontour\":[{\"type\":\"histogram2dcontour\",\"colorbar\":{\"outlinewidth\":0,\"ticks\":\"\"},\"colorscale\":[[0.0,\"#0d0887\"],[0.1111111111111111,\"#46039f\"],[0.2222222222222222,\"#7201a8\"],[0.3333333333333333,\"#9c179e\"],[0.4444444444444444,\"#bd3786\"],[0.5555555555555556,\"#d8576b\"],[0.6666666666666666,\"#ed7953\"],[0.7777777777777778,\"#fb9f3a\"],[0.8888888888888888,\"#fdca26\"],[1.0,\"#f0f921\"]]}],\"choropleth\":[{\"type\":\"choropleth\",\"colorbar\":{\"outlinewidth\":0,\"ticks\":\"\"}}],\"histogram2d\":[{\"type\":\"histogram2d\",\"colorbar\":{\"outlinewidth\":0,\"ticks\":\"\"},\"colorscale\":[[0.0,\"#0d0887\"],[0.1111111111111111,\"#46039f\"],[0.2222222222222222,\"#7201a8\"],[0.3333333333333333,\"#9c179e\"],[0.4444444444444444,\"#bd3786\"],[0.5555555555555556,\"#d8576b\"],[0.6666666666666666,\"#ed7953\"],[0.7777777777777778,\"#fb9f3a\"],[0.8888888888888888,\"#fdca26\"],[1.0,\"#f0f921\"]]}],\"heatmap\":[{\"type\":\"heatmap\",\"colorbar\":{\"outlinewidth\":0,\"ticks\":\"\"},\"colorscale\":[[0.0,\"#0d0887\"],[0.1111111111111111,\"#46039f\"],[0.2222222222222222,\"#7201a8\"],[0.3333333333333333,\"#9c179e\"],[0.4444444444444444,\"#bd3786\"],[0.5555555555555556,\"#d8576b\"],[0.6666666666666666,\"#ed7953\"],[0.7777777777777778,\"#fb9f3a\"],[0.8888888888888888,\"#fdca26\"],[1.0,\"#f0f921\"]]}],\"heatmapgl\":[{\"type\":\"heatmapgl\",\"colorbar\":{\"outlinewidth\":0,\"ticks\":\"\"},\"colorscale\":[[0.0,\"#0d0887\"],[0.1111111111111111,\"#46039f\"],[0.2222222222222222,\"#7201a8\"],[0.3333333333333333,\"#9c179e\"],[0.4444444444444444,\"#bd3786\"],[0.5555555555555556,\"#d8576b\"],[0.6666666666666666,\"#ed7953\"],[0.7777777777777778,\"#fb9f3a\"],[0.8888888888888888,\"#fdca26\"],[1.0,\"#f0f921\"]]}],\"contourcarpet\":[{\"type\":\"contourcarpet\",\"colorbar\":{\"outlinewidth\":0,\"ticks\":\"\"}}],\"contour\":[{\"type\":\"contour\",\"colorbar\":{\"outlinewidth\":0,\"ticks\":\"\"},\"colorscale\":[[0.0,\"#0d0887\"],[0.1111111111111111,\"#46039f\"],[0.2222222222222222,\"#7201a8\"],[0.3333333333333333,\"#9c179e\"],[0.4444444444444444,\"#bd3786\"],[0.5555555555555556,\"#d8576b\"],[0.6666666666666666,\"#ed7953\"],[0.7777777777777778,\"#fb9f3a\"],[0.8888888888888888,\"#fdca26\"],[1.0,\"#f0f921\"]]}],\"surface\":[{\"type\":\"surface\",\"colorbar\":{\"outlinewidth\":0,\"ticks\":\"\"},\"colorscale\":[[0.0,\"#0d0887\"],[0.1111111111111111,\"#46039f\"],[0.2222222222222222,\"#7201a8\"],[0.3333333333333333,\"#9c179e\"],[0.4444444444444444,\"#bd3786\"],[0.5555555555555556,\"#d8576b\"],[0.6666666666666666,\"#ed7953\"],[0.7777777777777778,\"#fb9f3a\"],[0.8888888888888888,\"#fdca26\"],[1.0,\"#f0f921\"]]}],\"mesh3d\":[{\"type\":\"mesh3d\",\"colorbar\":{\"outlinewidth\":0,\"ticks\":\"\"}}],\"scatter\":[{\"fillpattern\":{\"fillmode\":\"overlay\",\"size\":10,\"solidity\":0.2},\"type\":\"scatter\"}],\"parcoords\":[{\"type\":\"parcoords\",\"line\":{\"colorbar\":{\"outlinewidth\":0,\"ticks\":\"\"}}}],\"scatterpolargl\":[{\"type\":\"scatterpolargl\",\"marker\":{\"colorbar\":{\"outlinewidth\":0,\"ticks\":\"\"}}}],\"bar\":[{\"error_x\":{\"color\":\"#2a3f5f\"},\"error_y\":{\"color\":\"#2a3f5f\"},\"marker\":{\"line\":{\"color\":\"#E5ECF6\",\"width\":0.5},\"pattern\":{\"fillmode\":\"overlay\",\"size\":10,\"solidity\":0.2}},\"type\":\"bar\"}],\"scattergeo\":[{\"type\":\"scattergeo\",\"marker\":{\"colorbar\":{\"outlinewidth\":0,\"ticks\":\"\"}}}],\"scatterpolar\":[{\"type\":\"scatterpolar\",\"marker\":{\"colorbar\":{\"outlinewidth\":0,\"ticks\":\"\"}}}],\"histogram\":[{\"marker\":{\"pattern\":{\"fillmode\":\"overlay\",\"size\":10,\"solidity\":0.2}},\"type\":\"histogram\"}],\"scattergl\":[{\"type\":\"scattergl\",\"marker\":{\"colorbar\":{\"outlinewidth\":0,\"ticks\":\"\"}}}],\"scatter3d\":[{\"type\":\"scatter3d\",\"line\":{\"colorbar\":{\"outlinewidth\":0,\"ticks\":\"\"}},\"marker\":{\"colorbar\":{\"outlinewidth\":0,\"ticks\":\"\"}}}],\"scattermapbox\":[{\"type\":\"scattermapbox\",\"marker\":{\"colorbar\":{\"outlinewidth\":0,\"ticks\":\"\"}}}],\"scatterternary\":[{\"type\":\"scatterternary\",\"marker\":{\"colorbar\":{\"outlinewidth\":0,\"ticks\":\"\"}}}],\"scattercarpet\":[{\"type\":\"scattercarpet\",\"marker\":{\"colorbar\":{\"outlinewidth\":0,\"ticks\":\"\"}}}],\"carpet\":[{\"aaxis\":{\"endlinecolor\":\"#2a3f5f\",\"gridcolor\":\"white\",\"linecolor\":\"white\",\"minorgridcolor\":\"white\",\"startlinecolor\":\"#2a3f5f\"},\"baxis\":{\"endlinecolor\":\"#2a3f5f\",\"gridcolor\":\"white\",\"linecolor\":\"white\",\"minorgridcolor\":\"white\",\"startlinecolor\":\"#2a3f5f\"},\"type\":\"carpet\"}],\"table\":[{\"cells\":{\"fill\":{\"color\":\"#EBF0F8\"},\"line\":{\"color\":\"white\"}},\"header\":{\"fill\":{\"color\":\"#C8D4E3\"},\"line\":{\"color\":\"white\"}},\"type\":\"table\"}],\"barpolar\":[{\"marker\":{\"line\":{\"color\":\"#E5ECF6\",\"width\":0.5},\"pattern\":{\"fillmode\":\"overlay\",\"size\":10,\"solidity\":0.2}},\"type\":\"barpolar\"}],\"pie\":[{\"automargin\":true,\"type\":\"pie\"}]},\"layout\":{\"autotypenumbers\":\"strict\",\"colorway\":[\"#636efa\",\"#EF553B\",\"#00cc96\",\"#ab63fa\",\"#FFA15A\",\"#19d3f3\",\"#FF6692\",\"#B6E880\",\"#FF97FF\",\"#FECB52\"],\"font\":{\"color\":\"#2a3f5f\"},\"hovermode\":\"closest\",\"hoverlabel\":{\"align\":\"left\"},\"paper_bgcolor\":\"white\",\"plot_bgcolor\":\"#E5ECF6\",\"polar\":{\"bgcolor\":\"#E5ECF6\",\"angularaxis\":{\"gridcolor\":\"white\",\"linecolor\":\"white\",\"ticks\":\"\"},\"radialaxis\":{\"gridcolor\":\"white\",\"linecolor\":\"white\",\"ticks\":\"\"}},\"ternary\":{\"bgcolor\":\"#E5ECF6\",\"aaxis\":{\"gridcolor\":\"white\",\"linecolor\":\"white\",\"ticks\":\"\"},\"baxis\":{\"gridcolor\":\"white\",\"linecolor\":\"white\",\"ticks\":\"\"},\"caxis\":{\"gridcolor\":\"white\",\"linecolor\":\"white\",\"ticks\":\"\"}},\"coloraxis\":{\"colorbar\":{\"outlinewidth\":0,\"ticks\":\"\"}},\"colorscale\":{\"sequential\":[[0.0,\"#0d0887\"],[0.1111111111111111,\"#46039f\"],[0.2222222222222222,\"#7201a8\"],[0.3333333333333333,\"#9c179e\"],[0.4444444444444444,\"#bd3786\"],[0.5555555555555556,\"#d8576b\"],[0.6666666666666666,\"#ed7953\"],[0.7777777777777778,\"#fb9f3a\"],[0.8888888888888888,\"#fdca26\"],[1.0,\"#f0f921\"]],\"sequentialminus\":[[0.0,\"#0d0887\"],[0.1111111111111111,\"#46039f\"],[0.2222222222222222,\"#7201a8\"],[0.3333333333333333,\"#9c179e\"],[0.4444444444444444,\"#bd3786\"],[0.5555555555555556,\"#d8576b\"],[0.6666666666666666,\"#ed7953\"],[0.7777777777777778,\"#fb9f3a\"],[0.8888888888888888,\"#fdca26\"],[1.0,\"#f0f921\"]],\"diverging\":[[0,\"#8e0152\"],[0.1,\"#c51b7d\"],[0.2,\"#de77ae\"],[0.3,\"#f1b6da\"],[0.4,\"#fde0ef\"],[0.5,\"#f7f7f7\"],[0.6,\"#e6f5d0\"],[0.7,\"#b8e186\"],[0.8,\"#7fbc41\"],[0.9,\"#4d9221\"],[1,\"#276419\"]]},\"xaxis\":{\"gridcolor\":\"white\",\"linecolor\":\"white\",\"ticks\":\"\",\"title\":{\"standoff\":15},\"zerolinecolor\":\"white\",\"automargin\":true,\"zerolinewidth\":2},\"yaxis\":{\"gridcolor\":\"white\",\"linecolor\":\"white\",\"ticks\":\"\",\"title\":{\"standoff\":15},\"zerolinecolor\":\"white\",\"automargin\":true,\"zerolinewidth\":2},\"scene\":{\"xaxis\":{\"backgroundcolor\":\"#E5ECF6\",\"gridcolor\":\"white\",\"linecolor\":\"white\",\"showbackground\":true,\"ticks\":\"\",\"zerolinecolor\":\"white\",\"gridwidth\":2},\"yaxis\":{\"backgroundcolor\":\"#E5ECF6\",\"gridcolor\":\"white\",\"linecolor\":\"white\",\"showbackground\":true,\"ticks\":\"\",\"zerolinecolor\":\"white\",\"gridwidth\":2},\"zaxis\":{\"backgroundcolor\":\"#E5ECF6\",\"gridcolor\":\"white\",\"linecolor\":\"white\",\"showbackground\":true,\"ticks\":\"\",\"zerolinecolor\":\"white\",\"gridwidth\":2}},\"shapedefaults\":{\"line\":{\"color\":\"#2a3f5f\"}},\"annotationdefaults\":{\"arrowcolor\":\"#2a3f5f\",\"arrowhead\":0,\"arrowwidth\":1},\"geo\":{\"bgcolor\":\"white\",\"landcolor\":\"#E5ECF6\",\"subunitcolor\":\"white\",\"showland\":true,\"showlakes\":true,\"lakecolor\":\"white\"},\"title\":{\"x\":0.05},\"mapbox\":{\"style\":\"light\"}}},\"title\":{\"text\":\"VADER sentiment scores, rolling 10-minute average, 2022-12-18\"},\"xaxis\":{\"title\":{\"text\":\"Tweet posted at\"}},\"yaxis\":{\"title\":{\"text\":\"VADER sentiment score\"}},\"legend\":{\"title\":{\"text\":\"Sentiment type\"}}},                        {\"responsive\": true}                    ).then(function(){\n",
       "                            \n",
       "var gd = document.getElementById('1c66ebf5-2268-47be-9c2a-36867fcc7c96');\n",
       "var x = new MutationObserver(function (mutations, observer) {{\n",
       "        var display = window.getComputedStyle(gd).display;\n",
       "        if (!display || display === 'none') {{\n",
       "            console.log([gd, 'removed!']);\n",
       "            Plotly.purge(gd);\n",
       "            observer.disconnect();\n",
       "        }}\n",
       "}});\n",
       "\n",
       "// Listen for the removal of the full notebook cells\n",
       "var notebookContainer = gd.closest('#notebook-container');\n",
       "if (notebookContainer) {{\n",
       "    x.observe(notebookContainer, {childList: true});\n",
       "}}\n",
       "\n",
       "// Listen for the clearing of the current output cell\n",
       "var outputEl = gd.closest('.output');\n",
       "if (outputEl) {{\n",
       "    x.observe(outputEl, {childList: true});\n",
       "}}\n",
       "\n",
       "                        })                };                });            </script>        </div>"
      ]
     },
     "metadata": {},
     "output_type": "display_data"
    }
   ],
   "source": [
    "dates = ['2022-11-26', '2022-12-04', '2022-12-14', '2022-12-18']\n",
    "\n",
    "date_ranges = [\n",
    "    ['2022-11-26 03:00', '2022-11-26 14:00'],\n",
    "    ['2022-12-04 16:00', '2022-12-04 23:30'],\n",
    "    ['2022-12-14 16:00', '2022-12-14 23:30'],\n",
    "    ['2022-12-18 14:00', '2022-12-18 20:30']\n",
    "]\n",
    "\n",
    "for i, range in enumerate(date_ranges):\n",
    "    subset_df = grouped_timestamps_df.query(f'created_at.between(\"{range[0]}\", \"{range[1]}\")')\n",
    "\n",
    "    fig = go.Figure()\n",
    "    fig.add_scatter(name='Compound', x=subset_df['created_at'], y=subset_df['compound'], line=dict(color=\"blue\", width=3.5) )\n",
    "\n",
    "    fig.add_scatter(name='Negative', x=subset_df['created_at'], y=subset_df['neg'], fillcolor='red')\n",
    "    fig.add_scatter(name='Positive', x=subset_df['created_at'], y=subset_df['pos'], fillcolor='green')\n",
    "    fig.add_scatter(name='Neutral', x=subset_df['created_at'], y=subset_df['neu'], line=dict(color=\"orange\"))\n",
    "    fig.update_traces(connectgaps=True)\n",
    "    fig.update_layout(\n",
    "        title=f'VADER sentiment scores, rolling 10-minute average, {dates[i]}',\n",
    "        xaxis_title='Tweet posted at',\n",
    "        yaxis_title='VADER sentiment score',\n",
    "        legend_title='Sentiment type'\n",
    "    )\n",
    "    fig.show()"
   ]
  },
  {
   "attachments": {},
   "cell_type": "markdown",
   "metadata": {},
   "source": [
    "Some further caveats re these graphs:\n",
    "- We are looking at 10-minute averages here. If we'd gone with *all* our data points, we're essentially left with big rectangles which look precisely the same for everything - as, at the individual tweet-level, there is indeed quite a bit of variation in classified sentiment. \n",
    "- Further, we are interpolating gaps. This should be kept in mind, especially for everything post 6 PM on 2022-12-18 (where we hardly have any data; as we ran out of our quota more or less around 5 PM on final day)\n",
    "- There may also be further gaps caused by the fact that we're excluding non-english tweets. Again, we can't trust that we're getting **everything** from Twitter, so if at times Spanish-language tweets were the majority, this doesn't mean that there *weren't* any English tweets -- it means that the volume of English & Spanish tweets at that given moment in time exceeded 1% of all tweets, and thus our free access didn't permit us to collect it."
   ]
  },
  {
   "attachments": {},
   "cell_type": "markdown",
   "metadata": {},
   "source": [
    "**Now, some interpretations of these graphs**:\n",
    "- A non-detailed glance at these graphs seems to indicate that the overall sentiment of tweets mentioning `qatar` has gone up over time. (BUT -- can we compare the middle of the night tweets on the 26th to the during the game tweets later on? Not so sure...)\n",
    "- Overall, the positivity of classified sentiment is higher than perhaps expected. \n",
    "- Throughout our data collection period however, there appear to be, on the whole, stronger `positive` signals captured by VADER than `negative` ones in our tweets. \n",
    "- `Neutral` is huge: whether this is the algorithm or it's actually the case (probably a bit of both)"
   ]
  },
  {
   "attachments": {},
   "cell_type": "markdown",
   "metadata": {},
   "source": [
    "**Let us now have a quick look, just as a bit of a sanity check, how the average sentiment looks when we average it per hour, and per sample as a whole.**"
   ]
  },
  {
   "cell_type": "code",
   "execution_count": 91,
   "metadata": {},
   "outputs": [],
   "source": [
    "ten_minute_sentiment_df = grouped_timestamps_df "
   ]
  },
  {
   "cell_type": "code",
   "execution_count": null,
   "metadata": {},
   "outputs": [],
   "source": [
    "hourly_sentiment_df = english_qatar_tweets_df.groupby(pd.Grouper(key='created_at', freq='60Min')).mean().dropna().reset_index()\n",
    "chunk_sentiment_df = english_qatar_tweets_df.groupby(pd.Grouper(key='created_at', freq='24h')).mean().dropna().reset_index()"
   ]
  },
  {
   "attachments": {},
   "cell_type": "markdown",
   "metadata": {},
   "source": [
    "**HOURLY**"
   ]
  },
  {
   "cell_type": "code",
   "execution_count": 102,
   "metadata": {},
   "outputs": [
    {
     "data": {
      "application/vnd.plotly.v1+json": {
       "config": {
        "plotlyServerURL": "https://plot.ly"
       },
       "data": [
        {
         "connectgaps": true,
         "line": {
          "color": "blue",
          "width": 3.5
         },
         "name": "Compound",
         "type": "scatter",
         "x": [
          "2022-11-26T03:00:00+00:00",
          "2022-11-26T04:00:00+00:00",
          "2022-11-26T05:00:00+00:00",
          "2022-11-26T06:00:00+00:00",
          "2022-11-26T07:00:00+00:00",
          "2022-11-26T08:00:00+00:00",
          "2022-11-26T09:00:00+00:00",
          "2022-11-26T10:00:00+00:00",
          "2022-11-26T11:00:00+00:00",
          "2022-11-26T12:00:00+00:00",
          "2022-11-26T13:00:00+00:00",
          "2022-11-26T14:00:00+00:00"
         ],
         "y": [
          0.15196442687747036,
          0.12351719298245614,
          0.12969055722389056,
          0.10546287084207372,
          0.14774639839034204,
          0.1543923140789942,
          0.1661883762732175,
          0.13932439266236984,
          0.14183836930455634,
          0.14605788267026298,
          0.11714932805205829,
          0.1324937724014337
         ]
        },
        {
         "connectgaps": true,
         "fillcolor": "red",
         "name": "Negative",
         "type": "scatter",
         "x": [
          "2022-11-26T03:00:00+00:00",
          "2022-11-26T04:00:00+00:00",
          "2022-11-26T05:00:00+00:00",
          "2022-11-26T06:00:00+00:00",
          "2022-11-26T07:00:00+00:00",
          "2022-11-26T08:00:00+00:00",
          "2022-11-26T09:00:00+00:00",
          "2022-11-26T10:00:00+00:00",
          "2022-11-26T11:00:00+00:00",
          "2022-11-26T12:00:00+00:00",
          "2022-11-26T13:00:00+00:00",
          "2022-11-26T14:00:00+00:00"
         ],
         "y": [
          0.060039525691699604,
          0.06901435406698565,
          0.06082232232232233,
          0.0648670961941864,
          0.062307176391683435,
          0.06015810698612264,
          0.054674655482324745,
          0.04348686167575607,
          0.054777677857713834,
          0.05396210384356035,
          0.03822563304569246,
          0.04981451612903226
         ]
        },
        {
         "connectgaps": true,
         "fillcolor": "green",
         "name": "Positive",
         "type": "scatter",
         "x": [
          "2022-11-26T03:00:00+00:00",
          "2022-11-26T04:00:00+00:00",
          "2022-11-26T05:00:00+00:00",
          "2022-11-26T06:00:00+00:00",
          "2022-11-26T07:00:00+00:00",
          "2022-11-26T08:00:00+00:00",
          "2022-11-26T09:00:00+00:00",
          "2022-11-26T10:00:00+00:00",
          "2022-11-26T11:00:00+00:00",
          "2022-11-26T12:00:00+00:00",
          "2022-11-26T13:00:00+00:00",
          "2022-11-26T14:00:00+00:00"
         ],
         "y": [
          0.12349011857707509,
          0.10514673046251993,
          0.1011695028361695,
          0.10719463590050944,
          0.11500187793427231,
          0.11121112560787569,
          0.10592570401437987,
          0.08191075855230541,
          0.09870713429256595,
          0.10293216453135536,
          0.07032055453388032,
          0.09117383512544804
         ]
        },
        {
         "connectgaps": true,
         "line": {
          "color": "orange"
         },
         "name": "Neutral",
         "type": "scatter",
         "x": [
          "2022-11-26T03:00:00+00:00",
          "2022-11-26T04:00:00+00:00",
          "2022-11-26T05:00:00+00:00",
          "2022-11-26T06:00:00+00:00",
          "2022-11-26T07:00:00+00:00",
          "2022-11-26T08:00:00+00:00",
          "2022-11-26T09:00:00+00:00",
          "2022-11-26T10:00:00+00:00",
          "2022-11-26T11:00:00+00:00",
          "2022-11-26T12:00:00+00:00",
          "2022-11-26T13:00:00+00:00",
          "2022-11-26T14:00:00+00:00"
         ],
         "y": [
          0.8164940711462451,
          0.8258433811802233,
          0.8380166833500167,
          0.8280158825292179,
          0.8227258215962442,
          0.8286493891590558,
          0.8394146195326543,
          0.8746137828458106,
          0.8465247801758593,
          0.8431193526635198,
          0.8914601782430329,
          0.8590152329749103
         ]
        }
       ],
       "layout": {
        "legend": {
         "title": {
          "text": "Sentiment type"
         }
        },
        "template": {
         "data": {
          "bar": [
           {
            "error_x": {
             "color": "#2a3f5f"
            },
            "error_y": {
             "color": "#2a3f5f"
            },
            "marker": {
             "line": {
              "color": "#E5ECF6",
              "width": 0.5
             },
             "pattern": {
              "fillmode": "overlay",
              "size": 10,
              "solidity": 0.2
             }
            },
            "type": "bar"
           }
          ],
          "barpolar": [
           {
            "marker": {
             "line": {
              "color": "#E5ECF6",
              "width": 0.5
             },
             "pattern": {
              "fillmode": "overlay",
              "size": 10,
              "solidity": 0.2
             }
            },
            "type": "barpolar"
           }
          ],
          "carpet": [
           {
            "aaxis": {
             "endlinecolor": "#2a3f5f",
             "gridcolor": "white",
             "linecolor": "white",
             "minorgridcolor": "white",
             "startlinecolor": "#2a3f5f"
            },
            "baxis": {
             "endlinecolor": "#2a3f5f",
             "gridcolor": "white",
             "linecolor": "white",
             "minorgridcolor": "white",
             "startlinecolor": "#2a3f5f"
            },
            "type": "carpet"
           }
          ],
          "choropleth": [
           {
            "colorbar": {
             "outlinewidth": 0,
             "ticks": ""
            },
            "type": "choropleth"
           }
          ],
          "contour": [
           {
            "colorbar": {
             "outlinewidth": 0,
             "ticks": ""
            },
            "colorscale": [
             [
              0,
              "#0d0887"
             ],
             [
              0.1111111111111111,
              "#46039f"
             ],
             [
              0.2222222222222222,
              "#7201a8"
             ],
             [
              0.3333333333333333,
              "#9c179e"
             ],
             [
              0.4444444444444444,
              "#bd3786"
             ],
             [
              0.5555555555555556,
              "#d8576b"
             ],
             [
              0.6666666666666666,
              "#ed7953"
             ],
             [
              0.7777777777777778,
              "#fb9f3a"
             ],
             [
              0.8888888888888888,
              "#fdca26"
             ],
             [
              1,
              "#f0f921"
             ]
            ],
            "type": "contour"
           }
          ],
          "contourcarpet": [
           {
            "colorbar": {
             "outlinewidth": 0,
             "ticks": ""
            },
            "type": "contourcarpet"
           }
          ],
          "heatmap": [
           {
            "colorbar": {
             "outlinewidth": 0,
             "ticks": ""
            },
            "colorscale": [
             [
              0,
              "#0d0887"
             ],
             [
              0.1111111111111111,
              "#46039f"
             ],
             [
              0.2222222222222222,
              "#7201a8"
             ],
             [
              0.3333333333333333,
              "#9c179e"
             ],
             [
              0.4444444444444444,
              "#bd3786"
             ],
             [
              0.5555555555555556,
              "#d8576b"
             ],
             [
              0.6666666666666666,
              "#ed7953"
             ],
             [
              0.7777777777777778,
              "#fb9f3a"
             ],
             [
              0.8888888888888888,
              "#fdca26"
             ],
             [
              1,
              "#f0f921"
             ]
            ],
            "type": "heatmap"
           }
          ],
          "heatmapgl": [
           {
            "colorbar": {
             "outlinewidth": 0,
             "ticks": ""
            },
            "colorscale": [
             [
              0,
              "#0d0887"
             ],
             [
              0.1111111111111111,
              "#46039f"
             ],
             [
              0.2222222222222222,
              "#7201a8"
             ],
             [
              0.3333333333333333,
              "#9c179e"
             ],
             [
              0.4444444444444444,
              "#bd3786"
             ],
             [
              0.5555555555555556,
              "#d8576b"
             ],
             [
              0.6666666666666666,
              "#ed7953"
             ],
             [
              0.7777777777777778,
              "#fb9f3a"
             ],
             [
              0.8888888888888888,
              "#fdca26"
             ],
             [
              1,
              "#f0f921"
             ]
            ],
            "type": "heatmapgl"
           }
          ],
          "histogram": [
           {
            "marker": {
             "pattern": {
              "fillmode": "overlay",
              "size": 10,
              "solidity": 0.2
             }
            },
            "type": "histogram"
           }
          ],
          "histogram2d": [
           {
            "colorbar": {
             "outlinewidth": 0,
             "ticks": ""
            },
            "colorscale": [
             [
              0,
              "#0d0887"
             ],
             [
              0.1111111111111111,
              "#46039f"
             ],
             [
              0.2222222222222222,
              "#7201a8"
             ],
             [
              0.3333333333333333,
              "#9c179e"
             ],
             [
              0.4444444444444444,
              "#bd3786"
             ],
             [
              0.5555555555555556,
              "#d8576b"
             ],
             [
              0.6666666666666666,
              "#ed7953"
             ],
             [
              0.7777777777777778,
              "#fb9f3a"
             ],
             [
              0.8888888888888888,
              "#fdca26"
             ],
             [
              1,
              "#f0f921"
             ]
            ],
            "type": "histogram2d"
           }
          ],
          "histogram2dcontour": [
           {
            "colorbar": {
             "outlinewidth": 0,
             "ticks": ""
            },
            "colorscale": [
             [
              0,
              "#0d0887"
             ],
             [
              0.1111111111111111,
              "#46039f"
             ],
             [
              0.2222222222222222,
              "#7201a8"
             ],
             [
              0.3333333333333333,
              "#9c179e"
             ],
             [
              0.4444444444444444,
              "#bd3786"
             ],
             [
              0.5555555555555556,
              "#d8576b"
             ],
             [
              0.6666666666666666,
              "#ed7953"
             ],
             [
              0.7777777777777778,
              "#fb9f3a"
             ],
             [
              0.8888888888888888,
              "#fdca26"
             ],
             [
              1,
              "#f0f921"
             ]
            ],
            "type": "histogram2dcontour"
           }
          ],
          "mesh3d": [
           {
            "colorbar": {
             "outlinewidth": 0,
             "ticks": ""
            },
            "type": "mesh3d"
           }
          ],
          "parcoords": [
           {
            "line": {
             "colorbar": {
              "outlinewidth": 0,
              "ticks": ""
             }
            },
            "type": "parcoords"
           }
          ],
          "pie": [
           {
            "automargin": true,
            "type": "pie"
           }
          ],
          "scatter": [
           {
            "fillpattern": {
             "fillmode": "overlay",
             "size": 10,
             "solidity": 0.2
            },
            "type": "scatter"
           }
          ],
          "scatter3d": [
           {
            "line": {
             "colorbar": {
              "outlinewidth": 0,
              "ticks": ""
             }
            },
            "marker": {
             "colorbar": {
              "outlinewidth": 0,
              "ticks": ""
             }
            },
            "type": "scatter3d"
           }
          ],
          "scattercarpet": [
           {
            "marker": {
             "colorbar": {
              "outlinewidth": 0,
              "ticks": ""
             }
            },
            "type": "scattercarpet"
           }
          ],
          "scattergeo": [
           {
            "marker": {
             "colorbar": {
              "outlinewidth": 0,
              "ticks": ""
             }
            },
            "type": "scattergeo"
           }
          ],
          "scattergl": [
           {
            "marker": {
             "colorbar": {
              "outlinewidth": 0,
              "ticks": ""
             }
            },
            "type": "scattergl"
           }
          ],
          "scattermapbox": [
           {
            "marker": {
             "colorbar": {
              "outlinewidth": 0,
              "ticks": ""
             }
            },
            "type": "scattermapbox"
           }
          ],
          "scatterpolar": [
           {
            "marker": {
             "colorbar": {
              "outlinewidth": 0,
              "ticks": ""
             }
            },
            "type": "scatterpolar"
           }
          ],
          "scatterpolargl": [
           {
            "marker": {
             "colorbar": {
              "outlinewidth": 0,
              "ticks": ""
             }
            },
            "type": "scatterpolargl"
           }
          ],
          "scatterternary": [
           {
            "marker": {
             "colorbar": {
              "outlinewidth": 0,
              "ticks": ""
             }
            },
            "type": "scatterternary"
           }
          ],
          "surface": [
           {
            "colorbar": {
             "outlinewidth": 0,
             "ticks": ""
            },
            "colorscale": [
             [
              0,
              "#0d0887"
             ],
             [
              0.1111111111111111,
              "#46039f"
             ],
             [
              0.2222222222222222,
              "#7201a8"
             ],
             [
              0.3333333333333333,
              "#9c179e"
             ],
             [
              0.4444444444444444,
              "#bd3786"
             ],
             [
              0.5555555555555556,
              "#d8576b"
             ],
             [
              0.6666666666666666,
              "#ed7953"
             ],
             [
              0.7777777777777778,
              "#fb9f3a"
             ],
             [
              0.8888888888888888,
              "#fdca26"
             ],
             [
              1,
              "#f0f921"
             ]
            ],
            "type": "surface"
           }
          ],
          "table": [
           {
            "cells": {
             "fill": {
              "color": "#EBF0F8"
             },
             "line": {
              "color": "white"
             }
            },
            "header": {
             "fill": {
              "color": "#C8D4E3"
             },
             "line": {
              "color": "white"
             }
            },
            "type": "table"
           }
          ]
         },
         "layout": {
          "annotationdefaults": {
           "arrowcolor": "#2a3f5f",
           "arrowhead": 0,
           "arrowwidth": 1
          },
          "autotypenumbers": "strict",
          "coloraxis": {
           "colorbar": {
            "outlinewidth": 0,
            "ticks": ""
           }
          },
          "colorscale": {
           "diverging": [
            [
             0,
             "#8e0152"
            ],
            [
             0.1,
             "#c51b7d"
            ],
            [
             0.2,
             "#de77ae"
            ],
            [
             0.3,
             "#f1b6da"
            ],
            [
             0.4,
             "#fde0ef"
            ],
            [
             0.5,
             "#f7f7f7"
            ],
            [
             0.6,
             "#e6f5d0"
            ],
            [
             0.7,
             "#b8e186"
            ],
            [
             0.8,
             "#7fbc41"
            ],
            [
             0.9,
             "#4d9221"
            ],
            [
             1,
             "#276419"
            ]
           ],
           "sequential": [
            [
             0,
             "#0d0887"
            ],
            [
             0.1111111111111111,
             "#46039f"
            ],
            [
             0.2222222222222222,
             "#7201a8"
            ],
            [
             0.3333333333333333,
             "#9c179e"
            ],
            [
             0.4444444444444444,
             "#bd3786"
            ],
            [
             0.5555555555555556,
             "#d8576b"
            ],
            [
             0.6666666666666666,
             "#ed7953"
            ],
            [
             0.7777777777777778,
             "#fb9f3a"
            ],
            [
             0.8888888888888888,
             "#fdca26"
            ],
            [
             1,
             "#f0f921"
            ]
           ],
           "sequentialminus": [
            [
             0,
             "#0d0887"
            ],
            [
             0.1111111111111111,
             "#46039f"
            ],
            [
             0.2222222222222222,
             "#7201a8"
            ],
            [
             0.3333333333333333,
             "#9c179e"
            ],
            [
             0.4444444444444444,
             "#bd3786"
            ],
            [
             0.5555555555555556,
             "#d8576b"
            ],
            [
             0.6666666666666666,
             "#ed7953"
            ],
            [
             0.7777777777777778,
             "#fb9f3a"
            ],
            [
             0.8888888888888888,
             "#fdca26"
            ],
            [
             1,
             "#f0f921"
            ]
           ]
          },
          "colorway": [
           "#636efa",
           "#EF553B",
           "#00cc96",
           "#ab63fa",
           "#FFA15A",
           "#19d3f3",
           "#FF6692",
           "#B6E880",
           "#FF97FF",
           "#FECB52"
          ],
          "font": {
           "color": "#2a3f5f"
          },
          "geo": {
           "bgcolor": "white",
           "lakecolor": "white",
           "landcolor": "#E5ECF6",
           "showlakes": true,
           "showland": true,
           "subunitcolor": "white"
          },
          "hoverlabel": {
           "align": "left"
          },
          "hovermode": "closest",
          "mapbox": {
           "style": "light"
          },
          "paper_bgcolor": "white",
          "plot_bgcolor": "#E5ECF6",
          "polar": {
           "angularaxis": {
            "gridcolor": "white",
            "linecolor": "white",
            "ticks": ""
           },
           "bgcolor": "#E5ECF6",
           "radialaxis": {
            "gridcolor": "white",
            "linecolor": "white",
            "ticks": ""
           }
          },
          "scene": {
           "xaxis": {
            "backgroundcolor": "#E5ECF6",
            "gridcolor": "white",
            "gridwidth": 2,
            "linecolor": "white",
            "showbackground": true,
            "ticks": "",
            "zerolinecolor": "white"
           },
           "yaxis": {
            "backgroundcolor": "#E5ECF6",
            "gridcolor": "white",
            "gridwidth": 2,
            "linecolor": "white",
            "showbackground": true,
            "ticks": "",
            "zerolinecolor": "white"
           },
           "zaxis": {
            "backgroundcolor": "#E5ECF6",
            "gridcolor": "white",
            "gridwidth": 2,
            "linecolor": "white",
            "showbackground": true,
            "ticks": "",
            "zerolinecolor": "white"
           }
          },
          "shapedefaults": {
           "line": {
            "color": "#2a3f5f"
           }
          },
          "ternary": {
           "aaxis": {
            "gridcolor": "white",
            "linecolor": "white",
            "ticks": ""
           },
           "baxis": {
            "gridcolor": "white",
            "linecolor": "white",
            "ticks": ""
           },
           "bgcolor": "#E5ECF6",
           "caxis": {
            "gridcolor": "white",
            "linecolor": "white",
            "ticks": ""
           }
          },
          "title": {
           "x": 0.05
          },
          "xaxis": {
           "automargin": true,
           "gridcolor": "white",
           "linecolor": "white",
           "ticks": "",
           "title": {
            "standoff": 15
           },
           "zerolinecolor": "white",
           "zerolinewidth": 2
          },
          "yaxis": {
           "automargin": true,
           "gridcolor": "white",
           "linecolor": "white",
           "ticks": "",
           "title": {
            "standoff": 15
           },
           "zerolinecolor": "white",
           "zerolinewidth": 2
          }
         }
        },
        "title": {
         "text": "VADER sentiment scores, rolling hourly average, 2022-11-26"
        },
        "xaxis": {
         "title": {
          "text": "Tweet posted at"
         }
        },
        "yaxis": {
         "title": {
          "text": "VADER sentiment score"
         }
        }
       }
      },
      "text/html": [
       "<div>                            <div id=\"1f6da949-90f9-4eef-b61d-6ad18ea29469\" class=\"plotly-graph-div\" style=\"height:525px; width:100%;\"></div>            <script type=\"text/javascript\">                require([\"plotly\"], function(Plotly) {                    window.PLOTLYENV=window.PLOTLYENV || {};                                    if (document.getElementById(\"1f6da949-90f9-4eef-b61d-6ad18ea29469\")) {                    Plotly.newPlot(                        \"1f6da949-90f9-4eef-b61d-6ad18ea29469\",                        [{\"line\":{\"color\":\"blue\",\"width\":3.5},\"name\":\"Compound\",\"x\":[\"2022-11-26T03:00:00+00:00\",\"2022-11-26T04:00:00+00:00\",\"2022-11-26T05:00:00+00:00\",\"2022-11-26T06:00:00+00:00\",\"2022-11-26T07:00:00+00:00\",\"2022-11-26T08:00:00+00:00\",\"2022-11-26T09:00:00+00:00\",\"2022-11-26T10:00:00+00:00\",\"2022-11-26T11:00:00+00:00\",\"2022-11-26T12:00:00+00:00\",\"2022-11-26T13:00:00+00:00\",\"2022-11-26T14:00:00+00:00\"],\"y\":[0.15196442687747036,0.12351719298245614,0.12969055722389056,0.10546287084207372,0.14774639839034204,0.1543923140789942,0.1661883762732175,0.13932439266236984,0.14183836930455634,0.14605788267026298,0.11714932805205829,0.1324937724014337],\"type\":\"scatter\",\"connectgaps\":true},{\"fillcolor\":\"red\",\"name\":\"Negative\",\"x\":[\"2022-11-26T03:00:00+00:00\",\"2022-11-26T04:00:00+00:00\",\"2022-11-26T05:00:00+00:00\",\"2022-11-26T06:00:00+00:00\",\"2022-11-26T07:00:00+00:00\",\"2022-11-26T08:00:00+00:00\",\"2022-11-26T09:00:00+00:00\",\"2022-11-26T10:00:00+00:00\",\"2022-11-26T11:00:00+00:00\",\"2022-11-26T12:00:00+00:00\",\"2022-11-26T13:00:00+00:00\",\"2022-11-26T14:00:00+00:00\"],\"y\":[0.060039525691699604,0.06901435406698565,0.06082232232232233,0.0648670961941864,0.062307176391683435,0.06015810698612264,0.054674655482324745,0.04348686167575607,0.054777677857713834,0.05396210384356035,0.03822563304569246,0.04981451612903226],\"type\":\"scatter\",\"connectgaps\":true},{\"fillcolor\":\"green\",\"name\":\"Positive\",\"x\":[\"2022-11-26T03:00:00+00:00\",\"2022-11-26T04:00:00+00:00\",\"2022-11-26T05:00:00+00:00\",\"2022-11-26T06:00:00+00:00\",\"2022-11-26T07:00:00+00:00\",\"2022-11-26T08:00:00+00:00\",\"2022-11-26T09:00:00+00:00\",\"2022-11-26T10:00:00+00:00\",\"2022-11-26T11:00:00+00:00\",\"2022-11-26T12:00:00+00:00\",\"2022-11-26T13:00:00+00:00\",\"2022-11-26T14:00:00+00:00\"],\"y\":[0.12349011857707509,0.10514673046251993,0.1011695028361695,0.10719463590050944,0.11500187793427231,0.11121112560787569,0.10592570401437987,0.08191075855230541,0.09870713429256595,0.10293216453135536,0.07032055453388032,0.09117383512544804],\"type\":\"scatter\",\"connectgaps\":true},{\"line\":{\"color\":\"orange\"},\"name\":\"Neutral\",\"x\":[\"2022-11-26T03:00:00+00:00\",\"2022-11-26T04:00:00+00:00\",\"2022-11-26T05:00:00+00:00\",\"2022-11-26T06:00:00+00:00\",\"2022-11-26T07:00:00+00:00\",\"2022-11-26T08:00:00+00:00\",\"2022-11-26T09:00:00+00:00\",\"2022-11-26T10:00:00+00:00\",\"2022-11-26T11:00:00+00:00\",\"2022-11-26T12:00:00+00:00\",\"2022-11-26T13:00:00+00:00\",\"2022-11-26T14:00:00+00:00\"],\"y\":[0.8164940711462451,0.8258433811802233,0.8380166833500167,0.8280158825292179,0.8227258215962442,0.8286493891590558,0.8394146195326543,0.8746137828458106,0.8465247801758593,0.8431193526635198,0.8914601782430329,0.8590152329749103],\"type\":\"scatter\",\"connectgaps\":true}],                        {\"template\":{\"data\":{\"histogram2dcontour\":[{\"type\":\"histogram2dcontour\",\"colorbar\":{\"outlinewidth\":0,\"ticks\":\"\"},\"colorscale\":[[0.0,\"#0d0887\"],[0.1111111111111111,\"#46039f\"],[0.2222222222222222,\"#7201a8\"],[0.3333333333333333,\"#9c179e\"],[0.4444444444444444,\"#bd3786\"],[0.5555555555555556,\"#d8576b\"],[0.6666666666666666,\"#ed7953\"],[0.7777777777777778,\"#fb9f3a\"],[0.8888888888888888,\"#fdca26\"],[1.0,\"#f0f921\"]]}],\"choropleth\":[{\"type\":\"choropleth\",\"colorbar\":{\"outlinewidth\":0,\"ticks\":\"\"}}],\"histogram2d\":[{\"type\":\"histogram2d\",\"colorbar\":{\"outlinewidth\":0,\"ticks\":\"\"},\"colorscale\":[[0.0,\"#0d0887\"],[0.1111111111111111,\"#46039f\"],[0.2222222222222222,\"#7201a8\"],[0.3333333333333333,\"#9c179e\"],[0.4444444444444444,\"#bd3786\"],[0.5555555555555556,\"#d8576b\"],[0.6666666666666666,\"#ed7953\"],[0.7777777777777778,\"#fb9f3a\"],[0.8888888888888888,\"#fdca26\"],[1.0,\"#f0f921\"]]}],\"heatmap\":[{\"type\":\"heatmap\",\"colorbar\":{\"outlinewidth\":0,\"ticks\":\"\"},\"colorscale\":[[0.0,\"#0d0887\"],[0.1111111111111111,\"#46039f\"],[0.2222222222222222,\"#7201a8\"],[0.3333333333333333,\"#9c179e\"],[0.4444444444444444,\"#bd3786\"],[0.5555555555555556,\"#d8576b\"],[0.6666666666666666,\"#ed7953\"],[0.7777777777777778,\"#fb9f3a\"],[0.8888888888888888,\"#fdca26\"],[1.0,\"#f0f921\"]]}],\"heatmapgl\":[{\"type\":\"heatmapgl\",\"colorbar\":{\"outlinewidth\":0,\"ticks\":\"\"},\"colorscale\":[[0.0,\"#0d0887\"],[0.1111111111111111,\"#46039f\"],[0.2222222222222222,\"#7201a8\"],[0.3333333333333333,\"#9c179e\"],[0.4444444444444444,\"#bd3786\"],[0.5555555555555556,\"#d8576b\"],[0.6666666666666666,\"#ed7953\"],[0.7777777777777778,\"#fb9f3a\"],[0.8888888888888888,\"#fdca26\"],[1.0,\"#f0f921\"]]}],\"contourcarpet\":[{\"type\":\"contourcarpet\",\"colorbar\":{\"outlinewidth\":0,\"ticks\":\"\"}}],\"contour\":[{\"type\":\"contour\",\"colorbar\":{\"outlinewidth\":0,\"ticks\":\"\"},\"colorscale\":[[0.0,\"#0d0887\"],[0.1111111111111111,\"#46039f\"],[0.2222222222222222,\"#7201a8\"],[0.3333333333333333,\"#9c179e\"],[0.4444444444444444,\"#bd3786\"],[0.5555555555555556,\"#d8576b\"],[0.6666666666666666,\"#ed7953\"],[0.7777777777777778,\"#fb9f3a\"],[0.8888888888888888,\"#fdca26\"],[1.0,\"#f0f921\"]]}],\"surface\":[{\"type\":\"surface\",\"colorbar\":{\"outlinewidth\":0,\"ticks\":\"\"},\"colorscale\":[[0.0,\"#0d0887\"],[0.1111111111111111,\"#46039f\"],[0.2222222222222222,\"#7201a8\"],[0.3333333333333333,\"#9c179e\"],[0.4444444444444444,\"#bd3786\"],[0.5555555555555556,\"#d8576b\"],[0.6666666666666666,\"#ed7953\"],[0.7777777777777778,\"#fb9f3a\"],[0.8888888888888888,\"#fdca26\"],[1.0,\"#f0f921\"]]}],\"mesh3d\":[{\"type\":\"mesh3d\",\"colorbar\":{\"outlinewidth\":0,\"ticks\":\"\"}}],\"scatter\":[{\"fillpattern\":{\"fillmode\":\"overlay\",\"size\":10,\"solidity\":0.2},\"type\":\"scatter\"}],\"parcoords\":[{\"type\":\"parcoords\",\"line\":{\"colorbar\":{\"outlinewidth\":0,\"ticks\":\"\"}}}],\"scatterpolargl\":[{\"type\":\"scatterpolargl\",\"marker\":{\"colorbar\":{\"outlinewidth\":0,\"ticks\":\"\"}}}],\"bar\":[{\"error_x\":{\"color\":\"#2a3f5f\"},\"error_y\":{\"color\":\"#2a3f5f\"},\"marker\":{\"line\":{\"color\":\"#E5ECF6\",\"width\":0.5},\"pattern\":{\"fillmode\":\"overlay\",\"size\":10,\"solidity\":0.2}},\"type\":\"bar\"}],\"scattergeo\":[{\"type\":\"scattergeo\",\"marker\":{\"colorbar\":{\"outlinewidth\":0,\"ticks\":\"\"}}}],\"scatterpolar\":[{\"type\":\"scatterpolar\",\"marker\":{\"colorbar\":{\"outlinewidth\":0,\"ticks\":\"\"}}}],\"histogram\":[{\"marker\":{\"pattern\":{\"fillmode\":\"overlay\",\"size\":10,\"solidity\":0.2}},\"type\":\"histogram\"}],\"scattergl\":[{\"type\":\"scattergl\",\"marker\":{\"colorbar\":{\"outlinewidth\":0,\"ticks\":\"\"}}}],\"scatter3d\":[{\"type\":\"scatter3d\",\"line\":{\"colorbar\":{\"outlinewidth\":0,\"ticks\":\"\"}},\"marker\":{\"colorbar\":{\"outlinewidth\":0,\"ticks\":\"\"}}}],\"scattermapbox\":[{\"type\":\"scattermapbox\",\"marker\":{\"colorbar\":{\"outlinewidth\":0,\"ticks\":\"\"}}}],\"scatterternary\":[{\"type\":\"scatterternary\",\"marker\":{\"colorbar\":{\"outlinewidth\":0,\"ticks\":\"\"}}}],\"scattercarpet\":[{\"type\":\"scattercarpet\",\"marker\":{\"colorbar\":{\"outlinewidth\":0,\"ticks\":\"\"}}}],\"carpet\":[{\"aaxis\":{\"endlinecolor\":\"#2a3f5f\",\"gridcolor\":\"white\",\"linecolor\":\"white\",\"minorgridcolor\":\"white\",\"startlinecolor\":\"#2a3f5f\"},\"baxis\":{\"endlinecolor\":\"#2a3f5f\",\"gridcolor\":\"white\",\"linecolor\":\"white\",\"minorgridcolor\":\"white\",\"startlinecolor\":\"#2a3f5f\"},\"type\":\"carpet\"}],\"table\":[{\"cells\":{\"fill\":{\"color\":\"#EBF0F8\"},\"line\":{\"color\":\"white\"}},\"header\":{\"fill\":{\"color\":\"#C8D4E3\"},\"line\":{\"color\":\"white\"}},\"type\":\"table\"}],\"barpolar\":[{\"marker\":{\"line\":{\"color\":\"#E5ECF6\",\"width\":0.5},\"pattern\":{\"fillmode\":\"overlay\",\"size\":10,\"solidity\":0.2}},\"type\":\"barpolar\"}],\"pie\":[{\"automargin\":true,\"type\":\"pie\"}]},\"layout\":{\"autotypenumbers\":\"strict\",\"colorway\":[\"#636efa\",\"#EF553B\",\"#00cc96\",\"#ab63fa\",\"#FFA15A\",\"#19d3f3\",\"#FF6692\",\"#B6E880\",\"#FF97FF\",\"#FECB52\"],\"font\":{\"color\":\"#2a3f5f\"},\"hovermode\":\"closest\",\"hoverlabel\":{\"align\":\"left\"},\"paper_bgcolor\":\"white\",\"plot_bgcolor\":\"#E5ECF6\",\"polar\":{\"bgcolor\":\"#E5ECF6\",\"angularaxis\":{\"gridcolor\":\"white\",\"linecolor\":\"white\",\"ticks\":\"\"},\"radialaxis\":{\"gridcolor\":\"white\",\"linecolor\":\"white\",\"ticks\":\"\"}},\"ternary\":{\"bgcolor\":\"#E5ECF6\",\"aaxis\":{\"gridcolor\":\"white\",\"linecolor\":\"white\",\"ticks\":\"\"},\"baxis\":{\"gridcolor\":\"white\",\"linecolor\":\"white\",\"ticks\":\"\"},\"caxis\":{\"gridcolor\":\"white\",\"linecolor\":\"white\",\"ticks\":\"\"}},\"coloraxis\":{\"colorbar\":{\"outlinewidth\":0,\"ticks\":\"\"}},\"colorscale\":{\"sequential\":[[0.0,\"#0d0887\"],[0.1111111111111111,\"#46039f\"],[0.2222222222222222,\"#7201a8\"],[0.3333333333333333,\"#9c179e\"],[0.4444444444444444,\"#bd3786\"],[0.5555555555555556,\"#d8576b\"],[0.6666666666666666,\"#ed7953\"],[0.7777777777777778,\"#fb9f3a\"],[0.8888888888888888,\"#fdca26\"],[1.0,\"#f0f921\"]],\"sequentialminus\":[[0.0,\"#0d0887\"],[0.1111111111111111,\"#46039f\"],[0.2222222222222222,\"#7201a8\"],[0.3333333333333333,\"#9c179e\"],[0.4444444444444444,\"#bd3786\"],[0.5555555555555556,\"#d8576b\"],[0.6666666666666666,\"#ed7953\"],[0.7777777777777778,\"#fb9f3a\"],[0.8888888888888888,\"#fdca26\"],[1.0,\"#f0f921\"]],\"diverging\":[[0,\"#8e0152\"],[0.1,\"#c51b7d\"],[0.2,\"#de77ae\"],[0.3,\"#f1b6da\"],[0.4,\"#fde0ef\"],[0.5,\"#f7f7f7\"],[0.6,\"#e6f5d0\"],[0.7,\"#b8e186\"],[0.8,\"#7fbc41\"],[0.9,\"#4d9221\"],[1,\"#276419\"]]},\"xaxis\":{\"gridcolor\":\"white\",\"linecolor\":\"white\",\"ticks\":\"\",\"title\":{\"standoff\":15},\"zerolinecolor\":\"white\",\"automargin\":true,\"zerolinewidth\":2},\"yaxis\":{\"gridcolor\":\"white\",\"linecolor\":\"white\",\"ticks\":\"\",\"title\":{\"standoff\":15},\"zerolinecolor\":\"white\",\"automargin\":true,\"zerolinewidth\":2},\"scene\":{\"xaxis\":{\"backgroundcolor\":\"#E5ECF6\",\"gridcolor\":\"white\",\"linecolor\":\"white\",\"showbackground\":true,\"ticks\":\"\",\"zerolinecolor\":\"white\",\"gridwidth\":2},\"yaxis\":{\"backgroundcolor\":\"#E5ECF6\",\"gridcolor\":\"white\",\"linecolor\":\"white\",\"showbackground\":true,\"ticks\":\"\",\"zerolinecolor\":\"white\",\"gridwidth\":2},\"zaxis\":{\"backgroundcolor\":\"#E5ECF6\",\"gridcolor\":\"white\",\"linecolor\":\"white\",\"showbackground\":true,\"ticks\":\"\",\"zerolinecolor\":\"white\",\"gridwidth\":2}},\"shapedefaults\":{\"line\":{\"color\":\"#2a3f5f\"}},\"annotationdefaults\":{\"arrowcolor\":\"#2a3f5f\",\"arrowhead\":0,\"arrowwidth\":1},\"geo\":{\"bgcolor\":\"white\",\"landcolor\":\"#E5ECF6\",\"subunitcolor\":\"white\",\"showland\":true,\"showlakes\":true,\"lakecolor\":\"white\"},\"title\":{\"x\":0.05},\"mapbox\":{\"style\":\"light\"}}},\"title\":{\"text\":\"VADER sentiment scores, rolling hourly average, 2022-11-26\"},\"xaxis\":{\"title\":{\"text\":\"Tweet posted at\"}},\"yaxis\":{\"title\":{\"text\":\"VADER sentiment score\"}},\"legend\":{\"title\":{\"text\":\"Sentiment type\"}}},                        {\"responsive\": true}                    ).then(function(){\n",
       "                            \n",
       "var gd = document.getElementById('1f6da949-90f9-4eef-b61d-6ad18ea29469');\n",
       "var x = new MutationObserver(function (mutations, observer) {{\n",
       "        var display = window.getComputedStyle(gd).display;\n",
       "        if (!display || display === 'none') {{\n",
       "            console.log([gd, 'removed!']);\n",
       "            Plotly.purge(gd);\n",
       "            observer.disconnect();\n",
       "        }}\n",
       "}});\n",
       "\n",
       "// Listen for the removal of the full notebook cells\n",
       "var notebookContainer = gd.closest('#notebook-container');\n",
       "if (notebookContainer) {{\n",
       "    x.observe(notebookContainer, {childList: true});\n",
       "}}\n",
       "\n",
       "// Listen for the clearing of the current output cell\n",
       "var outputEl = gd.closest('.output');\n",
       "if (outputEl) {{\n",
       "    x.observe(outputEl, {childList: true});\n",
       "}}\n",
       "\n",
       "                        })                };                });            </script>        </div>"
      ]
     },
     "metadata": {},
     "output_type": "display_data"
    },
    {
     "data": {
      "application/vnd.plotly.v1+json": {
       "config": {
        "plotlyServerURL": "https://plot.ly"
       },
       "data": [
        {
         "connectgaps": true,
         "line": {
          "color": "blue",
          "width": 3.5
         },
         "name": "Compound",
         "type": "scatter",
         "x": [
          "2022-12-04T16:00:00+00:00",
          "2022-12-04T17:00:00+00:00",
          "2022-12-04T18:00:00+00:00",
          "2022-12-04T19:00:00+00:00",
          "2022-12-04T20:00:00+00:00",
          "2022-12-04T21:00:00+00:00",
          "2022-12-04T22:00:00+00:00",
          "2022-12-04T23:00:00+00:00"
         ],
         "y": [
          0.21501509660132564,
          0.20541218944821812,
          0.2346348323170732,
          0.25315009609649414,
          0.18040416666666667,
          0.06641736599563425,
          0.15033766178353009,
          0.13461037735849057
         ]
        },
        {
         "connectgaps": true,
         "fillcolor": "red",
         "name": "Negative",
         "type": "scatter",
         "x": [
          "2022-12-04T16:00:00+00:00",
          "2022-12-04T17:00:00+00:00",
          "2022-12-04T18:00:00+00:00",
          "2022-12-04T19:00:00+00:00",
          "2022-12-04T20:00:00+00:00",
          "2022-12-04T21:00:00+00:00",
          "2022-12-04T22:00:00+00:00",
          "2022-12-04T23:00:00+00:00"
         ],
         "y": [
          0.023638696939782825,
          0.02844682236903322,
          0.02481043118466899,
          0.029973026708198028,
          0.03628651774397972,
          0.050464588891583805,
          0.039599203527236525,
          0.07270754716981132
         ]
        },
        {
         "connectgaps": true,
         "fillcolor": "green",
         "name": "Positive",
         "type": "scatter",
         "x": [
          "2022-12-04T16:00:00+00:00",
          "2022-12-04T17:00:00+00:00",
          "2022-12-04T18:00:00+00:00",
          "2022-12-04T19:00:00+00:00",
          "2022-12-04T20:00:00+00:00",
          "2022-12-04T21:00:00+00:00",
          "2022-12-04T22:00:00+00:00",
          "2022-12-04T23:00:00+00:00"
         ],
         "y": [
          0.09328063742772529,
          0.09684544524053224,
          0.09458079268292682,
          0.09659175558353768,
          0.08240058618504435,
          0.06471161775406258,
          0.08491637035983501,
          0.12328301886792452
         ]
        },
        {
         "connectgaps": true,
         "line": {
          "color": "orange"
         },
         "name": "Neutral",
         "type": "scatter",
         "x": [
          "2022-12-04T16:00:00+00:00",
          "2022-12-04T17:00:00+00:00",
          "2022-12-04T18:00:00+00:00",
          "2022-12-04T19:00:00+00:00",
          "2022-12-04T20:00:00+00:00",
          "2022-12-04T21:00:00+00:00",
          "2022-12-04T22:00:00+00:00",
          "2022-12-04T23:00:00+00:00"
         ],
         "y": [
          0.883083697644902,
          0.8747102447194567,
          0.8806083405923345,
          0.8734337596924913,
          0.8813118662864385,
          0.8848235508125152,
          0.8754861328402788,
          0.803754716981132
         ]
        }
       ],
       "layout": {
        "legend": {
         "title": {
          "text": "Sentiment type"
         }
        },
        "template": {
         "data": {
          "bar": [
           {
            "error_x": {
             "color": "#2a3f5f"
            },
            "error_y": {
             "color": "#2a3f5f"
            },
            "marker": {
             "line": {
              "color": "#E5ECF6",
              "width": 0.5
             },
             "pattern": {
              "fillmode": "overlay",
              "size": 10,
              "solidity": 0.2
             }
            },
            "type": "bar"
           }
          ],
          "barpolar": [
           {
            "marker": {
             "line": {
              "color": "#E5ECF6",
              "width": 0.5
             },
             "pattern": {
              "fillmode": "overlay",
              "size": 10,
              "solidity": 0.2
             }
            },
            "type": "barpolar"
           }
          ],
          "carpet": [
           {
            "aaxis": {
             "endlinecolor": "#2a3f5f",
             "gridcolor": "white",
             "linecolor": "white",
             "minorgridcolor": "white",
             "startlinecolor": "#2a3f5f"
            },
            "baxis": {
             "endlinecolor": "#2a3f5f",
             "gridcolor": "white",
             "linecolor": "white",
             "minorgridcolor": "white",
             "startlinecolor": "#2a3f5f"
            },
            "type": "carpet"
           }
          ],
          "choropleth": [
           {
            "colorbar": {
             "outlinewidth": 0,
             "ticks": ""
            },
            "type": "choropleth"
           }
          ],
          "contour": [
           {
            "colorbar": {
             "outlinewidth": 0,
             "ticks": ""
            },
            "colorscale": [
             [
              0,
              "#0d0887"
             ],
             [
              0.1111111111111111,
              "#46039f"
             ],
             [
              0.2222222222222222,
              "#7201a8"
             ],
             [
              0.3333333333333333,
              "#9c179e"
             ],
             [
              0.4444444444444444,
              "#bd3786"
             ],
             [
              0.5555555555555556,
              "#d8576b"
             ],
             [
              0.6666666666666666,
              "#ed7953"
             ],
             [
              0.7777777777777778,
              "#fb9f3a"
             ],
             [
              0.8888888888888888,
              "#fdca26"
             ],
             [
              1,
              "#f0f921"
             ]
            ],
            "type": "contour"
           }
          ],
          "contourcarpet": [
           {
            "colorbar": {
             "outlinewidth": 0,
             "ticks": ""
            },
            "type": "contourcarpet"
           }
          ],
          "heatmap": [
           {
            "colorbar": {
             "outlinewidth": 0,
             "ticks": ""
            },
            "colorscale": [
             [
              0,
              "#0d0887"
             ],
             [
              0.1111111111111111,
              "#46039f"
             ],
             [
              0.2222222222222222,
              "#7201a8"
             ],
             [
              0.3333333333333333,
              "#9c179e"
             ],
             [
              0.4444444444444444,
              "#bd3786"
             ],
             [
              0.5555555555555556,
              "#d8576b"
             ],
             [
              0.6666666666666666,
              "#ed7953"
             ],
             [
              0.7777777777777778,
              "#fb9f3a"
             ],
             [
              0.8888888888888888,
              "#fdca26"
             ],
             [
              1,
              "#f0f921"
             ]
            ],
            "type": "heatmap"
           }
          ],
          "heatmapgl": [
           {
            "colorbar": {
             "outlinewidth": 0,
             "ticks": ""
            },
            "colorscale": [
             [
              0,
              "#0d0887"
             ],
             [
              0.1111111111111111,
              "#46039f"
             ],
             [
              0.2222222222222222,
              "#7201a8"
             ],
             [
              0.3333333333333333,
              "#9c179e"
             ],
             [
              0.4444444444444444,
              "#bd3786"
             ],
             [
              0.5555555555555556,
              "#d8576b"
             ],
             [
              0.6666666666666666,
              "#ed7953"
             ],
             [
              0.7777777777777778,
              "#fb9f3a"
             ],
             [
              0.8888888888888888,
              "#fdca26"
             ],
             [
              1,
              "#f0f921"
             ]
            ],
            "type": "heatmapgl"
           }
          ],
          "histogram": [
           {
            "marker": {
             "pattern": {
              "fillmode": "overlay",
              "size": 10,
              "solidity": 0.2
             }
            },
            "type": "histogram"
           }
          ],
          "histogram2d": [
           {
            "colorbar": {
             "outlinewidth": 0,
             "ticks": ""
            },
            "colorscale": [
             [
              0,
              "#0d0887"
             ],
             [
              0.1111111111111111,
              "#46039f"
             ],
             [
              0.2222222222222222,
              "#7201a8"
             ],
             [
              0.3333333333333333,
              "#9c179e"
             ],
             [
              0.4444444444444444,
              "#bd3786"
             ],
             [
              0.5555555555555556,
              "#d8576b"
             ],
             [
              0.6666666666666666,
              "#ed7953"
             ],
             [
              0.7777777777777778,
              "#fb9f3a"
             ],
             [
              0.8888888888888888,
              "#fdca26"
             ],
             [
              1,
              "#f0f921"
             ]
            ],
            "type": "histogram2d"
           }
          ],
          "histogram2dcontour": [
           {
            "colorbar": {
             "outlinewidth": 0,
             "ticks": ""
            },
            "colorscale": [
             [
              0,
              "#0d0887"
             ],
             [
              0.1111111111111111,
              "#46039f"
             ],
             [
              0.2222222222222222,
              "#7201a8"
             ],
             [
              0.3333333333333333,
              "#9c179e"
             ],
             [
              0.4444444444444444,
              "#bd3786"
             ],
             [
              0.5555555555555556,
              "#d8576b"
             ],
             [
              0.6666666666666666,
              "#ed7953"
             ],
             [
              0.7777777777777778,
              "#fb9f3a"
             ],
             [
              0.8888888888888888,
              "#fdca26"
             ],
             [
              1,
              "#f0f921"
             ]
            ],
            "type": "histogram2dcontour"
           }
          ],
          "mesh3d": [
           {
            "colorbar": {
             "outlinewidth": 0,
             "ticks": ""
            },
            "type": "mesh3d"
           }
          ],
          "parcoords": [
           {
            "line": {
             "colorbar": {
              "outlinewidth": 0,
              "ticks": ""
             }
            },
            "type": "parcoords"
           }
          ],
          "pie": [
           {
            "automargin": true,
            "type": "pie"
           }
          ],
          "scatter": [
           {
            "fillpattern": {
             "fillmode": "overlay",
             "size": 10,
             "solidity": 0.2
            },
            "type": "scatter"
           }
          ],
          "scatter3d": [
           {
            "line": {
             "colorbar": {
              "outlinewidth": 0,
              "ticks": ""
             }
            },
            "marker": {
             "colorbar": {
              "outlinewidth": 0,
              "ticks": ""
             }
            },
            "type": "scatter3d"
           }
          ],
          "scattercarpet": [
           {
            "marker": {
             "colorbar": {
              "outlinewidth": 0,
              "ticks": ""
             }
            },
            "type": "scattercarpet"
           }
          ],
          "scattergeo": [
           {
            "marker": {
             "colorbar": {
              "outlinewidth": 0,
              "ticks": ""
             }
            },
            "type": "scattergeo"
           }
          ],
          "scattergl": [
           {
            "marker": {
             "colorbar": {
              "outlinewidth": 0,
              "ticks": ""
             }
            },
            "type": "scattergl"
           }
          ],
          "scattermapbox": [
           {
            "marker": {
             "colorbar": {
              "outlinewidth": 0,
              "ticks": ""
             }
            },
            "type": "scattermapbox"
           }
          ],
          "scatterpolar": [
           {
            "marker": {
             "colorbar": {
              "outlinewidth": 0,
              "ticks": ""
             }
            },
            "type": "scatterpolar"
           }
          ],
          "scatterpolargl": [
           {
            "marker": {
             "colorbar": {
              "outlinewidth": 0,
              "ticks": ""
             }
            },
            "type": "scatterpolargl"
           }
          ],
          "scatterternary": [
           {
            "marker": {
             "colorbar": {
              "outlinewidth": 0,
              "ticks": ""
             }
            },
            "type": "scatterternary"
           }
          ],
          "surface": [
           {
            "colorbar": {
             "outlinewidth": 0,
             "ticks": ""
            },
            "colorscale": [
             [
              0,
              "#0d0887"
             ],
             [
              0.1111111111111111,
              "#46039f"
             ],
             [
              0.2222222222222222,
              "#7201a8"
             ],
             [
              0.3333333333333333,
              "#9c179e"
             ],
             [
              0.4444444444444444,
              "#bd3786"
             ],
             [
              0.5555555555555556,
              "#d8576b"
             ],
             [
              0.6666666666666666,
              "#ed7953"
             ],
             [
              0.7777777777777778,
              "#fb9f3a"
             ],
             [
              0.8888888888888888,
              "#fdca26"
             ],
             [
              1,
              "#f0f921"
             ]
            ],
            "type": "surface"
           }
          ],
          "table": [
           {
            "cells": {
             "fill": {
              "color": "#EBF0F8"
             },
             "line": {
              "color": "white"
             }
            },
            "header": {
             "fill": {
              "color": "#C8D4E3"
             },
             "line": {
              "color": "white"
             }
            },
            "type": "table"
           }
          ]
         },
         "layout": {
          "annotationdefaults": {
           "arrowcolor": "#2a3f5f",
           "arrowhead": 0,
           "arrowwidth": 1
          },
          "autotypenumbers": "strict",
          "coloraxis": {
           "colorbar": {
            "outlinewidth": 0,
            "ticks": ""
           }
          },
          "colorscale": {
           "diverging": [
            [
             0,
             "#8e0152"
            ],
            [
             0.1,
             "#c51b7d"
            ],
            [
             0.2,
             "#de77ae"
            ],
            [
             0.3,
             "#f1b6da"
            ],
            [
             0.4,
             "#fde0ef"
            ],
            [
             0.5,
             "#f7f7f7"
            ],
            [
             0.6,
             "#e6f5d0"
            ],
            [
             0.7,
             "#b8e186"
            ],
            [
             0.8,
             "#7fbc41"
            ],
            [
             0.9,
             "#4d9221"
            ],
            [
             1,
             "#276419"
            ]
           ],
           "sequential": [
            [
             0,
             "#0d0887"
            ],
            [
             0.1111111111111111,
             "#46039f"
            ],
            [
             0.2222222222222222,
             "#7201a8"
            ],
            [
             0.3333333333333333,
             "#9c179e"
            ],
            [
             0.4444444444444444,
             "#bd3786"
            ],
            [
             0.5555555555555556,
             "#d8576b"
            ],
            [
             0.6666666666666666,
             "#ed7953"
            ],
            [
             0.7777777777777778,
             "#fb9f3a"
            ],
            [
             0.8888888888888888,
             "#fdca26"
            ],
            [
             1,
             "#f0f921"
            ]
           ],
           "sequentialminus": [
            [
             0,
             "#0d0887"
            ],
            [
             0.1111111111111111,
             "#46039f"
            ],
            [
             0.2222222222222222,
             "#7201a8"
            ],
            [
             0.3333333333333333,
             "#9c179e"
            ],
            [
             0.4444444444444444,
             "#bd3786"
            ],
            [
             0.5555555555555556,
             "#d8576b"
            ],
            [
             0.6666666666666666,
             "#ed7953"
            ],
            [
             0.7777777777777778,
             "#fb9f3a"
            ],
            [
             0.8888888888888888,
             "#fdca26"
            ],
            [
             1,
             "#f0f921"
            ]
           ]
          },
          "colorway": [
           "#636efa",
           "#EF553B",
           "#00cc96",
           "#ab63fa",
           "#FFA15A",
           "#19d3f3",
           "#FF6692",
           "#B6E880",
           "#FF97FF",
           "#FECB52"
          ],
          "font": {
           "color": "#2a3f5f"
          },
          "geo": {
           "bgcolor": "white",
           "lakecolor": "white",
           "landcolor": "#E5ECF6",
           "showlakes": true,
           "showland": true,
           "subunitcolor": "white"
          },
          "hoverlabel": {
           "align": "left"
          },
          "hovermode": "closest",
          "mapbox": {
           "style": "light"
          },
          "paper_bgcolor": "white",
          "plot_bgcolor": "#E5ECF6",
          "polar": {
           "angularaxis": {
            "gridcolor": "white",
            "linecolor": "white",
            "ticks": ""
           },
           "bgcolor": "#E5ECF6",
           "radialaxis": {
            "gridcolor": "white",
            "linecolor": "white",
            "ticks": ""
           }
          },
          "scene": {
           "xaxis": {
            "backgroundcolor": "#E5ECF6",
            "gridcolor": "white",
            "gridwidth": 2,
            "linecolor": "white",
            "showbackground": true,
            "ticks": "",
            "zerolinecolor": "white"
           },
           "yaxis": {
            "backgroundcolor": "#E5ECF6",
            "gridcolor": "white",
            "gridwidth": 2,
            "linecolor": "white",
            "showbackground": true,
            "ticks": "",
            "zerolinecolor": "white"
           },
           "zaxis": {
            "backgroundcolor": "#E5ECF6",
            "gridcolor": "white",
            "gridwidth": 2,
            "linecolor": "white",
            "showbackground": true,
            "ticks": "",
            "zerolinecolor": "white"
           }
          },
          "shapedefaults": {
           "line": {
            "color": "#2a3f5f"
           }
          },
          "ternary": {
           "aaxis": {
            "gridcolor": "white",
            "linecolor": "white",
            "ticks": ""
           },
           "baxis": {
            "gridcolor": "white",
            "linecolor": "white",
            "ticks": ""
           },
           "bgcolor": "#E5ECF6",
           "caxis": {
            "gridcolor": "white",
            "linecolor": "white",
            "ticks": ""
           }
          },
          "title": {
           "x": 0.05
          },
          "xaxis": {
           "automargin": true,
           "gridcolor": "white",
           "linecolor": "white",
           "ticks": "",
           "title": {
            "standoff": 15
           },
           "zerolinecolor": "white",
           "zerolinewidth": 2
          },
          "yaxis": {
           "automargin": true,
           "gridcolor": "white",
           "linecolor": "white",
           "ticks": "",
           "title": {
            "standoff": 15
           },
           "zerolinecolor": "white",
           "zerolinewidth": 2
          }
         }
        },
        "title": {
         "text": "VADER sentiment scores, rolling hourly average, 2022-12-04"
        },
        "xaxis": {
         "title": {
          "text": "Tweet posted at"
         }
        },
        "yaxis": {
         "title": {
          "text": "VADER sentiment score"
         }
        }
       }
      },
      "text/html": [
       "<div>                            <div id=\"aca813e3-db68-4371-931c-ba4e6d0a4b10\" class=\"plotly-graph-div\" style=\"height:525px; width:100%;\"></div>            <script type=\"text/javascript\">                require([\"plotly\"], function(Plotly) {                    window.PLOTLYENV=window.PLOTLYENV || {};                                    if (document.getElementById(\"aca813e3-db68-4371-931c-ba4e6d0a4b10\")) {                    Plotly.newPlot(                        \"aca813e3-db68-4371-931c-ba4e6d0a4b10\",                        [{\"line\":{\"color\":\"blue\",\"width\":3.5},\"name\":\"Compound\",\"x\":[\"2022-12-04T16:00:00+00:00\",\"2022-12-04T17:00:00+00:00\",\"2022-12-04T18:00:00+00:00\",\"2022-12-04T19:00:00+00:00\",\"2022-12-04T20:00:00+00:00\",\"2022-12-04T21:00:00+00:00\",\"2022-12-04T22:00:00+00:00\",\"2022-12-04T23:00:00+00:00\"],\"y\":[0.21501509660132564,0.20541218944821812,0.2346348323170732,0.25315009609649414,0.18040416666666667,0.06641736599563425,0.15033766178353009,0.13461037735849057],\"type\":\"scatter\",\"connectgaps\":true},{\"fillcolor\":\"red\",\"name\":\"Negative\",\"x\":[\"2022-12-04T16:00:00+00:00\",\"2022-12-04T17:00:00+00:00\",\"2022-12-04T18:00:00+00:00\",\"2022-12-04T19:00:00+00:00\",\"2022-12-04T20:00:00+00:00\",\"2022-12-04T21:00:00+00:00\",\"2022-12-04T22:00:00+00:00\",\"2022-12-04T23:00:00+00:00\"],\"y\":[0.023638696939782825,0.02844682236903322,0.02481043118466899,0.029973026708198028,0.03628651774397972,0.050464588891583805,0.039599203527236525,0.07270754716981132],\"type\":\"scatter\",\"connectgaps\":true},{\"fillcolor\":\"green\",\"name\":\"Positive\",\"x\":[\"2022-12-04T16:00:00+00:00\",\"2022-12-04T17:00:00+00:00\",\"2022-12-04T18:00:00+00:00\",\"2022-12-04T19:00:00+00:00\",\"2022-12-04T20:00:00+00:00\",\"2022-12-04T21:00:00+00:00\",\"2022-12-04T22:00:00+00:00\",\"2022-12-04T23:00:00+00:00\"],\"y\":[0.09328063742772529,0.09684544524053224,0.09458079268292682,0.09659175558353768,0.08240058618504435,0.06471161775406258,0.08491637035983501,0.12328301886792452],\"type\":\"scatter\",\"connectgaps\":true},{\"line\":{\"color\":\"orange\"},\"name\":\"Neutral\",\"x\":[\"2022-12-04T16:00:00+00:00\",\"2022-12-04T17:00:00+00:00\",\"2022-12-04T18:00:00+00:00\",\"2022-12-04T19:00:00+00:00\",\"2022-12-04T20:00:00+00:00\",\"2022-12-04T21:00:00+00:00\",\"2022-12-04T22:00:00+00:00\",\"2022-12-04T23:00:00+00:00\"],\"y\":[0.883083697644902,0.8747102447194567,0.8806083405923345,0.8734337596924913,0.8813118662864385,0.8848235508125152,0.8754861328402788,0.803754716981132],\"type\":\"scatter\",\"connectgaps\":true}],                        {\"template\":{\"data\":{\"histogram2dcontour\":[{\"type\":\"histogram2dcontour\",\"colorbar\":{\"outlinewidth\":0,\"ticks\":\"\"},\"colorscale\":[[0.0,\"#0d0887\"],[0.1111111111111111,\"#46039f\"],[0.2222222222222222,\"#7201a8\"],[0.3333333333333333,\"#9c179e\"],[0.4444444444444444,\"#bd3786\"],[0.5555555555555556,\"#d8576b\"],[0.6666666666666666,\"#ed7953\"],[0.7777777777777778,\"#fb9f3a\"],[0.8888888888888888,\"#fdca26\"],[1.0,\"#f0f921\"]]}],\"choropleth\":[{\"type\":\"choropleth\",\"colorbar\":{\"outlinewidth\":0,\"ticks\":\"\"}}],\"histogram2d\":[{\"type\":\"histogram2d\",\"colorbar\":{\"outlinewidth\":0,\"ticks\":\"\"},\"colorscale\":[[0.0,\"#0d0887\"],[0.1111111111111111,\"#46039f\"],[0.2222222222222222,\"#7201a8\"],[0.3333333333333333,\"#9c179e\"],[0.4444444444444444,\"#bd3786\"],[0.5555555555555556,\"#d8576b\"],[0.6666666666666666,\"#ed7953\"],[0.7777777777777778,\"#fb9f3a\"],[0.8888888888888888,\"#fdca26\"],[1.0,\"#f0f921\"]]}],\"heatmap\":[{\"type\":\"heatmap\",\"colorbar\":{\"outlinewidth\":0,\"ticks\":\"\"},\"colorscale\":[[0.0,\"#0d0887\"],[0.1111111111111111,\"#46039f\"],[0.2222222222222222,\"#7201a8\"],[0.3333333333333333,\"#9c179e\"],[0.4444444444444444,\"#bd3786\"],[0.5555555555555556,\"#d8576b\"],[0.6666666666666666,\"#ed7953\"],[0.7777777777777778,\"#fb9f3a\"],[0.8888888888888888,\"#fdca26\"],[1.0,\"#f0f921\"]]}],\"heatmapgl\":[{\"type\":\"heatmapgl\",\"colorbar\":{\"outlinewidth\":0,\"ticks\":\"\"},\"colorscale\":[[0.0,\"#0d0887\"],[0.1111111111111111,\"#46039f\"],[0.2222222222222222,\"#7201a8\"],[0.3333333333333333,\"#9c179e\"],[0.4444444444444444,\"#bd3786\"],[0.5555555555555556,\"#d8576b\"],[0.6666666666666666,\"#ed7953\"],[0.7777777777777778,\"#fb9f3a\"],[0.8888888888888888,\"#fdca26\"],[1.0,\"#f0f921\"]]}],\"contourcarpet\":[{\"type\":\"contourcarpet\",\"colorbar\":{\"outlinewidth\":0,\"ticks\":\"\"}}],\"contour\":[{\"type\":\"contour\",\"colorbar\":{\"outlinewidth\":0,\"ticks\":\"\"},\"colorscale\":[[0.0,\"#0d0887\"],[0.1111111111111111,\"#46039f\"],[0.2222222222222222,\"#7201a8\"],[0.3333333333333333,\"#9c179e\"],[0.4444444444444444,\"#bd3786\"],[0.5555555555555556,\"#d8576b\"],[0.6666666666666666,\"#ed7953\"],[0.7777777777777778,\"#fb9f3a\"],[0.8888888888888888,\"#fdca26\"],[1.0,\"#f0f921\"]]}],\"surface\":[{\"type\":\"surface\",\"colorbar\":{\"outlinewidth\":0,\"ticks\":\"\"},\"colorscale\":[[0.0,\"#0d0887\"],[0.1111111111111111,\"#46039f\"],[0.2222222222222222,\"#7201a8\"],[0.3333333333333333,\"#9c179e\"],[0.4444444444444444,\"#bd3786\"],[0.5555555555555556,\"#d8576b\"],[0.6666666666666666,\"#ed7953\"],[0.7777777777777778,\"#fb9f3a\"],[0.8888888888888888,\"#fdca26\"],[1.0,\"#f0f921\"]]}],\"mesh3d\":[{\"type\":\"mesh3d\",\"colorbar\":{\"outlinewidth\":0,\"ticks\":\"\"}}],\"scatter\":[{\"fillpattern\":{\"fillmode\":\"overlay\",\"size\":10,\"solidity\":0.2},\"type\":\"scatter\"}],\"parcoords\":[{\"type\":\"parcoords\",\"line\":{\"colorbar\":{\"outlinewidth\":0,\"ticks\":\"\"}}}],\"scatterpolargl\":[{\"type\":\"scatterpolargl\",\"marker\":{\"colorbar\":{\"outlinewidth\":0,\"ticks\":\"\"}}}],\"bar\":[{\"error_x\":{\"color\":\"#2a3f5f\"},\"error_y\":{\"color\":\"#2a3f5f\"},\"marker\":{\"line\":{\"color\":\"#E5ECF6\",\"width\":0.5},\"pattern\":{\"fillmode\":\"overlay\",\"size\":10,\"solidity\":0.2}},\"type\":\"bar\"}],\"scattergeo\":[{\"type\":\"scattergeo\",\"marker\":{\"colorbar\":{\"outlinewidth\":0,\"ticks\":\"\"}}}],\"scatterpolar\":[{\"type\":\"scatterpolar\",\"marker\":{\"colorbar\":{\"outlinewidth\":0,\"ticks\":\"\"}}}],\"histogram\":[{\"marker\":{\"pattern\":{\"fillmode\":\"overlay\",\"size\":10,\"solidity\":0.2}},\"type\":\"histogram\"}],\"scattergl\":[{\"type\":\"scattergl\",\"marker\":{\"colorbar\":{\"outlinewidth\":0,\"ticks\":\"\"}}}],\"scatter3d\":[{\"type\":\"scatter3d\",\"line\":{\"colorbar\":{\"outlinewidth\":0,\"ticks\":\"\"}},\"marker\":{\"colorbar\":{\"outlinewidth\":0,\"ticks\":\"\"}}}],\"scattermapbox\":[{\"type\":\"scattermapbox\",\"marker\":{\"colorbar\":{\"outlinewidth\":0,\"ticks\":\"\"}}}],\"scatterternary\":[{\"type\":\"scatterternary\",\"marker\":{\"colorbar\":{\"outlinewidth\":0,\"ticks\":\"\"}}}],\"scattercarpet\":[{\"type\":\"scattercarpet\",\"marker\":{\"colorbar\":{\"outlinewidth\":0,\"ticks\":\"\"}}}],\"carpet\":[{\"aaxis\":{\"endlinecolor\":\"#2a3f5f\",\"gridcolor\":\"white\",\"linecolor\":\"white\",\"minorgridcolor\":\"white\",\"startlinecolor\":\"#2a3f5f\"},\"baxis\":{\"endlinecolor\":\"#2a3f5f\",\"gridcolor\":\"white\",\"linecolor\":\"white\",\"minorgridcolor\":\"white\",\"startlinecolor\":\"#2a3f5f\"},\"type\":\"carpet\"}],\"table\":[{\"cells\":{\"fill\":{\"color\":\"#EBF0F8\"},\"line\":{\"color\":\"white\"}},\"header\":{\"fill\":{\"color\":\"#C8D4E3\"},\"line\":{\"color\":\"white\"}},\"type\":\"table\"}],\"barpolar\":[{\"marker\":{\"line\":{\"color\":\"#E5ECF6\",\"width\":0.5},\"pattern\":{\"fillmode\":\"overlay\",\"size\":10,\"solidity\":0.2}},\"type\":\"barpolar\"}],\"pie\":[{\"automargin\":true,\"type\":\"pie\"}]},\"layout\":{\"autotypenumbers\":\"strict\",\"colorway\":[\"#636efa\",\"#EF553B\",\"#00cc96\",\"#ab63fa\",\"#FFA15A\",\"#19d3f3\",\"#FF6692\",\"#B6E880\",\"#FF97FF\",\"#FECB52\"],\"font\":{\"color\":\"#2a3f5f\"},\"hovermode\":\"closest\",\"hoverlabel\":{\"align\":\"left\"},\"paper_bgcolor\":\"white\",\"plot_bgcolor\":\"#E5ECF6\",\"polar\":{\"bgcolor\":\"#E5ECF6\",\"angularaxis\":{\"gridcolor\":\"white\",\"linecolor\":\"white\",\"ticks\":\"\"},\"radialaxis\":{\"gridcolor\":\"white\",\"linecolor\":\"white\",\"ticks\":\"\"}},\"ternary\":{\"bgcolor\":\"#E5ECF6\",\"aaxis\":{\"gridcolor\":\"white\",\"linecolor\":\"white\",\"ticks\":\"\"},\"baxis\":{\"gridcolor\":\"white\",\"linecolor\":\"white\",\"ticks\":\"\"},\"caxis\":{\"gridcolor\":\"white\",\"linecolor\":\"white\",\"ticks\":\"\"}},\"coloraxis\":{\"colorbar\":{\"outlinewidth\":0,\"ticks\":\"\"}},\"colorscale\":{\"sequential\":[[0.0,\"#0d0887\"],[0.1111111111111111,\"#46039f\"],[0.2222222222222222,\"#7201a8\"],[0.3333333333333333,\"#9c179e\"],[0.4444444444444444,\"#bd3786\"],[0.5555555555555556,\"#d8576b\"],[0.6666666666666666,\"#ed7953\"],[0.7777777777777778,\"#fb9f3a\"],[0.8888888888888888,\"#fdca26\"],[1.0,\"#f0f921\"]],\"sequentialminus\":[[0.0,\"#0d0887\"],[0.1111111111111111,\"#46039f\"],[0.2222222222222222,\"#7201a8\"],[0.3333333333333333,\"#9c179e\"],[0.4444444444444444,\"#bd3786\"],[0.5555555555555556,\"#d8576b\"],[0.6666666666666666,\"#ed7953\"],[0.7777777777777778,\"#fb9f3a\"],[0.8888888888888888,\"#fdca26\"],[1.0,\"#f0f921\"]],\"diverging\":[[0,\"#8e0152\"],[0.1,\"#c51b7d\"],[0.2,\"#de77ae\"],[0.3,\"#f1b6da\"],[0.4,\"#fde0ef\"],[0.5,\"#f7f7f7\"],[0.6,\"#e6f5d0\"],[0.7,\"#b8e186\"],[0.8,\"#7fbc41\"],[0.9,\"#4d9221\"],[1,\"#276419\"]]},\"xaxis\":{\"gridcolor\":\"white\",\"linecolor\":\"white\",\"ticks\":\"\",\"title\":{\"standoff\":15},\"zerolinecolor\":\"white\",\"automargin\":true,\"zerolinewidth\":2},\"yaxis\":{\"gridcolor\":\"white\",\"linecolor\":\"white\",\"ticks\":\"\",\"title\":{\"standoff\":15},\"zerolinecolor\":\"white\",\"automargin\":true,\"zerolinewidth\":2},\"scene\":{\"xaxis\":{\"backgroundcolor\":\"#E5ECF6\",\"gridcolor\":\"white\",\"linecolor\":\"white\",\"showbackground\":true,\"ticks\":\"\",\"zerolinecolor\":\"white\",\"gridwidth\":2},\"yaxis\":{\"backgroundcolor\":\"#E5ECF6\",\"gridcolor\":\"white\",\"linecolor\":\"white\",\"showbackground\":true,\"ticks\":\"\",\"zerolinecolor\":\"white\",\"gridwidth\":2},\"zaxis\":{\"backgroundcolor\":\"#E5ECF6\",\"gridcolor\":\"white\",\"linecolor\":\"white\",\"showbackground\":true,\"ticks\":\"\",\"zerolinecolor\":\"white\",\"gridwidth\":2}},\"shapedefaults\":{\"line\":{\"color\":\"#2a3f5f\"}},\"annotationdefaults\":{\"arrowcolor\":\"#2a3f5f\",\"arrowhead\":0,\"arrowwidth\":1},\"geo\":{\"bgcolor\":\"white\",\"landcolor\":\"#E5ECF6\",\"subunitcolor\":\"white\",\"showland\":true,\"showlakes\":true,\"lakecolor\":\"white\"},\"title\":{\"x\":0.05},\"mapbox\":{\"style\":\"light\"}}},\"title\":{\"text\":\"VADER sentiment scores, rolling hourly average, 2022-12-04\"},\"xaxis\":{\"title\":{\"text\":\"Tweet posted at\"}},\"yaxis\":{\"title\":{\"text\":\"VADER sentiment score\"}},\"legend\":{\"title\":{\"text\":\"Sentiment type\"}}},                        {\"responsive\": true}                    ).then(function(){\n",
       "                            \n",
       "var gd = document.getElementById('aca813e3-db68-4371-931c-ba4e6d0a4b10');\n",
       "var x = new MutationObserver(function (mutations, observer) {{\n",
       "        var display = window.getComputedStyle(gd).display;\n",
       "        if (!display || display === 'none') {{\n",
       "            console.log([gd, 'removed!']);\n",
       "            Plotly.purge(gd);\n",
       "            observer.disconnect();\n",
       "        }}\n",
       "}});\n",
       "\n",
       "// Listen for the removal of the full notebook cells\n",
       "var notebookContainer = gd.closest('#notebook-container');\n",
       "if (notebookContainer) {{\n",
       "    x.observe(notebookContainer, {childList: true});\n",
       "}}\n",
       "\n",
       "// Listen for the clearing of the current output cell\n",
       "var outputEl = gd.closest('.output');\n",
       "if (outputEl) {{\n",
       "    x.observe(outputEl, {childList: true});\n",
       "}}\n",
       "\n",
       "                        })                };                });            </script>        </div>"
      ]
     },
     "metadata": {},
     "output_type": "display_data"
    },
    {
     "data": {
      "application/vnd.plotly.v1+json": {
       "config": {
        "plotlyServerURL": "https://plot.ly"
       },
       "data": [
        {
         "connectgaps": true,
         "line": {
          "color": "blue",
          "width": 3.5
         },
         "name": "Compound",
         "type": "scatter",
         "x": [
          "2022-12-14T16:00:00+00:00",
          "2022-12-14T17:00:00+00:00",
          "2022-12-14T18:00:00+00:00",
          "2022-12-14T19:00:00+00:00",
          "2022-12-14T20:00:00+00:00",
          "2022-12-14T21:00:00+00:00",
          "2022-12-14T22:00:00+00:00",
          "2022-12-14T23:00:00+00:00"
         ],
         "y": [
          0.05556585903083701,
          0.0847149,
          0.26305648494566186,
          0.24148136036208326,
          0.2420988841405508,
          0.23773993754018555,
          0.16421172955237873,
          0.12557088559483087
         ]
        },
        {
         "connectgaps": true,
         "fillcolor": "red",
         "name": "Negative",
         "type": "scatter",
         "x": [
          "2022-12-14T16:00:00+00:00",
          "2022-12-14T17:00:00+00:00",
          "2022-12-14T18:00:00+00:00",
          "2022-12-14T19:00:00+00:00",
          "2022-12-14T20:00:00+00:00",
          "2022-12-14T21:00:00+00:00",
          "2022-12-14T22:00:00+00:00",
          "2022-12-14T23:00:00+00:00"
         ],
         "y": [
          0.06656552863436123,
          0.061848,
          0.03233582754320328,
          0.02923401542678651,
          0.036520576131687243,
          0.027363093597869016,
          0.028887391610030465,
          0.0274899277841125
         ]
        },
        {
         "connectgaps": true,
         "fillcolor": "green",
         "name": "Positive",
         "type": "scatter",
         "x": [
          "2022-12-14T16:00:00+00:00",
          "2022-12-14T17:00:00+00:00",
          "2022-12-14T18:00:00+00:00",
          "2022-12-14T19:00:00+00:00",
          "2022-12-14T20:00:00+00:00",
          "2022-12-14T21:00:00+00:00",
          "2022-12-14T22:00:00+00:00",
          "2022-12-14T23:00:00+00:00"
         ],
         "y": [
          0.09807819383259912,
          0.095577,
          0.11173926598966684,
          0.0949943902594505,
          0.10689300411522634,
          0.12661504546707084,
          0.09651218654792594,
          0.07947814519194223
         ]
        },
        {
         "connectgaps": true,
         "line": {
          "color": "orange"
         },
         "name": "Neutral",
         "type": "scatter",
         "x": [
          "2022-12-14T16:00:00+00:00",
          "2022-12-14T17:00:00+00:00",
          "2022-12-14T18:00:00+00:00",
          "2022-12-14T19:00:00+00:00",
          "2022-12-14T20:00:00+00:00",
          "2022-12-14T21:00:00+00:00",
          "2022-12-14T22:00:00+00:00",
          "2022-12-14T23:00:00+00:00"
         ],
         "y": [
          0.8353705947136564,
          0.842577,
          0.8559275788348477,
          0.8757742079428826,
          0.8565839664450776,
          0.8460151556902727,
          0.8745952659948442,
          0.8930296465222349
         ]
        }
       ],
       "layout": {
        "legend": {
         "title": {
          "text": "Sentiment type"
         }
        },
        "template": {
         "data": {
          "bar": [
           {
            "error_x": {
             "color": "#2a3f5f"
            },
            "error_y": {
             "color": "#2a3f5f"
            },
            "marker": {
             "line": {
              "color": "#E5ECF6",
              "width": 0.5
             },
             "pattern": {
              "fillmode": "overlay",
              "size": 10,
              "solidity": 0.2
             }
            },
            "type": "bar"
           }
          ],
          "barpolar": [
           {
            "marker": {
             "line": {
              "color": "#E5ECF6",
              "width": 0.5
             },
             "pattern": {
              "fillmode": "overlay",
              "size": 10,
              "solidity": 0.2
             }
            },
            "type": "barpolar"
           }
          ],
          "carpet": [
           {
            "aaxis": {
             "endlinecolor": "#2a3f5f",
             "gridcolor": "white",
             "linecolor": "white",
             "minorgridcolor": "white",
             "startlinecolor": "#2a3f5f"
            },
            "baxis": {
             "endlinecolor": "#2a3f5f",
             "gridcolor": "white",
             "linecolor": "white",
             "minorgridcolor": "white",
             "startlinecolor": "#2a3f5f"
            },
            "type": "carpet"
           }
          ],
          "choropleth": [
           {
            "colorbar": {
             "outlinewidth": 0,
             "ticks": ""
            },
            "type": "choropleth"
           }
          ],
          "contour": [
           {
            "colorbar": {
             "outlinewidth": 0,
             "ticks": ""
            },
            "colorscale": [
             [
              0,
              "#0d0887"
             ],
             [
              0.1111111111111111,
              "#46039f"
             ],
             [
              0.2222222222222222,
              "#7201a8"
             ],
             [
              0.3333333333333333,
              "#9c179e"
             ],
             [
              0.4444444444444444,
              "#bd3786"
             ],
             [
              0.5555555555555556,
              "#d8576b"
             ],
             [
              0.6666666666666666,
              "#ed7953"
             ],
             [
              0.7777777777777778,
              "#fb9f3a"
             ],
             [
              0.8888888888888888,
              "#fdca26"
             ],
             [
              1,
              "#f0f921"
             ]
            ],
            "type": "contour"
           }
          ],
          "contourcarpet": [
           {
            "colorbar": {
             "outlinewidth": 0,
             "ticks": ""
            },
            "type": "contourcarpet"
           }
          ],
          "heatmap": [
           {
            "colorbar": {
             "outlinewidth": 0,
             "ticks": ""
            },
            "colorscale": [
             [
              0,
              "#0d0887"
             ],
             [
              0.1111111111111111,
              "#46039f"
             ],
             [
              0.2222222222222222,
              "#7201a8"
             ],
             [
              0.3333333333333333,
              "#9c179e"
             ],
             [
              0.4444444444444444,
              "#bd3786"
             ],
             [
              0.5555555555555556,
              "#d8576b"
             ],
             [
              0.6666666666666666,
              "#ed7953"
             ],
             [
              0.7777777777777778,
              "#fb9f3a"
             ],
             [
              0.8888888888888888,
              "#fdca26"
             ],
             [
              1,
              "#f0f921"
             ]
            ],
            "type": "heatmap"
           }
          ],
          "heatmapgl": [
           {
            "colorbar": {
             "outlinewidth": 0,
             "ticks": ""
            },
            "colorscale": [
             [
              0,
              "#0d0887"
             ],
             [
              0.1111111111111111,
              "#46039f"
             ],
             [
              0.2222222222222222,
              "#7201a8"
             ],
             [
              0.3333333333333333,
              "#9c179e"
             ],
             [
              0.4444444444444444,
              "#bd3786"
             ],
             [
              0.5555555555555556,
              "#d8576b"
             ],
             [
              0.6666666666666666,
              "#ed7953"
             ],
             [
              0.7777777777777778,
              "#fb9f3a"
             ],
             [
              0.8888888888888888,
              "#fdca26"
             ],
             [
              1,
              "#f0f921"
             ]
            ],
            "type": "heatmapgl"
           }
          ],
          "histogram": [
           {
            "marker": {
             "pattern": {
              "fillmode": "overlay",
              "size": 10,
              "solidity": 0.2
             }
            },
            "type": "histogram"
           }
          ],
          "histogram2d": [
           {
            "colorbar": {
             "outlinewidth": 0,
             "ticks": ""
            },
            "colorscale": [
             [
              0,
              "#0d0887"
             ],
             [
              0.1111111111111111,
              "#46039f"
             ],
             [
              0.2222222222222222,
              "#7201a8"
             ],
             [
              0.3333333333333333,
              "#9c179e"
             ],
             [
              0.4444444444444444,
              "#bd3786"
             ],
             [
              0.5555555555555556,
              "#d8576b"
             ],
             [
              0.6666666666666666,
              "#ed7953"
             ],
             [
              0.7777777777777778,
              "#fb9f3a"
             ],
             [
              0.8888888888888888,
              "#fdca26"
             ],
             [
              1,
              "#f0f921"
             ]
            ],
            "type": "histogram2d"
           }
          ],
          "histogram2dcontour": [
           {
            "colorbar": {
             "outlinewidth": 0,
             "ticks": ""
            },
            "colorscale": [
             [
              0,
              "#0d0887"
             ],
             [
              0.1111111111111111,
              "#46039f"
             ],
             [
              0.2222222222222222,
              "#7201a8"
             ],
             [
              0.3333333333333333,
              "#9c179e"
             ],
             [
              0.4444444444444444,
              "#bd3786"
             ],
             [
              0.5555555555555556,
              "#d8576b"
             ],
             [
              0.6666666666666666,
              "#ed7953"
             ],
             [
              0.7777777777777778,
              "#fb9f3a"
             ],
             [
              0.8888888888888888,
              "#fdca26"
             ],
             [
              1,
              "#f0f921"
             ]
            ],
            "type": "histogram2dcontour"
           }
          ],
          "mesh3d": [
           {
            "colorbar": {
             "outlinewidth": 0,
             "ticks": ""
            },
            "type": "mesh3d"
           }
          ],
          "parcoords": [
           {
            "line": {
             "colorbar": {
              "outlinewidth": 0,
              "ticks": ""
             }
            },
            "type": "parcoords"
           }
          ],
          "pie": [
           {
            "automargin": true,
            "type": "pie"
           }
          ],
          "scatter": [
           {
            "fillpattern": {
             "fillmode": "overlay",
             "size": 10,
             "solidity": 0.2
            },
            "type": "scatter"
           }
          ],
          "scatter3d": [
           {
            "line": {
             "colorbar": {
              "outlinewidth": 0,
              "ticks": ""
             }
            },
            "marker": {
             "colorbar": {
              "outlinewidth": 0,
              "ticks": ""
             }
            },
            "type": "scatter3d"
           }
          ],
          "scattercarpet": [
           {
            "marker": {
             "colorbar": {
              "outlinewidth": 0,
              "ticks": ""
             }
            },
            "type": "scattercarpet"
           }
          ],
          "scattergeo": [
           {
            "marker": {
             "colorbar": {
              "outlinewidth": 0,
              "ticks": ""
             }
            },
            "type": "scattergeo"
           }
          ],
          "scattergl": [
           {
            "marker": {
             "colorbar": {
              "outlinewidth": 0,
              "ticks": ""
             }
            },
            "type": "scattergl"
           }
          ],
          "scattermapbox": [
           {
            "marker": {
             "colorbar": {
              "outlinewidth": 0,
              "ticks": ""
             }
            },
            "type": "scattermapbox"
           }
          ],
          "scatterpolar": [
           {
            "marker": {
             "colorbar": {
              "outlinewidth": 0,
              "ticks": ""
             }
            },
            "type": "scatterpolar"
           }
          ],
          "scatterpolargl": [
           {
            "marker": {
             "colorbar": {
              "outlinewidth": 0,
              "ticks": ""
             }
            },
            "type": "scatterpolargl"
           }
          ],
          "scatterternary": [
           {
            "marker": {
             "colorbar": {
              "outlinewidth": 0,
              "ticks": ""
             }
            },
            "type": "scatterternary"
           }
          ],
          "surface": [
           {
            "colorbar": {
             "outlinewidth": 0,
             "ticks": ""
            },
            "colorscale": [
             [
              0,
              "#0d0887"
             ],
             [
              0.1111111111111111,
              "#46039f"
             ],
             [
              0.2222222222222222,
              "#7201a8"
             ],
             [
              0.3333333333333333,
              "#9c179e"
             ],
             [
              0.4444444444444444,
              "#bd3786"
             ],
             [
              0.5555555555555556,
              "#d8576b"
             ],
             [
              0.6666666666666666,
              "#ed7953"
             ],
             [
              0.7777777777777778,
              "#fb9f3a"
             ],
             [
              0.8888888888888888,
              "#fdca26"
             ],
             [
              1,
              "#f0f921"
             ]
            ],
            "type": "surface"
           }
          ],
          "table": [
           {
            "cells": {
             "fill": {
              "color": "#EBF0F8"
             },
             "line": {
              "color": "white"
             }
            },
            "header": {
             "fill": {
              "color": "#C8D4E3"
             },
             "line": {
              "color": "white"
             }
            },
            "type": "table"
           }
          ]
         },
         "layout": {
          "annotationdefaults": {
           "arrowcolor": "#2a3f5f",
           "arrowhead": 0,
           "arrowwidth": 1
          },
          "autotypenumbers": "strict",
          "coloraxis": {
           "colorbar": {
            "outlinewidth": 0,
            "ticks": ""
           }
          },
          "colorscale": {
           "diverging": [
            [
             0,
             "#8e0152"
            ],
            [
             0.1,
             "#c51b7d"
            ],
            [
             0.2,
             "#de77ae"
            ],
            [
             0.3,
             "#f1b6da"
            ],
            [
             0.4,
             "#fde0ef"
            ],
            [
             0.5,
             "#f7f7f7"
            ],
            [
             0.6,
             "#e6f5d0"
            ],
            [
             0.7,
             "#b8e186"
            ],
            [
             0.8,
             "#7fbc41"
            ],
            [
             0.9,
             "#4d9221"
            ],
            [
             1,
             "#276419"
            ]
           ],
           "sequential": [
            [
             0,
             "#0d0887"
            ],
            [
             0.1111111111111111,
             "#46039f"
            ],
            [
             0.2222222222222222,
             "#7201a8"
            ],
            [
             0.3333333333333333,
             "#9c179e"
            ],
            [
             0.4444444444444444,
             "#bd3786"
            ],
            [
             0.5555555555555556,
             "#d8576b"
            ],
            [
             0.6666666666666666,
             "#ed7953"
            ],
            [
             0.7777777777777778,
             "#fb9f3a"
            ],
            [
             0.8888888888888888,
             "#fdca26"
            ],
            [
             1,
             "#f0f921"
            ]
           ],
           "sequentialminus": [
            [
             0,
             "#0d0887"
            ],
            [
             0.1111111111111111,
             "#46039f"
            ],
            [
             0.2222222222222222,
             "#7201a8"
            ],
            [
             0.3333333333333333,
             "#9c179e"
            ],
            [
             0.4444444444444444,
             "#bd3786"
            ],
            [
             0.5555555555555556,
             "#d8576b"
            ],
            [
             0.6666666666666666,
             "#ed7953"
            ],
            [
             0.7777777777777778,
             "#fb9f3a"
            ],
            [
             0.8888888888888888,
             "#fdca26"
            ],
            [
             1,
             "#f0f921"
            ]
           ]
          },
          "colorway": [
           "#636efa",
           "#EF553B",
           "#00cc96",
           "#ab63fa",
           "#FFA15A",
           "#19d3f3",
           "#FF6692",
           "#B6E880",
           "#FF97FF",
           "#FECB52"
          ],
          "font": {
           "color": "#2a3f5f"
          },
          "geo": {
           "bgcolor": "white",
           "lakecolor": "white",
           "landcolor": "#E5ECF6",
           "showlakes": true,
           "showland": true,
           "subunitcolor": "white"
          },
          "hoverlabel": {
           "align": "left"
          },
          "hovermode": "closest",
          "mapbox": {
           "style": "light"
          },
          "paper_bgcolor": "white",
          "plot_bgcolor": "#E5ECF6",
          "polar": {
           "angularaxis": {
            "gridcolor": "white",
            "linecolor": "white",
            "ticks": ""
           },
           "bgcolor": "#E5ECF6",
           "radialaxis": {
            "gridcolor": "white",
            "linecolor": "white",
            "ticks": ""
           }
          },
          "scene": {
           "xaxis": {
            "backgroundcolor": "#E5ECF6",
            "gridcolor": "white",
            "gridwidth": 2,
            "linecolor": "white",
            "showbackground": true,
            "ticks": "",
            "zerolinecolor": "white"
           },
           "yaxis": {
            "backgroundcolor": "#E5ECF6",
            "gridcolor": "white",
            "gridwidth": 2,
            "linecolor": "white",
            "showbackground": true,
            "ticks": "",
            "zerolinecolor": "white"
           },
           "zaxis": {
            "backgroundcolor": "#E5ECF6",
            "gridcolor": "white",
            "gridwidth": 2,
            "linecolor": "white",
            "showbackground": true,
            "ticks": "",
            "zerolinecolor": "white"
           }
          },
          "shapedefaults": {
           "line": {
            "color": "#2a3f5f"
           }
          },
          "ternary": {
           "aaxis": {
            "gridcolor": "white",
            "linecolor": "white",
            "ticks": ""
           },
           "baxis": {
            "gridcolor": "white",
            "linecolor": "white",
            "ticks": ""
           },
           "bgcolor": "#E5ECF6",
           "caxis": {
            "gridcolor": "white",
            "linecolor": "white",
            "ticks": ""
           }
          },
          "title": {
           "x": 0.05
          },
          "xaxis": {
           "automargin": true,
           "gridcolor": "white",
           "linecolor": "white",
           "ticks": "",
           "title": {
            "standoff": 15
           },
           "zerolinecolor": "white",
           "zerolinewidth": 2
          },
          "yaxis": {
           "automargin": true,
           "gridcolor": "white",
           "linecolor": "white",
           "ticks": "",
           "title": {
            "standoff": 15
           },
           "zerolinecolor": "white",
           "zerolinewidth": 2
          }
         }
        },
        "title": {
         "text": "VADER sentiment scores, rolling hourly average, 2022-12-14"
        },
        "xaxis": {
         "title": {
          "text": "Tweet posted at"
         }
        },
        "yaxis": {
         "title": {
          "text": "VADER sentiment score"
         }
        }
       }
      },
      "text/html": [
       "<div>                            <div id=\"f7772f14-2245-4c4a-9c0b-ca655dc17282\" class=\"plotly-graph-div\" style=\"height:525px; width:100%;\"></div>            <script type=\"text/javascript\">                require([\"plotly\"], function(Plotly) {                    window.PLOTLYENV=window.PLOTLYENV || {};                                    if (document.getElementById(\"f7772f14-2245-4c4a-9c0b-ca655dc17282\")) {                    Plotly.newPlot(                        \"f7772f14-2245-4c4a-9c0b-ca655dc17282\",                        [{\"line\":{\"color\":\"blue\",\"width\":3.5},\"name\":\"Compound\",\"x\":[\"2022-12-14T16:00:00+00:00\",\"2022-12-14T17:00:00+00:00\",\"2022-12-14T18:00:00+00:00\",\"2022-12-14T19:00:00+00:00\",\"2022-12-14T20:00:00+00:00\",\"2022-12-14T21:00:00+00:00\",\"2022-12-14T22:00:00+00:00\",\"2022-12-14T23:00:00+00:00\"],\"y\":[0.05556585903083701,0.0847149,0.26305648494566186,0.24148136036208326,0.2420988841405508,0.23773993754018555,0.16421172955237873,0.12557088559483087],\"type\":\"scatter\",\"connectgaps\":true},{\"fillcolor\":\"red\",\"name\":\"Negative\",\"x\":[\"2022-12-14T16:00:00+00:00\",\"2022-12-14T17:00:00+00:00\",\"2022-12-14T18:00:00+00:00\",\"2022-12-14T19:00:00+00:00\",\"2022-12-14T20:00:00+00:00\",\"2022-12-14T21:00:00+00:00\",\"2022-12-14T22:00:00+00:00\",\"2022-12-14T23:00:00+00:00\"],\"y\":[0.06656552863436123,0.061848,0.03233582754320328,0.02923401542678651,0.036520576131687243,0.027363093597869016,0.028887391610030465,0.0274899277841125],\"type\":\"scatter\",\"connectgaps\":true},{\"fillcolor\":\"green\",\"name\":\"Positive\",\"x\":[\"2022-12-14T16:00:00+00:00\",\"2022-12-14T17:00:00+00:00\",\"2022-12-14T18:00:00+00:00\",\"2022-12-14T19:00:00+00:00\",\"2022-12-14T20:00:00+00:00\",\"2022-12-14T21:00:00+00:00\",\"2022-12-14T22:00:00+00:00\",\"2022-12-14T23:00:00+00:00\"],\"y\":[0.09807819383259912,0.095577,0.11173926598966684,0.0949943902594505,0.10689300411522634,0.12661504546707084,0.09651218654792594,0.07947814519194223],\"type\":\"scatter\",\"connectgaps\":true},{\"line\":{\"color\":\"orange\"},\"name\":\"Neutral\",\"x\":[\"2022-12-14T16:00:00+00:00\",\"2022-12-14T17:00:00+00:00\",\"2022-12-14T18:00:00+00:00\",\"2022-12-14T19:00:00+00:00\",\"2022-12-14T20:00:00+00:00\",\"2022-12-14T21:00:00+00:00\",\"2022-12-14T22:00:00+00:00\",\"2022-12-14T23:00:00+00:00\"],\"y\":[0.8353705947136564,0.842577,0.8559275788348477,0.8757742079428826,0.8565839664450776,0.8460151556902727,0.8745952659948442,0.8930296465222349],\"type\":\"scatter\",\"connectgaps\":true}],                        {\"template\":{\"data\":{\"histogram2dcontour\":[{\"type\":\"histogram2dcontour\",\"colorbar\":{\"outlinewidth\":0,\"ticks\":\"\"},\"colorscale\":[[0.0,\"#0d0887\"],[0.1111111111111111,\"#46039f\"],[0.2222222222222222,\"#7201a8\"],[0.3333333333333333,\"#9c179e\"],[0.4444444444444444,\"#bd3786\"],[0.5555555555555556,\"#d8576b\"],[0.6666666666666666,\"#ed7953\"],[0.7777777777777778,\"#fb9f3a\"],[0.8888888888888888,\"#fdca26\"],[1.0,\"#f0f921\"]]}],\"choropleth\":[{\"type\":\"choropleth\",\"colorbar\":{\"outlinewidth\":0,\"ticks\":\"\"}}],\"histogram2d\":[{\"type\":\"histogram2d\",\"colorbar\":{\"outlinewidth\":0,\"ticks\":\"\"},\"colorscale\":[[0.0,\"#0d0887\"],[0.1111111111111111,\"#46039f\"],[0.2222222222222222,\"#7201a8\"],[0.3333333333333333,\"#9c179e\"],[0.4444444444444444,\"#bd3786\"],[0.5555555555555556,\"#d8576b\"],[0.6666666666666666,\"#ed7953\"],[0.7777777777777778,\"#fb9f3a\"],[0.8888888888888888,\"#fdca26\"],[1.0,\"#f0f921\"]]}],\"heatmap\":[{\"type\":\"heatmap\",\"colorbar\":{\"outlinewidth\":0,\"ticks\":\"\"},\"colorscale\":[[0.0,\"#0d0887\"],[0.1111111111111111,\"#46039f\"],[0.2222222222222222,\"#7201a8\"],[0.3333333333333333,\"#9c179e\"],[0.4444444444444444,\"#bd3786\"],[0.5555555555555556,\"#d8576b\"],[0.6666666666666666,\"#ed7953\"],[0.7777777777777778,\"#fb9f3a\"],[0.8888888888888888,\"#fdca26\"],[1.0,\"#f0f921\"]]}],\"heatmapgl\":[{\"type\":\"heatmapgl\",\"colorbar\":{\"outlinewidth\":0,\"ticks\":\"\"},\"colorscale\":[[0.0,\"#0d0887\"],[0.1111111111111111,\"#46039f\"],[0.2222222222222222,\"#7201a8\"],[0.3333333333333333,\"#9c179e\"],[0.4444444444444444,\"#bd3786\"],[0.5555555555555556,\"#d8576b\"],[0.6666666666666666,\"#ed7953\"],[0.7777777777777778,\"#fb9f3a\"],[0.8888888888888888,\"#fdca26\"],[1.0,\"#f0f921\"]]}],\"contourcarpet\":[{\"type\":\"contourcarpet\",\"colorbar\":{\"outlinewidth\":0,\"ticks\":\"\"}}],\"contour\":[{\"type\":\"contour\",\"colorbar\":{\"outlinewidth\":0,\"ticks\":\"\"},\"colorscale\":[[0.0,\"#0d0887\"],[0.1111111111111111,\"#46039f\"],[0.2222222222222222,\"#7201a8\"],[0.3333333333333333,\"#9c179e\"],[0.4444444444444444,\"#bd3786\"],[0.5555555555555556,\"#d8576b\"],[0.6666666666666666,\"#ed7953\"],[0.7777777777777778,\"#fb9f3a\"],[0.8888888888888888,\"#fdca26\"],[1.0,\"#f0f921\"]]}],\"surface\":[{\"type\":\"surface\",\"colorbar\":{\"outlinewidth\":0,\"ticks\":\"\"},\"colorscale\":[[0.0,\"#0d0887\"],[0.1111111111111111,\"#46039f\"],[0.2222222222222222,\"#7201a8\"],[0.3333333333333333,\"#9c179e\"],[0.4444444444444444,\"#bd3786\"],[0.5555555555555556,\"#d8576b\"],[0.6666666666666666,\"#ed7953\"],[0.7777777777777778,\"#fb9f3a\"],[0.8888888888888888,\"#fdca26\"],[1.0,\"#f0f921\"]]}],\"mesh3d\":[{\"type\":\"mesh3d\",\"colorbar\":{\"outlinewidth\":0,\"ticks\":\"\"}}],\"scatter\":[{\"fillpattern\":{\"fillmode\":\"overlay\",\"size\":10,\"solidity\":0.2},\"type\":\"scatter\"}],\"parcoords\":[{\"type\":\"parcoords\",\"line\":{\"colorbar\":{\"outlinewidth\":0,\"ticks\":\"\"}}}],\"scatterpolargl\":[{\"type\":\"scatterpolargl\",\"marker\":{\"colorbar\":{\"outlinewidth\":0,\"ticks\":\"\"}}}],\"bar\":[{\"error_x\":{\"color\":\"#2a3f5f\"},\"error_y\":{\"color\":\"#2a3f5f\"},\"marker\":{\"line\":{\"color\":\"#E5ECF6\",\"width\":0.5},\"pattern\":{\"fillmode\":\"overlay\",\"size\":10,\"solidity\":0.2}},\"type\":\"bar\"}],\"scattergeo\":[{\"type\":\"scattergeo\",\"marker\":{\"colorbar\":{\"outlinewidth\":0,\"ticks\":\"\"}}}],\"scatterpolar\":[{\"type\":\"scatterpolar\",\"marker\":{\"colorbar\":{\"outlinewidth\":0,\"ticks\":\"\"}}}],\"histogram\":[{\"marker\":{\"pattern\":{\"fillmode\":\"overlay\",\"size\":10,\"solidity\":0.2}},\"type\":\"histogram\"}],\"scattergl\":[{\"type\":\"scattergl\",\"marker\":{\"colorbar\":{\"outlinewidth\":0,\"ticks\":\"\"}}}],\"scatter3d\":[{\"type\":\"scatter3d\",\"line\":{\"colorbar\":{\"outlinewidth\":0,\"ticks\":\"\"}},\"marker\":{\"colorbar\":{\"outlinewidth\":0,\"ticks\":\"\"}}}],\"scattermapbox\":[{\"type\":\"scattermapbox\",\"marker\":{\"colorbar\":{\"outlinewidth\":0,\"ticks\":\"\"}}}],\"scatterternary\":[{\"type\":\"scatterternary\",\"marker\":{\"colorbar\":{\"outlinewidth\":0,\"ticks\":\"\"}}}],\"scattercarpet\":[{\"type\":\"scattercarpet\",\"marker\":{\"colorbar\":{\"outlinewidth\":0,\"ticks\":\"\"}}}],\"carpet\":[{\"aaxis\":{\"endlinecolor\":\"#2a3f5f\",\"gridcolor\":\"white\",\"linecolor\":\"white\",\"minorgridcolor\":\"white\",\"startlinecolor\":\"#2a3f5f\"},\"baxis\":{\"endlinecolor\":\"#2a3f5f\",\"gridcolor\":\"white\",\"linecolor\":\"white\",\"minorgridcolor\":\"white\",\"startlinecolor\":\"#2a3f5f\"},\"type\":\"carpet\"}],\"table\":[{\"cells\":{\"fill\":{\"color\":\"#EBF0F8\"},\"line\":{\"color\":\"white\"}},\"header\":{\"fill\":{\"color\":\"#C8D4E3\"},\"line\":{\"color\":\"white\"}},\"type\":\"table\"}],\"barpolar\":[{\"marker\":{\"line\":{\"color\":\"#E5ECF6\",\"width\":0.5},\"pattern\":{\"fillmode\":\"overlay\",\"size\":10,\"solidity\":0.2}},\"type\":\"barpolar\"}],\"pie\":[{\"automargin\":true,\"type\":\"pie\"}]},\"layout\":{\"autotypenumbers\":\"strict\",\"colorway\":[\"#636efa\",\"#EF553B\",\"#00cc96\",\"#ab63fa\",\"#FFA15A\",\"#19d3f3\",\"#FF6692\",\"#B6E880\",\"#FF97FF\",\"#FECB52\"],\"font\":{\"color\":\"#2a3f5f\"},\"hovermode\":\"closest\",\"hoverlabel\":{\"align\":\"left\"},\"paper_bgcolor\":\"white\",\"plot_bgcolor\":\"#E5ECF6\",\"polar\":{\"bgcolor\":\"#E5ECF6\",\"angularaxis\":{\"gridcolor\":\"white\",\"linecolor\":\"white\",\"ticks\":\"\"},\"radialaxis\":{\"gridcolor\":\"white\",\"linecolor\":\"white\",\"ticks\":\"\"}},\"ternary\":{\"bgcolor\":\"#E5ECF6\",\"aaxis\":{\"gridcolor\":\"white\",\"linecolor\":\"white\",\"ticks\":\"\"},\"baxis\":{\"gridcolor\":\"white\",\"linecolor\":\"white\",\"ticks\":\"\"},\"caxis\":{\"gridcolor\":\"white\",\"linecolor\":\"white\",\"ticks\":\"\"}},\"coloraxis\":{\"colorbar\":{\"outlinewidth\":0,\"ticks\":\"\"}},\"colorscale\":{\"sequential\":[[0.0,\"#0d0887\"],[0.1111111111111111,\"#46039f\"],[0.2222222222222222,\"#7201a8\"],[0.3333333333333333,\"#9c179e\"],[0.4444444444444444,\"#bd3786\"],[0.5555555555555556,\"#d8576b\"],[0.6666666666666666,\"#ed7953\"],[0.7777777777777778,\"#fb9f3a\"],[0.8888888888888888,\"#fdca26\"],[1.0,\"#f0f921\"]],\"sequentialminus\":[[0.0,\"#0d0887\"],[0.1111111111111111,\"#46039f\"],[0.2222222222222222,\"#7201a8\"],[0.3333333333333333,\"#9c179e\"],[0.4444444444444444,\"#bd3786\"],[0.5555555555555556,\"#d8576b\"],[0.6666666666666666,\"#ed7953\"],[0.7777777777777778,\"#fb9f3a\"],[0.8888888888888888,\"#fdca26\"],[1.0,\"#f0f921\"]],\"diverging\":[[0,\"#8e0152\"],[0.1,\"#c51b7d\"],[0.2,\"#de77ae\"],[0.3,\"#f1b6da\"],[0.4,\"#fde0ef\"],[0.5,\"#f7f7f7\"],[0.6,\"#e6f5d0\"],[0.7,\"#b8e186\"],[0.8,\"#7fbc41\"],[0.9,\"#4d9221\"],[1,\"#276419\"]]},\"xaxis\":{\"gridcolor\":\"white\",\"linecolor\":\"white\",\"ticks\":\"\",\"title\":{\"standoff\":15},\"zerolinecolor\":\"white\",\"automargin\":true,\"zerolinewidth\":2},\"yaxis\":{\"gridcolor\":\"white\",\"linecolor\":\"white\",\"ticks\":\"\",\"title\":{\"standoff\":15},\"zerolinecolor\":\"white\",\"automargin\":true,\"zerolinewidth\":2},\"scene\":{\"xaxis\":{\"backgroundcolor\":\"#E5ECF6\",\"gridcolor\":\"white\",\"linecolor\":\"white\",\"showbackground\":true,\"ticks\":\"\",\"zerolinecolor\":\"white\",\"gridwidth\":2},\"yaxis\":{\"backgroundcolor\":\"#E5ECF6\",\"gridcolor\":\"white\",\"linecolor\":\"white\",\"showbackground\":true,\"ticks\":\"\",\"zerolinecolor\":\"white\",\"gridwidth\":2},\"zaxis\":{\"backgroundcolor\":\"#E5ECF6\",\"gridcolor\":\"white\",\"linecolor\":\"white\",\"showbackground\":true,\"ticks\":\"\",\"zerolinecolor\":\"white\",\"gridwidth\":2}},\"shapedefaults\":{\"line\":{\"color\":\"#2a3f5f\"}},\"annotationdefaults\":{\"arrowcolor\":\"#2a3f5f\",\"arrowhead\":0,\"arrowwidth\":1},\"geo\":{\"bgcolor\":\"white\",\"landcolor\":\"#E5ECF6\",\"subunitcolor\":\"white\",\"showland\":true,\"showlakes\":true,\"lakecolor\":\"white\"},\"title\":{\"x\":0.05},\"mapbox\":{\"style\":\"light\"}}},\"title\":{\"text\":\"VADER sentiment scores, rolling hourly average, 2022-12-14\"},\"xaxis\":{\"title\":{\"text\":\"Tweet posted at\"}},\"yaxis\":{\"title\":{\"text\":\"VADER sentiment score\"}},\"legend\":{\"title\":{\"text\":\"Sentiment type\"}}},                        {\"responsive\": true}                    ).then(function(){\n",
       "                            \n",
       "var gd = document.getElementById('f7772f14-2245-4c4a-9c0b-ca655dc17282');\n",
       "var x = new MutationObserver(function (mutations, observer) {{\n",
       "        var display = window.getComputedStyle(gd).display;\n",
       "        if (!display || display === 'none') {{\n",
       "            console.log([gd, 'removed!']);\n",
       "            Plotly.purge(gd);\n",
       "            observer.disconnect();\n",
       "        }}\n",
       "}});\n",
       "\n",
       "// Listen for the removal of the full notebook cells\n",
       "var notebookContainer = gd.closest('#notebook-container');\n",
       "if (notebookContainer) {{\n",
       "    x.observe(notebookContainer, {childList: true});\n",
       "}}\n",
       "\n",
       "// Listen for the clearing of the current output cell\n",
       "var outputEl = gd.closest('.output');\n",
       "if (outputEl) {{\n",
       "    x.observe(outputEl, {childList: true});\n",
       "}}\n",
       "\n",
       "                        })                };                });            </script>        </div>"
      ]
     },
     "metadata": {},
     "output_type": "display_data"
    },
    {
     "data": {
      "application/vnd.plotly.v1+json": {
       "config": {
        "plotlyServerURL": "https://plot.ly"
       },
       "data": [
        {
         "connectgaps": true,
         "line": {
          "color": "blue",
          "width": 3.5
         },
         "name": "Compound",
         "type": "scatter",
         "x": [
          "2022-12-18T14:00:00+00:00",
          "2022-12-18T15:00:00+00:00",
          "2022-12-18T16:00:00+00:00",
          "2022-12-18T17:00:00+00:00",
          "2022-12-18T18:00:00+00:00",
          "2022-12-18T19:00:00+00:00",
          "2022-12-18T20:00:00+00:00"
         ],
         "y": [
          0.2622930180875363,
          0.1379899771488043,
          0.12748507462686567,
          0.4298324661460907,
          0.35593490269199396,
          0.3778287967862042,
          0.30974804878048784
         ]
        },
        {
         "connectgaps": true,
         "fillcolor": "red",
         "name": "Negative",
         "type": "scatter",
         "x": [
          "2022-12-18T14:00:00+00:00",
          "2022-12-18T15:00:00+00:00",
          "2022-12-18T16:00:00+00:00",
          "2022-12-18T17:00:00+00:00",
          "2022-12-18T18:00:00+00:00",
          "2022-12-18T19:00:00+00:00",
          "2022-12-18T20:00:00+00:00"
         ],
         "y": [
          0.024886783134761406,
          0.07660528518744768,
          0.0495575082075758,
          0.0194925175447267,
          0.03648152895932875,
          0.0340697628845777,
          0.04960975609756098
         ]
        },
        {
         "connectgaps": true,
         "fillcolor": "green",
         "name": "Positive",
         "type": "scatter",
         "x": [
          "2022-12-18T14:00:00+00:00",
          "2022-12-18T15:00:00+00:00",
          "2022-12-18T16:00:00+00:00",
          "2022-12-18T17:00:00+00:00",
          "2022-12-18T18:00:00+00:00",
          "2022-12-18T19:00:00+00:00",
          "2022-12-18T20:00:00+00:00"
         ],
         "y": [
          0.12191999506142354,
          0.0865039933030159,
          0.0820557563384556,
          0.2525828012256598,
          0.20283043934273395,
          0.23878924162257498,
          0.19907073170731707
         ]
        },
        {
         "connectgaps": true,
         "line": {
          "color": "orange"
         },
         "name": "Neutral",
         "type": "scatter",
         "x": [
          "2022-12-18T14:00:00+00:00",
          "2022-12-18T15:00:00+00:00",
          "2022-12-18T16:00:00+00:00",
          "2022-12-18T17:00:00+00:00",
          "2022-12-18T18:00:00+00:00",
          "2022-12-18T19:00:00+00:00",
          "2022-12-18T20:00:00+00:00"
         ],
         "y": [
          0.8531853200814865,
          0.836887712391683,
          0.8683796452120175,
          0.727921755461105,
          0.7606859340403216,
          0.7271882226141485,
          0.7514195121951219
         ]
        }
       ],
       "layout": {
        "legend": {
         "title": {
          "text": "Sentiment type"
         }
        },
        "template": {
         "data": {
          "bar": [
           {
            "error_x": {
             "color": "#2a3f5f"
            },
            "error_y": {
             "color": "#2a3f5f"
            },
            "marker": {
             "line": {
              "color": "#E5ECF6",
              "width": 0.5
             },
             "pattern": {
              "fillmode": "overlay",
              "size": 10,
              "solidity": 0.2
             }
            },
            "type": "bar"
           }
          ],
          "barpolar": [
           {
            "marker": {
             "line": {
              "color": "#E5ECF6",
              "width": 0.5
             },
             "pattern": {
              "fillmode": "overlay",
              "size": 10,
              "solidity": 0.2
             }
            },
            "type": "barpolar"
           }
          ],
          "carpet": [
           {
            "aaxis": {
             "endlinecolor": "#2a3f5f",
             "gridcolor": "white",
             "linecolor": "white",
             "minorgridcolor": "white",
             "startlinecolor": "#2a3f5f"
            },
            "baxis": {
             "endlinecolor": "#2a3f5f",
             "gridcolor": "white",
             "linecolor": "white",
             "minorgridcolor": "white",
             "startlinecolor": "#2a3f5f"
            },
            "type": "carpet"
           }
          ],
          "choropleth": [
           {
            "colorbar": {
             "outlinewidth": 0,
             "ticks": ""
            },
            "type": "choropleth"
           }
          ],
          "contour": [
           {
            "colorbar": {
             "outlinewidth": 0,
             "ticks": ""
            },
            "colorscale": [
             [
              0,
              "#0d0887"
             ],
             [
              0.1111111111111111,
              "#46039f"
             ],
             [
              0.2222222222222222,
              "#7201a8"
             ],
             [
              0.3333333333333333,
              "#9c179e"
             ],
             [
              0.4444444444444444,
              "#bd3786"
             ],
             [
              0.5555555555555556,
              "#d8576b"
             ],
             [
              0.6666666666666666,
              "#ed7953"
             ],
             [
              0.7777777777777778,
              "#fb9f3a"
             ],
             [
              0.8888888888888888,
              "#fdca26"
             ],
             [
              1,
              "#f0f921"
             ]
            ],
            "type": "contour"
           }
          ],
          "contourcarpet": [
           {
            "colorbar": {
             "outlinewidth": 0,
             "ticks": ""
            },
            "type": "contourcarpet"
           }
          ],
          "heatmap": [
           {
            "colorbar": {
             "outlinewidth": 0,
             "ticks": ""
            },
            "colorscale": [
             [
              0,
              "#0d0887"
             ],
             [
              0.1111111111111111,
              "#46039f"
             ],
             [
              0.2222222222222222,
              "#7201a8"
             ],
             [
              0.3333333333333333,
              "#9c179e"
             ],
             [
              0.4444444444444444,
              "#bd3786"
             ],
             [
              0.5555555555555556,
              "#d8576b"
             ],
             [
              0.6666666666666666,
              "#ed7953"
             ],
             [
              0.7777777777777778,
              "#fb9f3a"
             ],
             [
              0.8888888888888888,
              "#fdca26"
             ],
             [
              1,
              "#f0f921"
             ]
            ],
            "type": "heatmap"
           }
          ],
          "heatmapgl": [
           {
            "colorbar": {
             "outlinewidth": 0,
             "ticks": ""
            },
            "colorscale": [
             [
              0,
              "#0d0887"
             ],
             [
              0.1111111111111111,
              "#46039f"
             ],
             [
              0.2222222222222222,
              "#7201a8"
             ],
             [
              0.3333333333333333,
              "#9c179e"
             ],
             [
              0.4444444444444444,
              "#bd3786"
             ],
             [
              0.5555555555555556,
              "#d8576b"
             ],
             [
              0.6666666666666666,
              "#ed7953"
             ],
             [
              0.7777777777777778,
              "#fb9f3a"
             ],
             [
              0.8888888888888888,
              "#fdca26"
             ],
             [
              1,
              "#f0f921"
             ]
            ],
            "type": "heatmapgl"
           }
          ],
          "histogram": [
           {
            "marker": {
             "pattern": {
              "fillmode": "overlay",
              "size": 10,
              "solidity": 0.2
             }
            },
            "type": "histogram"
           }
          ],
          "histogram2d": [
           {
            "colorbar": {
             "outlinewidth": 0,
             "ticks": ""
            },
            "colorscale": [
             [
              0,
              "#0d0887"
             ],
             [
              0.1111111111111111,
              "#46039f"
             ],
             [
              0.2222222222222222,
              "#7201a8"
             ],
             [
              0.3333333333333333,
              "#9c179e"
             ],
             [
              0.4444444444444444,
              "#bd3786"
             ],
             [
              0.5555555555555556,
              "#d8576b"
             ],
             [
              0.6666666666666666,
              "#ed7953"
             ],
             [
              0.7777777777777778,
              "#fb9f3a"
             ],
             [
              0.8888888888888888,
              "#fdca26"
             ],
             [
              1,
              "#f0f921"
             ]
            ],
            "type": "histogram2d"
           }
          ],
          "histogram2dcontour": [
           {
            "colorbar": {
             "outlinewidth": 0,
             "ticks": ""
            },
            "colorscale": [
             [
              0,
              "#0d0887"
             ],
             [
              0.1111111111111111,
              "#46039f"
             ],
             [
              0.2222222222222222,
              "#7201a8"
             ],
             [
              0.3333333333333333,
              "#9c179e"
             ],
             [
              0.4444444444444444,
              "#bd3786"
             ],
             [
              0.5555555555555556,
              "#d8576b"
             ],
             [
              0.6666666666666666,
              "#ed7953"
             ],
             [
              0.7777777777777778,
              "#fb9f3a"
             ],
             [
              0.8888888888888888,
              "#fdca26"
             ],
             [
              1,
              "#f0f921"
             ]
            ],
            "type": "histogram2dcontour"
           }
          ],
          "mesh3d": [
           {
            "colorbar": {
             "outlinewidth": 0,
             "ticks": ""
            },
            "type": "mesh3d"
           }
          ],
          "parcoords": [
           {
            "line": {
             "colorbar": {
              "outlinewidth": 0,
              "ticks": ""
             }
            },
            "type": "parcoords"
           }
          ],
          "pie": [
           {
            "automargin": true,
            "type": "pie"
           }
          ],
          "scatter": [
           {
            "fillpattern": {
             "fillmode": "overlay",
             "size": 10,
             "solidity": 0.2
            },
            "type": "scatter"
           }
          ],
          "scatter3d": [
           {
            "line": {
             "colorbar": {
              "outlinewidth": 0,
              "ticks": ""
             }
            },
            "marker": {
             "colorbar": {
              "outlinewidth": 0,
              "ticks": ""
             }
            },
            "type": "scatter3d"
           }
          ],
          "scattercarpet": [
           {
            "marker": {
             "colorbar": {
              "outlinewidth": 0,
              "ticks": ""
             }
            },
            "type": "scattercarpet"
           }
          ],
          "scattergeo": [
           {
            "marker": {
             "colorbar": {
              "outlinewidth": 0,
              "ticks": ""
             }
            },
            "type": "scattergeo"
           }
          ],
          "scattergl": [
           {
            "marker": {
             "colorbar": {
              "outlinewidth": 0,
              "ticks": ""
             }
            },
            "type": "scattergl"
           }
          ],
          "scattermapbox": [
           {
            "marker": {
             "colorbar": {
              "outlinewidth": 0,
              "ticks": ""
             }
            },
            "type": "scattermapbox"
           }
          ],
          "scatterpolar": [
           {
            "marker": {
             "colorbar": {
              "outlinewidth": 0,
              "ticks": ""
             }
            },
            "type": "scatterpolar"
           }
          ],
          "scatterpolargl": [
           {
            "marker": {
             "colorbar": {
              "outlinewidth": 0,
              "ticks": ""
             }
            },
            "type": "scatterpolargl"
           }
          ],
          "scatterternary": [
           {
            "marker": {
             "colorbar": {
              "outlinewidth": 0,
              "ticks": ""
             }
            },
            "type": "scatterternary"
           }
          ],
          "surface": [
           {
            "colorbar": {
             "outlinewidth": 0,
             "ticks": ""
            },
            "colorscale": [
             [
              0,
              "#0d0887"
             ],
             [
              0.1111111111111111,
              "#46039f"
             ],
             [
              0.2222222222222222,
              "#7201a8"
             ],
             [
              0.3333333333333333,
              "#9c179e"
             ],
             [
              0.4444444444444444,
              "#bd3786"
             ],
             [
              0.5555555555555556,
              "#d8576b"
             ],
             [
              0.6666666666666666,
              "#ed7953"
             ],
             [
              0.7777777777777778,
              "#fb9f3a"
             ],
             [
              0.8888888888888888,
              "#fdca26"
             ],
             [
              1,
              "#f0f921"
             ]
            ],
            "type": "surface"
           }
          ],
          "table": [
           {
            "cells": {
             "fill": {
              "color": "#EBF0F8"
             },
             "line": {
              "color": "white"
             }
            },
            "header": {
             "fill": {
              "color": "#C8D4E3"
             },
             "line": {
              "color": "white"
             }
            },
            "type": "table"
           }
          ]
         },
         "layout": {
          "annotationdefaults": {
           "arrowcolor": "#2a3f5f",
           "arrowhead": 0,
           "arrowwidth": 1
          },
          "autotypenumbers": "strict",
          "coloraxis": {
           "colorbar": {
            "outlinewidth": 0,
            "ticks": ""
           }
          },
          "colorscale": {
           "diverging": [
            [
             0,
             "#8e0152"
            ],
            [
             0.1,
             "#c51b7d"
            ],
            [
             0.2,
             "#de77ae"
            ],
            [
             0.3,
             "#f1b6da"
            ],
            [
             0.4,
             "#fde0ef"
            ],
            [
             0.5,
             "#f7f7f7"
            ],
            [
             0.6,
             "#e6f5d0"
            ],
            [
             0.7,
             "#b8e186"
            ],
            [
             0.8,
             "#7fbc41"
            ],
            [
             0.9,
             "#4d9221"
            ],
            [
             1,
             "#276419"
            ]
           ],
           "sequential": [
            [
             0,
             "#0d0887"
            ],
            [
             0.1111111111111111,
             "#46039f"
            ],
            [
             0.2222222222222222,
             "#7201a8"
            ],
            [
             0.3333333333333333,
             "#9c179e"
            ],
            [
             0.4444444444444444,
             "#bd3786"
            ],
            [
             0.5555555555555556,
             "#d8576b"
            ],
            [
             0.6666666666666666,
             "#ed7953"
            ],
            [
             0.7777777777777778,
             "#fb9f3a"
            ],
            [
             0.8888888888888888,
             "#fdca26"
            ],
            [
             1,
             "#f0f921"
            ]
           ],
           "sequentialminus": [
            [
             0,
             "#0d0887"
            ],
            [
             0.1111111111111111,
             "#46039f"
            ],
            [
             0.2222222222222222,
             "#7201a8"
            ],
            [
             0.3333333333333333,
             "#9c179e"
            ],
            [
             0.4444444444444444,
             "#bd3786"
            ],
            [
             0.5555555555555556,
             "#d8576b"
            ],
            [
             0.6666666666666666,
             "#ed7953"
            ],
            [
             0.7777777777777778,
             "#fb9f3a"
            ],
            [
             0.8888888888888888,
             "#fdca26"
            ],
            [
             1,
             "#f0f921"
            ]
           ]
          },
          "colorway": [
           "#636efa",
           "#EF553B",
           "#00cc96",
           "#ab63fa",
           "#FFA15A",
           "#19d3f3",
           "#FF6692",
           "#B6E880",
           "#FF97FF",
           "#FECB52"
          ],
          "font": {
           "color": "#2a3f5f"
          },
          "geo": {
           "bgcolor": "white",
           "lakecolor": "white",
           "landcolor": "#E5ECF6",
           "showlakes": true,
           "showland": true,
           "subunitcolor": "white"
          },
          "hoverlabel": {
           "align": "left"
          },
          "hovermode": "closest",
          "mapbox": {
           "style": "light"
          },
          "paper_bgcolor": "white",
          "plot_bgcolor": "#E5ECF6",
          "polar": {
           "angularaxis": {
            "gridcolor": "white",
            "linecolor": "white",
            "ticks": ""
           },
           "bgcolor": "#E5ECF6",
           "radialaxis": {
            "gridcolor": "white",
            "linecolor": "white",
            "ticks": ""
           }
          },
          "scene": {
           "xaxis": {
            "backgroundcolor": "#E5ECF6",
            "gridcolor": "white",
            "gridwidth": 2,
            "linecolor": "white",
            "showbackground": true,
            "ticks": "",
            "zerolinecolor": "white"
           },
           "yaxis": {
            "backgroundcolor": "#E5ECF6",
            "gridcolor": "white",
            "gridwidth": 2,
            "linecolor": "white",
            "showbackground": true,
            "ticks": "",
            "zerolinecolor": "white"
           },
           "zaxis": {
            "backgroundcolor": "#E5ECF6",
            "gridcolor": "white",
            "gridwidth": 2,
            "linecolor": "white",
            "showbackground": true,
            "ticks": "",
            "zerolinecolor": "white"
           }
          },
          "shapedefaults": {
           "line": {
            "color": "#2a3f5f"
           }
          },
          "ternary": {
           "aaxis": {
            "gridcolor": "white",
            "linecolor": "white",
            "ticks": ""
           },
           "baxis": {
            "gridcolor": "white",
            "linecolor": "white",
            "ticks": ""
           },
           "bgcolor": "#E5ECF6",
           "caxis": {
            "gridcolor": "white",
            "linecolor": "white",
            "ticks": ""
           }
          },
          "title": {
           "x": 0.05
          },
          "xaxis": {
           "automargin": true,
           "gridcolor": "white",
           "linecolor": "white",
           "ticks": "",
           "title": {
            "standoff": 15
           },
           "zerolinecolor": "white",
           "zerolinewidth": 2
          },
          "yaxis": {
           "automargin": true,
           "gridcolor": "white",
           "linecolor": "white",
           "ticks": "",
           "title": {
            "standoff": 15
           },
           "zerolinecolor": "white",
           "zerolinewidth": 2
          }
         }
        },
        "title": {
         "text": "VADER sentiment scores, rolling hourly average, 2022-12-18"
        },
        "xaxis": {
         "title": {
          "text": "Tweet posted at"
         }
        },
        "yaxis": {
         "title": {
          "text": "VADER sentiment score"
         }
        }
       }
      },
      "text/html": [
       "<div>                            <div id=\"c08f2f23-ebf7-4b04-a50f-ced5a5a14220\" class=\"plotly-graph-div\" style=\"height:525px; width:100%;\"></div>            <script type=\"text/javascript\">                require([\"plotly\"], function(Plotly) {                    window.PLOTLYENV=window.PLOTLYENV || {};                                    if (document.getElementById(\"c08f2f23-ebf7-4b04-a50f-ced5a5a14220\")) {                    Plotly.newPlot(                        \"c08f2f23-ebf7-4b04-a50f-ced5a5a14220\",                        [{\"line\":{\"color\":\"blue\",\"width\":3.5},\"name\":\"Compound\",\"x\":[\"2022-12-18T14:00:00+00:00\",\"2022-12-18T15:00:00+00:00\",\"2022-12-18T16:00:00+00:00\",\"2022-12-18T17:00:00+00:00\",\"2022-12-18T18:00:00+00:00\",\"2022-12-18T19:00:00+00:00\",\"2022-12-18T20:00:00+00:00\"],\"y\":[0.2622930180875363,0.1379899771488043,0.12748507462686567,0.4298324661460907,0.35593490269199396,0.3778287967862042,0.30974804878048784],\"type\":\"scatter\",\"connectgaps\":true},{\"fillcolor\":\"red\",\"name\":\"Negative\",\"x\":[\"2022-12-18T14:00:00+00:00\",\"2022-12-18T15:00:00+00:00\",\"2022-12-18T16:00:00+00:00\",\"2022-12-18T17:00:00+00:00\",\"2022-12-18T18:00:00+00:00\",\"2022-12-18T19:00:00+00:00\",\"2022-12-18T20:00:00+00:00\"],\"y\":[0.024886783134761406,0.07660528518744768,0.0495575082075758,0.0194925175447267,0.03648152895932875,0.0340697628845777,0.04960975609756098],\"type\":\"scatter\",\"connectgaps\":true},{\"fillcolor\":\"green\",\"name\":\"Positive\",\"x\":[\"2022-12-18T14:00:00+00:00\",\"2022-12-18T15:00:00+00:00\",\"2022-12-18T16:00:00+00:00\",\"2022-12-18T17:00:00+00:00\",\"2022-12-18T18:00:00+00:00\",\"2022-12-18T19:00:00+00:00\",\"2022-12-18T20:00:00+00:00\"],\"y\":[0.12191999506142354,0.0865039933030159,0.0820557563384556,0.2525828012256598,0.20283043934273395,0.23878924162257498,0.19907073170731707],\"type\":\"scatter\",\"connectgaps\":true},{\"line\":{\"color\":\"orange\"},\"name\":\"Neutral\",\"x\":[\"2022-12-18T14:00:00+00:00\",\"2022-12-18T15:00:00+00:00\",\"2022-12-18T16:00:00+00:00\",\"2022-12-18T17:00:00+00:00\",\"2022-12-18T18:00:00+00:00\",\"2022-12-18T19:00:00+00:00\",\"2022-12-18T20:00:00+00:00\"],\"y\":[0.8531853200814865,0.836887712391683,0.8683796452120175,0.727921755461105,0.7606859340403216,0.7271882226141485,0.7514195121951219],\"type\":\"scatter\",\"connectgaps\":true}],                        {\"template\":{\"data\":{\"histogram2dcontour\":[{\"type\":\"histogram2dcontour\",\"colorbar\":{\"outlinewidth\":0,\"ticks\":\"\"},\"colorscale\":[[0.0,\"#0d0887\"],[0.1111111111111111,\"#46039f\"],[0.2222222222222222,\"#7201a8\"],[0.3333333333333333,\"#9c179e\"],[0.4444444444444444,\"#bd3786\"],[0.5555555555555556,\"#d8576b\"],[0.6666666666666666,\"#ed7953\"],[0.7777777777777778,\"#fb9f3a\"],[0.8888888888888888,\"#fdca26\"],[1.0,\"#f0f921\"]]}],\"choropleth\":[{\"type\":\"choropleth\",\"colorbar\":{\"outlinewidth\":0,\"ticks\":\"\"}}],\"histogram2d\":[{\"type\":\"histogram2d\",\"colorbar\":{\"outlinewidth\":0,\"ticks\":\"\"},\"colorscale\":[[0.0,\"#0d0887\"],[0.1111111111111111,\"#46039f\"],[0.2222222222222222,\"#7201a8\"],[0.3333333333333333,\"#9c179e\"],[0.4444444444444444,\"#bd3786\"],[0.5555555555555556,\"#d8576b\"],[0.6666666666666666,\"#ed7953\"],[0.7777777777777778,\"#fb9f3a\"],[0.8888888888888888,\"#fdca26\"],[1.0,\"#f0f921\"]]}],\"heatmap\":[{\"type\":\"heatmap\",\"colorbar\":{\"outlinewidth\":0,\"ticks\":\"\"},\"colorscale\":[[0.0,\"#0d0887\"],[0.1111111111111111,\"#46039f\"],[0.2222222222222222,\"#7201a8\"],[0.3333333333333333,\"#9c179e\"],[0.4444444444444444,\"#bd3786\"],[0.5555555555555556,\"#d8576b\"],[0.6666666666666666,\"#ed7953\"],[0.7777777777777778,\"#fb9f3a\"],[0.8888888888888888,\"#fdca26\"],[1.0,\"#f0f921\"]]}],\"heatmapgl\":[{\"type\":\"heatmapgl\",\"colorbar\":{\"outlinewidth\":0,\"ticks\":\"\"},\"colorscale\":[[0.0,\"#0d0887\"],[0.1111111111111111,\"#46039f\"],[0.2222222222222222,\"#7201a8\"],[0.3333333333333333,\"#9c179e\"],[0.4444444444444444,\"#bd3786\"],[0.5555555555555556,\"#d8576b\"],[0.6666666666666666,\"#ed7953\"],[0.7777777777777778,\"#fb9f3a\"],[0.8888888888888888,\"#fdca26\"],[1.0,\"#f0f921\"]]}],\"contourcarpet\":[{\"type\":\"contourcarpet\",\"colorbar\":{\"outlinewidth\":0,\"ticks\":\"\"}}],\"contour\":[{\"type\":\"contour\",\"colorbar\":{\"outlinewidth\":0,\"ticks\":\"\"},\"colorscale\":[[0.0,\"#0d0887\"],[0.1111111111111111,\"#46039f\"],[0.2222222222222222,\"#7201a8\"],[0.3333333333333333,\"#9c179e\"],[0.4444444444444444,\"#bd3786\"],[0.5555555555555556,\"#d8576b\"],[0.6666666666666666,\"#ed7953\"],[0.7777777777777778,\"#fb9f3a\"],[0.8888888888888888,\"#fdca26\"],[1.0,\"#f0f921\"]]}],\"surface\":[{\"type\":\"surface\",\"colorbar\":{\"outlinewidth\":0,\"ticks\":\"\"},\"colorscale\":[[0.0,\"#0d0887\"],[0.1111111111111111,\"#46039f\"],[0.2222222222222222,\"#7201a8\"],[0.3333333333333333,\"#9c179e\"],[0.4444444444444444,\"#bd3786\"],[0.5555555555555556,\"#d8576b\"],[0.6666666666666666,\"#ed7953\"],[0.7777777777777778,\"#fb9f3a\"],[0.8888888888888888,\"#fdca26\"],[1.0,\"#f0f921\"]]}],\"mesh3d\":[{\"type\":\"mesh3d\",\"colorbar\":{\"outlinewidth\":0,\"ticks\":\"\"}}],\"scatter\":[{\"fillpattern\":{\"fillmode\":\"overlay\",\"size\":10,\"solidity\":0.2},\"type\":\"scatter\"}],\"parcoords\":[{\"type\":\"parcoords\",\"line\":{\"colorbar\":{\"outlinewidth\":0,\"ticks\":\"\"}}}],\"scatterpolargl\":[{\"type\":\"scatterpolargl\",\"marker\":{\"colorbar\":{\"outlinewidth\":0,\"ticks\":\"\"}}}],\"bar\":[{\"error_x\":{\"color\":\"#2a3f5f\"},\"error_y\":{\"color\":\"#2a3f5f\"},\"marker\":{\"line\":{\"color\":\"#E5ECF6\",\"width\":0.5},\"pattern\":{\"fillmode\":\"overlay\",\"size\":10,\"solidity\":0.2}},\"type\":\"bar\"}],\"scattergeo\":[{\"type\":\"scattergeo\",\"marker\":{\"colorbar\":{\"outlinewidth\":0,\"ticks\":\"\"}}}],\"scatterpolar\":[{\"type\":\"scatterpolar\",\"marker\":{\"colorbar\":{\"outlinewidth\":0,\"ticks\":\"\"}}}],\"histogram\":[{\"marker\":{\"pattern\":{\"fillmode\":\"overlay\",\"size\":10,\"solidity\":0.2}},\"type\":\"histogram\"}],\"scattergl\":[{\"type\":\"scattergl\",\"marker\":{\"colorbar\":{\"outlinewidth\":0,\"ticks\":\"\"}}}],\"scatter3d\":[{\"type\":\"scatter3d\",\"line\":{\"colorbar\":{\"outlinewidth\":0,\"ticks\":\"\"}},\"marker\":{\"colorbar\":{\"outlinewidth\":0,\"ticks\":\"\"}}}],\"scattermapbox\":[{\"type\":\"scattermapbox\",\"marker\":{\"colorbar\":{\"outlinewidth\":0,\"ticks\":\"\"}}}],\"scatterternary\":[{\"type\":\"scatterternary\",\"marker\":{\"colorbar\":{\"outlinewidth\":0,\"ticks\":\"\"}}}],\"scattercarpet\":[{\"type\":\"scattercarpet\",\"marker\":{\"colorbar\":{\"outlinewidth\":0,\"ticks\":\"\"}}}],\"carpet\":[{\"aaxis\":{\"endlinecolor\":\"#2a3f5f\",\"gridcolor\":\"white\",\"linecolor\":\"white\",\"minorgridcolor\":\"white\",\"startlinecolor\":\"#2a3f5f\"},\"baxis\":{\"endlinecolor\":\"#2a3f5f\",\"gridcolor\":\"white\",\"linecolor\":\"white\",\"minorgridcolor\":\"white\",\"startlinecolor\":\"#2a3f5f\"},\"type\":\"carpet\"}],\"table\":[{\"cells\":{\"fill\":{\"color\":\"#EBF0F8\"},\"line\":{\"color\":\"white\"}},\"header\":{\"fill\":{\"color\":\"#C8D4E3\"},\"line\":{\"color\":\"white\"}},\"type\":\"table\"}],\"barpolar\":[{\"marker\":{\"line\":{\"color\":\"#E5ECF6\",\"width\":0.5},\"pattern\":{\"fillmode\":\"overlay\",\"size\":10,\"solidity\":0.2}},\"type\":\"barpolar\"}],\"pie\":[{\"automargin\":true,\"type\":\"pie\"}]},\"layout\":{\"autotypenumbers\":\"strict\",\"colorway\":[\"#636efa\",\"#EF553B\",\"#00cc96\",\"#ab63fa\",\"#FFA15A\",\"#19d3f3\",\"#FF6692\",\"#B6E880\",\"#FF97FF\",\"#FECB52\"],\"font\":{\"color\":\"#2a3f5f\"},\"hovermode\":\"closest\",\"hoverlabel\":{\"align\":\"left\"},\"paper_bgcolor\":\"white\",\"plot_bgcolor\":\"#E5ECF6\",\"polar\":{\"bgcolor\":\"#E5ECF6\",\"angularaxis\":{\"gridcolor\":\"white\",\"linecolor\":\"white\",\"ticks\":\"\"},\"radialaxis\":{\"gridcolor\":\"white\",\"linecolor\":\"white\",\"ticks\":\"\"}},\"ternary\":{\"bgcolor\":\"#E5ECF6\",\"aaxis\":{\"gridcolor\":\"white\",\"linecolor\":\"white\",\"ticks\":\"\"},\"baxis\":{\"gridcolor\":\"white\",\"linecolor\":\"white\",\"ticks\":\"\"},\"caxis\":{\"gridcolor\":\"white\",\"linecolor\":\"white\",\"ticks\":\"\"}},\"coloraxis\":{\"colorbar\":{\"outlinewidth\":0,\"ticks\":\"\"}},\"colorscale\":{\"sequential\":[[0.0,\"#0d0887\"],[0.1111111111111111,\"#46039f\"],[0.2222222222222222,\"#7201a8\"],[0.3333333333333333,\"#9c179e\"],[0.4444444444444444,\"#bd3786\"],[0.5555555555555556,\"#d8576b\"],[0.6666666666666666,\"#ed7953\"],[0.7777777777777778,\"#fb9f3a\"],[0.8888888888888888,\"#fdca26\"],[1.0,\"#f0f921\"]],\"sequentialminus\":[[0.0,\"#0d0887\"],[0.1111111111111111,\"#46039f\"],[0.2222222222222222,\"#7201a8\"],[0.3333333333333333,\"#9c179e\"],[0.4444444444444444,\"#bd3786\"],[0.5555555555555556,\"#d8576b\"],[0.6666666666666666,\"#ed7953\"],[0.7777777777777778,\"#fb9f3a\"],[0.8888888888888888,\"#fdca26\"],[1.0,\"#f0f921\"]],\"diverging\":[[0,\"#8e0152\"],[0.1,\"#c51b7d\"],[0.2,\"#de77ae\"],[0.3,\"#f1b6da\"],[0.4,\"#fde0ef\"],[0.5,\"#f7f7f7\"],[0.6,\"#e6f5d0\"],[0.7,\"#b8e186\"],[0.8,\"#7fbc41\"],[0.9,\"#4d9221\"],[1,\"#276419\"]]},\"xaxis\":{\"gridcolor\":\"white\",\"linecolor\":\"white\",\"ticks\":\"\",\"title\":{\"standoff\":15},\"zerolinecolor\":\"white\",\"automargin\":true,\"zerolinewidth\":2},\"yaxis\":{\"gridcolor\":\"white\",\"linecolor\":\"white\",\"ticks\":\"\",\"title\":{\"standoff\":15},\"zerolinecolor\":\"white\",\"automargin\":true,\"zerolinewidth\":2},\"scene\":{\"xaxis\":{\"backgroundcolor\":\"#E5ECF6\",\"gridcolor\":\"white\",\"linecolor\":\"white\",\"showbackground\":true,\"ticks\":\"\",\"zerolinecolor\":\"white\",\"gridwidth\":2},\"yaxis\":{\"backgroundcolor\":\"#E5ECF6\",\"gridcolor\":\"white\",\"linecolor\":\"white\",\"showbackground\":true,\"ticks\":\"\",\"zerolinecolor\":\"white\",\"gridwidth\":2},\"zaxis\":{\"backgroundcolor\":\"#E5ECF6\",\"gridcolor\":\"white\",\"linecolor\":\"white\",\"showbackground\":true,\"ticks\":\"\",\"zerolinecolor\":\"white\",\"gridwidth\":2}},\"shapedefaults\":{\"line\":{\"color\":\"#2a3f5f\"}},\"annotationdefaults\":{\"arrowcolor\":\"#2a3f5f\",\"arrowhead\":0,\"arrowwidth\":1},\"geo\":{\"bgcolor\":\"white\",\"landcolor\":\"#E5ECF6\",\"subunitcolor\":\"white\",\"showland\":true,\"showlakes\":true,\"lakecolor\":\"white\"},\"title\":{\"x\":0.05},\"mapbox\":{\"style\":\"light\"}}},\"title\":{\"text\":\"VADER sentiment scores, rolling hourly average, 2022-12-18\"},\"xaxis\":{\"title\":{\"text\":\"Tweet posted at\"}},\"yaxis\":{\"title\":{\"text\":\"VADER sentiment score\"}},\"legend\":{\"title\":{\"text\":\"Sentiment type\"}}},                        {\"responsive\": true}                    ).then(function(){\n",
       "                            \n",
       "var gd = document.getElementById('c08f2f23-ebf7-4b04-a50f-ced5a5a14220');\n",
       "var x = new MutationObserver(function (mutations, observer) {{\n",
       "        var display = window.getComputedStyle(gd).display;\n",
       "        if (!display || display === 'none') {{\n",
       "            console.log([gd, 'removed!']);\n",
       "            Plotly.purge(gd);\n",
       "            observer.disconnect();\n",
       "        }}\n",
       "}});\n",
       "\n",
       "// Listen for the removal of the full notebook cells\n",
       "var notebookContainer = gd.closest('#notebook-container');\n",
       "if (notebookContainer) {{\n",
       "    x.observe(notebookContainer, {childList: true});\n",
       "}}\n",
       "\n",
       "// Listen for the clearing of the current output cell\n",
       "var outputEl = gd.closest('.output');\n",
       "if (outputEl) {{\n",
       "    x.observe(outputEl, {childList: true});\n",
       "}}\n",
       "\n",
       "                        })                };                });            </script>        </div>"
      ]
     },
     "metadata": {},
     "output_type": "display_data"
    }
   ],
   "source": [
    "dates = ['2022-11-26', '2022-12-04', '2022-12-14', '2022-12-18']\n",
    "\n",
    "date_ranges = [\n",
    "    ['2022-11-26 03:00', '2022-11-26 14:00'],\n",
    "    ['2022-12-04 16:00', '2022-12-04 23:30'],\n",
    "    ['2022-12-14 16:00', '2022-12-14 23:30'],\n",
    "    ['2022-12-18 14:00', '2022-12-18 20:30']\n",
    "]\n",
    "\n",
    "for i, range in enumerate(date_ranges):\n",
    "    subset_df = hourly_sentiment_df.query(f'created_at.between(\"{range[0]}\", \"{range[1]}\")')\n",
    "\n",
    "    fig = go.Figure()\n",
    "    fig.add_scatter(name='Compound', x=subset_df['created_at'], y=subset_df['compound'], line=dict(color=\"blue\", width=3.5) )\n",
    "\n",
    "    fig.add_scatter(name='Negative', x=subset_df['created_at'], y=subset_df['neg'], fillcolor='red')\n",
    "    fig.add_scatter(name='Positive', x=subset_df['created_at'], y=subset_df['pos'], fillcolor='green')\n",
    "    fig.add_scatter(name='Neutral', x=subset_df['created_at'], y=subset_df['neu'], line=dict(color=\"orange\"))\n",
    "    fig.update_traces(connectgaps=True)\n",
    "    fig.update_layout(\n",
    "        title=f'VADER sentiment scores, rolling hourly average, {dates[i]}',\n",
    "        xaxis_title='Tweet posted at',\n",
    "        yaxis_title='VADER sentiment score',\n",
    "        legend_title='Sentiment type'\n",
    "    )\n",
    "    fig.show()"
   ]
  },
  {
   "attachments": {},
   "cell_type": "markdown",
   "metadata": {},
   "source": [
    "This clearly emphasises the effect that we've already seen. \n",
    "\n",
    "In which case, this is perhaps the more useful and easily interpretable graph. "
   ]
  },
  {
   "attachments": {},
   "cell_type": "markdown",
   "metadata": {},
   "source": [
    "**DAILY**"
   ]
  },
  {
   "cell_type": "code",
   "execution_count": 115,
   "metadata": {},
   "outputs": [],
   "source": [
    "tmp_df = pd.melt(chunk_sentiment_df, id_vars=['created_at'], ignore_index=False).reset_index()"
   ]
  },
  {
   "cell_type": "code",
   "execution_count": 122,
   "metadata": {},
   "outputs": [
    {
     "data": {
      "text/plain": [
       "Text(0.5, 1.0, 'CHECK LEGEND - CONFUSING COLOURS')"
      ]
     },
     "execution_count": 122,
     "metadata": {},
     "output_type": "execute_result"
    },
    {
     "data": {
      "image/png": "[encoded data removed]",
      "text/plain": [
       "<Figure size 640x480 with 1 Axes>"
      ]
     },
     "metadata": {},
     "output_type": "display_data"
    }
   ],
   "source": [
    "ax = sns.barplot(tmp_df, x='created_at', y='value', hue='variable')\n",
    "ax.set_xticklabels(dates, rotation=45, horizontalalignment='right')\n",
    "ax.set_title('CHECK LEGEND - CONFUSING COLOURS')"
   ]
  },
  {
   "attachments": {},
   "cell_type": "markdown",
   "metadata": {},
   "source": [
    "#### Summary\n",
    "So, we've had a look at the VADER sentiment for english-language tweets mentioning `qatar` (which, on the whole, were less than 25% of all our tweets). We found a bunch of things:\n",
    "- While the VADER algorithm may be the best off-the-shelf tool that doesn't require hand-labelling of tweets, it has left an awfully high amount of tweets labelled as 'neutral', regardless of which sample they were from. We are skeptical as to whether this is down to the true, unobserved sentiment of the corpora, or perhaps more an artifact of a lexicon underlying the analysis which may not contain context-specific terms which would actually contribute to positive or negative sentiment. \n",
    "- However, the algorithm's ability to segment into different categories of sentiment polarity gives us some more wiggle room. \n",
    "- We find that aggregated measures of compound and positive sentiment appear to have increased in later samples; while aggregated measures of negative sentiment have decreased or stayed constant when comparing the different samples/corpora. "
   ]
  },
  {
   "attachments": {},
   "cell_type": "markdown",
   "metadata": {},
   "source": [
    "#### Bonus: Extracting key terms associated with very positive and very negative tweets."
   ]
  },
  {
   "attachments": {},
   "cell_type": "markdown",
   "metadata": {},
   "source": [
    "We might be interested in the commonalities of those tweets which VADER considers highly positive or negative.  \n",
    "\n",
    "In order to investigate this, we do the following:\n",
    "- set cutoff points (this is arbitrary, but we will go with **`>.5`** for the `pos` and `neg` scores.)\n",
    "- extract tweet text of tweets where this is the case\n",
    "- build frequency tables of these words and visualise them. \n",
    "\n",
    "Note: We will only be dealing with uni-grams, not n-grams (n words which co-occur)"
   ]
  },
  {
   "cell_type": "code",
   "execution_count": 159,
   "metadata": {},
   "outputs": [],
   "source": [
    "def convert_to_float(val):\n",
    "    try:\n",
    "        val = float(val)\n",
    "    except ValueError:\n",
    "        val = 0.0\n",
    "\n",
    "    return val\n",
    "\n",
    "convert_vectorized = np.vectorize(convert_to_float)"
   ]
  },
  {
   "cell_type": "code",
   "execution_count": 160,
   "metadata": {},
   "outputs": [],
   "source": [
    "sentiment_df['pos'] = convert_vectorized(sentiment_df['pos'])"
   ]
  },
  {
   "cell_type": "code",
   "execution_count": 161,
   "metadata": {},
   "outputs": [],
   "source": [
    "sentiment_df['pos'] = sentiment_df['pos'].astype(float)"
   ]
  },
  {
   "cell_type": "code",
   "execution_count": 183,
   "metadata": {},
   "outputs": [],
   "source": [
    "v_pos_df = sentiment_df.loc[sentiment_df['pos']>0.5].reset_index(drop=True)"
   ]
  },
  {
   "cell_type": "code",
   "execution_count": 184,
   "metadata": {},
   "outputs": [],
   "source": [
    "v_neg_df = sentiment_df.loc[sentiment_df['neg']>0.5].reset_index(drop=True)"
   ]
  },
  {
   "attachments": {},
   "cell_type": "markdown",
   "metadata": {},
   "source": [
    "Total n tweets:"
   ]
  },
  {
   "cell_type": "code",
   "execution_count": 185,
   "metadata": {},
   "outputs": [
    {
     "name": "stdout",
     "output_type": "stream",
     "text": [
      "N v pos tweets: 6136\n",
      "N v neg tweets: 1756\n"
     ]
    }
   ],
   "source": [
    "print(f'N v pos tweets: {len(v_pos_df)}')\n",
    "print(f'N v neg tweets: {len(v_neg_df)}')"
   ]
  },
  {
   "attachments": {},
   "cell_type": "markdown",
   "metadata": {},
   "source": [
    "Stemming and lemmatizing our tweets"
   ]
  },
  {
   "cell_type": "code",
   "execution_count": 191,
   "metadata": {},
   "outputs": [],
   "source": [
    "pos_words = []\n",
    "\n",
    "for row, idx in v_pos_df.iterrows():\n",
    "    tmp = re.sub(r'[^\\w\\s]', '', v_pos_df['text'][row])\n",
    "    pos_words += tmp.split()"
   ]
  },
  {
   "cell_type": "code",
   "execution_count": 199,
   "metadata": {},
   "outputs": [],
   "source": [
    "pos_words = remove_stopwords(pos_words)\n",
    "pos_words = word_lemmatizer(pos_words)"
   ]
  },
  {
   "cell_type": "code",
   "execution_count": 203,
   "metadata": {},
   "outputs": [],
   "source": [
    "pos_words = [x.lower() for x in pos_words]"
   ]
  },
  {
   "cell_type": "code",
   "execution_count": 204,
   "metadata": {},
   "outputs": [],
   "source": [
    "neg_words = []\n",
    "\n",
    "for row, idx in v_neg_df.iterrows():\n",
    "    tmp = re.sub(r'[^\\w\\s]', '', v_neg_df['text'][row])\n",
    "    neg_words += tmp.split()"
   ]
  },
  {
   "cell_type": "code",
   "execution_count": 205,
   "metadata": {},
   "outputs": [],
   "source": [
    "neg_words = remove_stopwords(neg_words)\n",
    "neg_words = word_lemmatizer(neg_words)\n",
    "neg_words = [x.lower() for x in neg_words]"
   ]
  },
  {
   "cell_type": "code",
   "execution_count": 211,
   "metadata": {},
   "outputs": [],
   "source": [
    "pos_words_counts = dict(zip(Counter(pos_words).keys(), Counter(pos_words).values()))\n",
    "pos_words_counts = dict(sorted(pos_words_counts.items(), key=lambda x:x[1], reverse=True))"
   ]
  },
  {
   "cell_type": "code",
   "execution_count": 214,
   "metadata": {},
   "outputs": [],
   "source": [
    "neg_words_counts = dict(zip(Counter(neg_words).keys(), Counter(neg_words).values()))\n",
    "neg_words_counts = dict(sorted(neg_words_counts.items(), key=lambda x:x[1], reverse=True))"
   ]
  },
  {
   "attachments": {},
   "cell_type": "markdown",
   "metadata": {},
   "source": [
    "Now to produce a wordcloud for the top positive and negative words"
   ]
  },
  {
   "cell_type": "code",
   "execution_count": 218,
   "metadata": {},
   "outputs": [],
   "source": [
    "wordcloud = WordCloud().generate(' '.join(pos_words))"
   ]
  },
  {
   "attachments": {},
   "cell_type": "markdown",
   "metadata": {},
   "source": [
    "Positive"
   ]
  },
  {
   "cell_type": "code",
   "execution_count": 221,
   "metadata": {},
   "outputs": [
    {
     "data": {
      "image/png": "[encoded data removed]",
      "text/plain": [
       "<Figure size 640x480 with 1 Axes>"
      ]
     },
     "metadata": {},
     "output_type": "display_data"
    }
   ],
   "source": [
    "plt.imshow(wordcloud, interpolation='bilinear')\n",
    "plt.axis(\"off\")\n",
    "plt.show()"
   ]
  },
  {
   "attachments": {},
   "cell_type": "markdown",
   "metadata": {},
   "source": [
    "Negative"
   ]
  },
  {
   "cell_type": "code",
   "execution_count": 222,
   "metadata": {},
   "outputs": [
    {
     "data": {
      "image/png": "[encoded data removed]",
      "text/plain": [
       "<Figure size 640x480 with 1 Axes>"
      ]
     },
     "metadata": {},
     "output_type": "display_data"
    }
   ],
   "source": [
    "wordcloud = WordCloud().generate(' '.join(neg_words))\n",
    "plt.imshow(wordcloud, interpolation='bilinear')\n",
    "plt.axis(\"off\")\n",
    "plt.show()"
   ]
  },
  {
   "attachments": {},
   "cell_type": "markdown",
   "metadata": {},
   "source": [
    "And, finally, the top 50 terms and frequencies for both of these... "
   ]
  },
  {
   "cell_type": "code",
   "execution_count": 238,
   "metadata": {},
   "outputs": [],
   "source": [
    "pos_words_df = pd.DataFrame.from_dict(pos_words_counts.items()).reset_index(drop=True)[:100]\n",
    "pos_words_df = pos_words_df.rename(columns={0 : 'word', 1 : 'freq'})"
   ]
  },
  {
   "cell_type": "code",
   "execution_count": 239,
   "metadata": {},
   "outputs": [
    {
     "data": {
      "text/html": [
       "<div>\n",
       "<style scoped>\n",
       "    .dataframe tbody tr th:only-of-type {\n",
       "        vertical-align: middle;\n",
       "    }\n",
       "\n",
       "    .dataframe tbody tr th {\n",
       "        vertical-align: top;\n",
       "    }\n",
       "\n",
       "    .dataframe thead th {\n",
       "        text-align: right;\n",
       "    }\n",
       "</style>\n",
       "<table border=\"1\" class=\"dataframe\">\n",
       "  <thead>\n",
       "    <tr style=\"text-align: right;\">\n",
       "      <th></th>\n",
       "      <th>word</th>\n",
       "      <th>freq</th>\n",
       "    </tr>\n",
       "  </thead>\n",
       "  <tbody>\n",
       "    <tr>\n",
       "      <th>0</th>\n",
       "      <td>best</td>\n",
       "      <td>3296</td>\n",
       "    </tr>\n",
       "    <tr>\n",
       "      <th>1</th>\n",
       "      <td>world</td>\n",
       "      <td>3236</td>\n",
       "    </tr>\n",
       "    <tr>\n",
       "      <th>2</th>\n",
       "      <td>cup</td>\n",
       "      <td>2935</td>\n",
       "    </tr>\n",
       "    <tr>\n",
       "      <th>3</th>\n",
       "      <td>ever</td>\n",
       "      <td>2744</td>\n",
       "    </tr>\n",
       "    <tr>\n",
       "      <th>4</th>\n",
       "      <td>qatar</td>\n",
       "      <td>1646</td>\n",
       "    </tr>\n",
       "    <tr>\n",
       "      <th>...</th>\n",
       "      <td>...</td>\n",
       "      <td>...</td>\n",
       "    </tr>\n",
       "    <tr>\n",
       "      <th>95</th>\n",
       "      <td>its</td>\n",
       "      <td>38</td>\n",
       "    </tr>\n",
       "    <tr>\n",
       "      <th>96</th>\n",
       "      <td>wish</td>\n",
       "      <td>37</td>\n",
       "    </tr>\n",
       "    <tr>\n",
       "      <th>97</th>\n",
       "      <td>all</td>\n",
       "      <td>37</td>\n",
       "    </tr>\n",
       "    <tr>\n",
       "      <th>98</th>\n",
       "      <td>hope</td>\n",
       "      <td>36</td>\n",
       "    </tr>\n",
       "    <tr>\n",
       "      <th>99</th>\n",
       "      <td>u</td>\n",
       "      <td>35</td>\n",
       "    </tr>\n",
       "  </tbody>\n",
       "</table>\n",
       "<p>100 rows × 2 columns</p>\n",
       "</div>"
      ],
      "text/plain": [
       "     word  freq\n",
       "0    best  3296\n",
       "1   world  3236\n",
       "2     cup  2935\n",
       "3    ever  2744\n",
       "4   qatar  1646\n",
       "..    ...   ...\n",
       "95    its    38\n",
       "96   wish    37\n",
       "97    all    37\n",
       "98   hope    36\n",
       "99      u    35\n",
       "\n",
       "[100 rows x 2 columns]"
      ]
     },
     "execution_count": 239,
     "metadata": {},
     "output_type": "execute_result"
    }
   ],
   "source": [
    "pos_words_df"
   ]
  },
  {
   "cell_type": "code",
   "execution_count": 240,
   "metadata": {},
   "outputs": [],
   "source": [
    "neg_words_df = pd.DataFrame.from_dict(neg_words_counts.items()).reset_index(drop=True)[:100]\n",
    "neg_words_df = neg_words_df.rename(columns={0 : 'word', 1 : 'freq'})"
   ]
  },
  {
   "cell_type": "code",
   "execution_count": 241,
   "metadata": {},
   "outputs": [
    {
     "data": {
      "text/html": [
       "<div>\n",
       "<style scoped>\n",
       "    .dataframe tbody tr th:only-of-type {\n",
       "        vertical-align: middle;\n",
       "    }\n",
       "\n",
       "    .dataframe tbody tr th {\n",
       "        vertical-align: top;\n",
       "    }\n",
       "\n",
       "    .dataframe thead th {\n",
       "        text-align: right;\n",
       "    }\n",
       "</style>\n",
       "<table border=\"1\" class=\"dataframe\">\n",
       "  <thead>\n",
       "    <tr style=\"text-align: right;\">\n",
       "      <th></th>\n",
       "      <th>word</th>\n",
       "      <th>freq</th>\n",
       "    </tr>\n",
       "  </thead>\n",
       "  <tbody>\n",
       "    <tr>\n",
       "      <th>0</th>\n",
       "      <td>qatar</td>\n",
       "      <td>921</td>\n",
       "    </tr>\n",
       "    <tr>\n",
       "      <th>1</th>\n",
       "      <td>fifaworldcup</td>\n",
       "      <td>517</td>\n",
       "    </tr>\n",
       "    <tr>\n",
       "      <th>2</th>\n",
       "      <td>qatar2022</td>\n",
       "      <td>510</td>\n",
       "    </tr>\n",
       "    <tr>\n",
       "      <th>3</th>\n",
       "      <td>fuck</td>\n",
       "      <td>194</td>\n",
       "    </tr>\n",
       "    <tr>\n",
       "      <th>4</th>\n",
       "      <td>crime</td>\n",
       "      <td>187</td>\n",
       "    </tr>\n",
       "    <tr>\n",
       "      <th>...</th>\n",
       "      <td>...</td>\n",
       "      <td>...</td>\n",
       "    </tr>\n",
       "    <tr>\n",
       "      <th>95</th>\n",
       "      <td>goal</td>\n",
       "      <td>11</td>\n",
       "    </tr>\n",
       "    <tr>\n",
       "      <th>96</th>\n",
       "      <td>today</td>\n",
       "      <td>11</td>\n",
       "    </tr>\n",
       "    <tr>\n",
       "      <th>97</th>\n",
       "      <td>frapol</td>\n",
       "      <td>11</td>\n",
       "    </tr>\n",
       "    <tr>\n",
       "      <th>98</th>\n",
       "      <td>43rd</td>\n",
       "      <td>11</td>\n",
       "    </tr>\n",
       "    <tr>\n",
       "      <th>99</th>\n",
       "      <td>44th</td>\n",
       "      <td>11</td>\n",
       "    </tr>\n",
       "  </tbody>\n",
       "</table>\n",
       "<p>100 rows × 2 columns</p>\n",
       "</div>"
      ],
      "text/plain": [
       "            word  freq\n",
       "0          qatar   921\n",
       "1   fifaworldcup   517\n",
       "2      qatar2022   510\n",
       "3           fuck   194\n",
       "4          crime   187\n",
       "..           ...   ...\n",
       "95          goal    11\n",
       "96         today    11\n",
       "97        frapol    11\n",
       "98          43rd    11\n",
       "99          44th    11\n",
       "\n",
       "[100 rows x 2 columns]"
      ]
     },
     "execution_count": 241,
     "metadata": {},
     "output_type": "execute_result"
    }
   ],
   "source": [
    "neg_words_df"
   ]
  },
  {
   "attachments": {},
   "cell_type": "markdown",
   "metadata": {},
   "source": [
    "I'll leave the interpretation or usefulness of this stuff to the reader. "
   ]
  },
  {
   "attachments": {},
   "cell_type": "markdown",
   "metadata": {},
   "source": [
    "#### Final: Exporting data"
   ]
  },
  {
   "attachments": {},
   "cell_type": "markdown",
   "metadata": {},
   "source": [
    "Now to export all the key datasets we've produced here so they can be used in other contexts."
   ]
  },
  {
   "cell_type": "code",
   "execution_count": 243,
   "metadata": {},
   "outputs": [],
   "source": [
    "QATAR_EXPORT_PATH = EXPORT_PATH+'qatar_tweets/'"
   ]
  },
  {
   "cell_type": "code",
   "execution_count": 244,
   "metadata": {},
   "outputs": [],
   "source": [
    "language_counts_df.to_csv(QATAR_EXPORT_PATH+'language_counts.csv', index=False)\n",
    "sentiment_df.to_csv(QATAR_EXPORT_PATH+'sentiment.csv', index=False)\n",
    "english_qatar_tweets_df.to_csv(QATAR_EXPORT_PATH+'english_qatar_tweets.csv', index=False)\n",
    "ten_minute_sentiment_df.to_csv(QATAR_EXPORT_PATH+'ten_minute_sentiment.csv', index=False)\n",
    "hourly_sentiment_df.to_csv(QATAR_EXPORT_PATH+'hourly_sentiment.csv', index=False)\n",
    "chunk_sentiment_df.to_csv(QATAR_EXPORT_PATH+'chunk_sentiment.csv', index=False)\n",
    "v_pos_df.to_csv(QATAR_EXPORT_PATH+'v_pos_tweets.csv', index=False)\n",
    "v_neg_df.to_csv(QATAR_EXPORT_PATH+'v_neg_tweets.csv', index=False)\n",
    "pos_words_df.to_csv(QATAR_EXPORT_PATH+'v_pos_word_frequencies.csv', index=False)\n",
    "neg_words_df.to_csv(QATAR_EXPORT_PATH+'v_neg_word_frequencies.csv', index=False)"
   ]
  }
 ],
 "metadata": {
  "kernelspec": {
   "display_name": ".venv",
   "language": "python",
   "name": "python3"
  },
  "language_info": {
   "codemirror_mode": {
    "name": "ipython",
    "version": 3
   },
   "file_extension": ".py",
   "mimetype": "text/x-python",
   "name": "python",
   "nbconvert_exporter": "python",
   "pygments_lexer": "ipython3",
   "version": "3.10.6 (main, Nov 14 2022, 16:10:14) [GCC 11.3.0]"
  },
  "orig_nbformat": 4,
  "vscode": {
   "interpreter": {
    "hash": "c9d1feaa8e9cddc59f1ae355950f3806cb42c4260f42587cbc52f3c11be4e1e3"
   }
  }
 },
 "nbformat": 4,
 "nbformat_minor": 2
}
