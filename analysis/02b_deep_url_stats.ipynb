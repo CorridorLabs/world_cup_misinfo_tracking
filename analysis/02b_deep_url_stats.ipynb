{
 "cells": [
  {
   "attachments": {},
   "cell_type": "markdown",
   "metadata": {},
   "source": [
    "# 02b_deep_url_stats\n",
    "In the previous chapter, `02`, we dove deep into what was going on in the tweets we collected surrounding the world cup. While we found many an insight here, something that particularly stood out was the nature of URLs leaving Twitter, and the seeming popularity of linking to semi-legal/illegal streaming sites. \n",
    "\n",
    "In this sub-chapter, we look deeper into this phenomenon, with the goal of producing reliable statistics/distributions of URL sharing patterns in the twitter data chunks we collected surrounding the world cup. \n",
    "\n",
    "NL, 08/01/23"
   ]
  },
  {
   "cell_type": "markdown",
   "metadata": {},
   "source": [
    "### IMPORTS"
   ]
  },
  {
   "cell_type": "code",
   "execution_count": 2,
   "metadata": {},
   "outputs": [],
   "source": [
    "import os\n",
    "import json\n",
    "import pandas as pd\n",
    "from tqdm import tqdm"
   ]
  },
  {
   "attachments": {},
   "cell_type": "markdown",
   "metadata": {},
   "source": [
    "### PATHS & CONSTANTS"
   ]
  },
  {
   "cell_type": "code",
   "execution_count": 3,
   "metadata": {},
   "outputs": [],
   "source": [
    "EXPORT_PATH = '/home/nikloynes/projects/world_cup_misinfo_tracking/data/exports/tweets/'\n",
    "\n",
    "EXPANDED_URLS = EXPORT_PATH+'expanded_urls.json'\n",
    "ALL_URLS_TIMESTAMPS = EXPORT_PATH+'all_users_timestamps.csv'\n",
    "TWITTER_URLS = EXPORT_PATH+'twitter_urls.csv'\n",
    "NON_TWITTER_URLS = EXPORT_PATH+'non_twitter_urls.csv'\n",
    "DOMAIN_FREQUENCIES = EXPORT_PATH+'domain_frequencies.csv'"
   ]
  },
  {
   "attachments": {},
   "cell_type": "markdown",
   "metadata": {},
   "source": [
    "what we want to do here:\n",
    "- look how many urls were shared overall (not just unique urls)\n",
    "    - look at split between twitter/non twitter\n",
    "- have a look at top non-twitter domains, make a rough judgment as to which of them might refer to illegal streaming sites\n",
    "- look at overall proportion of url-sharing incidence for urls leaving twitter:\n",
    "    - proportion going to streaming sites?\n",
    "- if there's time: look at proportion over time for urls going to streaming sites"
   ]
  },
  {
   "cell_type": "code",
   "execution_count": null,
   "metadata": {},
   "outputs": [],
   "source": []
  }
 ],
 "metadata": {
  "kernelspec": {
   "display_name": ".venv",
   "language": "python",
   "name": "python3"
  },
  "language_info": {
   "codemirror_mode": {
    "name": "ipython",
    "version": 3
   },
   "file_extension": ".py",
   "mimetype": "text/x-python",
   "name": "python",
   "nbconvert_exporter": "python",
   "pygments_lexer": "ipython3",
   "version": "3.10.6"
  },
  "orig_nbformat": 4,
  "vscode": {
   "interpreter": {
    "hash": "c9d1feaa8e9cddc59f1ae355950f3806cb42c4260f42587cbc52f3c11be4e1e3"
   }
  }
 },
 "nbformat": 4,
 "nbformat_minor": 2
}
